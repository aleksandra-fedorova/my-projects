{
 "cells": [
  {
   "cell_type": "markdown",
   "metadata": {
    "id": "LMuaGIE3lGcr"
   },
   "source": [
    "# Исследовательский анализ данных в Python и проверка гипотез в Яндекс Афиша"
   ]
  },
  {
   "cell_type": "markdown",
   "metadata": {},
   "source": [
    "\n",
    "- Автор: Фёдорова Александра "
   ]
  },
  {
   "cell_type": "markdown",
   "metadata": {},
   "source": [
    "## Загрузка данных и знакомство с ними"
   ]
  },
  {
   "cell_type": "code",
   "execution_count": 1,
   "metadata": {},
   "outputs": [
    {
     "name": "stdout",
     "output_type": "stream",
     "text": [
      "Collecting matplotlib-venn\n",
      "  Downloading matplotlib-venn-1.1.2.tar.gz (40 kB)\n",
      "\u001b[K     |████████████████████████████████| 40 kB 739 kB/s eta 0:00:011\n",
      "\u001b[?25h  Installing build dependencies ... \u001b[?25ldone\n",
      "\u001b[?25h  Getting requirements to build wheel ... \u001b[?25ldone\n",
      "\u001b[?25h    Preparing wheel metadata ... \u001b[?25ldone\n",
      "\u001b[?25hRequirement already satisfied: matplotlib in /opt/conda/lib/python3.9/site-packages (from matplotlib-venn) (3.3.4)\n",
      "Requirement already satisfied: scipy in /opt/conda/lib/python3.9/site-packages (from matplotlib-venn) (1.9.1)\n",
      "Requirement already satisfied: numpy in /opt/conda/lib/python3.9/site-packages (from matplotlib-venn) (1.21.1)\n",
      "Requirement already satisfied: pillow>=6.2.0 in /opt/conda/lib/python3.9/site-packages (from matplotlib->matplotlib-venn) (8.4.0)\n",
      "Requirement already satisfied: kiwisolver>=1.0.1 in /opt/conda/lib/python3.9/site-packages (from matplotlib->matplotlib-venn) (1.4.4)\n",
      "Requirement already satisfied: cycler>=0.10 in /opt/conda/lib/python3.9/site-packages (from matplotlib->matplotlib-venn) (0.11.0)\n",
      "Requirement already satisfied: pyparsing!=2.0.4,!=2.1.2,!=2.1.6,>=2.0.3 in /opt/conda/lib/python3.9/site-packages (from matplotlib->matplotlib-venn) (2.4.7)\n",
      "Requirement already satisfied: python-dateutil>=2.1 in /opt/conda/lib/python3.9/site-packages (from matplotlib->matplotlib-venn) (2.8.1)\n",
      "Requirement already satisfied: six>=1.5 in /opt/conda/lib/python3.9/site-packages (from python-dateutil>=2.1->matplotlib->matplotlib-venn) (1.16.0)\n",
      "Building wheels for collected packages: matplotlib-venn\n",
      "  Building wheel for matplotlib-venn (PEP 517) ... \u001b[?25ldone\n",
      "\u001b[?25h  Created wheel for matplotlib-venn: filename=matplotlib_venn-1.1.2-py3-none-any.whl size=45388 sha256=80970580e7826d5fb816b2e6f44aecc454a792a1f1e25568f54e8d00fe9e436c\n",
      "  Stored in directory: /home/jovyan/.cache/pip/wheels/86/29/d8/0f3c5a37c967a34fb40aaabd414f92104d2ad5fb149c0114a1\n",
      "Successfully built matplotlib-venn\n",
      "Installing collected packages: matplotlib-venn\n",
      "Successfully installed matplotlib-venn-1.1.2\n"
     ]
    }
   ],
   "source": [
    "import pandas as pd\n",
    "import numpy as np\n",
    "import matplotlib.pyplot as plt  \n",
    "!pip install matplotlib-venn\n",
    "from matplotlib_venn import venn2\n",
    "import scipy.stats as stats\n",
    "from scipy.stats import shapiro\n",
    "from scipy.stats import mannwhitneyu\n",
    "from matplotlib.ticker import FuncFormatter"
   ]
  },
  {
   "cell_type": "code",
   "execution_count": 2,
   "metadata": {},
   "outputs": [],
   "source": [
    "#загружаем данные\n",
    "PATH = \"https://code.s3.yandex.net/datasets/\"\n",
    "orders_df = pd.read_csv(PATH + 'final_tickets_orders_df.csv', parse_dates = ['created_dt_msk', 'created_ts_msk'])\n",
    "events_df = pd.read_csv(PATH + 'final_tickets_events_df.csv')\n",
    "tenge_df = pd.read_csv(PATH + 'final_tickets_tenge_df.csv', parse_dates = ['data'])"
   ]
  },
  {
   "cell_type": "code",
   "execution_count": 3,
   "metadata": {},
   "outputs": [
    {
     "name": "stdout",
     "output_type": "stream",
     "text": [
      "<class 'pandas.core.frame.DataFrame'>\n",
      "RangeIndex: 290849 entries, 0 to 290848\n",
      "Data columns (total 14 columns):\n",
      " #   Column                 Non-Null Count   Dtype         \n",
      "---  ------                 --------------   -----         \n",
      " 0   order_id               290849 non-null  int64         \n",
      " 1   user_id                290849 non-null  object        \n",
      " 2   created_dt_msk         290849 non-null  datetime64[ns]\n",
      " 3   created_ts_msk         290849 non-null  datetime64[ns]\n",
      " 4   event_id               290849 non-null  int64         \n",
      " 5   cinema_circuit         290849 non-null  object        \n",
      " 6   age_limit              290849 non-null  int64         \n",
      " 7   currency_code          290849 non-null  object        \n",
      " 8   device_type_canonical  290849 non-null  object        \n",
      " 9   revenue                290849 non-null  float64       \n",
      " 10  service_name           290849 non-null  object        \n",
      " 11  tickets_count          290849 non-null  int64         \n",
      " 12  total                  290849 non-null  float64       \n",
      " 13  days_since_prev        268909 non-null  float64       \n",
      "dtypes: datetime64[ns](2), float64(3), int64(4), object(5)\n",
      "memory usage: 31.1+ MB\n"
     ]
    },
    {
     "data": {
      "text/html": [
       "<div>\n",
       "<style scoped>\n",
       "    .dataframe tbody tr th:only-of-type {\n",
       "        vertical-align: middle;\n",
       "    }\n",
       "\n",
       "    .dataframe tbody tr th {\n",
       "        vertical-align: top;\n",
       "    }\n",
       "\n",
       "    .dataframe thead th {\n",
       "        text-align: right;\n",
       "    }\n",
       "</style>\n",
       "<table border=\"1\" class=\"dataframe\">\n",
       "  <thead>\n",
       "    <tr style=\"text-align: right;\">\n",
       "      <th></th>\n",
       "      <th>order_id</th>\n",
       "      <th>user_id</th>\n",
       "      <th>created_dt_msk</th>\n",
       "      <th>created_ts_msk</th>\n",
       "      <th>event_id</th>\n",
       "      <th>cinema_circuit</th>\n",
       "      <th>age_limit</th>\n",
       "      <th>currency_code</th>\n",
       "      <th>device_type_canonical</th>\n",
       "      <th>revenue</th>\n",
       "      <th>service_name</th>\n",
       "      <th>tickets_count</th>\n",
       "      <th>total</th>\n",
       "      <th>days_since_prev</th>\n",
       "    </tr>\n",
       "  </thead>\n",
       "  <tbody>\n",
       "    <tr>\n",
       "      <th>0</th>\n",
       "      <td>4359165</td>\n",
       "      <td>0002849b70a3ce2</td>\n",
       "      <td>2024-08-20</td>\n",
       "      <td>2024-08-20 16:08:03</td>\n",
       "      <td>169230</td>\n",
       "      <td>нет</td>\n",
       "      <td>16</td>\n",
       "      <td>rub</td>\n",
       "      <td>mobile</td>\n",
       "      <td>1521.94</td>\n",
       "      <td>Край билетов</td>\n",
       "      <td>4</td>\n",
       "      <td>10870.99</td>\n",
       "      <td>NaN</td>\n",
       "    </tr>\n",
       "    <tr>\n",
       "      <th>1</th>\n",
       "      <td>7965605</td>\n",
       "      <td>0005ca5e93f2cf4</td>\n",
       "      <td>2024-07-23</td>\n",
       "      <td>2024-07-23 18:36:24</td>\n",
       "      <td>237325</td>\n",
       "      <td>нет</td>\n",
       "      <td>0</td>\n",
       "      <td>rub</td>\n",
       "      <td>mobile</td>\n",
       "      <td>289.45</td>\n",
       "      <td>Мой билет</td>\n",
       "      <td>2</td>\n",
       "      <td>2067.51</td>\n",
       "      <td>NaN</td>\n",
       "    </tr>\n",
       "    <tr>\n",
       "      <th>2</th>\n",
       "      <td>7292370</td>\n",
       "      <td>0005ca5e93f2cf4</td>\n",
       "      <td>2024-10-06</td>\n",
       "      <td>2024-10-06 13:56:02</td>\n",
       "      <td>578454</td>\n",
       "      <td>нет</td>\n",
       "      <td>0</td>\n",
       "      <td>rub</td>\n",
       "      <td>mobile</td>\n",
       "      <td>1258.57</td>\n",
       "      <td>За билетом!</td>\n",
       "      <td>4</td>\n",
       "      <td>13984.16</td>\n",
       "      <td>75.0</td>\n",
       "    </tr>\n",
       "    <tr>\n",
       "      <th>3</th>\n",
       "      <td>1139875</td>\n",
       "      <td>000898990054619</td>\n",
       "      <td>2024-07-13</td>\n",
       "      <td>2024-07-13 19:40:48</td>\n",
       "      <td>387271</td>\n",
       "      <td>нет</td>\n",
       "      <td>0</td>\n",
       "      <td>rub</td>\n",
       "      <td>mobile</td>\n",
       "      <td>8.49</td>\n",
       "      <td>Лови билет!</td>\n",
       "      <td>2</td>\n",
       "      <td>212.28</td>\n",
       "      <td>NaN</td>\n",
       "    </tr>\n",
       "    <tr>\n",
       "      <th>4</th>\n",
       "      <td>972400</td>\n",
       "      <td>000898990054619</td>\n",
       "      <td>2024-10-04</td>\n",
       "      <td>2024-10-04 22:33:15</td>\n",
       "      <td>509453</td>\n",
       "      <td>нет</td>\n",
       "      <td>18</td>\n",
       "      <td>rub</td>\n",
       "      <td>mobile</td>\n",
       "      <td>1390.41</td>\n",
       "      <td>Билеты без проблем</td>\n",
       "      <td>3</td>\n",
       "      <td>10695.43</td>\n",
       "      <td>83.0</td>\n",
       "    </tr>\n",
       "  </tbody>\n",
       "</table>\n",
       "</div>"
      ],
      "text/plain": [
       "   order_id          user_id created_dt_msk      created_ts_msk  event_id  \\\n",
       "0   4359165  0002849b70a3ce2     2024-08-20 2024-08-20 16:08:03    169230   \n",
       "1   7965605  0005ca5e93f2cf4     2024-07-23 2024-07-23 18:36:24    237325   \n",
       "2   7292370  0005ca5e93f2cf4     2024-10-06 2024-10-06 13:56:02    578454   \n",
       "3   1139875  000898990054619     2024-07-13 2024-07-13 19:40:48    387271   \n",
       "4    972400  000898990054619     2024-10-04 2024-10-04 22:33:15    509453   \n",
       "\n",
       "  cinema_circuit  age_limit currency_code device_type_canonical  revenue  \\\n",
       "0            нет         16           rub                mobile  1521.94   \n",
       "1            нет          0           rub                mobile   289.45   \n",
       "2            нет          0           rub                mobile  1258.57   \n",
       "3            нет          0           rub                mobile     8.49   \n",
       "4            нет         18           rub                mobile  1390.41   \n",
       "\n",
       "         service_name  tickets_count     total  days_since_prev  \n",
       "0        Край билетов              4  10870.99              NaN  \n",
       "1           Мой билет              2   2067.51              NaN  \n",
       "2         За билетом!              4  13984.16             75.0  \n",
       "3         Лови билет!              2    212.28              NaN  \n",
       "4  Билеты без проблем              3  10695.43             83.0  "
      ]
     },
     "execution_count": 3,
     "metadata": {},
     "output_type": "execute_result"
    }
   ],
   "source": [
    "#выводим информацию о датафрейме orders_df и первые строки\n",
    "orders_df.info()\n",
    "orders_df.head(5)"
   ]
  },
  {
   "cell_type": "code",
   "execution_count": 4,
   "metadata": {},
   "outputs": [
    {
     "name": "stdout",
     "output_type": "stream",
     "text": [
      "<class 'pandas.core.frame.DataFrame'>\n",
      "RangeIndex: 22427 entries, 0 to 22426\n",
      "Data columns (total 11 columns):\n",
      " #   Column                  Non-Null Count  Dtype \n",
      "---  ------                  --------------  ----- \n",
      " 0   event_id                22427 non-null  int64 \n",
      " 1   event_name              22427 non-null  object\n",
      " 2   event_type_description  22427 non-null  object\n",
      " 3   event_type_main         22427 non-null  object\n",
      " 4   organizers              22427 non-null  object\n",
      " 5   region_name             22427 non-null  object\n",
      " 6   city_name               22427 non-null  object\n",
      " 7   city_id                 22427 non-null  int64 \n",
      " 8   venue_id                22427 non-null  int64 \n",
      " 9   venue_name              22427 non-null  object\n",
      " 10  venue_address           22427 non-null  object\n",
      "dtypes: int64(3), object(8)\n",
      "memory usage: 1.9+ MB\n"
     ]
    },
    {
     "data": {
      "text/html": [
       "<div>\n",
       "<style scoped>\n",
       "    .dataframe tbody tr th:only-of-type {\n",
       "        vertical-align: middle;\n",
       "    }\n",
       "\n",
       "    .dataframe tbody tr th {\n",
       "        vertical-align: top;\n",
       "    }\n",
       "\n",
       "    .dataframe thead th {\n",
       "        text-align: right;\n",
       "    }\n",
       "</style>\n",
       "<table border=\"1\" class=\"dataframe\">\n",
       "  <thead>\n",
       "    <tr style=\"text-align: right;\">\n",
       "      <th></th>\n",
       "      <th>event_id</th>\n",
       "      <th>event_name</th>\n",
       "      <th>event_type_description</th>\n",
       "      <th>event_type_main</th>\n",
       "      <th>organizers</th>\n",
       "      <th>region_name</th>\n",
       "      <th>city_name</th>\n",
       "      <th>city_id</th>\n",
       "      <th>venue_id</th>\n",
       "      <th>venue_name</th>\n",
       "      <th>venue_address</th>\n",
       "    </tr>\n",
       "  </thead>\n",
       "  <tbody>\n",
       "    <tr>\n",
       "      <th>0</th>\n",
       "      <td>4436</td>\n",
       "      <td>e4f26fba-da77-4c61-928a-6c3e434d793f</td>\n",
       "      <td>спектакль</td>\n",
       "      <td>театр</td>\n",
       "      <td>№4893</td>\n",
       "      <td>Североярская область</td>\n",
       "      <td>Озёрск</td>\n",
       "      <td>2</td>\n",
       "      <td>1600</td>\n",
       "      <td>Кладбище искусств \"Проблема\" и партнеры</td>\n",
       "      <td>наб. Загородная, д. 785</td>\n",
       "    </tr>\n",
       "    <tr>\n",
       "      <th>1</th>\n",
       "      <td>5785</td>\n",
       "      <td>5cc08a60-fdea-4186-9bb2-bffc3603fb77</td>\n",
       "      <td>спектакль</td>\n",
       "      <td>театр</td>\n",
       "      <td>№1931</td>\n",
       "      <td>Светополянский округ</td>\n",
       "      <td>Глиноград</td>\n",
       "      <td>54</td>\n",
       "      <td>2196</td>\n",
       "      <td>Лекции по искусству \"Свет\" Групп</td>\n",
       "      <td>ул. Ягодная, д. 942</td>\n",
       "    </tr>\n",
       "    <tr>\n",
       "      <th>2</th>\n",
       "      <td>8817</td>\n",
       "      <td>8e379a89-3a10-4811-ba06-ec22ebebe989</td>\n",
       "      <td>спектакль</td>\n",
       "      <td>театр</td>\n",
       "      <td>№4896</td>\n",
       "      <td>Североярская область</td>\n",
       "      <td>Озёрск</td>\n",
       "      <td>2</td>\n",
       "      <td>4043</td>\n",
       "      <td>Кинокомитет \"Золотая\" Инк</td>\n",
       "      <td>ш. Коммуны, д. 92 стр. 6</td>\n",
       "    </tr>\n",
       "    <tr>\n",
       "      <th>3</th>\n",
       "      <td>8849</td>\n",
       "      <td>682e3129-6a32-4952-9d8a-ef7f60d4c247</td>\n",
       "      <td>спектакль</td>\n",
       "      <td>театр</td>\n",
       "      <td>№4960</td>\n",
       "      <td>Каменевский регион</td>\n",
       "      <td>Глиногорск</td>\n",
       "      <td>213</td>\n",
       "      <td>1987</td>\n",
       "      <td>Выставка ремесел \"Свет\" Лтд</td>\n",
       "      <td>пер. Набережный, д. 35</td>\n",
       "    </tr>\n",
       "    <tr>\n",
       "      <th>4</th>\n",
       "      <td>8850</td>\n",
       "      <td>d6e99176-c77f-4af0-9222-07c571f6c624</td>\n",
       "      <td>спектакль</td>\n",
       "      <td>театр</td>\n",
       "      <td>№4770</td>\n",
       "      <td>Лесодальний край</td>\n",
       "      <td>Родниковец</td>\n",
       "      <td>55</td>\n",
       "      <td>4230</td>\n",
       "      <td>Фестивальный проект \"Листья\" Групп</td>\n",
       "      <td>пер. Проезжий, д. 9</td>\n",
       "    </tr>\n",
       "  </tbody>\n",
       "</table>\n",
       "</div>"
      ],
      "text/plain": [
       "   event_id                            event_name event_type_description  \\\n",
       "0      4436  e4f26fba-da77-4c61-928a-6c3e434d793f              спектакль   \n",
       "1      5785  5cc08a60-fdea-4186-9bb2-bffc3603fb77              спектакль   \n",
       "2      8817  8e379a89-3a10-4811-ba06-ec22ebebe989              спектакль   \n",
       "3      8849  682e3129-6a32-4952-9d8a-ef7f60d4c247              спектакль   \n",
       "4      8850  d6e99176-c77f-4af0-9222-07c571f6c624              спектакль   \n",
       "\n",
       "  event_type_main organizers           region_name   city_name  city_id  \\\n",
       "0           театр      №4893  Североярская область      Озёрск        2   \n",
       "1           театр      №1931  Светополянский округ   Глиноград       54   \n",
       "2           театр      №4896  Североярская область      Озёрск        2   \n",
       "3           театр      №4960    Каменевский регион  Глиногорск      213   \n",
       "4           театр      №4770      Лесодальний край  Родниковец       55   \n",
       "\n",
       "   venue_id                               venue_name             venue_address  \n",
       "0      1600  Кладбище искусств \"Проблема\" и партнеры   наб. Загородная, д. 785  \n",
       "1      2196         Лекции по искусству \"Свет\" Групп       ул. Ягодная, д. 942  \n",
       "2      4043                Кинокомитет \"Золотая\" Инк  ш. Коммуны, д. 92 стр. 6  \n",
       "3      1987              Выставка ремесел \"Свет\" Лтд    пер. Набережный, д. 35  \n",
       "4      4230       Фестивальный проект \"Листья\" Групп       пер. Проезжий, д. 9  "
      ]
     },
     "execution_count": 4,
     "metadata": {},
     "output_type": "execute_result"
    }
   ],
   "source": [
    "#выводим информацию о датафрейме events_df и первые строки\n",
    "events_df.info()\n",
    "events_df.head(5)"
   ]
  },
  {
   "cell_type": "code",
   "execution_count": 5,
   "metadata": {},
   "outputs": [
    {
     "name": "stdout",
     "output_type": "stream",
     "text": [
      "<class 'pandas.core.frame.DataFrame'>\n",
      "RangeIndex: 357 entries, 0 to 356\n",
      "Data columns (total 4 columns):\n",
      " #   Column   Non-Null Count  Dtype         \n",
      "---  ------   --------------  -----         \n",
      " 0   data     357 non-null    datetime64[ns]\n",
      " 1   nominal  357 non-null    int64         \n",
      " 2   curs     357 non-null    float64       \n",
      " 3   cdx      357 non-null    object        \n",
      "dtypes: datetime64[ns](1), float64(1), int64(1), object(1)\n",
      "memory usage: 11.3+ KB\n"
     ]
    },
    {
     "data": {
      "text/html": [
       "<div>\n",
       "<style scoped>\n",
       "    .dataframe tbody tr th:only-of-type {\n",
       "        vertical-align: middle;\n",
       "    }\n",
       "\n",
       "    .dataframe tbody tr th {\n",
       "        vertical-align: top;\n",
       "    }\n",
       "\n",
       "    .dataframe thead th {\n",
       "        text-align: right;\n",
       "    }\n",
       "</style>\n",
       "<table border=\"1\" class=\"dataframe\">\n",
       "  <thead>\n",
       "    <tr style=\"text-align: right;\">\n",
       "      <th></th>\n",
       "      <th>data</th>\n",
       "      <th>nominal</th>\n",
       "      <th>curs</th>\n",
       "      <th>cdx</th>\n",
       "    </tr>\n",
       "  </thead>\n",
       "  <tbody>\n",
       "    <tr>\n",
       "      <th>0</th>\n",
       "      <td>2024-01-10</td>\n",
       "      <td>100</td>\n",
       "      <td>19.9391</td>\n",
       "      <td>kzt</td>\n",
       "    </tr>\n",
       "    <tr>\n",
       "      <th>1</th>\n",
       "      <td>2024-01-11</td>\n",
       "      <td>100</td>\n",
       "      <td>19.7255</td>\n",
       "      <td>kzt</td>\n",
       "    </tr>\n",
       "    <tr>\n",
       "      <th>2</th>\n",
       "      <td>2024-01-12</td>\n",
       "      <td>100</td>\n",
       "      <td>19.5839</td>\n",
       "      <td>kzt</td>\n",
       "    </tr>\n",
       "    <tr>\n",
       "      <th>3</th>\n",
       "      <td>2024-01-13</td>\n",
       "      <td>100</td>\n",
       "      <td>19.4501</td>\n",
       "      <td>kzt</td>\n",
       "    </tr>\n",
       "    <tr>\n",
       "      <th>4</th>\n",
       "      <td>2024-01-14</td>\n",
       "      <td>100</td>\n",
       "      <td>19.4501</td>\n",
       "      <td>kzt</td>\n",
       "    </tr>\n",
       "  </tbody>\n",
       "</table>\n",
       "</div>"
      ],
      "text/plain": [
       "        data  nominal     curs  cdx\n",
       "0 2024-01-10      100  19.9391  kzt\n",
       "1 2024-01-11      100  19.7255  kzt\n",
       "2 2024-01-12      100  19.5839  kzt\n",
       "3 2024-01-13      100  19.4501  kzt\n",
       "4 2024-01-14      100  19.4501  kzt"
      ]
     },
     "execution_count": 5,
     "metadata": {},
     "output_type": "execute_result"
    }
   ],
   "source": [
    "#выводим информацию о датафрейме tenge_df и первые строки\n",
    "tenge_df.info()\n",
    "tenge_df.head(5)"
   ]
  },
  {
   "cell_type": "markdown",
   "metadata": {},
   "source": [
    "# Промежуточный вывод\n",
    "\n",
    "- Объема данных достаточно для анализа, данные соответствуют описанию. \n",
    "- Необходимые столбцы приведены к типу datetime."
   ]
  },
  {
   "cell_type": "markdown",
   "metadata": {},
   "source": [
    "## Предобработка данных и подготовка их к исследованию"
   ]
  },
  {
   "cell_type": "markdown",
   "metadata": {},
   "source": [
    "### Проверка данных на пропуски"
   ]
  },
  {
   "cell_type": "code",
   "execution_count": 6,
   "metadata": {},
   "outputs": [
    {
     "data": {
      "text/plain": [
       "order_id                     0\n",
       "user_id                      0\n",
       "created_dt_msk               0\n",
       "created_ts_msk               0\n",
       "event_id                     0\n",
       "cinema_circuit               0\n",
       "age_limit                    0\n",
       "currency_code                0\n",
       "device_type_canonical        0\n",
       "revenue                      0\n",
       "service_name                 0\n",
       "tickets_count                0\n",
       "total                        0\n",
       "days_since_prev          21940\n",
       "dtype: int64"
      ]
     },
     "execution_count": 6,
     "metadata": {},
     "output_type": "execute_result"
    }
   ],
   "source": [
    "#выведем кол-во пропусков \n",
    "orders_df.isna().sum().sort_values()"
   ]
  },
  {
   "cell_type": "markdown",
   "metadata": {},
   "source": []
  },
  {
   "cell_type": "code",
   "execution_count": 7,
   "metadata": {},
   "outputs": [
    {
     "data": {
      "text/plain": [
       "data       0\n",
       "nominal    0\n",
       "curs       0\n",
       "cdx        0\n",
       "dtype: int64"
      ]
     },
     "execution_count": 7,
     "metadata": {},
     "output_type": "execute_result"
    }
   ],
   "source": [
    "#выведем кол-во пропусков \n",
    "tenge_df.isna().sum().sort_values()"
   ]
  },
  {
   "cell_type": "code",
   "execution_count": 8,
   "metadata": {},
   "outputs": [
    {
     "data": {
      "text/plain": [
       "event_id                  0\n",
       "event_name                0\n",
       "event_type_description    0\n",
       "event_type_main           0\n",
       "organizers                0\n",
       "region_name               0\n",
       "city_name                 0\n",
       "city_id                   0\n",
       "venue_id                  0\n",
       "venue_name                0\n",
       "venue_address             0\n",
       "dtype: int64"
      ]
     },
     "execution_count": 8,
     "metadata": {},
     "output_type": "execute_result"
    }
   ],
   "source": [
    "#выведем кол-во пропусков \n",
    "events_df.isna().sum().sort_values()"
   ]
  },
  {
   "cell_type": "markdown",
   "metadata": {},
   "source": [
    "### Распределение и наличие выбросов"
   ]
  },
  {
   "cell_type": "code",
   "execution_count": 9,
   "metadata": {},
   "outputs": [
    {
     "data": {
      "text/plain": [
       "Text(0.5, 0, 'Валюта в рублях')"
      ]
     },
     "execution_count": 9,
     "metadata": {},
     "output_type": "execute_result"
    },
    {
     "data": {
      "image/png": "[encoded data removed]",
      "text/plain": [
       "<Figure size 720x360 with 1 Axes>"
      ]
     },
     "metadata": {
      "needs_background": "light"
     },
     "output_type": "display_data"
    }
   ],
   "source": [
    "#проверим на выбросы 'выручку' в валюте rub\n",
    "orders_df_rub = orders_df[orders_df['currency_code'] == 'rub']\n",
    "#построим диаграмму размаха с выбросами\n",
    "boxplot = orders_df_rub.boxplot(column='revenue',\n",
    "                     vert=False, \n",
    "                     figsize=(10,5))\n",
    "\n",
    "boxplot.set_title('Размер выручки')\n",
    "boxplot.set_xlabel('Валюта в рублях')"
   ]
  },
  {
   "cell_type": "code",
   "execution_count": 10,
   "metadata": {},
   "outputs": [],
   "source": [
    "#найдем 99й процентиль\n",
    "percentile_99_rubles = np.percentile(orders_df_rub['revenue'], 99)\n",
    "#отберем значения\n",
    "filtered_orders_df = orders_df_rub[orders_df_rub['revenue'] <= percentile_99_rubles]"
   ]
  },
  {
   "cell_type": "code",
   "execution_count": 11,
   "metadata": {},
   "outputs": [
    {
     "data": {
      "text/plain": [
       "Text(0.5, 0, 'Валюта в тенге')"
      ]
     },
     "execution_count": 11,
     "metadata": {},
     "output_type": "execute_result"
    },
    {
     "data": {
      "image/png": "[encoded data removed]",
      "text/plain": [
       "<Figure size 720x360 with 1 Axes>"
      ]
     },
     "metadata": {
      "needs_background": "light"
     },
     "output_type": "display_data"
    }
   ],
   "source": [
    "#проверим на выбросы выручку в валюте kzt\n",
    "orders_df_rub = orders_df[orders_df['currency_code'] == 'kzt']\n",
    "#построим диаграмму размаха с выбросами\n",
    "boxplot = orders_df_rub.boxplot(column='revenue',\n",
    "                     vert=False, \n",
    "                     figsize=(10,5))\n",
    "\n",
    "boxplot.set_title('Размер выручки')\n",
    "boxplot.set_xlabel('Валюта в тенге')"
   ]
  },
  {
   "cell_type": "code",
   "execution_count": 12,
   "metadata": {},
   "outputs": [
    {
     "data": {
      "text/plain": [
       "Text(0.5, 0, 'Кол-во')"
      ]
     },
     "execution_count": 12,
     "metadata": {},
     "output_type": "execute_result"
    },
    {
     "data": {
      "image/png": "[encoded data removed]",
      "text/plain": [
       "<Figure size 720x360 with 1 Axes>"
      ]
     },
     "metadata": {
      "needs_background": "light"
     },
     "output_type": "display_data"
    }
   ],
   "source": [
    "#проверим на выбросы кол-во билетов в заказе в валюте rub\n",
    "orders_df_rub = orders_df[orders_df['currency_code'] == 'rub']\n",
    "#построим диаграмму размаха с выбросами\n",
    "boxplot = orders_df_rub.boxplot(column='tickets_count',\n",
    "                     vert=False, \n",
    "                     figsize=(10,5))\n",
    "\n",
    "boxplot.set_title('Кол-во билетов в заказе')\n",
    "boxplot.set_xlabel('Кол-во')"
   ]
  },
  {
   "cell_type": "markdown",
   "metadata": {},
   "source": []
  },
  {
   "cell_type": "code",
   "execution_count": 13,
   "metadata": {},
   "outputs": [
    {
     "data": {
      "text/plain": [
       "Text(0.5, 0, 'Кол-во')"
      ]
     },
     "execution_count": 13,
     "metadata": {},
     "output_type": "execute_result"
    },
    {
     "data": {
      "image/png": "[encoded data removed]",
      "text/plain": [
       "<Figure size 720x360 with 1 Axes>"
      ]
     },
     "metadata": {
      "needs_background": "light"
     },
     "output_type": "display_data"
    }
   ],
   "source": [
    "#проверим на выбросы кол-во билетов в заказе в валюте kzt\n",
    "orders_df_rub = orders_df[orders_df['currency_code'] == 'kzt']\n",
    "#построим диаграмму размаха с выбросами\n",
    "boxplot = orders_df_rub.boxplot(column='tickets_count',\n",
    "                     vert=False, \n",
    "                     figsize=(10,5))\n",
    "\n",
    "boxplot.set_title('Кол-во билетов в заказе')\n",
    "boxplot.set_xlabel('Кол-во')"
   ]
  },
  {
   "cell_type": "markdown",
   "metadata": {},
   "source": [
    "### Проверка на явные и неявные дубликаты"
   ]
  },
  {
   "cell_type": "code",
   "execution_count": 14,
   "metadata": {
    "scrolled": true
   },
   "outputs": [
    {
     "data": {
      "text/plain": [
       "0"
      ]
     },
     "execution_count": 14,
     "metadata": {},
     "output_type": "execute_result"
    }
   ],
   "source": [
    "#проверяем данные на наличие полных дубликатов\n",
    "filtered_orders_df.duplicated().sum() \n",
    "events_df.duplicated().sum() \n",
    "tenge_df.duplicated().sum() "
   ]
  },
  {
   "cell_type": "code",
   "execution_count": 15,
   "metadata": {},
   "outputs": [],
   "source": [
    "#проверим неявные дубликаты\n",
    "duplicates = filtered_orders_df.duplicated(subset=['user_id', 'created_ts_msk', 'device_type_canonical', 'created_dt_msk',\n",
    "    'service_name', 'event_id','cinema_circuit', 'age_limit', 'currency_code',\n",
    "    'revenue', 'total', 'tickets_count'])"
   ]
  },
  {
   "cell_type": "code",
   "execution_count": 16,
   "metadata": {},
   "outputs": [
    {
     "data": {
      "text/plain": [
       "38"
      ]
     },
     "execution_count": 16,
     "metadata": {},
     "output_type": "execute_result"
    }
   ],
   "source": [
    "duplicates.sum()"
   ]
  },
  {
   "cell_type": "code",
   "execution_count": 17,
   "metadata": {},
   "outputs": [
    {
     "data": {
      "text/html": [
       "<div>\n",
       "<style scoped>\n",
       "    .dataframe tbody tr th:only-of-type {\n",
       "        vertical-align: middle;\n",
       "    }\n",
       "\n",
       "    .dataframe tbody tr th {\n",
       "        vertical-align: top;\n",
       "    }\n",
       "\n",
       "    .dataframe thead th {\n",
       "        text-align: right;\n",
       "    }\n",
       "</style>\n",
       "<table border=\"1\" class=\"dataframe\">\n",
       "  <thead>\n",
       "    <tr style=\"text-align: right;\">\n",
       "      <th></th>\n",
       "      <th>order_id</th>\n",
       "      <th>user_id</th>\n",
       "      <th>created_dt_msk</th>\n",
       "      <th>created_ts_msk</th>\n",
       "      <th>event_id</th>\n",
       "      <th>cinema_circuit</th>\n",
       "      <th>age_limit</th>\n",
       "      <th>currency_code</th>\n",
       "      <th>device_type_canonical</th>\n",
       "      <th>revenue</th>\n",
       "      <th>service_name</th>\n",
       "      <th>tickets_count</th>\n",
       "      <th>total</th>\n",
       "      <th>days_since_prev</th>\n",
       "    </tr>\n",
       "  </thead>\n",
       "  <tbody>\n",
       "    <tr>\n",
       "      <th>0</th>\n",
       "      <td>4359165</td>\n",
       "      <td>0002849b70a3ce2</td>\n",
       "      <td>2024-08-20</td>\n",
       "      <td>2024-08-20 16:08:03</td>\n",
       "      <td>169230</td>\n",
       "      <td>нет</td>\n",
       "      <td>16</td>\n",
       "      <td>rub</td>\n",
       "      <td>mobile</td>\n",
       "      <td>1521.94</td>\n",
       "      <td>Край билетов</td>\n",
       "      <td>4</td>\n",
       "      <td>10870.99</td>\n",
       "      <td>NaN</td>\n",
       "    </tr>\n",
       "    <tr>\n",
       "      <th>1</th>\n",
       "      <td>7965605</td>\n",
       "      <td>0005ca5e93f2cf4</td>\n",
       "      <td>2024-07-23</td>\n",
       "      <td>2024-07-23 18:36:24</td>\n",
       "      <td>237325</td>\n",
       "      <td>нет</td>\n",
       "      <td>0</td>\n",
       "      <td>rub</td>\n",
       "      <td>mobile</td>\n",
       "      <td>289.45</td>\n",
       "      <td>Мой билет</td>\n",
       "      <td>2</td>\n",
       "      <td>2067.51</td>\n",
       "      <td>NaN</td>\n",
       "    </tr>\n",
       "    <tr>\n",
       "      <th>2</th>\n",
       "      <td>7292370</td>\n",
       "      <td>0005ca5e93f2cf4</td>\n",
       "      <td>2024-10-06</td>\n",
       "      <td>2024-10-06 13:56:02</td>\n",
       "      <td>578454</td>\n",
       "      <td>нет</td>\n",
       "      <td>0</td>\n",
       "      <td>rub</td>\n",
       "      <td>mobile</td>\n",
       "      <td>1258.57</td>\n",
       "      <td>За билетом!</td>\n",
       "      <td>4</td>\n",
       "      <td>13984.16</td>\n",
       "      <td>75.0</td>\n",
       "    </tr>\n",
       "    <tr>\n",
       "      <th>3</th>\n",
       "      <td>1139875</td>\n",
       "      <td>000898990054619</td>\n",
       "      <td>2024-07-13</td>\n",
       "      <td>2024-07-13 19:40:48</td>\n",
       "      <td>387271</td>\n",
       "      <td>нет</td>\n",
       "      <td>0</td>\n",
       "      <td>rub</td>\n",
       "      <td>mobile</td>\n",
       "      <td>8.49</td>\n",
       "      <td>Лови билет!</td>\n",
       "      <td>2</td>\n",
       "      <td>212.28</td>\n",
       "      <td>NaN</td>\n",
       "    </tr>\n",
       "    <tr>\n",
       "      <th>4</th>\n",
       "      <td>972400</td>\n",
       "      <td>000898990054619</td>\n",
       "      <td>2024-10-04</td>\n",
       "      <td>2024-10-04 22:33:15</td>\n",
       "      <td>509453</td>\n",
       "      <td>нет</td>\n",
       "      <td>18</td>\n",
       "      <td>rub</td>\n",
       "      <td>mobile</td>\n",
       "      <td>1390.41</td>\n",
       "      <td>Билеты без проблем</td>\n",
       "      <td>3</td>\n",
       "      <td>10695.43</td>\n",
       "      <td>83.0</td>\n",
       "    </tr>\n",
       "    <tr>\n",
       "      <th>...</th>\n",
       "      <td>...</td>\n",
       "      <td>...</td>\n",
       "      <td>...</td>\n",
       "      <td>...</td>\n",
       "      <td>...</td>\n",
       "      <td>...</td>\n",
       "      <td>...</td>\n",
       "      <td>...</td>\n",
       "      <td>...</td>\n",
       "      <td>...</td>\n",
       "      <td>...</td>\n",
       "      <td>...</td>\n",
       "      <td>...</td>\n",
       "      <td>...</td>\n",
       "    </tr>\n",
       "    <tr>\n",
       "      <th>282879</th>\n",
       "      <td>368620</td>\n",
       "      <td>fffcd3dde79eb2c</td>\n",
       "      <td>2024-10-27</td>\n",
       "      <td>2024-10-27 18:00:57</td>\n",
       "      <td>33189</td>\n",
       "      <td>нет</td>\n",
       "      <td>6</td>\n",
       "      <td>rub</td>\n",
       "      <td>mobile</td>\n",
       "      <td>965.57</td>\n",
       "      <td>Весь в билетах</td>\n",
       "      <td>4</td>\n",
       "      <td>9655.73</td>\n",
       "      <td>0.0</td>\n",
       "    </tr>\n",
       "    <tr>\n",
       "      <th>282880</th>\n",
       "      <td>368562</td>\n",
       "      <td>fffcd3dde79eb2c</td>\n",
       "      <td>2024-10-27</td>\n",
       "      <td>2024-10-27 17:53:53</td>\n",
       "      <td>33189</td>\n",
       "      <td>нет</td>\n",
       "      <td>6</td>\n",
       "      <td>rub</td>\n",
       "      <td>mobile</td>\n",
       "      <td>1448.36</td>\n",
       "      <td>Весь в билетах</td>\n",
       "      <td>6</td>\n",
       "      <td>14483.60</td>\n",
       "      <td>0.0</td>\n",
       "    </tr>\n",
       "    <tr>\n",
       "      <th>282881</th>\n",
       "      <td>8473772</td>\n",
       "      <td>fffcd3dde79eb2c</td>\n",
       "      <td>2024-10-30</td>\n",
       "      <td>2024-10-30 13:37:43</td>\n",
       "      <td>205231</td>\n",
       "      <td>нет</td>\n",
       "      <td>16</td>\n",
       "      <td>rub</td>\n",
       "      <td>desktop</td>\n",
       "      <td>178.95</td>\n",
       "      <td>Прачечная</td>\n",
       "      <td>2</td>\n",
       "      <td>4473.74</td>\n",
       "      <td>3.0</td>\n",
       "    </tr>\n",
       "    <tr>\n",
       "      <th>282882</th>\n",
       "      <td>5526067</td>\n",
       "      <td>fffeeb3c120cf0b</td>\n",
       "      <td>2024-09-24</td>\n",
       "      <td>2024-09-24 10:07:42</td>\n",
       "      <td>454526</td>\n",
       "      <td>нет</td>\n",
       "      <td>18</td>\n",
       "      <td>rub</td>\n",
       "      <td>desktop</td>\n",
       "      <td>661.53</td>\n",
       "      <td>Билеты без проблем</td>\n",
       "      <td>2</td>\n",
       "      <td>6615.34</td>\n",
       "      <td>NaN</td>\n",
       "    </tr>\n",
       "    <tr>\n",
       "      <th>282883</th>\n",
       "      <td>813654</td>\n",
       "      <td>ffff00725179321</td>\n",
       "      <td>2024-09-25</td>\n",
       "      <td>2024-09-25 15:12:40</td>\n",
       "      <td>284965</td>\n",
       "      <td>нет</td>\n",
       "      <td>16</td>\n",
       "      <td>rub</td>\n",
       "      <td>mobile</td>\n",
       "      <td>802.25</td>\n",
       "      <td>Мой билет</td>\n",
       "      <td>2</td>\n",
       "      <td>8913.92</td>\n",
       "      <td>NaN</td>\n",
       "    </tr>\n",
       "  </tbody>\n",
       "</table>\n",
       "<p>282884 rows × 14 columns</p>\n",
       "</div>"
      ],
      "text/plain": [
       "        order_id          user_id created_dt_msk      created_ts_msk  \\\n",
       "0        4359165  0002849b70a3ce2     2024-08-20 2024-08-20 16:08:03   \n",
       "1        7965605  0005ca5e93f2cf4     2024-07-23 2024-07-23 18:36:24   \n",
       "2        7292370  0005ca5e93f2cf4     2024-10-06 2024-10-06 13:56:02   \n",
       "3        1139875  000898990054619     2024-07-13 2024-07-13 19:40:48   \n",
       "4         972400  000898990054619     2024-10-04 2024-10-04 22:33:15   \n",
       "...          ...              ...            ...                 ...   \n",
       "282879    368620  fffcd3dde79eb2c     2024-10-27 2024-10-27 18:00:57   \n",
       "282880    368562  fffcd3dde79eb2c     2024-10-27 2024-10-27 17:53:53   \n",
       "282881   8473772  fffcd3dde79eb2c     2024-10-30 2024-10-30 13:37:43   \n",
       "282882   5526067  fffeeb3c120cf0b     2024-09-24 2024-09-24 10:07:42   \n",
       "282883    813654  ffff00725179321     2024-09-25 2024-09-25 15:12:40   \n",
       "\n",
       "        event_id cinema_circuit  age_limit currency_code  \\\n",
       "0         169230            нет         16           rub   \n",
       "1         237325            нет          0           rub   \n",
       "2         578454            нет          0           rub   \n",
       "3         387271            нет          0           rub   \n",
       "4         509453            нет         18           rub   \n",
       "...          ...            ...        ...           ...   \n",
       "282879     33189            нет          6           rub   \n",
       "282880     33189            нет          6           rub   \n",
       "282881    205231            нет         16           rub   \n",
       "282882    454526            нет         18           rub   \n",
       "282883    284965            нет         16           rub   \n",
       "\n",
       "       device_type_canonical  revenue        service_name  tickets_count  \\\n",
       "0                     mobile  1521.94        Край билетов              4   \n",
       "1                     mobile   289.45           Мой билет              2   \n",
       "2                     mobile  1258.57         За билетом!              4   \n",
       "3                     mobile     8.49         Лови билет!              2   \n",
       "4                     mobile  1390.41  Билеты без проблем              3   \n",
       "...                      ...      ...                 ...            ...   \n",
       "282879                mobile   965.57      Весь в билетах              4   \n",
       "282880                mobile  1448.36      Весь в билетах              6   \n",
       "282881               desktop   178.95           Прачечная              2   \n",
       "282882               desktop   661.53  Билеты без проблем              2   \n",
       "282883                mobile   802.25           Мой билет              2   \n",
       "\n",
       "           total  days_since_prev  \n",
       "0       10870.99              NaN  \n",
       "1        2067.51              NaN  \n",
       "2       13984.16             75.0  \n",
       "3         212.28              NaN  \n",
       "4       10695.43             83.0  \n",
       "...          ...              ...  \n",
       "282879   9655.73              0.0  \n",
       "282880  14483.60              0.0  \n",
       "282881   4473.74              3.0  \n",
       "282882   6615.34              NaN  \n",
       "282883   8913.92              NaN  \n",
       "\n",
       "[282884 rows x 14 columns]"
      ]
     },
     "execution_count": 17,
     "metadata": {},
     "output_type": "execute_result"
    }
   ],
   "source": [
    "#удалим неявные дубликаты\n",
    "filtered_orders_df.drop_duplicates(subset=['user_id', 'created_ts_msk', 'device_type_canonical', 'created_dt_msk',\n",
    "    'service_name', 'event_id','cinema_circuit', 'age_limit', 'currency_code',\n",
    "    'revenue', 'total', 'tickets_count']).reset_index(drop=True)"
   ]
  },
  {
   "cell_type": "markdown",
   "metadata": {},
   "source": [
    "### Проверка на категории в данных"
   ]
  },
  {
   "cell_type": "code",
   "execution_count": 18,
   "metadata": {},
   "outputs": [
    {
     "data": {
      "text/plain": [
       "array(['нет', 'Другое', 'Киномакс', 'КиноСити', 'Москино', 'ЦентрФильм'],\n",
       "      dtype=object)"
      ]
     },
     "execution_count": 18,
     "metadata": {},
     "output_type": "execute_result"
    }
   ],
   "source": [
    "#проверим неявные дубликаты в категориальных значениях\n",
    "filtered_orders_df['cinema_circuit'].unique()"
   ]
  },
  {
   "cell_type": "markdown",
   "metadata": {},
   "source": [
    "Среди категорий встречается \"нет\", но оно не обозначает пропуск в данных."
   ]
  },
  {
   "cell_type": "code",
   "execution_count": 19,
   "metadata": {},
   "outputs": [
    {
     "data": {
      "text/plain": [
       "array([16,  0, 18, 12,  6])"
      ]
     },
     "execution_count": 19,
     "metadata": {},
     "output_type": "execute_result"
    }
   ],
   "source": [
    "#проверим неявные дубликаты в категориальных значениях\n",
    "filtered_orders_df['age_limit'].unique()"
   ]
  },
  {
   "cell_type": "code",
   "execution_count": 20,
   "metadata": {},
   "outputs": [
    {
     "data": {
      "text/plain": [
       "array(['Край билетов', 'Мой билет', 'За билетом!', 'Лови билет!',\n",
       "       'Билеты без проблем', 'Облачко', 'Лучшие билеты', 'Прачечная',\n",
       "       'Быстробилет', 'Дом культуры', 'Весь в билетах', 'Билеты в руки',\n",
       "       'Тебе билет!', 'Show_ticket', 'Городской дом культуры', 'Яблоко',\n",
       "       'Билет по телефону', 'Выступления.ру', 'Росбилет',\n",
       "       'Шоу начинается!', 'Мир касс', 'Восьмёрка', 'Телебилет',\n",
       "       'Crazy ticket!', 'Реестр', 'Быстрый кассир', 'КарандашРУ',\n",
       "       'Радио ticket', 'Дырокол', 'Вперёд!', 'Зе Бест!', 'Тех билет',\n",
       "       'Лимоны', 'Билеты в интернете'], dtype=object)"
      ]
     },
     "execution_count": 20,
     "metadata": {},
     "output_type": "execute_result"
    }
   ],
   "source": [
    "#проверим неявные дубликаты в категориальных значениях\n",
    "filtered_orders_df['service_name'].unique()"
   ]
  },
  {
   "cell_type": "markdown",
   "metadata": {},
   "source": [
    "# Промежуточный вывод\n",
    "Было удалено 38 неявных дубликатов"
   ]
  },
  {
   "cell_type": "markdown",
   "metadata": {},
   "source": [
    "### Создание новых столбцов"
   ]
  },
  {
   "cell_type": "code",
   "execution_count": 21,
   "metadata": {},
   "outputs": [],
   "source": [
    "#соединим два датафрейма\n",
    "merged_df = events_df.merge(filtered_orders_df, on = 'event_id', how = 'left')"
   ]
  },
  {
   "cell_type": "code",
   "execution_count": 22,
   "metadata": {},
   "outputs": [],
   "source": [
    "#добавим к новому датафрейму необходимые столбцы из третьего датафрейма\n",
    "df_final = merged_df.merge(tenge_df[['data','curs']], left_on = 'created_dt_msk', right_on = 'data')"
   ]
  },
  {
   "cell_type": "code",
   "execution_count": 23,
   "metadata": {},
   "outputs": [],
   "source": [
    "#создадим столбец для приведения к единой валюте\n",
    "def convert_revenue(row):\n",
    "    if row['currency_code'] == 'rub':\n",
    "        return row['revenue']\n",
    "    elif row['currency_code'] == 'kzt':\n",
    "        return row['revenue'] / 100 * row['curs']\n",
    "    \n",
    "df_final['revenue_rub'] = df_final.apply(convert_revenue, axis=1)"
   ]
  },
  {
   "cell_type": "code",
   "execution_count": 24,
   "metadata": {},
   "outputs": [],
   "source": [
    "#создадим столбец с рассчетом выручки с продажи одного билета на мероприятие\n",
    "df_final['one_ticket_revenue_rub'] = (df_final['revenue'].sum()) / (df_final['tickets_count'].sum())"
   ]
  },
  {
   "cell_type": "code",
   "execution_count": 25,
   "metadata": {},
   "outputs": [],
   "source": [
    "#выделим месяц оформления заказа в отдельный столбец\n",
    "df_final['month'] = df_final['created_dt_msk'].dt.month"
   ]
  },
  {
   "cell_type": "code",
   "execution_count": 26,
   "metadata": {},
   "outputs": [],
   "source": [
    "#создадим столбец с информацией о сезонности\n",
    "def season_def(row):\n",
    "    if (row['month']  == 6) | (row['month']  == 7) | (row['month']  == 8):\n",
    "        return 'лето'\n",
    "    elif (row['month']  == 9) | (row['month']  == 10) | (row['month']  == 11):\n",
    "        return 'осень'\n",
    "    elif (row['month'] == 12) | (row['month']  == 1) | (row['month'] == 2):\n",
    "        return 'зима'\n",
    "    elif (row['month'] == 3) | (row['month'] == 4) | (row['month'] == 5):\n",
    "        return 'весна'\n",
    "\n",
    "df_final['season'] = df_final.apply(season_def, axis=1)"
   ]
  },
  {
   "cell_type": "code",
   "execution_count": 27,
   "metadata": {},
   "outputs": [
    {
     "name": "stdout",
     "output_type": "stream",
     "text": [
      "<class 'pandas.core.frame.DataFrame'>\n",
      "Int64Index: 282684 entries, 0 to 282683\n",
      "Data columns (total 30 columns):\n",
      " #   Column                  Non-Null Count   Dtype         \n",
      "---  ------                  --------------   -----         \n",
      " 0   event_id                282684 non-null  int64         \n",
      " 1   event_name              282684 non-null  object        \n",
      " 2   event_type_description  282684 non-null  object        \n",
      " 3   event_type_main         282684 non-null  object        \n",
      " 4   organizers              282684 non-null  object        \n",
      " 5   region_name             282684 non-null  object        \n",
      " 6   city_name               282684 non-null  object        \n",
      " 7   city_id                 282684 non-null  int64         \n",
      " 8   venue_id                282684 non-null  int64         \n",
      " 9   venue_name              282684 non-null  object        \n",
      " 10  venue_address           282684 non-null  object        \n",
      " 11  order_id                282684 non-null  float64       \n",
      " 12  user_id                 282684 non-null  object        \n",
      " 13  created_dt_msk          282684 non-null  datetime64[ns]\n",
      " 14  created_ts_msk          282684 non-null  datetime64[ns]\n",
      " 15  cinema_circuit          282684 non-null  object        \n",
      " 16  age_limit               282684 non-null  float64       \n",
      " 17  currency_code           282684 non-null  object        \n",
      " 18  device_type_canonical   282684 non-null  object        \n",
      " 19  revenue                 282684 non-null  float64       \n",
      " 20  service_name            282684 non-null  object        \n",
      " 21  tickets_count           282684 non-null  float64       \n",
      " 22  total                   282684 non-null  float64       \n",
      " 23  days_since_prev         261839 non-null  float64       \n",
      " 24  data                    282684 non-null  datetime64[ns]\n",
      " 25  curs                    282684 non-null  float64       \n",
      " 26  revenue_rub             282684 non-null  float64       \n",
      " 27  one_ticket_revenue_rub  282684 non-null  float64       \n",
      " 28  month                   282684 non-null  int64         \n",
      " 29  season                  282684 non-null  object        \n",
      "dtypes: datetime64[ns](3), float64(9), int64(4), object(14)\n",
      "memory usage: 66.9+ MB\n"
     ]
    }
   ],
   "source": [
    "#выведем итоговый датафрейм со всеми новыми столбцами\n",
    "df_final.info()"
   ]
  },
  {
   "cell_type": "code",
   "execution_count": 28,
   "metadata": {},
   "outputs": [
    {
     "data": {
      "text/plain": [
       "2.888384202855485"
      ]
     },
     "execution_count": 28,
     "metadata": {},
     "output_type": "execute_result"
    }
   ],
   "source": [
    "#посчитаем удаленную долю от изначального датасета\n",
    "(len(orders_df) - len(df_final)) / len(df_final) * 100"
   ]
  },
  {
   "cell_type": "markdown",
   "metadata": {},
   "source": [
    "# Промежуточный вывод\n",
    "- Было удалено 38 дубликатов, создан итоговый датафрейм с новыми столбцами: revenue_rub, one_ticket_revenue_rub, month, season.\n",
    "- Были выявлены выбросы, и отобраны нужные данные.\n",
    "- Были обнаружены пропуски в столбце 'days_since_prev'.Были изучены категориальные признаки, не было найдено категорий которые означают пропуск в данных. \n",
    "- Удаленная доля от изначального датасета составила 2.9%."
   ]
  },
  {
   "cell_type": "markdown",
   "metadata": {},
   "source": [
    "## Исследовательский анализ данных"
   ]
  },
  {
   "cell_type": "markdown",
   "metadata": {},
   "source": [
    "### Анализ распределения заказов по сегментам и их сезонные изменения"
   ]
  },
  {
   "cell_type": "markdown",
   "metadata": {},
   "source": [
    "#### Для каждого месяца найдем кол-во заказов"
   ]
  },
  {
   "cell_type": "code",
   "execution_count": 29,
   "metadata": {},
   "outputs": [
    {
     "data": {
      "image/png": "[encoded data removed]",
      "text/plain": [
       "<Figure size 1080x504 with 1 Axes>"
      ]
     },
     "metadata": {
      "needs_background": "light"
     },
     "output_type": "display_data"
    }
   ],
   "source": [
    "#для каждого месяца найдём кол-во заказов\n",
    "month_groupby = df_final.groupby('month')['order_id'].count().sort_values(ascending = True)\n",
    "\n",
    "#построим столбчатую диаграмму\n",
    "month_groupby.plot(kind = 'bar', figsize=(15, 7))\n",
    "plt.title('Кол-во заказов по месяцам')\n",
    "plt.xlabel('Месяц')\n",
    "plt.ylabel('Кол-во заказов')\n",
    "plt.xticks(rotation=0)\n",
    "plt.grid(axis='y')\n",
    "plt.legend()\n",
    "plt.show()"
   ]
  },
  {
   "cell_type": "markdown",
   "metadata": {},
   "source": [
    "- Кол-во заказов увеличивается от июня к ноябрю"
   ]
  },
  {
   "cell_type": "markdown",
   "metadata": {},
   "source": [
    "#### Для осеннего и летнего периодов сравним распределение заказов билетов по разным категориям"
   ]
  },
  {
   "cell_type": "code",
   "execution_count": 30,
   "metadata": {},
   "outputs": [
    {
     "data": {
      "image/png": "[encoded data removed]",
      "text/plain": [
       "<Figure size 1080x504 with 1 Axes>"
      ]
     },
     "metadata": {
      "needs_background": "light"
     },
     "output_type": "display_data"
    }
   ],
   "source": [
    "#сгруппируем и подсчитаем кол-во заказов\n",
    "grouped = df_final.groupby(['month', 'event_type_main'])['order_id'].count().unstack()\n",
    "\n",
    "#построим гистограмму накопления\n",
    "grouped.plot(kind='bar', stacked=True, figsize=(15, 7))\n",
    "plt.xlabel('Месяц')\n",
    "plt.ylabel('Количество заказов')\n",
    "plt.xticks(rotation=0)\n",
    "plt.title('Распределение заказов по типу мероприятия')\n",
    "plt.legend(title='Тип мероприятия')\n",
    "plt.grid(axis='y')\n",
    "plt.show()"
   ]
  },
  {
   "cell_type": "markdown",
   "metadata": {},
   "source": [
    "- Осенью кол-во заказов увеличивается практически во всех типах мероприятий"
   ]
  },
  {
   "cell_type": "code",
   "execution_count": 31,
   "metadata": {},
   "outputs": [
    {
     "data": {
      "image/png": "[encoded data removed]",
      "text/plain": [
       "<Figure size 1080x504 with 1 Axes>"
      ]
     },
     "metadata": {
      "needs_background": "light"
     },
     "output_type": "display_data"
    }
   ],
   "source": [
    "#сгруппируем и подсчитаем кол-во заказов\n",
    "grouped = df_final.groupby(['month', 'device_type_canonical'])['order_id'].count().unstack()\n",
    "\n",
    "#построим гистограмму накопления\n",
    "grouped.plot(kind='bar', stacked=True, figsize=(15, 7))\n",
    "plt.xlabel('Месяц')\n",
    "plt.ylabel('Количество заказов')\n",
    "plt.xticks(rotation=0)\n",
    "plt.title('Распределение заказов по типу устройства')\n",
    "plt.legend(title='Тип устройства')\n",
    "plt.grid(axis='y')\n",
    "plt.show()"
   ]
  },
  {
   "cell_type": "markdown",
   "metadata": {},
   "source": [
    " - Осенью кол-во заказов увеличивается во всех типах устройств"
   ]
  },
  {
   "cell_type": "code",
   "execution_count": 32,
   "metadata": {},
   "outputs": [
    {
     "data": {
      "image/png": "[encoded data removed]",
      "text/plain": [
       "<Figure size 1080x504 with 1 Axes>"
      ]
     },
     "metadata": {
      "needs_background": "light"
     },
     "output_type": "display_data"
    }
   ],
   "source": [
    "#сгруппируем и подсчитаем кол-во заказов\n",
    "grouped = df_final.groupby(['month', 'age_limit'])['order_id'].count().unstack()\n",
    "\n",
    "#построим гистограмму накопления\n",
    "grouped.plot(kind='bar', stacked=True, figsize=(15, 7))\n",
    "plt.xlabel('Месяц')\n",
    "plt.ylabel('Количество заказов')\n",
    "plt.xticks(rotation=0)\n",
    "plt.title('Распределение заказов по возрастному рейтингу')\n",
    "plt.legend(title='Возрастной рейтинг')\n",
    "plt.grid(axis='y')\n",
    "plt.show()"
   ]
  },
  {
   "cell_type": "markdown",
   "metadata": {},
   "source": [
    " - Осенью кол-во заказов увеличивается во всех возрастных рейтингах"
   ]
  },
  {
   "cell_type": "markdown",
   "metadata": {},
   "source": [
    "# Промежуточный вывод\n",
    "- Категория по типу мероприятия: осенью кол-во заказов увеличивается во всех типах мероприятий\n",
    "- Категория по типу устройства: осенью кол-во заказов увеличивается во всех типах устройств\n",
    "- Категория по возрастному рейтингу: осенью кол-во заказов увеличивается во всех возрастных рейтингах"
   ]
  },
  {
   "cell_type": "markdown",
   "metadata": {},
   "source": [
    "#### Изучим изменение выручки с продажи одного билета"
   ]
  },
  {
   "cell_type": "code",
   "execution_count": 33,
   "metadata": {
    "scrolled": true
   },
   "outputs": [
    {
     "data": {
      "text/html": [
       "<div>\n",
       "<style scoped>\n",
       "    .dataframe tbody tr th:only-of-type {\n",
       "        vertical-align: middle;\n",
       "    }\n",
       "\n",
       "    .dataframe tbody tr th {\n",
       "        vertical-align: top;\n",
       "    }\n",
       "\n",
       "    .dataframe thead th {\n",
       "        text-align: right;\n",
       "    }\n",
       "</style>\n",
       "<table border=\"1\" class=\"dataframe\">\n",
       "  <thead>\n",
       "    <tr style=\"text-align: right;\">\n",
       "      <th></th>\n",
       "      <th>event_type_main</th>\n",
       "      <th>one_ticket_revenue_rub</th>\n",
       "    </tr>\n",
       "  </thead>\n",
       "  <tbody>\n",
       "    <tr>\n",
       "      <th>2</th>\n",
       "      <td>концерты</td>\n",
       "      <td>8931.6K₽</td>\n",
       "    </tr>\n",
       "    <tr>\n",
       "      <th>1</th>\n",
       "      <td>другое</td>\n",
       "      <td>5944.5K₽</td>\n",
       "    </tr>\n",
       "    <tr>\n",
       "      <th>3</th>\n",
       "      <td>спорт</td>\n",
       "      <td>552.9K₽</td>\n",
       "    </tr>\n",
       "    <tr>\n",
       "      <th>6</th>\n",
       "      <td>ёлки</td>\n",
       "      <td>50.9K₽</td>\n",
       "    </tr>\n",
       "    <tr>\n",
       "      <th>0</th>\n",
       "      <td>выставки</td>\n",
       "      <td>450.3K₽</td>\n",
       "    </tr>\n",
       "    <tr>\n",
       "      <th>5</th>\n",
       "      <td>театр</td>\n",
       "      <td>4459.1K₽</td>\n",
       "    </tr>\n",
       "    <tr>\n",
       "      <th>4</th>\n",
       "      <td>стендап</td>\n",
       "      <td>1181.6K₽</td>\n",
       "    </tr>\n",
       "  </tbody>\n",
       "</table>\n",
       "</div>"
      ],
      "text/plain": [
       "  event_type_main one_ticket_revenue_rub\n",
       "2        концерты               8931.6K₽\n",
       "1          другое               5944.5K₽\n",
       "3           спорт                552.9K₽\n",
       "6            ёлки                 50.9K₽\n",
       "0        выставки                450.3K₽\n",
       "5           театр               4459.1K₽\n",
       "4         стендап               1181.6K₽"
      ]
     },
     "metadata": {},
     "output_type": "display_data"
    }
   ],
   "source": [
    "#найдем выручку с продажи одного билета за лето\n",
    "#отфильтруем по времени года\n",
    "df_filtered = df_final[(df_final['month'] == 6) | (df_final['month'] == 7) | (df_final['month'] == 8)]\n",
    "gb_summer = df_filtered.groupby('event_type_main')['one_ticket_revenue_rub'].agg(lambda x: f\"{x.sum()/1000:.1f}K₽\").reset_index()\n",
    "\n",
    "#отсортируем по убыванию\n",
    "display(gb_summer.sort_values(by='one_ticket_revenue_rub', ascending=False))"
   ]
  },
  {
   "cell_type": "code",
   "execution_count": 34,
   "metadata": {},
   "outputs": [
    {
     "data": {
      "text/html": [
       "<div>\n",
       "<style scoped>\n",
       "    .dataframe tbody tr th:only-of-type {\n",
       "        vertical-align: middle;\n",
       "    }\n",
       "\n",
       "    .dataframe tbody tr th {\n",
       "        vertical-align: top;\n",
       "    }\n",
       "\n",
       "    .dataframe thead th {\n",
       "        text-align: right;\n",
       "    }\n",
       "</style>\n",
       "<table border=\"1\" class=\"dataframe\">\n",
       "  <thead>\n",
       "    <tr style=\"text-align: right;\">\n",
       "      <th></th>\n",
       "      <th>event_type_main</th>\n",
       "      <th>one_ticket_revenue_rub</th>\n",
       "    </tr>\n",
       "  </thead>\n",
       "  <tbody>\n",
       "    <tr>\n",
       "      <th>5</th>\n",
       "      <td>театр</td>\n",
       "      <td>7961.3K₽</td>\n",
       "    </tr>\n",
       "    <tr>\n",
       "      <th>1</th>\n",
       "      <td>другое</td>\n",
       "      <td>5990.6K₽</td>\n",
       "    </tr>\n",
       "    <tr>\n",
       "      <th>0</th>\n",
       "      <td>выставки</td>\n",
       "      <td>453.8K₽</td>\n",
       "    </tr>\n",
       "    <tr>\n",
       "      <th>3</th>\n",
       "      <td>спорт</td>\n",
       "      <td>3468.4K₽</td>\n",
       "    </tr>\n",
       "    <tr>\n",
       "      <th>6</th>\n",
       "      <td>ёлки</td>\n",
       "      <td>315.0K₽</td>\n",
       "    </tr>\n",
       "    <tr>\n",
       "      <th>4</th>\n",
       "      <td>стендап</td>\n",
       "      <td>1289.7K₽</td>\n",
       "    </tr>\n",
       "    <tr>\n",
       "      <th>2</th>\n",
       "      <td>концерты</td>\n",
       "      <td>11610.2K₽</td>\n",
       "    </tr>\n",
       "  </tbody>\n",
       "</table>\n",
       "</div>"
      ],
      "text/plain": [
       "  event_type_main one_ticket_revenue_rub\n",
       "5           театр               7961.3K₽\n",
       "1          другое               5990.6K₽\n",
       "0        выставки                453.8K₽\n",
       "3           спорт               3468.4K₽\n",
       "6            ёлки                315.0K₽\n",
       "4         стендап               1289.7K₽\n",
       "2        концерты              11610.2K₽"
      ]
     },
     "metadata": {},
     "output_type": "display_data"
    }
   ],
   "source": [
    "#найдем выручку с продажи одного билета за осень\n",
    "#отфильтруем по времени года\n",
    "df_filtered = df_final[(df_final['month'] == 9) | (df_final['month'] == 10)]\n",
    "gb_autumn = df_filtered.groupby('event_type_main')['one_ticket_revenue_rub'].agg(lambda x: f\"{x.sum()/1000:.1f}K₽\").reset_index()\n",
    "\n",
    "#отсортируем по убыванию\n",
    "display(gb_autumn.sort_values(by='one_ticket_revenue_rub', ascending=False))"
   ]
  },
  {
   "cell_type": "code",
   "execution_count": 35,
   "metadata": {},
   "outputs": [
    {
     "data": {
      "text/html": [
       "<div>\n",
       "<style scoped>\n",
       "    .dataframe tbody tr th:only-of-type {\n",
       "        vertical-align: middle;\n",
       "    }\n",
       "\n",
       "    .dataframe tbody tr th {\n",
       "        vertical-align: top;\n",
       "    }\n",
       "\n",
       "    .dataframe thead th {\n",
       "        text-align: right;\n",
       "    }\n",
       "</style>\n",
       "<table border=\"1\" class=\"dataframe\">\n",
       "  <thead>\n",
       "    <tr style=\"text-align: right;\">\n",
       "      <th></th>\n",
       "      <th>event_type_main</th>\n",
       "      <th>one_ticket_revenue_rub</th>\n",
       "    </tr>\n",
       "  </thead>\n",
       "  <tbody>\n",
       "    <tr>\n",
       "      <th>3</th>\n",
       "      <td>спорт</td>\n",
       "      <td>5.273248</td>\n",
       "    </tr>\n",
       "    <tr>\n",
       "      <th>6</th>\n",
       "      <td>ёлки</td>\n",
       "      <td>5.194139</td>\n",
       "    </tr>\n",
       "    <tr>\n",
       "      <th>5</th>\n",
       "      <td>театр</td>\n",
       "      <td>0.785395</td>\n",
       "    </tr>\n",
       "    <tr>\n",
       "      <th>2</th>\n",
       "      <td>концерты</td>\n",
       "      <td>0.299900</td>\n",
       "    </tr>\n",
       "    <tr>\n",
       "      <th>4</th>\n",
       "      <td>стендап</td>\n",
       "      <td>0.091439</td>\n",
       "    </tr>\n",
       "    <tr>\n",
       "      <th>0</th>\n",
       "      <td>выставки</td>\n",
       "      <td>0.007861</td>\n",
       "    </tr>\n",
       "    <tr>\n",
       "      <th>1</th>\n",
       "      <td>другое</td>\n",
       "      <td>0.007740</td>\n",
       "    </tr>\n",
       "  </tbody>\n",
       "</table>\n",
       "</div>"
      ],
      "text/plain": [
       "  event_type_main  one_ticket_revenue_rub\n",
       "3           спорт                5.273248\n",
       "6            ёлки                5.194139\n",
       "5           театр                0.785395\n",
       "2        концерты                0.299900\n",
       "4         стендап                0.091439\n",
       "0        выставки                0.007861\n",
       "1          другое                0.007740"
      ]
     },
     "metadata": {},
     "output_type": "display_data"
    }
   ],
   "source": [
    "#отфильтруем\n",
    "df_filtered_autumn = df_final[(df_final['month'] == 9) | (df_final['month'] == 10)]\n",
    "df_filtered_summer = df_final[(df_final['month'] == 6) | (df_final['month'] == 7) | (df_final['month'] == 8)]\n",
    "\n",
    "#найдем относительное изменение осенних значений по сравнению с летними\n",
    "relative_change = ((df_filtered_autumn.groupby('event_type_main')['one_ticket_revenue_rub'].sum() - df_filtered_summer.groupby('event_type_main')['one_ticket_revenue_rub'].sum()) / df_filtered_summer.groupby('event_type_main')['one_ticket_revenue_rub'].sum())\n",
    "\n",
    "#отсортируем по убыванию\n",
    "display(relative_change.reset_index().sort_values(by='one_ticket_revenue_rub', ascending=False))"
   ]
  },
  {
   "cell_type": "code",
   "execution_count": 36,
   "metadata": {},
   "outputs": [
    {
     "data": {
      "image/png": "[encoded data removed]",
      "text/plain": [
       "<Figure size 1080x504 with 1 Axes>"
      ]
     },
     "metadata": {
      "needs_background": "light"
     },
     "output_type": "display_data"
    }
   ],
   "source": [
    "#сгруппируем и подсчитаем выручку с продажи одного билета для каждого мероприятия\n",
    "grouped = df_final.groupby(['month', 'event_type_main'])['one_ticket_revenue_rub'].sum().unstack()\n",
    "\n",
    "#построим гистограмму накопления\n",
    "grouped.plot(kind='bar', stacked=True, figsize=(15, 7))\n",
    "plt.xlabel('Месяц')\n",
    "plt.ylabel('Выручка')\n",
    "plt.xticks(rotation=0)\n",
    "plt.title('Распределение выручки с продажи одного билета')\n",
    "plt.legend(title='Тип мероприятия')\n",
    "plt.grid(axis='y')\n",
    "\n",
    "#создадим функцию форматирования\n",
    "def custom_format(value, position):\n",
    "    return f'{value/1_000_000:.1f}M₽'\n",
    "\n",
    "#поменяем формат для оси y\n",
    "plt.gca().yaxis.set_major_formatter(FuncFormatter(custom_format))\n",
    "plt.show()"
   ]
  },
  {
   "cell_type": "markdown",
   "metadata": {},
   "source": [
    "# Промежуточный вывод\n",
    "С июня по октябрь отмечается устойчивый рост количества заказов по различным сегментам."
   ]
  },
  {
   "cell_type": "markdown",
   "metadata": {},
   "source": [
    "### Осенняя активность пользователей"
   ]
  },
  {
   "cell_type": "markdown",
   "metadata": {},
   "source": [
    "- Проанализируем динамику изменений по дням для общего числа заказов"
   ]
  },
  {
   "cell_type": "code",
   "execution_count": 37,
   "metadata": {},
   "outputs": [
    {
     "data": {
      "image/png": "[encoded data removed]",
      "text/plain": [
       "<Figure size 864x576 with 1 Axes>"
      ]
     },
     "metadata": {
      "needs_background": "light"
     },
     "output_type": "display_data"
    }
   ],
   "source": [
    "#группировка по дате\n",
    "daily_stats = df_filtered.groupby('created_dt_msk').agg(\n",
    "    total_orders=('order_id', 'count'),\n",
    "    active_users=('user_id', 'nunique')\n",
    ").reset_index()\n",
    "\n",
    "#построим линейный график\n",
    "plt.figure(figsize=(12,8))\n",
    "plt.plot(daily_stats['created_dt_msk'], daily_stats['total_orders'], label='Общее число заказов')\n",
    "plt.xlabel('Дата')\n",
    "plt.ylabel('Значение')\n",
    "plt.legend()\n",
    "plt.title('Динамика общего числа заказов осенью 2024 года')\n",
    "plt.grid(True)\n",
    "plt.show()"
   ]
  },
  {
   "cell_type": "markdown",
   "metadata": {},
   "source": [
    "- Проанализируем динамику изменений по дням для количества активных пользователей"
   ]
  },
  {
   "cell_type": "code",
   "execution_count": 38,
   "metadata": {},
   "outputs": [
    {
     "data": {
      "image/png": "[encoded data removed]",
      "text/plain": [
       "<Figure size 864x576 with 1 Axes>"
      ]
     },
     "metadata": {
      "needs_background": "light"
     },
     "output_type": "display_data"
    }
   ],
   "source": [
    "#построим линейный график\n",
    "plt.figure(figsize=(12,8))\n",
    "plt.plot(daily_stats['created_dt_msk'], daily_stats['active_users'], label='DAU')\n",
    "plt.xlabel('Дата')\n",
    "plt.ylabel('Значение')\n",
    "plt.legend()\n",
    "plt.title('Динамика активности пользователей осенью 2024 года')\n",
    "plt.grid(True)\n",
    "plt.show()"
   ]
  },
  {
   "cell_type": "markdown",
   "metadata": {},
   "source": [
    "- Проанализируем динамику изменений по дням для среднего числа заказов на одного пользователя"
   ]
  },
  {
   "cell_type": "code",
   "execution_count": 39,
   "metadata": {},
   "outputs": [
    {
     "data": {
      "image/png": "[encoded data removed]",
      "text/plain": [
       "<Figure size 864x432 with 1 Axes>"
      ]
     },
     "metadata": {
      "needs_background": "light"
     },
     "output_type": "display_data"
    }
   ],
   "source": [
    "#группировка по дате\n",
    "daily_data = df_filtered.groupby('created_dt_msk').agg({'order_id': 'sum', 'user_id': 'nunique'}).reset_index()\n",
    "\n",
    "#вычисление среднего числа заказов на одного пользователя:\n",
    "daily_data['avg_orders_per_user'] = daily_data['order_id'] / daily_data['user_id']\n",
    "\n",
    "#построим линейный график\n",
    "plt.figure(figsize=(12,6))\n",
    "plt.plot(daily_data['created_dt_msk'], daily_data['avg_orders_per_user'])\n",
    "plt.title('Динамика среднего числа заказов на одного пользователя по дням осени 2024')\n",
    "plt.xlabel('Дата')\n",
    "plt.ylabel('Среднее число заказов на пользователя')\n",
    "plt.xticks(rotation=45)\n",
    "plt.grid(True)\n",
    "plt.tight_layout()\n",
    "plt.show()"
   ]
  },
  {
   "cell_type": "code",
   "execution_count": 40,
   "metadata": {},
   "outputs": [
    {
     "data": {
      "image/png": "[encoded data removed]",
      "text/plain": [
       "<Figure size 864x432 with 1 Axes>"
      ]
     },
     "metadata": {
      "needs_background": "light"
     },
     "output_type": "display_data"
    }
   ],
   "source": [
    "#группировка по дате\n",
    "daily_data = df_filtered.groupby('created_dt_msk').agg({'revenue': 'sum', 'tickets_count': 'sum'}).reset_index()\n",
    "daily_data['avg_orders_per_user'] = daily_data['revenue'] / daily_data['tickets_count']\n",
    "\n",
    "#Построение графика:\n",
    "plt.figure(figsize=(12,6))\n",
    "plt.plot(daily_data['created_dt_msk'], daily_data['avg_orders_per_user'])\n",
    "plt.title('Динамика средней стоимости одного билета по дням осени 2024')\n",
    "plt.xlabel('Дата')\n",
    "plt.ylabel('Среднее число заказов на пользователя')\n",
    "plt.xticks(rotation=45)\n",
    "plt.grid(True)\n",
    "plt.tight_layout()\n",
    "plt.show()"
   ]
  },
  {
   "cell_type": "markdown",
   "metadata": {},
   "source": [
    "- Изучим недельную цикличность пользовательской активности в будни и выходные"
   ]
  },
  {
   "cell_type": "code",
   "execution_count": 41,
   "metadata": {},
   "outputs": [
    {
     "name": "stderr",
     "output_type": "stream",
     "text": [
      "/tmp/ipykernel_48/2325155037.py:2: SettingWithCopyWarning: \n",
      "A value is trying to be set on a copy of a slice from a DataFrame.\n",
      "Try using .loc[row_indexer,col_indexer] = value instead\n",
      "\n",
      "See the caveats in the documentation: https://pandas.pydata.org/pandas-docs/stable/user_guide/indexing.html#returning-a-view-versus-a-copy\n",
      "  df_filtered['day_of_week'] = df_filtered['created_dt_msk'].dt.day_name()\n"
     ]
    },
    {
     "data": {
      "text/html": [
       "<div>\n",
       "<style scoped>\n",
       "    .dataframe tbody tr th:only-of-type {\n",
       "        vertical-align: middle;\n",
       "    }\n",
       "\n",
       "    .dataframe tbody tr th {\n",
       "        vertical-align: top;\n",
       "    }\n",
       "\n",
       "    .dataframe thead th {\n",
       "        text-align: right;\n",
       "    }\n",
       "</style>\n",
       "<table border=\"1\" class=\"dataframe\">\n",
       "  <thead>\n",
       "    <tr style=\"text-align: right;\">\n",
       "      <th></th>\n",
       "      <th>day_of_week</th>\n",
       "      <th>total_orders</th>\n",
       "      <th>unique_users</th>\n",
       "    </tr>\n",
       "  </thead>\n",
       "  <tbody>\n",
       "    <tr>\n",
       "      <th>5</th>\n",
       "      <td>Tuesday</td>\n",
       "      <td>31198</td>\n",
       "      <td>4679</td>\n",
       "    </tr>\n",
       "    <tr>\n",
       "      <th>4</th>\n",
       "      <td>Thursday</td>\n",
       "      <td>26846</td>\n",
       "      <td>4866</td>\n",
       "    </tr>\n",
       "    <tr>\n",
       "      <th>0</th>\n",
       "      <td>Friday</td>\n",
       "      <td>24510</td>\n",
       "      <td>4752</td>\n",
       "    </tr>\n",
       "    <tr>\n",
       "      <th>6</th>\n",
       "      <td>Wednesday</td>\n",
       "      <td>22611</td>\n",
       "      <td>4711</td>\n",
       "    </tr>\n",
       "    <tr>\n",
       "      <th>1</th>\n",
       "      <td>Monday</td>\n",
       "      <td>21302</td>\n",
       "      <td>4355</td>\n",
       "    </tr>\n",
       "    <tr>\n",
       "      <th>2</th>\n",
       "      <td>Saturday</td>\n",
       "      <td>21160</td>\n",
       "      <td>4513</td>\n",
       "    </tr>\n",
       "    <tr>\n",
       "      <th>3</th>\n",
       "      <td>Sunday</td>\n",
       "      <td>19262</td>\n",
       "      <td>4354</td>\n",
       "    </tr>\n",
       "  </tbody>\n",
       "</table>\n",
       "</div>"
      ],
      "text/plain": [
       "  day_of_week  total_orders  unique_users\n",
       "5     Tuesday         31198          4679\n",
       "4    Thursday         26846          4866\n",
       "0      Friday         24510          4752\n",
       "6   Wednesday         22611          4711\n",
       "1      Monday         21302          4355\n",
       "2    Saturday         21160          4513\n",
       "3      Sunday         19262          4354"
      ]
     },
     "metadata": {},
     "output_type": "display_data"
    }
   ],
   "source": [
    "#определение дня недели\n",
    "df_filtered['day_of_week'] = df_filtered['created_dt_msk'].dt.day_name()\n",
    "\n",
    "#группировка по дню недели\n",
    "weekday_comparison = df_filtered.groupby(df_filtered['day_of_week']).agg(\n",
    "    total_orders=('order_id', 'count'),\n",
    "    unique_users=('user_id', 'nunique')).reset_index()\n",
    "\n",
    "display(weekday_comparison.sort_values(by='total_orders', ascending = False))"
   ]
  },
  {
   "cell_type": "markdown",
   "metadata": {},
   "source": [
    "# Промежуточный вывод\n",
    "\n",
    "- Динамика общего числа заказов: увеличивается, пик 1 сентября и 1 отктября\n",
    "- Динамика активности пользователей: активность пользователей стабильно увеличивается\n",
    "- Динамика среднего числа заказов: динамика выглядит стабильной, пик 1 сентября и 1 октября\n",
    "- У динамики средней стоимости одного билета тренд к снижению: наименьшие показатели 1 сентября и 1 октября\n",
    "- В выходные дни наименьшее кол-во заказов"
   ]
  },
  {
   "cell_type": "markdown",
   "metadata": {},
   "source": [
    "### Популярные события и партнёры"
   ]
  },
  {
   "cell_type": "code",
   "execution_count": 42,
   "metadata": {},
   "outputs": [
    {
     "data": {
      "text/plain": [
       "'Регионы с наибольшим разнообразием мероприятий:'"
      ]
     },
     "metadata": {},
     "output_type": "display_data"
    },
    {
     "data": {
      "text/html": [
       "<div>\n",
       "<style scoped>\n",
       "    .dataframe tbody tr th:only-of-type {\n",
       "        vertical-align: middle;\n",
       "    }\n",
       "\n",
       "    .dataframe tbody tr th {\n",
       "        vertical-align: top;\n",
       "    }\n",
       "\n",
       "    .dataframe thead th {\n",
       "        text-align: right;\n",
       "    }\n",
       "</style>\n",
       "<table border=\"1\" class=\"dataframe\">\n",
       "  <thead>\n",
       "    <tr style=\"text-align: right;\">\n",
       "      <th></th>\n",
       "      <th>region_name</th>\n",
       "      <th>unique_events</th>\n",
       "      <th>total_orders</th>\n",
       "      <th>events_share</th>\n",
       "      <th>orders_share</th>\n",
       "    </tr>\n",
       "  </thead>\n",
       "  <tbody>\n",
       "    <tr>\n",
       "      <th>22</th>\n",
       "      <td>Каменевский регион</td>\n",
       "      <td>5935</td>\n",
       "      <td>89607</td>\n",
       "      <td>0.266430</td>\n",
       "      <td>0.316986</td>\n",
       "    </tr>\n",
       "    <tr>\n",
       "      <th>59</th>\n",
       "      <td>Североярская область</td>\n",
       "      <td>3800</td>\n",
       "      <td>43744</td>\n",
       "      <td>0.170587</td>\n",
       "      <td>0.154745</td>\n",
       "    </tr>\n",
       "    <tr>\n",
       "      <th>76</th>\n",
       "      <td>Широковская область</td>\n",
       "      <td>1232</td>\n",
       "      <td>16169</td>\n",
       "      <td>0.055306</td>\n",
       "      <td>0.057198</td>\n",
       "    </tr>\n",
       "    <tr>\n",
       "      <th>56</th>\n",
       "      <td>Светополянский округ</td>\n",
       "      <td>1075</td>\n",
       "      <td>7503</td>\n",
       "      <td>0.048258</td>\n",
       "      <td>0.026542</td>\n",
       "    </tr>\n",
       "    <tr>\n",
       "      <th>51</th>\n",
       "      <td>Речиновская область</td>\n",
       "      <td>702</td>\n",
       "      <td>6267</td>\n",
       "      <td>0.031514</td>\n",
       "      <td>0.022170</td>\n",
       "    </tr>\n",
       "  </tbody>\n",
       "</table>\n",
       "</div>"
      ],
      "text/plain": [
       "             region_name  unique_events  total_orders  events_share  \\\n",
       "22    Каменевский регион           5935         89607      0.266430   \n",
       "59  Североярская область           3800         43744      0.170587   \n",
       "76   Широковская область           1232         16169      0.055306   \n",
       "56  Светополянский округ           1075          7503      0.048258   \n",
       "51   Речиновская область            702          6267      0.031514   \n",
       "\n",
       "    orders_share  \n",
       "22      0.316986  \n",
       "59      0.154745  \n",
       "76      0.057198  \n",
       "56      0.026542  \n",
       "51      0.022170  "
      ]
     },
     "metadata": {},
     "output_type": "display_data"
    }
   ],
   "source": [
    "#для каждого региона посчитаем уникальное количество мероприятий и общее число заказов\n",
    "regions = df_final.groupby('region_name').agg(\n",
    "    unique_events=('event_id', 'nunique'),\n",
    "    total_orders=('order_id', 'nunique')\n",
    ").reset_index()\n",
    "\n",
    "#общие значения для подсчёта долей\n",
    "total_events = df_final['event_id'].nunique()\n",
    "total_orders = df_final['order_id'].nunique()\n",
    "\n",
    "#расчёт доли мероприятий и заказов по регионам\n",
    "regions['events_share'] = regions['unique_events'] / total_events\n",
    "regions['orders_share'] = regions['total_orders'] / total_orders\n",
    "\n",
    "\n",
    "display(\"Регионы с наибольшим разнообразием мероприятий:\")\n",
    "display(regions.sort_values(by = 'unique_events', ascending = False).head(5))"
   ]
  },
  {
   "cell_type": "code",
   "execution_count": 43,
   "metadata": {},
   "outputs": [
    {
     "data": {
      "text/plain": [
       "'Самые активные партнёры по выручке:'"
      ]
     },
     "metadata": {},
     "output_type": "display_data"
    },
    {
     "data": {
      "text/html": [
       "<div>\n",
       "<style scoped>\n",
       "    .dataframe tbody tr th:only-of-type {\n",
       "        vertical-align: middle;\n",
       "    }\n",
       "\n",
       "    .dataframe tbody tr th {\n",
       "        vertical-align: top;\n",
       "    }\n",
       "\n",
       "    .dataframe thead th {\n",
       "        text-align: right;\n",
       "    }\n",
       "</style>\n",
       "<table border=\"1\" class=\"dataframe\">\n",
       "  <thead>\n",
       "    <tr style=\"text-align: right;\">\n",
       "      <th></th>\n",
       "      <th>service_name</th>\n",
       "      <th>unique_events</th>\n",
       "      <th>total_orders</th>\n",
       "      <th>total_revenue</th>\n",
       "      <th>events_share</th>\n",
       "      <th>orders_share</th>\n",
       "    </tr>\n",
       "  </thead>\n",
       "  <tbody>\n",
       "    <tr>\n",
       "      <th>3</th>\n",
       "      <td>Билеты без проблем</td>\n",
       "      <td>4196</td>\n",
       "      <td>61192</td>\n",
       "      <td>23743072.04</td>\n",
       "      <td>0.188364</td>\n",
       "      <td>0.216468</td>\n",
       "    </tr>\n",
       "    <tr>\n",
       "      <th>24</th>\n",
       "      <td>Облачко</td>\n",
       "      <td>2335</td>\n",
       "      <td>26402</td>\n",
       "      <td>18588613.86</td>\n",
       "      <td>0.104821</td>\n",
       "      <td>0.093398</td>\n",
       "    </tr>\n",
       "    <tr>\n",
       "      <th>23</th>\n",
       "      <td>Мой билет</td>\n",
       "      <td>1285</td>\n",
       "      <td>31184</td>\n",
       "      <td>17791635.35</td>\n",
       "      <td>0.057685</td>\n",
       "      <td>0.110314</td>\n",
       "    </tr>\n",
       "    <tr>\n",
       "      <th>20</th>\n",
       "      <td>Лови билет!</td>\n",
       "      <td>4867</td>\n",
       "      <td>40804</td>\n",
       "      <td>16670657.83</td>\n",
       "      <td>0.218486</td>\n",
       "      <td>0.144345</td>\n",
       "    </tr>\n",
       "    <tr>\n",
       "      <th>8</th>\n",
       "      <td>Весь в билетах</td>\n",
       "      <td>855</td>\n",
       "      <td>16410</td>\n",
       "      <td>16494669.19</td>\n",
       "      <td>0.038382</td>\n",
       "      <td>0.058051</td>\n",
       "    </tr>\n",
       "  </tbody>\n",
       "</table>\n",
       "</div>"
      ],
      "text/plain": [
       "          service_name  unique_events  total_orders  total_revenue  \\\n",
       "3   Билеты без проблем           4196         61192    23743072.04   \n",
       "24             Облачко           2335         26402    18588613.86   \n",
       "23           Мой билет           1285         31184    17791635.35   \n",
       "20         Лови билет!           4867         40804    16670657.83   \n",
       "8       Весь в билетах            855         16410    16494669.19   \n",
       "\n",
       "    events_share  orders_share  \n",
       "3       0.188364      0.216468  \n",
       "24      0.104821      0.093398  \n",
       "23      0.057685      0.110314  \n",
       "20      0.218486      0.144345  \n",
       "8       0.038382      0.058051  "
      ]
     },
     "metadata": {},
     "output_type": "display_data"
    }
   ],
   "source": [
    "#для каждого билетного партнёра посчитаем общее число уникальных мероприятий, \n",
    "#обработанных заказов и суммарную выручку с заказов билетов\n",
    "services = df_final.groupby('service_name').agg(\n",
    "    unique_events=('event_id', 'nunique'),\n",
    "    total_orders=('order_id', 'nunique'),\n",
    "    total_revenue=('revenue', 'sum')\n",
    ").reset_index()\n",
    "\n",
    "#общие значения для подсчёта долей\n",
    "total_unique_events = df_final['event_id'].nunique()\n",
    "total_orders = df_final['order_id'].nunique()\n",
    "\n",
    "#расчёт долей по партнёрам\n",
    "services['events_share'] = services['unique_events'] / total_unique_events\n",
    "services['orders_share'] = services['total_orders'] / total_orders\n",
    "\n",
    "#определение наиболее активных партнёров\n",
    "most_active_partners = services.sort_values(by='total_revenue', ascending=False)\n",
    "\n",
    "display(\"Самые активные партнёры по выручке:\")\n",
    "display(most_active_partners.head())"
   ]
  },
  {
   "cell_type": "markdown",
   "metadata": {},
   "source": [
    "# Промежуточный вывод\n",
    "\n",
    "Регион с наибольшим разнообразием мероприятий - Каменевский регион, Североярская область, Широковская область, Светополянский округ,Речиновская область.В топ активных партнеров вошли: мой билет, билеты без проблем, облачко, весь в билетах, лови билет"
   ]
  },
  {
   "cell_type": "markdown",
   "metadata": {},
   "source": [
    "## Статистический анализ данных"
   ]
  },
  {
   "cell_type": "markdown",
   "metadata": {},
   "source": [
    "Формулировки гипотез:\n",
    "- Гипотеза 1:\n",
    "  - Нулевая гипотеза (H0): среднее количество заказов на пользователя мобильного приложения не выше среднего количества заказов для пользователей стационарных устройств.\n",
    "  - Альтернативная гипотеза (H1): среднее количество заказов на пользователя мобильного приложения выше, чем у пользователей стационарных устройств."
   ]
  },
  {
   "cell_type": "code",
   "execution_count": 44,
   "metadata": {},
   "outputs": [
    {
     "data": {
      "image/png": "[encoded data removed]",
      "text/plain": [
       "<Figure size 432x288 with 1 Axes>"
      ]
     },
     "metadata": {},
     "output_type": "display_data"
    }
   ],
   "source": [
    "#отфильтруем по времени года\n",
    "df_filtered = df_final[(df_final['month'] == 9) | (df_final['month'] == 10)]\n",
    "\n",
    "#проверим на пересечения пользователей в двух группах\n",
    "test_group_a = set(df_filtered[df_filtered['device_type_canonical'] == 'mobile']['user_id'])\n",
    "test_group_b = set(df_filtered[df_filtered['device_type_canonical'] == 'desktop']['user_id'])\n",
    "\n",
    "#строим диаграмму Венна\n",
    "venn2([test_group_a, test_group_b], set_labels=('user_id', 'user_id'))\n",
    "plt.title('Пересечение')\n",
    "plt.show() "
   ]
  },
  {
   "cell_type": "code",
   "execution_count": 45,
   "metadata": {},
   "outputs": [
    {
     "data": {
      "text/plain": [
       "'Общих: 3197'"
      ]
     },
     "metadata": {},
     "output_type": "display_data"
    }
   ],
   "source": [
    "#найдем пересечения\n",
    "intersection_users = set(df_filtered[df_filtered['device_type_canonical'] == 'mobile']['user_id']).intersection(df_filtered[df_filtered['device_type_canonical'] == 'desktop']['user_id'])\n",
    "display(f\"Общих: {len(intersection_users)}\")\n",
    "\n",
    "#удалим пересечения из датафрейма\n",
    "df_filtered = df_filtered[~df_filtered['user_id'].isin(intersection_users)]"
   ]
  },
  {
   "cell_type": "markdown",
   "metadata": {},
   "source": [
    "- Проверим на выбросы выборки для первой гипотезы"
   ]
  },
  {
   "cell_type": "code",
   "execution_count": 46,
   "metadata": {},
   "outputs": [
    {
     "name": "stdout",
     "output_type": "stream",
     "text": [
      "Первая выборка: Statistics=0.079, p-value=0.000\n",
      "Вторая выборка: Statistics=0.126, p-value=0.000\n",
      "Хотя бы одна из выборок НЕ нормально распределена. Применяем U-test (Манна-Уитни)\n"
     ]
    },
    {
     "name": "stderr",
     "output_type": "stream",
     "text": [
      "/opt/conda/lib/python3.9/site-packages/scipy/stats/_morestats.py:1800: UserWarning: p-value may not be accurate for N > 5000.\n",
      "  warnings.warn(\"p-value may not be accurate for N > 5000.\")\n"
     ]
    }
   ],
   "source": [
    "#отфильтруем\n",
    "df_filtered = df_final[(df_final['month'] == 9) | (df_final['month'] == 10)]\n",
    "\n",
    "#создадим 2 выборки\n",
    "orders_mobile = df_filtered[df_filtered['device_type_canonical'] == 'mobile'].groupby('user_id')['order_id'].nunique()\n",
    "orders_desktop = df_filtered[df_filtered['device_type_canonical'] == 'desktop'].groupby('user_id')['order_id'].nunique()  \n",
    "\n",
    "df_m = np.array(orders_mobile)\n",
    "df_s = np.array(orders_desktop)\n",
    "\n",
    "#проверим нормальность распределения (тест Шапиро-Уилка)\n",
    "stat, p_m = stats.shapiro(df_m)\n",
    "print(f\"Первая выборка: {'Statistics=%.3f, p-value=%.3f' % (stat, p_m)}\")\n",
    "\n",
    "stat, p_s = stats.shapiro(df_s)\n",
    "print(f\"Вторая выборка: {'Statistics=%.3f, p-value=%.3f' % (stat, p_s)}\")\n",
    "\n",
    "if p_m > 0.05 and p_s > 0.05:\n",
    "    print(\"Обе выборки распределены нормально. Применяем t-test (с поправкой Уэлча)\")\n",
    "else:\n",
    "    print(\"Хотя бы одна из выборок НЕ нормально распределена. Применяем U-test (Манна-Уитни)\")"
   ]
  },
  {
   "cell_type": "markdown",
   "metadata": {},
   "source": [
    "- Для проверки первой гипотезы буду использовать тест Манна-Уитни т.к. есть выбросы в данных"
   ]
  },
  {
   "cell_type": "code",
   "execution_count": 47,
   "metadata": {},
   "outputs": [
    {
     "name": "stdout",
     "output_type": "stream",
     "text": [
      "pvalue=0.5 > 0.05\n",
      "Нулевая гипотеза находит подтверждение! Среднее количество заказов в мобильном приложении равно среднему количеству заказов на стационарных устройствах.\n"
     ]
    }
   ],
   "source": [
    "#проверим первую гипотезу\n",
    "#создадим две выборки\n",
    "orders_mobile = df_filtered[df_filtered['device_type_canonical'] == 'mobile']['order_id'].nunique()\n",
    "orders_desktop = df_filtered[df_filtered['device_type_canonical'] == 'desktop']['order_id'].nunique()  \n",
    "\n",
    "#проведем тест Манна-Уитни\n",
    "alpha = 0.05\n",
    "mw_test = mannwhitneyu(orders_mobile, orders_desktop, alternative='greater')\n",
    "\n",
    "if mw_test.pvalue > alpha:\n",
    "    print(f'pvalue={mw_test.pvalue} > {alpha}')\n",
    "    print('Нулевая гипотеза находит подтверждение! Среднее количество заказов в мобильном приложении равно среднему количеству заказов на стационарных устройствах.')\n",
    "else:\n",
    "    print(f'pvalue={mw_test.pvalue} < {alpha}')\n",
    "    print('Нулевая гипотеза не находит подтверждения! Среднее количество заказов в мобильном приложении выше, чем у пользователей стационарных устройств.')"
   ]
  },
  {
   "cell_type": "markdown",
   "metadata": {},
   "source": [
    "- Гипотеза 2:\n",
    "  - Нулевая гипотеза (H0): среднее время между заказами пользователей мобильных устройств не выше среднего времени у пользователей стационарных устройств.\n",
    "  - Альтернативная гипотеза (H1): среднее время между заказами пользователей мобильных устройств выше, чем у пользователей стационарных устройств."
   ]
  },
  {
   "cell_type": "code",
   "execution_count": 48,
   "metadata": {},
   "outputs": [
    {
     "name": "stdout",
     "output_type": "stream",
     "text": [
      "Первая выборка: Statistics=0.087, p-value=0.000\n",
      "Вторая выборка: Statistics=0.083, p-value=0.000\n",
      "Хотя бы одна из выборок НЕ нормально распределена. Применяем U-test (Манна-Уитни)\n"
     ]
    }
   ],
   "source": [
    "#создадим 2 выборки\n",
    "df_filtered = df_final[(df_final['month'] == 9) | (df_final['month'] == 10)]\n",
    "orders_mobile = df_filtered[df_filtered['device_type_canonical'] == 'mobile'].groupby('days_since_prev')['order_id'].nunique()\n",
    "orders_desktop = df_filtered[df_filtered['device_type_canonical'] == 'desktop'].groupby('days_since_prev')['order_id'].nunique()  \n",
    "\n",
    "df_m = np.array(orders_mobile)\n",
    "df_s = np.array(orders_desktop)\n",
    "\n",
    "#проверим нормальность распределения (тест Шапиро-Уилка)\n",
    "stat, p_m = stats.shapiro(df_m)\n",
    "print(f\"Первая выборка: {'Statistics=%.3f, p-value=%.3f' % (stat, p_m)}\")\n",
    "\n",
    "stat, p_s = stats.shapiro(df_s)\n",
    "print(f\"Вторая выборка: {'Statistics=%.3f, p-value=%.3f' % (stat, p_s)}\")\n",
    "\n",
    "if p_m > 0.05 and p_s > 0.05:\n",
    "    print(\"Обе выборки распределены нормально. Применяем t-test (с поправкой Уэлча)\")\n",
    "else:\n",
    "    print(\"Хотя бы одна из выборок НЕ нормально распределена. Применяем U-test (Манна-Уитни)\")"
   ]
  },
  {
   "cell_type": "markdown",
   "metadata": {},
   "source": [
    "- Для проверки второй гипотезы буду использовать тест Манна-Уитни т.к. есть выбросы в данных"
   ]
  },
  {
   "cell_type": "code",
   "execution_count": 49,
   "metadata": {},
   "outputs": [
    {
     "name": "stdout",
     "output_type": "stream",
     "text": [
      "pvalue=0.5 > 0.05\n",
      "Нулевая гипотеза находит подтверждение! Среднее время между заказами пользователей мобильных устройств равно среднему времени у пользователей стационарных устройств.\n"
     ]
    }
   ],
   "source": [
    "#проверим вторую гипотезу\n",
    "#отфильтруем \n",
    "df_filtered = df_final[(df_final['month'] == 9) | (df_final['month'] == 10)]\n",
    "\n",
    "#создадим две выборки\n",
    "mobile_times = df_filtered.loc[df_filtered['device_type_canonical'] == 'mobile']['days_since_prev'].nunique()\n",
    "desktop_times = df_filtered.loc[df_filtered['device_type_canonical'] == 'desktop']['days_since_prev'].nunique()\n",
    "\n",
    "#проведем тест Манна-Уитни\n",
    "alpha = 0.05\n",
    "mw_test = mannwhitneyu(mobile_times, desktop_times, alternative='greater')\n",
    "\n",
    "if mw_test.pvalue > alpha:\n",
    "    print(f'pvalue={mw_test.pvalue} > {alpha}')\n",
    "    print('Нулевая гипотеза находит подтверждение! Среднее время между заказами пользователей мобильных устройств равно среднему времени у пользователей стационарных устройств.')\n",
    "else:\n",
    "    print(f'pvalue={mw_test.pvalue} < {alpha}')\n",
    "    print('Нулевая гипотеза не находит подтверждения! Среднее время между заказами пользователей мобильных устройств выше, чем у пользователей стационарных устройств.')"
   ]
  },
  {
   "cell_type": "markdown",
   "metadata": {},
   "source": [
    "## Общий вывод и рекомендации"
   ]
  },
  {
   "cell_type": "markdown",
   "metadata": {},
   "source": [
    "Работа проводилась с датасетами: \n",
    "- Датасет: `final_tickets_orders_df.csv` - включает информацию обо всех заказах билетов, совершённых с двух типов устройств — мобильных и стационарных. \n",
    "- Датасет: `final_tickets_events_df.csv` - содержит информацию о событиях, включая город и регион события, а также информацию о площадке проведения мероприятия.\n",
    "- Датасет: `final_tickets_tenge_df.csv` - содержит информацию о курсе тенге к российскому рублю за 2024 год. \n",
    "\n",
    "\n",
    "- Основные результаты анализа: осенью кол-во заказов по мероприятиям увеличилось, наиболее востребованное мероприятие как летом, так и осенью - концерт, у динамики средней стоимости одного билета тренд к снижению, активных пользователей стало больше. \n",
    "- Среди регионов лидеры по числу заказов - Каменевский регион, Североярская область, Широковская область, Светополянский округ, Речиновская область. \n",
    "- Среди партнеров лидеры - 'мой билет', 'билеты без проблем', 'облачко', 'весь в билетах', 'лови билет'. \n",
    "- Обе гипотезы не подтвердились - среднее время между заказами пользователей мобильных устройств равно среднему времени у пользователей стационарных устройств и среднее количество заказов в мобильном приложении равно среднему количеству заказов на стационарных устройствах.\n",
    "\n",
    "Рекомендации: я предполагаю, что пользовательский спрос на мероприятия изменился ввиду фактора сезонности. Осенью наиболее востребованными стали мероприятия: спорт и елки (относительное изменение осенних значений по сравнению с летними)\n"
   ]
  }
 ],
 "metadata": {
  "ExecuteTimeLog": [
   {
    "duration": 370,
    "start_time": "2025-08-24T09:38:04.236Z"
   },
   {
    "duration": 2,
    "start_time": "2025-08-24T09:38:05.305Z"
   },
   {
    "duration": 1808,
    "start_time": "2025-08-24T09:38:05.934Z"
   },
   {
    "duration": 421,
    "start_time": "2025-08-24T09:38:32.296Z"
   },
   {
    "duration": 3,
    "start_time": "2025-08-24T09:38:32.718Z"
   },
   {
    "duration": 1928,
    "start_time": "2025-08-24T09:38:32.722Z"
   },
   {
    "duration": 106,
    "start_time": "2025-08-24T09:38:34.651Z"
   },
   {
    "duration": 0,
    "start_time": "2025-08-24T09:38:34.759Z"
   },
   {
    "duration": 0,
    "start_time": "2025-08-24T09:38:34.760Z"
   },
   {
    "duration": 0,
    "start_time": "2025-08-24T09:38:34.761Z"
   },
   {
    "duration": 0,
    "start_time": "2025-08-24T09:38:34.762Z"
   },
   {
    "duration": 0,
    "start_time": "2025-08-24T09:38:34.763Z"
   },
   {
    "duration": 0,
    "start_time": "2025-08-24T09:38:34.764Z"
   },
   {
    "duration": 0,
    "start_time": "2025-08-24T09:38:34.765Z"
   },
   {
    "duration": 0,
    "start_time": "2025-08-24T09:38:34.766Z"
   },
   {
    "duration": 0,
    "start_time": "2025-08-24T09:38:34.767Z"
   },
   {
    "duration": 118,
    "start_time": "2025-08-24T09:38:42.997Z"
   },
   {
    "duration": 111,
    "start_time": "2025-08-24T09:38:43.204Z"
   },
   {
    "duration": 17,
    "start_time": "2025-08-24T09:38:43.392Z"
   },
   {
    "duration": 102,
    "start_time": "2025-08-24T09:38:43.594Z"
   },
   {
    "duration": 6,
    "start_time": "2025-08-24T09:38:43.828Z"
   },
   {
    "duration": 911,
    "start_time": "2025-08-24T09:38:45.037Z"
   },
   {
    "duration": 50,
    "start_time": "2025-08-24T09:38:46.267Z"
   },
   {
    "duration": 85,
    "start_time": "2025-08-24T09:38:46.634Z"
   },
   {
    "duration": 398,
    "start_time": "2025-08-24T09:38:47.527Z"
   },
   {
    "duration": 447,
    "start_time": "2025-08-24T09:58:52.288Z"
   },
   {
    "duration": 148,
    "start_time": "2025-08-24T09:59:33.452Z"
   },
   {
    "duration": 186,
    "start_time": "2025-08-24T10:10:28.553Z"
   },
   {
    "duration": 133,
    "start_time": "2025-08-24T10:11:09.953Z"
   },
   {
    "duration": 128,
    "start_time": "2025-08-24T10:11:38.286Z"
   },
   {
    "duration": 351,
    "start_time": "2025-08-24T10:12:02.655Z"
   },
   {
    "duration": 270,
    "start_time": "2025-08-24T10:34:54.145Z"
   },
   {
    "duration": 297,
    "start_time": "2025-08-24T10:36:07.470Z"
   },
   {
    "duration": 259,
    "start_time": "2025-08-24T10:36:26.302Z"
   },
   {
    "duration": 24,
    "start_time": "2025-08-24T10:36:29.135Z"
   },
   {
    "duration": 5,
    "start_time": "2025-08-24T10:36:31.016Z"
   },
   {
    "duration": 291,
    "start_time": "2025-08-24T10:36:52.995Z"
   },
   {
    "duration": 332,
    "start_time": "2025-08-24T10:37:21.969Z"
   },
   {
    "duration": 30,
    "start_time": "2025-08-24T11:01:19.284Z"
   },
   {
    "duration": 16,
    "start_time": "2025-08-24T11:01:33.499Z"
   },
   {
    "duration": 6,
    "start_time": "2025-08-24T11:02:00.744Z"
   },
   {
    "duration": 83,
    "start_time": "2025-08-24T11:04:32.334Z"
   },
   {
    "duration": 307,
    "start_time": "2025-08-24T11:04:42.486Z"
   },
   {
    "duration": 1762,
    "start_time": "2025-08-24T11:08:25.362Z"
   },
   {
    "duration": 220,
    "start_time": "2025-08-24T11:08:36.561Z"
   },
   {
    "duration": 28,
    "start_time": "2025-08-24T11:08:46.594Z"
   },
   {
    "duration": 225,
    "start_time": "2025-08-24T11:09:36.147Z"
   },
   {
    "duration": 239,
    "start_time": "2025-08-24T11:10:02.516Z"
   },
   {
    "duration": 215,
    "start_time": "2025-08-24T11:10:16.370Z"
   },
   {
    "duration": 204,
    "start_time": "2025-08-24T11:10:35.948Z"
   },
   {
    "duration": 265,
    "start_time": "2025-08-24T11:10:51.884Z"
   },
   {
    "duration": 4,
    "start_time": "2025-08-24T11:10:57.430Z"
   },
   {
    "duration": 213,
    "start_time": "2025-08-24T11:14:59.380Z"
   },
   {
    "duration": 138,
    "start_time": "2025-08-24T12:10:14.346Z"
   },
   {
    "duration": 378,
    "start_time": "2025-08-24T12:12:11.599Z"
   },
   {
    "duration": 3,
    "start_time": "2025-08-24T12:12:11.978Z"
   },
   {
    "duration": 1803,
    "start_time": "2025-08-24T12:12:11.982Z"
   },
   {
    "duration": 123,
    "start_time": "2025-08-24T12:12:13.787Z"
   },
   {
    "duration": 114,
    "start_time": "2025-08-24T12:12:13.913Z"
   },
   {
    "duration": 16,
    "start_time": "2025-08-24T12:12:14.028Z"
   },
   {
    "duration": 133,
    "start_time": "2025-08-24T12:12:14.045Z"
   },
   {
    "duration": 8,
    "start_time": "2025-08-24T12:12:14.180Z"
   },
   {
    "duration": 688,
    "start_time": "2025-08-24T12:12:14.190Z"
   },
   {
    "duration": 37,
    "start_time": "2025-08-24T12:12:14.880Z"
   },
   {
    "duration": 159,
    "start_time": "2025-08-24T12:12:14.919Z"
   },
   {
    "duration": 362,
    "start_time": "2025-08-24T12:12:15.080Z"
   },
   {
    "duration": 152,
    "start_time": "2025-08-24T12:12:15.445Z"
   },
   {
    "duration": 339,
    "start_time": "2025-08-24T12:12:15.600Z"
   },
   {
    "duration": 228,
    "start_time": "2025-08-24T12:12:15.941Z"
   },
   {
    "duration": 6,
    "start_time": "2025-08-24T12:12:16.171Z"
   },
   {
    "duration": 146,
    "start_time": "2025-08-24T12:12:16.179Z"
   },
   {
    "duration": 415,
    "start_time": "2025-08-24T12:17:06.694Z"
   },
   {
    "duration": 3,
    "start_time": "2025-08-24T12:17:07.111Z"
   },
   {
    "duration": 1892,
    "start_time": "2025-08-24T12:17:07.116Z"
   },
   {
    "duration": 116,
    "start_time": "2025-08-24T12:17:09.009Z"
   },
   {
    "duration": 113,
    "start_time": "2025-08-24T12:17:09.128Z"
   },
   {
    "duration": 34,
    "start_time": "2025-08-24T12:17:09.243Z"
   },
   {
    "duration": 97,
    "start_time": "2025-08-24T12:17:09.280Z"
   },
   {
    "duration": 8,
    "start_time": "2025-08-24T12:17:09.379Z"
   },
   {
    "duration": 700,
    "start_time": "2025-08-24T12:17:09.389Z"
   },
   {
    "duration": 37,
    "start_time": "2025-08-24T12:17:10.091Z"
   },
   {
    "duration": 167,
    "start_time": "2025-08-24T12:17:10.130Z"
   },
   {
    "duration": 367,
    "start_time": "2025-08-24T12:17:10.300Z"
   },
   {
    "duration": 153,
    "start_time": "2025-08-24T12:17:10.669Z"
   },
   {
    "duration": 332,
    "start_time": "2025-08-24T12:17:10.824Z"
   },
   {
    "duration": 227,
    "start_time": "2025-08-24T12:17:11.158Z"
   },
   {
    "duration": 4,
    "start_time": "2025-08-24T12:17:11.387Z"
   },
   {
    "duration": 84,
    "start_time": "2025-08-24T12:17:11.392Z"
   },
   {
    "duration": 0,
    "start_time": "2025-08-24T12:17:11.477Z"
   },
   {
    "duration": 3,
    "start_time": "2025-08-24T12:17:12.779Z"
   },
   {
    "duration": 442,
    "start_time": "2025-08-24T12:17:21.844Z"
   },
   {
    "duration": 3,
    "start_time": "2025-08-24T12:17:23.131Z"
   },
   {
    "duration": 2094,
    "start_time": "2025-08-24T12:17:24.515Z"
   },
   {
    "duration": 63,
    "start_time": "2025-08-24T12:17:36.220Z"
   },
   {
    "duration": 696,
    "start_time": "2025-08-24T12:17:41.236Z"
   },
   {
    "duration": 43,
    "start_time": "2025-08-24T12:17:43.875Z"
   },
   {
    "duration": 251,
    "start_time": "2025-08-24T12:17:53.181Z"
   },
   {
    "duration": 17,
    "start_time": "2025-08-24T12:18:03.352Z"
   },
   {
    "duration": 14,
    "start_time": "2025-08-24T12:18:30.286Z"
   },
   {
    "duration": 114,
    "start_time": "2025-08-24T12:18:46.797Z"
   },
   {
    "duration": 152,
    "start_time": "2025-08-24T12:21:41.854Z"
   },
   {
    "duration": 2085,
    "start_time": "2025-08-24T12:30:20.981Z"
   },
   {
    "duration": 83,
    "start_time": "2025-08-24T12:30:27.202Z"
   },
   {
    "duration": 42,
    "start_time": "2025-08-24T12:31:35.667Z"
   },
   {
    "duration": 15,
    "start_time": "2025-08-24T12:31:54.630Z"
   },
   {
    "duration": 18,
    "start_time": "2025-08-24T12:39:09.327Z"
   },
   {
    "duration": 10,
    "start_time": "2025-08-24T12:40:25.623Z"
   },
   {
    "duration": 637,
    "start_time": "2025-08-24T12:40:47.193Z"
   },
   {
    "duration": 283,
    "start_time": "2025-08-24T12:41:23.248Z"
   },
   {
    "duration": 12,
    "start_time": "2025-08-24T12:43:13.400Z"
   },
   {
    "duration": 1581,
    "start_time": "2025-08-24T12:43:45.532Z"
   },
   {
    "duration": 487,
    "start_time": "2025-08-24T12:43:52.009Z"
   },
   {
    "duration": 119,
    "start_time": "2025-08-24T12:44:05.794Z"
   },
   {
    "duration": 133,
    "start_time": "2025-08-24T12:44:27.617Z"
   },
   {
    "duration": 451,
    "start_time": "2025-08-24T12:45:02.824Z"
   },
   {
    "duration": 557,
    "start_time": "2025-08-24T12:46:14.809Z"
   },
   {
    "duration": 377,
    "start_time": "2025-08-25T07:15:19.780Z"
   },
   {
    "duration": 3,
    "start_time": "2025-08-25T07:15:20.159Z"
   },
   {
    "duration": 1966,
    "start_time": "2025-08-25T07:15:20.163Z"
   },
   {
    "duration": 97,
    "start_time": "2025-08-25T07:15:22.131Z"
   },
   {
    "duration": 34,
    "start_time": "2025-08-25T07:15:22.230Z"
   },
   {
    "duration": 15,
    "start_time": "2025-08-25T07:15:22.266Z"
   },
   {
    "duration": 91,
    "start_time": "2025-08-25T07:15:22.283Z"
   },
   {
    "duration": 9,
    "start_time": "2025-08-25T07:15:22.376Z"
   },
   {
    "duration": 844,
    "start_time": "2025-08-25T07:15:22.386Z"
   },
   {
    "duration": 40,
    "start_time": "2025-08-25T07:15:23.233Z"
   },
   {
    "duration": 142,
    "start_time": "2025-08-25T07:15:23.275Z"
   },
   {
    "duration": 371,
    "start_time": "2025-08-25T07:15:23.418Z"
   },
   {
    "duration": 142,
    "start_time": "2025-08-25T07:15:23.790Z"
   },
   {
    "duration": 267,
    "start_time": "2025-08-25T07:15:23.934Z"
   },
   {
    "duration": 150,
    "start_time": "2025-08-25T07:15:24.202Z"
   },
   {
    "duration": 129,
    "start_time": "2025-08-25T07:15:24.354Z"
   },
   {
    "duration": 325,
    "start_time": "2025-08-25T07:15:24.484Z"
   },
   {
    "duration": 464,
    "start_time": "2025-08-25T07:15:24.810Z"
   },
   {
    "duration": 6,
    "start_time": "2025-08-25T07:34:30.515Z"
   },
   {
    "duration": 6,
    "start_time": "2025-08-25T07:37:45.019Z"
   },
   {
    "duration": 414,
    "start_time": "2025-08-25T07:38:04.271Z"
   },
   {
    "duration": 1454,
    "start_time": "2025-08-25T07:39:16.514Z"
   },
   {
    "duration": 0,
    "start_time": "2025-08-25T07:39:17.970Z"
   },
   {
    "duration": 30,
    "start_time": "2025-08-25T07:39:31.091Z"
   },
   {
    "duration": 401,
    "start_time": "2025-08-25T07:39:34.019Z"
   },
   {
    "duration": 161,
    "start_time": "2025-08-25T07:40:35.148Z"
   },
   {
    "duration": 86,
    "start_time": "2025-08-25T07:45:56.798Z"
   },
   {
    "duration": 4777,
    "start_time": "2025-08-25T07:49:47.700Z"
   },
   {
    "duration": 4991,
    "start_time": "2025-08-25T07:50:58.449Z"
   },
   {
    "duration": 143,
    "start_time": "2025-08-25T07:51:16.089Z"
   },
   {
    "duration": 1404,
    "start_time": "2025-08-25T08:13:35.726Z"
   },
   {
    "duration": 5,
    "start_time": "2025-08-25T08:13:48.419Z"
   },
   {
    "duration": 8,
    "start_time": "2025-08-25T08:15:54.161Z"
   },
   {
    "duration": 27,
    "start_time": "2025-08-25T08:16:05.532Z"
   },
   {
    "duration": 165,
    "start_time": "2025-08-25T08:16:14.780Z"
   },
   {
    "duration": 26,
    "start_time": "2025-08-25T08:16:25.616Z"
   },
   {
    "duration": 5388,
    "start_time": "2025-08-25T08:23:33.332Z"
   },
   {
    "duration": 140,
    "start_time": "2025-08-25T08:23:56.293Z"
   },
   {
    "duration": 5095,
    "start_time": "2025-08-25T08:24:43.090Z"
   },
   {
    "duration": 5141,
    "start_time": "2025-08-25T08:25:03.861Z"
   },
   {
    "duration": 126,
    "start_time": "2025-08-25T08:25:10.761Z"
   },
   {
    "duration": 18,
    "start_time": "2025-08-25T08:28:12.711Z"
   },
   {
    "duration": 5275,
    "start_time": "2025-08-25T08:29:27.364Z"
   },
   {
    "duration": 137,
    "start_time": "2025-08-25T08:29:32.641Z"
   },
   {
    "duration": 6959,
    "start_time": "2025-08-25T08:29:46.124Z"
   },
   {
    "duration": 156,
    "start_time": "2025-08-25T08:29:53.085Z"
   },
   {
    "duration": 235,
    "start_time": "2025-08-25T09:33:46.396Z"
   },
   {
    "duration": 304,
    "start_time": "2025-08-25T09:33:49.136Z"
   },
   {
    "duration": 294,
    "start_time": "2025-08-25T09:34:58.004Z"
   },
   {
    "duration": 303,
    "start_time": "2025-08-25T09:35:00.354Z"
   },
   {
    "duration": 342,
    "start_time": "2025-08-25T09:35:30.206Z"
   },
   {
    "duration": 176,
    "start_time": "2025-08-25T09:36:42.817Z"
   },
   {
    "duration": 391,
    "start_time": "2025-08-25T09:38:03.862Z"
   },
   {
    "duration": 3,
    "start_time": "2025-08-25T09:38:04.255Z"
   },
   {
    "duration": 2256,
    "start_time": "2025-08-25T09:38:04.259Z"
   },
   {
    "duration": 91,
    "start_time": "2025-08-25T09:38:06.516Z"
   },
   {
    "duration": 40,
    "start_time": "2025-08-25T09:38:06.609Z"
   },
   {
    "duration": 19,
    "start_time": "2025-08-25T09:38:06.651Z"
   },
   {
    "duration": 132,
    "start_time": "2025-08-25T09:38:06.671Z"
   },
   {
    "duration": 6,
    "start_time": "2025-08-25T09:38:06.805Z"
   },
   {
    "duration": 711,
    "start_time": "2025-08-25T09:38:06.813Z"
   },
   {
    "duration": 50,
    "start_time": "2025-08-25T09:38:07.526Z"
   },
   {
    "duration": 147,
    "start_time": "2025-08-25T09:38:07.578Z"
   },
   {
    "duration": 359,
    "start_time": "2025-08-25T09:38:07.726Z"
   },
   {
    "duration": 161,
    "start_time": "2025-08-25T09:38:08.088Z"
   },
   {
    "duration": 262,
    "start_time": "2025-08-25T09:38:08.253Z"
   },
   {
    "duration": 154,
    "start_time": "2025-08-25T09:38:08.517Z"
   },
   {
    "duration": 68,
    "start_time": "2025-08-25T09:38:08.673Z"
   },
   {
    "duration": 319,
    "start_time": "2025-08-25T09:38:08.744Z"
   },
   {
    "duration": 174,
    "start_time": "2025-08-25T09:38:09.064Z"
   },
   {
    "duration": 0,
    "start_time": "2025-08-25T09:38:09.240Z"
   },
   {
    "duration": 0,
    "start_time": "2025-08-25T09:38:09.241Z"
   },
   {
    "duration": 0,
    "start_time": "2025-08-25T09:38:09.243Z"
   },
   {
    "duration": 0,
    "start_time": "2025-08-25T09:38:09.244Z"
   },
   {
    "duration": 0,
    "start_time": "2025-08-25T09:38:09.246Z"
   },
   {
    "duration": 125,
    "start_time": "2025-08-25T09:39:24.409Z"
   },
   {
    "duration": 5307,
    "start_time": "2025-08-25T09:39:25.255Z"
   },
   {
    "duration": 9,
    "start_time": "2025-08-25T09:39:31.267Z"
   },
   {
    "duration": 388,
    "start_time": "2025-08-25T09:40:21.069Z"
   },
   {
    "duration": 2,
    "start_time": "2025-08-25T09:40:21.459Z"
   },
   {
    "duration": 1715,
    "start_time": "2025-08-25T09:40:21.463Z"
   },
   {
    "duration": 103,
    "start_time": "2025-08-25T09:40:23.179Z"
   },
   {
    "duration": 26,
    "start_time": "2025-08-25T09:40:23.285Z"
   },
   {
    "duration": 15,
    "start_time": "2025-08-25T09:40:23.313Z"
   },
   {
    "duration": 65,
    "start_time": "2025-08-25T09:40:23.339Z"
   },
   {
    "duration": 7,
    "start_time": "2025-08-25T09:40:23.405Z"
   },
   {
    "duration": 712,
    "start_time": "2025-08-25T09:40:23.414Z"
   },
   {
    "duration": 39,
    "start_time": "2025-08-25T09:40:24.128Z"
   },
   {
    "duration": 145,
    "start_time": "2025-08-25T09:40:24.169Z"
   },
   {
    "duration": 351,
    "start_time": "2025-08-25T09:40:24.316Z"
   },
   {
    "duration": 145,
    "start_time": "2025-08-25T09:40:24.668Z"
   },
   {
    "duration": 268,
    "start_time": "2025-08-25T09:40:24.816Z"
   },
   {
    "duration": 162,
    "start_time": "2025-08-25T09:40:25.085Z"
   },
   {
    "duration": 58,
    "start_time": "2025-08-25T09:40:25.248Z"
   },
   {
    "duration": 336,
    "start_time": "2025-08-25T09:40:25.307Z"
   },
   {
    "duration": 110,
    "start_time": "2025-08-25T09:40:25.645Z"
   },
   {
    "duration": 5152,
    "start_time": "2025-08-25T09:40:25.757Z"
   },
   {
    "duration": 89,
    "start_time": "2025-08-25T09:40:30.911Z"
   },
   {
    "duration": 0,
    "start_time": "2025-08-25T09:40:31.002Z"
   },
   {
    "duration": 0,
    "start_time": "2025-08-25T09:40:31.003Z"
   },
   {
    "duration": 0,
    "start_time": "2025-08-25T09:40:31.004Z"
   },
   {
    "duration": 26,
    "start_time": "2025-08-25T09:40:34.950Z"
   },
   {
    "duration": 6816,
    "start_time": "2025-08-25T09:40:37.655Z"
   },
   {
    "duration": 185,
    "start_time": "2025-08-25T09:40:46.748Z"
   },
   {
    "duration": 5,
    "start_time": "2025-08-25T09:55:02.847Z"
   },
   {
    "duration": 183,
    "start_time": "2025-08-25T09:55:07.955Z"
   },
   {
    "duration": 7,
    "start_time": "2025-08-25T10:00:20.053Z"
   },
   {
    "duration": 8,
    "start_time": "2025-08-25T10:00:34.129Z"
   },
   {
    "duration": 150,
    "start_time": "2025-08-25T10:01:15.921Z"
   },
   {
    "duration": 144,
    "start_time": "2025-08-25T10:02:28.891Z"
   },
   {
    "duration": 3,
    "start_time": "2025-08-25T10:03:02.118Z"
   },
   {
    "duration": 166,
    "start_time": "2025-08-25T10:03:06.151Z"
   },
   {
    "duration": 137,
    "start_time": "2025-08-25T10:03:29.419Z"
   },
   {
    "duration": 145,
    "start_time": "2025-08-25T10:03:38.701Z"
   },
   {
    "duration": 139,
    "start_time": "2025-08-25T10:05:33.573Z"
   },
   {
    "duration": 139,
    "start_time": "2025-08-25T10:06:10.129Z"
   },
   {
    "duration": 140,
    "start_time": "2025-08-25T10:07:02.758Z"
   },
   {
    "duration": 95,
    "start_time": "2025-08-25T10:18:50.436Z"
   },
   {
    "duration": 140,
    "start_time": "2025-08-25T10:19:02.452Z"
   },
   {
    "duration": 43,
    "start_time": "2025-08-25T10:20:39.709Z"
   },
   {
    "duration": 51,
    "start_time": "2025-08-25T10:20:51.200Z"
   },
   {
    "duration": 1382,
    "start_time": "2025-08-25T10:21:06.551Z"
   },
   {
    "duration": 1302,
    "start_time": "2025-08-25T10:25:23.527Z"
   },
   {
    "duration": 1285,
    "start_time": "2025-08-25T10:25:52.681Z"
   },
   {
    "duration": 33,
    "start_time": "2025-08-25T10:28:59.328Z"
   },
   {
    "duration": 337,
    "start_time": "2025-08-25T10:29:35.953Z"
   },
   {
    "duration": 415,
    "start_time": "2025-08-25T10:29:57.204Z"
   },
   {
    "duration": 396,
    "start_time": "2025-08-25T10:30:06.550Z"
   },
   {
    "duration": 384,
    "start_time": "2025-08-25T10:30:16.593Z"
   },
   {
    "duration": 544,
    "start_time": "2025-08-25T10:30:35.154Z"
   },
   {
    "duration": 369,
    "start_time": "2025-08-25T10:30:44.945Z"
   },
   {
    "duration": 337,
    "start_time": "2025-08-25T10:30:54.559Z"
   },
   {
    "duration": 381,
    "start_time": "2025-08-25T10:31:08.514Z"
   },
   {
    "duration": 355,
    "start_time": "2025-08-25T10:31:18.001Z"
   },
   {
    "duration": 349,
    "start_time": "2025-08-25T10:32:58.649Z"
   },
   {
    "duration": 274,
    "start_time": "2025-08-25T10:36:05.046Z"
   },
   {
    "duration": 210,
    "start_time": "2025-08-25T10:36:16.439Z"
   },
   {
    "duration": 166,
    "start_time": "2025-08-25T10:36:25.734Z"
   },
   {
    "duration": 184,
    "start_time": "2025-08-25T10:36:30.489Z"
   },
   {
    "duration": 188,
    "start_time": "2025-08-25T10:36:40.163Z"
   },
   {
    "duration": 189,
    "start_time": "2025-08-25T10:37:10.198Z"
   },
   {
    "duration": 188,
    "start_time": "2025-08-25T10:37:34.868Z"
   },
   {
    "duration": 196,
    "start_time": "2025-08-25T10:37:42.159Z"
   },
   {
    "duration": 203,
    "start_time": "2025-08-25T10:38:20.951Z"
   },
   {
    "duration": 167,
    "start_time": "2025-08-25T10:41:49.900Z"
   },
   {
    "duration": 159,
    "start_time": "2025-08-25T10:42:04.064Z"
   },
   {
    "duration": 248,
    "start_time": "2025-08-25T10:43:37.052Z"
   },
   {
    "duration": 119,
    "start_time": "2025-08-25T10:54:28.644Z"
   },
   {
    "duration": 122,
    "start_time": "2025-08-25T10:56:42.254Z"
   },
   {
    "duration": 121,
    "start_time": "2025-08-25T10:57:50.552Z"
   },
   {
    "duration": 388,
    "start_time": "2025-08-25T10:58:00.097Z"
   },
   {
    "duration": 3,
    "start_time": "2025-08-25T10:58:00.486Z"
   },
   {
    "duration": 328,
    "start_time": "2025-08-25T10:58:00.490Z"
   },
   {
    "duration": 3667,
    "start_time": "2025-08-25T10:58:00.819Z"
   },
   {
    "duration": 89,
    "start_time": "2025-08-25T10:58:04.488Z"
   },
   {
    "duration": 27,
    "start_time": "2025-08-25T10:58:04.578Z"
   },
   {
    "duration": 34,
    "start_time": "2025-08-25T10:58:04.606Z"
   },
   {
    "duration": 67,
    "start_time": "2025-08-25T10:58:04.642Z"
   },
   {
    "duration": 6,
    "start_time": "2025-08-25T10:58:04.711Z"
   },
   {
    "duration": 445,
    "start_time": "2025-08-25T10:58:04.719Z"
   },
   {
    "duration": 34,
    "start_time": "2025-08-25T10:58:05.166Z"
   },
   {
    "duration": 155,
    "start_time": "2025-08-25T10:58:05.202Z"
   },
   {
    "duration": 358,
    "start_time": "2025-08-25T10:58:05.358Z"
   },
   {
    "duration": 148,
    "start_time": "2025-08-25T10:58:05.719Z"
   },
   {
    "duration": 263,
    "start_time": "2025-08-25T10:58:05.869Z"
   },
   {
    "duration": 156,
    "start_time": "2025-08-25T10:58:06.133Z"
   },
   {
    "duration": 121,
    "start_time": "2025-08-25T10:58:06.290Z"
   },
   {
    "duration": 327,
    "start_time": "2025-08-25T10:58:06.412Z"
   },
   {
    "duration": 102,
    "start_time": "2025-08-25T10:58:06.740Z"
   },
   {
    "duration": 5347,
    "start_time": "2025-08-25T10:58:06.844Z"
   },
   {
    "duration": 6,
    "start_time": "2025-08-25T10:58:12.192Z"
   },
   {
    "duration": 40,
    "start_time": "2025-08-25T10:58:12.199Z"
   },
   {
    "duration": 6976,
    "start_time": "2025-08-25T10:58:12.241Z"
   },
   {
    "duration": 191,
    "start_time": "2025-08-25T10:58:19.218Z"
   },
   {
    "duration": 146,
    "start_time": "2025-08-25T10:58:19.411Z"
   },
   {
    "duration": 306,
    "start_time": "2025-08-25T10:58:19.559Z"
   },
   {
    "duration": 0,
    "start_time": "2025-08-25T10:58:19.866Z"
   },
   {
    "duration": 0,
    "start_time": "2025-08-25T10:58:19.868Z"
   },
   {
    "duration": 0,
    "start_time": "2025-08-25T10:58:19.868Z"
   },
   {
    "duration": 125,
    "start_time": "2025-08-25T10:58:58.971Z"
   },
   {
    "duration": 134,
    "start_time": "2025-08-25T11:00:11.843Z"
   },
   {
    "duration": 126,
    "start_time": "2025-08-25T11:01:20.397Z"
   },
   {
    "duration": 131,
    "start_time": "2025-08-25T11:02:34.079Z"
   },
   {
    "duration": 122,
    "start_time": "2025-08-25T11:03:14.916Z"
   },
   {
    "duration": 124,
    "start_time": "2025-08-25T11:03:19.222Z"
   },
   {
    "duration": 5,
    "start_time": "2025-08-25T11:03:47.778Z"
   },
   {
    "duration": 6,
    "start_time": "2025-08-25T11:03:58.447Z"
   },
   {
    "duration": 8,
    "start_time": "2025-08-25T11:04:14.854Z"
   },
   {
    "duration": 7,
    "start_time": "2025-08-25T11:04:31.818Z"
   },
   {
    "duration": 7,
    "start_time": "2025-08-25T11:04:59.214Z"
   },
   {
    "duration": 7,
    "start_time": "2025-08-25T11:09:56.591Z"
   },
   {
    "duration": 9,
    "start_time": "2025-08-25T11:10:34.393Z"
   },
   {
    "duration": 365,
    "start_time": "2025-08-25T11:11:13.900Z"
   },
   {
    "duration": 3,
    "start_time": "2025-08-25T11:11:14.267Z"
   },
   {
    "duration": 273,
    "start_time": "2025-08-25T11:11:14.271Z"
   },
   {
    "duration": 1878,
    "start_time": "2025-08-25T11:11:14.546Z"
   },
   {
    "duration": 99,
    "start_time": "2025-08-25T11:11:16.426Z"
   },
   {
    "duration": 27,
    "start_time": "2025-08-25T11:11:16.527Z"
   },
   {
    "duration": 20,
    "start_time": "2025-08-25T11:11:16.557Z"
   },
   {
    "duration": 100,
    "start_time": "2025-08-25T11:11:16.578Z"
   },
   {
    "duration": 5,
    "start_time": "2025-08-25T11:11:16.680Z"
   },
   {
    "duration": 487,
    "start_time": "2025-08-25T11:11:16.688Z"
   },
   {
    "duration": 33,
    "start_time": "2025-08-25T11:11:17.176Z"
   },
   {
    "duration": 162,
    "start_time": "2025-08-25T11:11:17.211Z"
   },
   {
    "duration": 405,
    "start_time": "2025-08-25T11:11:17.375Z"
   },
   {
    "duration": 142,
    "start_time": "2025-08-25T11:11:17.782Z"
   },
   {
    "duration": 277,
    "start_time": "2025-08-25T11:11:17.925Z"
   },
   {
    "duration": 154,
    "start_time": "2025-08-25T11:11:18.204Z"
   },
   {
    "duration": 124,
    "start_time": "2025-08-25T11:11:18.360Z"
   },
   {
    "duration": 325,
    "start_time": "2025-08-25T11:11:18.486Z"
   },
   {
    "duration": 111,
    "start_time": "2025-08-25T11:11:18.813Z"
   },
   {
    "duration": 5497,
    "start_time": "2025-08-25T11:11:18.925Z"
   },
   {
    "duration": 16,
    "start_time": "2025-08-25T11:11:24.423Z"
   },
   {
    "duration": 26,
    "start_time": "2025-08-25T11:11:24.441Z"
   },
   {
    "duration": 7238,
    "start_time": "2025-08-25T11:11:24.468Z"
   },
   {
    "duration": 199,
    "start_time": "2025-08-25T11:11:31.708Z"
   },
   {
    "duration": 151,
    "start_time": "2025-08-25T11:11:31.909Z"
   },
   {
    "duration": 170,
    "start_time": "2025-08-25T11:11:32.062Z"
   },
   {
    "duration": 0,
    "start_time": "2025-08-25T11:11:32.233Z"
   },
   {
    "duration": 0,
    "start_time": "2025-08-25T11:11:32.235Z"
   },
   {
    "duration": 0,
    "start_time": "2025-08-25T11:11:32.236Z"
   },
   {
    "duration": 126,
    "start_time": "2025-08-25T11:11:55.235Z"
   },
   {
    "duration": 183,
    "start_time": "2025-08-25T11:12:19.223Z"
   },
   {
    "duration": 181,
    "start_time": "2025-08-25T11:12:41.894Z"
   },
   {
    "duration": 219,
    "start_time": "2025-08-25T11:12:53.914Z"
   },
   {
    "duration": 362,
    "start_time": "2025-08-25T13:47:47.927Z"
   },
   {
    "duration": 2,
    "start_time": "2025-08-25T13:47:48.291Z"
   },
   {
    "duration": 412,
    "start_time": "2025-08-25T13:47:48.295Z"
   },
   {
    "duration": 1958,
    "start_time": "2025-08-25T13:47:48.709Z"
   },
   {
    "duration": 87,
    "start_time": "2025-08-25T13:47:50.669Z"
   },
   {
    "duration": 24,
    "start_time": "2025-08-25T13:47:50.758Z"
   },
   {
    "duration": 61,
    "start_time": "2025-08-25T13:47:50.783Z"
   },
   {
    "duration": 70,
    "start_time": "2025-08-25T13:47:50.846Z"
   },
   {
    "duration": 6,
    "start_time": "2025-08-25T13:47:50.918Z"
   },
   {
    "duration": 466,
    "start_time": "2025-08-25T13:47:50.927Z"
   },
   {
    "duration": 34,
    "start_time": "2025-08-25T13:47:51.394Z"
   },
   {
    "duration": 144,
    "start_time": "2025-08-25T13:47:51.430Z"
   },
   {
    "duration": 346,
    "start_time": "2025-08-25T13:47:51.575Z"
   },
   {
    "duration": 142,
    "start_time": "2025-08-25T13:47:51.922Z"
   },
   {
    "duration": 293,
    "start_time": "2025-08-25T13:47:52.066Z"
   },
   {
    "duration": 151,
    "start_time": "2025-08-25T13:47:52.360Z"
   },
   {
    "duration": 128,
    "start_time": "2025-08-25T13:47:52.513Z"
   },
   {
    "duration": 328,
    "start_time": "2025-08-25T13:47:52.643Z"
   },
   {
    "duration": 103,
    "start_time": "2025-08-25T13:47:52.973Z"
   },
   {
    "duration": 5067,
    "start_time": "2025-08-25T13:47:53.078Z"
   },
   {
    "duration": 4,
    "start_time": "2025-08-25T13:47:58.147Z"
   },
   {
    "duration": 43,
    "start_time": "2025-08-25T13:47:58.153Z"
   },
   {
    "duration": 6567,
    "start_time": "2025-08-25T13:47:58.197Z"
   },
   {
    "duration": 206,
    "start_time": "2025-08-25T13:48:04.766Z"
   },
   {
    "duration": 143,
    "start_time": "2025-08-25T13:48:04.973Z"
   },
   {
    "duration": 279,
    "start_time": "2025-08-25T13:48:05.118Z"
   },
   {
    "duration": 207,
    "start_time": "2025-08-25T13:48:05.399Z"
   },
   {
    "duration": 0,
    "start_time": "2025-08-25T13:48:05.608Z"
   },
   {
    "duration": 0,
    "start_time": "2025-08-25T13:48:05.609Z"
   },
   {
    "duration": 118,
    "start_time": "2025-08-25T13:48:44.718Z"
   },
   {
    "duration": 372,
    "start_time": "2025-08-25T13:49:25.108Z"
   },
   {
    "duration": 2,
    "start_time": "2025-08-25T13:49:25.482Z"
   },
   {
    "duration": 241,
    "start_time": "2025-08-25T13:49:25.486Z"
   },
   {
    "duration": 1547,
    "start_time": "2025-08-25T13:49:25.729Z"
   },
   {
    "duration": 85,
    "start_time": "2025-08-25T13:49:27.278Z"
   },
   {
    "duration": 25,
    "start_time": "2025-08-25T13:49:27.371Z"
   },
   {
    "duration": 16,
    "start_time": "2025-08-25T13:49:27.397Z"
   },
   {
    "duration": 88,
    "start_time": "2025-08-25T13:49:27.414Z"
   },
   {
    "duration": 6,
    "start_time": "2025-08-25T13:49:27.503Z"
   },
   {
    "duration": 428,
    "start_time": "2025-08-25T13:49:27.510Z"
   },
   {
    "duration": 41,
    "start_time": "2025-08-25T13:49:27.939Z"
   },
   {
    "duration": 140,
    "start_time": "2025-08-25T13:49:27.982Z"
   },
   {
    "duration": 339,
    "start_time": "2025-08-25T13:49:28.123Z"
   },
   {
    "duration": 146,
    "start_time": "2025-08-25T13:49:28.470Z"
   },
   {
    "duration": 265,
    "start_time": "2025-08-25T13:49:28.618Z"
   },
   {
    "duration": 157,
    "start_time": "2025-08-25T13:49:28.885Z"
   },
   {
    "duration": 121,
    "start_time": "2025-08-25T13:49:29.044Z"
   },
   {
    "duration": 334,
    "start_time": "2025-08-25T13:49:29.170Z"
   },
   {
    "duration": 107,
    "start_time": "2025-08-25T13:49:29.505Z"
   },
   {
    "duration": 5173,
    "start_time": "2025-08-25T13:49:29.613Z"
   },
   {
    "duration": 6,
    "start_time": "2025-08-25T13:49:34.787Z"
   },
   {
    "duration": 91,
    "start_time": "2025-08-25T13:49:34.794Z"
   },
   {
    "duration": 6806,
    "start_time": "2025-08-25T13:49:34.887Z"
   },
   {
    "duration": 198,
    "start_time": "2025-08-25T13:49:41.695Z"
   },
   {
    "duration": 150,
    "start_time": "2025-08-25T13:49:41.894Z"
   },
   {
    "duration": 310,
    "start_time": "2025-08-25T13:49:42.046Z"
   },
   {
    "duration": 178,
    "start_time": "2025-08-25T13:49:42.357Z"
   },
   {
    "duration": 173,
    "start_time": "2025-08-25T13:49:42.536Z"
   },
   {
    "duration": 201,
    "start_time": "2025-08-25T13:49:42.711Z"
   },
   {
    "duration": 5,
    "start_time": "2025-08-25T13:50:31.639Z"
   },
   {
    "duration": 8,
    "start_time": "2025-08-25T13:51:07.065Z"
   },
   {
    "duration": 5,
    "start_time": "2025-08-25T13:51:28.376Z"
   },
   {
    "duration": 7,
    "start_time": "2025-08-25T13:51:46.238Z"
   },
   {
    "duration": 117,
    "start_time": "2025-08-25T13:51:50.391Z"
   },
   {
    "duration": 124,
    "start_time": "2025-08-25T13:52:11.251Z"
   },
   {
    "duration": 119,
    "start_time": "2025-08-25T13:52:22.542Z"
   },
   {
    "duration": 5,
    "start_time": "2025-08-25T13:56:40.173Z"
   },
   {
    "duration": 385,
    "start_time": "2025-08-25T13:57:16.800Z"
   },
   {
    "duration": 3,
    "start_time": "2025-08-25T13:57:17.187Z"
   },
   {
    "duration": 256,
    "start_time": "2025-08-25T13:57:17.191Z"
   },
   {
    "duration": 1680,
    "start_time": "2025-08-25T13:57:17.449Z"
   },
   {
    "duration": 102,
    "start_time": "2025-08-25T13:57:19.131Z"
   },
   {
    "duration": 46,
    "start_time": "2025-08-25T13:57:19.235Z"
   },
   {
    "duration": 17,
    "start_time": "2025-08-25T13:57:19.282Z"
   },
   {
    "duration": 86,
    "start_time": "2025-08-25T13:57:19.301Z"
   },
   {
    "duration": 7,
    "start_time": "2025-08-25T13:57:19.388Z"
   },
   {
    "duration": 455,
    "start_time": "2025-08-25T13:57:19.398Z"
   },
   {
    "duration": 41,
    "start_time": "2025-08-25T13:57:19.855Z"
   },
   {
    "duration": 214,
    "start_time": "2025-08-25T13:57:19.897Z"
   },
   {
    "duration": 346,
    "start_time": "2025-08-25T13:57:20.112Z"
   },
   {
    "duration": 149,
    "start_time": "2025-08-25T13:57:20.460Z"
   },
   {
    "duration": 268,
    "start_time": "2025-08-25T13:57:20.611Z"
   },
   {
    "duration": 175,
    "start_time": "2025-08-25T13:57:20.881Z"
   },
   {
    "duration": 120,
    "start_time": "2025-08-25T13:57:21.058Z"
   },
   {
    "duration": 317,
    "start_time": "2025-08-25T13:57:21.179Z"
   },
   {
    "duration": 110,
    "start_time": "2025-08-25T13:57:21.498Z"
   },
   {
    "duration": 5199,
    "start_time": "2025-08-25T13:57:21.610Z"
   },
   {
    "duration": 5,
    "start_time": "2025-08-25T13:57:26.811Z"
   },
   {
    "duration": 72,
    "start_time": "2025-08-25T13:57:26.817Z"
   },
   {
    "duration": 6808,
    "start_time": "2025-08-25T13:57:26.890Z"
   },
   {
    "duration": 199,
    "start_time": "2025-08-25T13:57:33.699Z"
   },
   {
    "duration": 13,
    "start_time": "2025-08-25T13:57:33.900Z"
   },
   {
    "duration": 288,
    "start_time": "2025-08-25T13:57:33.915Z"
   },
   {
    "duration": 178,
    "start_time": "2025-08-25T13:57:34.205Z"
   },
   {
    "duration": 175,
    "start_time": "2025-08-25T13:57:34.386Z"
   },
   {
    "duration": 18,
    "start_time": "2025-08-25T13:57:34.563Z"
   },
   {
    "duration": 5,
    "start_time": "2025-08-25T13:57:38.561Z"
   },
   {
    "duration": 5,
    "start_time": "2025-08-25T14:02:18.468Z"
   },
   {
    "duration": 5,
    "start_time": "2025-08-25T14:02:30.502Z"
   },
   {
    "duration": 6,
    "start_time": "2025-08-25T14:03:18.810Z"
   },
   {
    "duration": 5,
    "start_time": "2025-08-25T14:03:39.231Z"
   },
   {
    "duration": 74,
    "start_time": "2025-08-25T14:05:45.743Z"
   },
   {
    "duration": 23,
    "start_time": "2025-08-25T14:05:52.724Z"
   },
   {
    "duration": 8,
    "start_time": "2025-08-25T14:06:42.764Z"
   },
   {
    "duration": 8,
    "start_time": "2025-08-25T14:06:49.876Z"
   },
   {
    "duration": 5,
    "start_time": "2025-08-25T14:11:12.978Z"
   },
   {
    "duration": 2753,
    "start_time": "2025-08-25T14:13:27.855Z"
   },
   {
    "duration": 426,
    "start_time": "2025-08-25T14:14:50.013Z"
   },
   {
    "duration": 197,
    "start_time": "2025-08-25T14:15:12.381Z"
   },
   {
    "duration": 127,
    "start_time": "2025-08-25T14:16:08.661Z"
   },
   {
    "duration": 130,
    "start_time": "2025-08-25T14:16:14.573Z"
   },
   {
    "duration": 343,
    "start_time": "2025-08-25T14:17:28.977Z"
   },
   {
    "duration": 7,
    "start_time": "2025-08-25T14:19:44.475Z"
   },
   {
    "duration": 12,
    "start_time": "2025-08-25T14:19:48.958Z"
   },
   {
    "duration": 9,
    "start_time": "2025-08-25T14:19:59.883Z"
   },
   {
    "duration": 9,
    "start_time": "2025-08-25T14:20:44.088Z"
   },
   {
    "duration": 7,
    "start_time": "2025-08-25T14:29:48.791Z"
   },
   {
    "duration": 361,
    "start_time": "2025-08-25T14:31:02.115Z"
   },
   {
    "duration": 424,
    "start_time": "2025-08-26T06:57:38.513Z"
   },
   {
    "duration": 3,
    "start_time": "2025-08-26T06:57:38.940Z"
   },
   {
    "duration": 515,
    "start_time": "2025-08-26T06:57:38.945Z"
   },
   {
    "duration": 2167,
    "start_time": "2025-08-26T06:57:39.463Z"
   },
   {
    "duration": 105,
    "start_time": "2025-08-26T06:57:41.633Z"
   },
   {
    "duration": 40,
    "start_time": "2025-08-26T06:57:41.741Z"
   },
   {
    "duration": 22,
    "start_time": "2025-08-26T06:57:41.782Z"
   },
   {
    "duration": 101,
    "start_time": "2025-08-26T06:57:41.806Z"
   },
   {
    "duration": 7,
    "start_time": "2025-08-26T06:57:41.909Z"
   },
   {
    "duration": 536,
    "start_time": "2025-08-26T06:57:41.919Z"
   },
   {
    "duration": 40,
    "start_time": "2025-08-26T06:57:42.460Z"
   },
   {
    "duration": 180,
    "start_time": "2025-08-26T06:57:42.502Z"
   },
   {
    "duration": 407,
    "start_time": "2025-08-26T06:57:42.684Z"
   },
   {
    "duration": 170,
    "start_time": "2025-08-26T06:57:43.094Z"
   },
   {
    "duration": 319,
    "start_time": "2025-08-26T06:57:43.266Z"
   },
   {
    "duration": 187,
    "start_time": "2025-08-26T06:57:43.587Z"
   },
   {
    "duration": 161,
    "start_time": "2025-08-26T06:57:43.776Z"
   },
   {
    "duration": 390,
    "start_time": "2025-08-26T06:57:43.939Z"
   },
   {
    "duration": 569,
    "start_time": "2025-08-26T06:57:44.331Z"
   },
   {
    "duration": 5983,
    "start_time": "2025-08-26T06:57:44.902Z"
   },
   {
    "duration": 5,
    "start_time": "2025-08-26T06:57:50.888Z"
   },
   {
    "duration": 50,
    "start_time": "2025-08-26T06:57:50.895Z"
   },
   {
    "duration": 7634,
    "start_time": "2025-08-26T06:57:50.947Z"
   },
   {
    "duration": 218,
    "start_time": "2025-08-26T06:57:58.583Z"
   },
   {
    "duration": 495,
    "start_time": "2025-08-26T06:57:58.804Z"
   },
   {
    "duration": 0,
    "start_time": "2025-08-26T06:57:59.301Z"
   },
   {
    "duration": 0,
    "start_time": "2025-08-26T06:57:59.302Z"
   },
   {
    "duration": 0,
    "start_time": "2025-08-26T06:57:59.303Z"
   },
   {
    "duration": 0,
    "start_time": "2025-08-26T06:57:59.305Z"
   },
   {
    "duration": 0,
    "start_time": "2025-08-26T06:57:59.306Z"
   },
   {
    "duration": 11,
    "start_time": "2025-08-26T06:58:09.674Z"
   },
   {
    "duration": 11,
    "start_time": "2025-08-26T06:58:18.765Z"
   },
   {
    "duration": 11,
    "start_time": "2025-08-26T06:58:32.078Z"
   },
   {
    "duration": 11,
    "start_time": "2025-08-26T06:58:34.357Z"
   },
   {
    "duration": 312,
    "start_time": "2025-08-26T06:58:34.977Z"
   },
   {
    "duration": 10,
    "start_time": "2025-08-26T06:58:37.574Z"
   },
   {
    "duration": 3,
    "start_time": "2025-08-26T06:59:01.970Z"
   },
   {
    "duration": 11,
    "start_time": "2025-08-26T06:59:04.878Z"
   },
   {
    "duration": 10,
    "start_time": "2025-08-26T06:59:06.965Z"
   },
   {
    "duration": 225,
    "start_time": "2025-08-26T06:59:08.543Z"
   },
   {
    "duration": 200,
    "start_time": "2025-08-26T06:59:21.781Z"
   },
   {
    "duration": 24,
    "start_time": "2025-08-26T06:59:51.350Z"
   },
   {
    "duration": 157,
    "start_time": "2025-08-26T07:00:58.318Z"
   },
   {
    "duration": 430,
    "start_time": "2025-08-26T07:01:29.614Z"
   },
   {
    "duration": 4,
    "start_time": "2025-08-26T07:01:30.046Z"
   },
   {
    "duration": 366,
    "start_time": "2025-08-26T07:01:30.052Z"
   },
   {
    "duration": 2013,
    "start_time": "2025-08-26T07:01:30.419Z"
   },
   {
    "duration": 104,
    "start_time": "2025-08-26T07:01:32.435Z"
   },
   {
    "duration": 39,
    "start_time": "2025-08-26T07:01:32.541Z"
   },
   {
    "duration": 33,
    "start_time": "2025-08-26T07:01:32.583Z"
   },
   {
    "duration": 145,
    "start_time": "2025-08-26T07:01:32.618Z"
   },
   {
    "duration": 7,
    "start_time": "2025-08-26T07:01:32.765Z"
   },
   {
    "duration": 549,
    "start_time": "2025-08-26T07:01:32.773Z"
   },
   {
    "duration": 53,
    "start_time": "2025-08-26T07:01:33.324Z"
   },
   {
    "duration": 166,
    "start_time": "2025-08-26T07:01:33.379Z"
   },
   {
    "duration": 406,
    "start_time": "2025-08-26T07:01:33.546Z"
   },
   {
    "duration": 178,
    "start_time": "2025-08-26T07:01:33.955Z"
   },
   {
    "duration": 314,
    "start_time": "2025-08-26T07:01:34.135Z"
   },
   {
    "duration": 183,
    "start_time": "2025-08-26T07:01:34.451Z"
   },
   {
    "duration": 153,
    "start_time": "2025-08-26T07:01:34.635Z"
   },
   {
    "duration": 384,
    "start_time": "2025-08-26T07:01:34.791Z"
   },
   {
    "duration": 577,
    "start_time": "2025-08-26T07:01:35.177Z"
   },
   {
    "duration": 6299,
    "start_time": "2025-08-26T07:01:35.761Z"
   },
   {
    "duration": 5,
    "start_time": "2025-08-26T07:01:42.062Z"
   },
   {
    "duration": 63,
    "start_time": "2025-08-26T07:01:42.068Z"
   },
   {
    "duration": 8109,
    "start_time": "2025-08-26T07:01:42.133Z"
   },
   {
    "duration": 228,
    "start_time": "2025-08-26T07:01:50.244Z"
   },
   {
    "duration": 3,
    "start_time": "2025-08-26T07:01:50.474Z"
   },
   {
    "duration": 180,
    "start_time": "2025-08-26T07:01:50.478Z"
   },
   {
    "duration": 328,
    "start_time": "2025-08-26T07:01:50.660Z"
   },
   {
    "duration": 213,
    "start_time": "2025-08-26T07:01:50.990Z"
   },
   {
    "duration": 230,
    "start_time": "2025-08-26T07:01:51.205Z"
   },
   {
    "duration": 28,
    "start_time": "2025-08-26T07:01:51.436Z"
   },
   {
    "duration": 215,
    "start_time": "2025-08-26T07:03:42.155Z"
   },
   {
    "duration": 6,
    "start_time": "2025-08-26T07:04:12.136Z"
   },
   {
    "duration": 489,
    "start_time": "2025-08-26T07:04:20.758Z"
   },
   {
    "duration": 3,
    "start_time": "2025-08-26T07:04:21.250Z"
   },
   {
    "duration": 317,
    "start_time": "2025-08-26T07:04:21.261Z"
   },
   {
    "duration": 1996,
    "start_time": "2025-08-26T07:04:21.580Z"
   },
   {
    "duration": 104,
    "start_time": "2025-08-26T07:04:23.578Z"
   },
   {
    "duration": 32,
    "start_time": "2025-08-26T07:04:23.684Z"
   },
   {
    "duration": 44,
    "start_time": "2025-08-26T07:04:23.718Z"
   },
   {
    "duration": 71,
    "start_time": "2025-08-26T07:04:23.764Z"
   },
   {
    "duration": 28,
    "start_time": "2025-08-26T07:04:23.837Z"
   },
   {
    "duration": 546,
    "start_time": "2025-08-26T07:04:23.868Z"
   },
   {
    "duration": 50,
    "start_time": "2025-08-26T07:04:24.416Z"
   },
   {
    "duration": 166,
    "start_time": "2025-08-26T07:04:24.468Z"
   },
   {
    "duration": 405,
    "start_time": "2025-08-26T07:04:24.635Z"
   },
   {
    "duration": 171,
    "start_time": "2025-08-26T07:04:25.043Z"
   },
   {
    "duration": 321,
    "start_time": "2025-08-26T07:04:25.216Z"
   },
   {
    "duration": 189,
    "start_time": "2025-08-26T07:04:25.538Z"
   },
   {
    "duration": 155,
    "start_time": "2025-08-26T07:04:25.730Z"
   },
   {
    "duration": 381,
    "start_time": "2025-08-26T07:04:25.887Z"
   },
   {
    "duration": 557,
    "start_time": "2025-08-26T07:04:26.270Z"
   },
   {
    "duration": 5959,
    "start_time": "2025-08-26T07:04:26.829Z"
   },
   {
    "duration": 6,
    "start_time": "2025-08-26T07:04:32.790Z"
   },
   {
    "duration": 53,
    "start_time": "2025-08-26T07:04:32.799Z"
   },
   {
    "duration": 7679,
    "start_time": "2025-08-26T07:04:32.854Z"
   },
   {
    "duration": 218,
    "start_time": "2025-08-26T07:04:40.535Z"
   },
   {
    "duration": 3,
    "start_time": "2025-08-26T07:04:40.760Z"
   },
   {
    "duration": 21,
    "start_time": "2025-08-26T07:04:40.765Z"
   },
   {
    "duration": 328,
    "start_time": "2025-08-26T07:04:40.788Z"
   },
   {
    "duration": 195,
    "start_time": "2025-08-26T07:04:41.118Z"
   },
   {
    "duration": 220,
    "start_time": "2025-08-26T07:04:41.315Z"
   },
   {
    "duration": 25,
    "start_time": "2025-08-26T07:04:41.538Z"
   },
   {
    "duration": 7,
    "start_time": "2025-08-26T07:04:47.960Z"
   },
   {
    "duration": 7,
    "start_time": "2025-08-26T07:04:58.747Z"
   },
   {
    "duration": 218,
    "start_time": "2025-08-26T07:05:00.724Z"
   },
   {
    "duration": 141,
    "start_time": "2025-08-26T07:05:02.605Z"
   },
   {
    "duration": 7,
    "start_time": "2025-08-26T07:05:34.111Z"
   },
   {
    "duration": 7,
    "start_time": "2025-08-26T07:05:36.140Z"
   },
   {
    "duration": 106,
    "start_time": "2025-08-26T07:18:44.559Z"
   },
   {
    "duration": 20,
    "start_time": "2025-08-26T07:20:12.022Z"
   },
   {
    "duration": 184,
    "start_time": "2025-08-26T07:20:40.333Z"
   },
   {
    "duration": 565,
    "start_time": "2025-08-26T07:20:52.021Z"
   },
   {
    "duration": 475,
    "start_time": "2025-08-26T07:22:33.452Z"
   },
   {
    "duration": 4,
    "start_time": "2025-08-26T07:22:33.930Z"
   },
   {
    "duration": 319,
    "start_time": "2025-08-26T07:22:33.936Z"
   },
   {
    "duration": 2294,
    "start_time": "2025-08-26T07:22:34.257Z"
   },
   {
    "duration": 109,
    "start_time": "2025-08-26T07:22:36.554Z"
   },
   {
    "duration": 32,
    "start_time": "2025-08-26T07:22:36.665Z"
   },
   {
    "duration": 95,
    "start_time": "2025-08-26T07:22:36.699Z"
   },
   {
    "duration": 89,
    "start_time": "2025-08-26T07:22:36.795Z"
   },
   {
    "duration": 8,
    "start_time": "2025-08-26T07:22:36.886Z"
   },
   {
    "duration": 560,
    "start_time": "2025-08-26T07:22:36.896Z"
   },
   {
    "duration": 40,
    "start_time": "2025-08-26T07:22:37.458Z"
   },
   {
    "duration": 180,
    "start_time": "2025-08-26T07:22:37.501Z"
   },
   {
    "duration": 407,
    "start_time": "2025-08-26T07:22:37.683Z"
   },
   {
    "duration": 174,
    "start_time": "2025-08-26T07:22:38.093Z"
   },
   {
    "duration": 322,
    "start_time": "2025-08-26T07:22:38.270Z"
   },
   {
    "duration": 181,
    "start_time": "2025-08-26T07:22:38.595Z"
   },
   {
    "duration": 153,
    "start_time": "2025-08-26T07:22:38.778Z"
   },
   {
    "duration": 404,
    "start_time": "2025-08-26T07:22:38.934Z"
   },
   {
    "duration": 3,
    "start_time": "2025-08-26T07:22:39.341Z"
   },
   {
    "duration": 242,
    "start_time": "2025-08-26T07:22:39.347Z"
   },
   {
    "duration": 0,
    "start_time": "2025-08-26T07:22:39.591Z"
   },
   {
    "duration": 0,
    "start_time": "2025-08-26T07:22:39.594Z"
   },
   {
    "duration": 0,
    "start_time": "2025-08-26T07:22:39.596Z"
   },
   {
    "duration": 0,
    "start_time": "2025-08-26T07:22:39.598Z"
   },
   {
    "duration": 0,
    "start_time": "2025-08-26T07:22:39.599Z"
   },
   {
    "duration": 0,
    "start_time": "2025-08-26T07:22:39.601Z"
   },
   {
    "duration": 0,
    "start_time": "2025-08-26T07:22:39.603Z"
   },
   {
    "duration": 0,
    "start_time": "2025-08-26T07:22:39.605Z"
   },
   {
    "duration": 0,
    "start_time": "2025-08-26T07:22:39.607Z"
   },
   {
    "duration": 0,
    "start_time": "2025-08-26T07:22:39.609Z"
   },
   {
    "duration": 0,
    "start_time": "2025-08-26T07:22:39.611Z"
   },
   {
    "duration": 0,
    "start_time": "2025-08-26T07:22:39.613Z"
   },
   {
    "duration": 11,
    "start_time": "2025-08-26T07:22:58.712Z"
   },
   {
    "duration": 5813,
    "start_time": "2025-08-26T07:23:09.915Z"
   },
   {
    "duration": 6,
    "start_time": "2025-08-26T07:23:37.283Z"
   },
   {
    "duration": 6,
    "start_time": "2025-08-26T07:23:57.411Z"
   },
   {
    "duration": 28,
    "start_time": "2025-08-26T07:23:58.803Z"
   },
   {
    "duration": 7766,
    "start_time": "2025-08-26T07:23:59.995Z"
   },
   {
    "duration": 11,
    "start_time": "2025-08-26T07:24:12.091Z"
   },
   {
    "duration": 11,
    "start_time": "2025-08-26T07:24:13.923Z"
   },
   {
    "duration": 11,
    "start_time": "2025-08-26T07:24:15.933Z"
   },
   {
    "duration": 12,
    "start_time": "2025-08-26T07:24:17.499Z"
   },
   {
    "duration": 170,
    "start_time": "2025-08-26T07:25:43.232Z"
   },
   {
    "duration": 453,
    "start_time": "2025-08-26T07:26:11.183Z"
   },
   {
    "duration": 3,
    "start_time": "2025-08-26T07:26:11.639Z"
   },
   {
    "duration": 329,
    "start_time": "2025-08-26T07:26:11.645Z"
   },
   {
    "duration": 2125,
    "start_time": "2025-08-26T07:26:11.977Z"
   },
   {
    "duration": 106,
    "start_time": "2025-08-26T07:26:14.105Z"
   },
   {
    "duration": 32,
    "start_time": "2025-08-26T07:26:14.213Z"
   },
   {
    "duration": 58,
    "start_time": "2025-08-26T07:26:14.247Z"
   },
   {
    "duration": 74,
    "start_time": "2025-08-26T07:26:14.308Z"
   },
   {
    "duration": 8,
    "start_time": "2025-08-26T07:26:14.384Z"
   },
   {
    "duration": 572,
    "start_time": "2025-08-26T07:26:14.395Z"
   },
   {
    "duration": 44,
    "start_time": "2025-08-26T07:26:14.970Z"
   },
   {
    "duration": 194,
    "start_time": "2025-08-26T07:26:15.017Z"
   },
   {
    "duration": 422,
    "start_time": "2025-08-26T07:26:15.214Z"
   },
   {
    "duration": 213,
    "start_time": "2025-08-26T07:26:15.639Z"
   },
   {
    "duration": 338,
    "start_time": "2025-08-26T07:26:15.855Z"
   },
   {
    "duration": 191,
    "start_time": "2025-08-26T07:26:16.195Z"
   },
   {
    "duration": 153,
    "start_time": "2025-08-26T07:26:16.389Z"
   },
   {
    "duration": 415,
    "start_time": "2025-08-26T07:26:16.545Z"
   },
   {
    "duration": 3,
    "start_time": "2025-08-26T07:26:16.963Z"
   },
   {
    "duration": 192,
    "start_time": "2025-08-26T07:26:16.969Z"
   },
   {
    "duration": 6294,
    "start_time": "2025-08-26T07:26:17.163Z"
   },
   {
    "duration": 7,
    "start_time": "2025-08-26T07:26:23.461Z"
   },
   {
    "duration": 37,
    "start_time": "2025-08-26T07:26:23.470Z"
   },
   {
    "duration": 8032,
    "start_time": "2025-08-26T07:26:23.510Z"
   },
   {
    "duration": 86,
    "start_time": "2025-08-26T07:26:31.544Z"
   },
   {
    "duration": 0,
    "start_time": "2025-08-26T07:26:31.632Z"
   },
   {
    "duration": 0,
    "start_time": "2025-08-26T07:26:31.634Z"
   },
   {
    "duration": 0,
    "start_time": "2025-08-26T07:26:31.635Z"
   },
   {
    "duration": 0,
    "start_time": "2025-08-26T07:26:31.636Z"
   },
   {
    "duration": 0,
    "start_time": "2025-08-26T07:26:31.638Z"
   },
   {
    "duration": 172,
    "start_time": "2025-08-26T07:26:44.024Z"
   },
   {
    "duration": 477,
    "start_time": "2025-08-26T07:29:55.803Z"
   },
   {
    "duration": 307,
    "start_time": "2025-08-26T07:30:04.921Z"
   },
   {
    "duration": 303,
    "start_time": "2025-08-26T07:30:10.606Z"
   },
   {
    "duration": 167,
    "start_time": "2025-08-26T07:32:07.348Z"
   },
   {
    "duration": 169,
    "start_time": "2025-08-26T07:32:16.497Z"
   },
   {
    "duration": 172,
    "start_time": "2025-08-26T07:32:17.990Z"
   },
   {
    "duration": 1555,
    "start_time": "2025-08-26T07:32:18.622Z"
   },
   {
    "duration": 1578,
    "start_time": "2025-08-26T07:33:11.982Z"
   },
   {
    "duration": 276,
    "start_time": "2025-08-26T07:33:29.814Z"
   },
   {
    "duration": 172,
    "start_time": "2025-08-26T07:38:58.704Z"
   },
   {
    "duration": 176,
    "start_time": "2025-08-26T07:39:19.712Z"
   },
   {
    "duration": 213,
    "start_time": "2025-08-26T07:39:37.469Z"
   },
   {
    "duration": 1927,
    "start_time": "2025-08-26T07:40:23.057Z"
   },
   {
    "duration": 197,
    "start_time": "2025-08-26T07:41:27.447Z"
   },
   {
    "duration": 167,
    "start_time": "2025-08-26T07:44:42.328Z"
   },
   {
    "duration": 130,
    "start_time": "2025-08-26T07:45:02.981Z"
   },
   {
    "duration": 219,
    "start_time": "2025-08-26T07:45:10.755Z"
   },
   {
    "duration": 217,
    "start_time": "2025-08-26T07:45:21.864Z"
   },
   {
    "duration": 202,
    "start_time": "2025-08-26T07:46:06.608Z"
   },
   {
    "duration": 69,
    "start_time": "2025-08-26T07:46:28.220Z"
   },
   {
    "duration": 211,
    "start_time": "2025-08-26T07:47:33.601Z"
   },
   {
    "duration": 236,
    "start_time": "2025-08-26T07:48:09.080Z"
   },
   {
    "duration": 219,
    "start_time": "2025-08-26T07:48:40.799Z"
   },
   {
    "duration": 277,
    "start_time": "2025-08-26T07:49:11.000Z"
   },
   {
    "duration": 249,
    "start_time": "2025-08-26T07:50:19.853Z"
   },
   {
    "duration": 219,
    "start_time": "2025-08-26T07:50:41.769Z"
   },
   {
    "duration": 213,
    "start_time": "2025-08-26T07:50:59.283Z"
   },
   {
    "duration": 212,
    "start_time": "2025-08-26T07:51:48.127Z"
   },
   {
    "duration": 237,
    "start_time": "2025-08-26T07:52:37.726Z"
   },
   {
    "duration": 212,
    "start_time": "2025-08-26T07:53:02.446Z"
   },
   {
    "duration": 200,
    "start_time": "2025-08-26T07:53:21.637Z"
   },
   {
    "duration": 3,
    "start_time": "2025-08-26T07:54:32.064Z"
   },
   {
    "duration": 205,
    "start_time": "2025-08-26T07:55:03.127Z"
   },
   {
    "duration": 200,
    "start_time": "2025-08-26T07:55:47.951Z"
   },
   {
    "duration": 40,
    "start_time": "2025-08-26T07:58:49.973Z"
   },
   {
    "duration": 36,
    "start_time": "2025-08-26T07:58:58.137Z"
   },
   {
    "duration": 226,
    "start_time": "2025-08-26T07:59:37.039Z"
   },
   {
    "duration": 254,
    "start_time": "2025-08-26T08:00:58.474Z"
   },
   {
    "duration": 221,
    "start_time": "2025-08-26T08:07:07.282Z"
   },
   {
    "duration": 239,
    "start_time": "2025-08-26T08:07:15.198Z"
   },
   {
    "duration": 232,
    "start_time": "2025-08-26T08:07:50.158Z"
   },
   {
    "duration": 235,
    "start_time": "2025-08-26T08:07:52.918Z"
   },
   {
    "duration": 225,
    "start_time": "2025-08-26T08:08:26.927Z"
   },
   {
    "duration": 227,
    "start_time": "2025-08-26T08:08:38.042Z"
   },
   {
    "duration": 221,
    "start_time": "2025-08-26T08:09:02.786Z"
   },
   {
    "duration": 233,
    "start_time": "2025-08-26T08:09:09.203Z"
   },
   {
    "duration": 42,
    "start_time": "2025-08-26T08:10:44.007Z"
   },
   {
    "duration": 43,
    "start_time": "2025-08-26T08:11:14.231Z"
   },
   {
    "duration": 43,
    "start_time": "2025-08-26T08:11:26.840Z"
   },
   {
    "duration": 5,
    "start_time": "2025-08-26T08:11:51.804Z"
   },
   {
    "duration": 50,
    "start_time": "2025-08-26T08:11:55.777Z"
   },
   {
    "duration": 45,
    "start_time": "2025-08-26T08:12:42.752Z"
   },
   {
    "duration": 40,
    "start_time": "2025-08-26T08:12:51.498Z"
   },
   {
    "duration": 43,
    "start_time": "2025-08-26T08:13:00.897Z"
   },
   {
    "duration": 52,
    "start_time": "2025-08-26T08:13:47.023Z"
   },
   {
    "duration": 470,
    "start_time": "2025-08-26T10:32:19.418Z"
   },
   {
    "duration": 3,
    "start_time": "2025-08-26T10:32:19.890Z"
   },
   {
    "duration": 459,
    "start_time": "2025-08-26T10:32:19.895Z"
   },
   {
    "duration": 2148,
    "start_time": "2025-08-26T10:32:20.357Z"
   },
   {
    "duration": 102,
    "start_time": "2025-08-26T10:32:22.507Z"
   },
   {
    "duration": 43,
    "start_time": "2025-08-26T10:32:22.612Z"
   },
   {
    "duration": 21,
    "start_time": "2025-08-26T10:32:22.657Z"
   },
   {
    "duration": 85,
    "start_time": "2025-08-26T10:32:22.680Z"
   },
   {
    "duration": 7,
    "start_time": "2025-08-26T10:32:22.766Z"
   },
   {
    "duration": 502,
    "start_time": "2025-08-26T10:32:22.776Z"
   },
   {
    "duration": 34,
    "start_time": "2025-08-26T10:32:23.280Z"
   },
   {
    "duration": 165,
    "start_time": "2025-08-26T10:32:23.316Z"
   },
   {
    "duration": 394,
    "start_time": "2025-08-26T10:32:23.483Z"
   },
   {
    "duration": 226,
    "start_time": "2025-08-26T10:32:23.879Z"
   },
   {
    "duration": 282,
    "start_time": "2025-08-26T10:32:24.107Z"
   },
   {
    "duration": 169,
    "start_time": "2025-08-26T10:32:24.391Z"
   },
   {
    "duration": 65,
    "start_time": "2025-08-26T10:32:24.562Z"
   },
   {
    "duration": 345,
    "start_time": "2025-08-26T10:32:24.628Z"
   },
   {
    "duration": 3,
    "start_time": "2025-08-26T10:32:24.975Z"
   },
   {
    "duration": 152,
    "start_time": "2025-08-26T10:32:24.980Z"
   },
   {
    "duration": 5878,
    "start_time": "2025-08-26T10:32:25.134Z"
   },
   {
    "duration": 6,
    "start_time": "2025-08-26T10:32:31.014Z"
   },
   {
    "duration": 45,
    "start_time": "2025-08-26T10:32:31.022Z"
   },
   {
    "duration": 7922,
    "start_time": "2025-08-26T10:32:31.069Z"
   },
   {
    "duration": 213,
    "start_time": "2025-08-26T10:32:38.993Z"
   },
   {
    "duration": 163,
    "start_time": "2025-08-26T10:32:39.208Z"
   },
   {
    "duration": 298,
    "start_time": "2025-08-26T10:32:39.373Z"
   },
   {
    "duration": 227,
    "start_time": "2025-08-26T10:32:39.675Z"
   },
   {
    "duration": 184,
    "start_time": "2025-08-26T10:32:39.904Z"
   },
   {
    "duration": 206,
    "start_time": "2025-08-26T10:32:40.090Z"
   },
   {
    "duration": 204,
    "start_time": "2025-08-26T10:32:40.298Z"
   },
   {
    "duration": 190,
    "start_time": "2025-08-26T10:32:40.504Z"
   },
   {
    "duration": 210,
    "start_time": "2025-08-26T10:32:40.696Z"
   },
   {
    "duration": 48,
    "start_time": "2025-08-26T10:32:40.908Z"
   },
   {
    "duration": 48,
    "start_time": "2025-08-26T10:32:40.958Z"
   },
   {
    "duration": 233,
    "start_time": "2025-08-26T10:32:41.007Z"
   },
   {
    "duration": 223,
    "start_time": "2025-08-26T10:32:41.242Z"
   },
   {
    "duration": 207,
    "start_time": "2025-08-26T10:55:05.992Z"
   },
   {
    "duration": 49,
    "start_time": "2025-08-26T10:55:31.055Z"
   },
   {
    "duration": 51,
    "start_time": "2025-08-26T10:55:37.134Z"
   },
   {
    "duration": 49,
    "start_time": "2025-08-26T10:57:26.718Z"
   },
   {
    "duration": 94,
    "start_time": "2025-08-26T10:59:45.987Z"
   },
   {
    "duration": 43,
    "start_time": "2025-08-26T10:59:55.500Z"
   },
   {
    "duration": 340,
    "start_time": "2025-08-26T11:00:09.809Z"
   },
   {
    "duration": 54,
    "start_time": "2025-08-26T11:03:16.638Z"
   },
   {
    "duration": 326,
    "start_time": "2025-08-26T11:03:39.135Z"
   },
   {
    "duration": 8016,
    "start_time": "2025-08-26T11:37:27.518Z"
   },
   {
    "duration": 100,
    "start_time": "2025-08-26T11:40:02.618Z"
   },
   {
    "duration": 102,
    "start_time": "2025-08-26T11:45:49.458Z"
   },
   {
    "duration": 51,
    "start_time": "2025-08-26T11:45:56.335Z"
   },
   {
    "duration": 480,
    "start_time": "2025-08-26T11:46:23.007Z"
   },
   {
    "duration": 3,
    "start_time": "2025-08-26T11:46:23.490Z"
   },
   {
    "duration": 346,
    "start_time": "2025-08-26T11:46:23.495Z"
   },
   {
    "duration": 2506,
    "start_time": "2025-08-26T11:46:23.843Z"
   },
   {
    "duration": 107,
    "start_time": "2025-08-26T11:46:26.351Z"
   },
   {
    "duration": 30,
    "start_time": "2025-08-26T11:46:26.460Z"
   },
   {
    "duration": 56,
    "start_time": "2025-08-26T11:46:26.493Z"
   },
   {
    "duration": 98,
    "start_time": "2025-08-26T11:46:26.552Z"
   },
   {
    "duration": 8,
    "start_time": "2025-08-26T11:46:26.653Z"
   },
   {
    "duration": 506,
    "start_time": "2025-08-26T11:46:26.664Z"
   },
   {
    "duration": 35,
    "start_time": "2025-08-26T11:46:27.172Z"
   },
   {
    "duration": 174,
    "start_time": "2025-08-26T11:46:27.209Z"
   },
   {
    "duration": 396,
    "start_time": "2025-08-26T11:46:27.385Z"
   },
   {
    "duration": 173,
    "start_time": "2025-08-26T11:46:27.783Z"
   },
   {
    "duration": 299,
    "start_time": "2025-08-26T11:46:27.959Z"
   },
   {
    "duration": 176,
    "start_time": "2025-08-26T11:46:28.260Z"
   },
   {
    "duration": 130,
    "start_time": "2025-08-26T11:46:28.438Z"
   },
   {
    "duration": 342,
    "start_time": "2025-08-26T11:46:28.570Z"
   },
   {
    "duration": 2,
    "start_time": "2025-08-26T11:46:28.914Z"
   },
   {
    "duration": 153,
    "start_time": "2025-08-26T11:46:28.917Z"
   },
   {
    "duration": 6521,
    "start_time": "2025-08-26T11:46:29.072Z"
   },
   {
    "duration": 5,
    "start_time": "2025-08-26T11:46:35.595Z"
   },
   {
    "duration": 64,
    "start_time": "2025-08-26T11:46:35.602Z"
   },
   {
    "duration": 8935,
    "start_time": "2025-08-26T11:46:35.668Z"
   },
   {
    "duration": 215,
    "start_time": "2025-08-26T11:46:44.604Z"
   },
   {
    "duration": 170,
    "start_time": "2025-08-26T11:46:44.821Z"
   },
   {
    "duration": 8446,
    "start_time": "2025-08-26T11:46:44.992Z"
   },
   {
    "duration": 124,
    "start_time": "2025-08-26T11:46:53.444Z"
   },
   {
    "duration": 0,
    "start_time": "2025-08-26T11:46:53.570Z"
   },
   {
    "duration": 0,
    "start_time": "2025-08-26T11:46:53.571Z"
   },
   {
    "duration": 0,
    "start_time": "2025-08-26T11:46:53.572Z"
   },
   {
    "duration": 0,
    "start_time": "2025-08-26T11:46:53.573Z"
   },
   {
    "duration": 0,
    "start_time": "2025-08-26T11:46:53.574Z"
   },
   {
    "duration": 0,
    "start_time": "2025-08-26T11:46:53.575Z"
   },
   {
    "duration": 0,
    "start_time": "2025-08-26T11:46:53.577Z"
   },
   {
    "duration": 0,
    "start_time": "2025-08-26T11:46:53.578Z"
   },
   {
    "duration": 0,
    "start_time": "2025-08-26T11:46:53.579Z"
   },
   {
    "duration": 0,
    "start_time": "2025-08-26T11:46:53.580Z"
   },
   {
    "duration": 0,
    "start_time": "2025-08-26T11:46:53.582Z"
   },
   {
    "duration": 0,
    "start_time": "2025-08-26T11:46:53.583Z"
   },
   {
    "duration": 0,
    "start_time": "2025-08-26T11:46:53.584Z"
   },
   {
    "duration": 0,
    "start_time": "2025-08-26T11:46:53.585Z"
   },
   {
    "duration": 0,
    "start_time": "2025-08-26T11:46:53.586Z"
   },
   {
    "duration": 232,
    "start_time": "2025-08-26T11:47:10.008Z"
   },
   {
    "duration": 111,
    "start_time": "2025-08-26T11:47:33.228Z"
   },
   {
    "duration": 70,
    "start_time": "2025-08-26T11:47:57.514Z"
   },
   {
    "duration": 105,
    "start_time": "2025-08-26T11:54:43.502Z"
   },
   {
    "duration": 185,
    "start_time": "2025-08-26T11:55:02.106Z"
   },
   {
    "duration": 100,
    "start_time": "2025-08-26T11:55:27.922Z"
   },
   {
    "duration": 434,
    "start_time": "2025-08-26T11:57:49.569Z"
   },
   {
    "duration": 3,
    "start_time": "2025-08-26T11:57:50.005Z"
   },
   {
    "duration": 342,
    "start_time": "2025-08-26T11:57:50.010Z"
   },
   {
    "duration": 3362,
    "start_time": "2025-08-26T11:57:50.355Z"
   },
   {
    "duration": 105,
    "start_time": "2025-08-26T11:57:53.719Z"
   },
   {
    "duration": 43,
    "start_time": "2025-08-26T11:57:53.826Z"
   },
   {
    "duration": 19,
    "start_time": "2025-08-26T11:57:53.872Z"
   },
   {
    "duration": 103,
    "start_time": "2025-08-26T11:57:53.894Z"
   },
   {
    "duration": 9,
    "start_time": "2025-08-26T11:57:54.000Z"
   },
   {
    "duration": 594,
    "start_time": "2025-08-26T11:57:54.013Z"
   },
   {
    "duration": 43,
    "start_time": "2025-08-26T11:57:54.610Z"
   },
   {
    "duration": 175,
    "start_time": "2025-08-26T11:57:54.655Z"
   },
   {
    "duration": 442,
    "start_time": "2025-08-26T11:57:54.832Z"
   },
   {
    "duration": 208,
    "start_time": "2025-08-26T11:57:55.276Z"
   },
   {
    "duration": 375,
    "start_time": "2025-08-26T11:57:55.486Z"
   },
   {
    "duration": 197,
    "start_time": "2025-08-26T11:57:55.863Z"
   },
   {
    "duration": 160,
    "start_time": "2025-08-26T11:57:56.063Z"
   },
   {
    "duration": 401,
    "start_time": "2025-08-26T11:57:56.226Z"
   },
   {
    "duration": 3,
    "start_time": "2025-08-26T11:57:56.629Z"
   },
   {
    "duration": 161,
    "start_time": "2025-08-26T11:57:56.633Z"
   },
   {
    "duration": 6442,
    "start_time": "2025-08-26T11:57:56.796Z"
   },
   {
    "duration": 12,
    "start_time": "2025-08-26T11:58:03.240Z"
   },
   {
    "duration": 39,
    "start_time": "2025-08-26T11:58:03.254Z"
   },
   {
    "duration": 8340,
    "start_time": "2025-08-26T11:58:03.295Z"
   },
   {
    "duration": 228,
    "start_time": "2025-08-26T11:58:11.637Z"
   },
   {
    "duration": 190,
    "start_time": "2025-08-26T11:58:11.867Z"
   },
   {
    "duration": 7861,
    "start_time": "2025-08-26T11:58:12.060Z"
   },
   {
    "duration": 228,
    "start_time": "2025-08-26T11:58:19.924Z"
   },
   {
    "duration": 410,
    "start_time": "2025-08-27T06:27:35.555Z"
   },
   {
    "duration": 2,
    "start_time": "2025-08-27T06:27:35.967Z"
   },
   {
    "duration": 576,
    "start_time": "2025-08-27T06:27:35.971Z"
   },
   {
    "duration": 4822,
    "start_time": "2025-08-27T06:27:36.549Z"
   },
   {
    "duration": 95,
    "start_time": "2025-08-27T06:27:41.372Z"
   },
   {
    "duration": 29,
    "start_time": "2025-08-27T06:27:41.469Z"
   },
   {
    "duration": 40,
    "start_time": "2025-08-27T06:27:41.499Z"
   },
   {
    "duration": 68,
    "start_time": "2025-08-27T06:27:41.541Z"
   },
   {
    "duration": 6,
    "start_time": "2025-08-27T06:27:41.610Z"
   },
   {
    "duration": 452,
    "start_time": "2025-08-27T06:27:41.636Z"
   },
   {
    "duration": 33,
    "start_time": "2025-08-27T06:27:42.089Z"
   },
   {
    "duration": 165,
    "start_time": "2025-08-27T06:27:42.124Z"
   },
   {
    "duration": 391,
    "start_time": "2025-08-27T06:27:42.291Z"
   },
   {
    "duration": 143,
    "start_time": "2025-08-27T06:27:42.684Z"
   },
   {
    "duration": 264,
    "start_time": "2025-08-27T06:27:42.828Z"
   },
   {
    "duration": 157,
    "start_time": "2025-08-27T06:27:43.093Z"
   },
   {
    "duration": 121,
    "start_time": "2025-08-27T06:27:43.251Z"
   },
   {
    "duration": 307,
    "start_time": "2025-08-27T06:27:43.374Z"
   },
   {
    "duration": 3,
    "start_time": "2025-08-27T06:27:43.682Z"
   },
   {
    "duration": 137,
    "start_time": "2025-08-27T06:27:43.686Z"
   },
   {
    "duration": 5302,
    "start_time": "2025-08-27T06:27:43.825Z"
   },
   {
    "duration": 8,
    "start_time": "2025-08-27T06:27:49.128Z"
   },
   {
    "duration": 25,
    "start_time": "2025-08-27T06:27:49.138Z"
   },
   {
    "duration": 6893,
    "start_time": "2025-08-27T06:27:49.165Z"
   },
   {
    "duration": 192,
    "start_time": "2025-08-27T06:27:56.060Z"
   },
   {
    "duration": 155,
    "start_time": "2025-08-27T06:27:56.254Z"
   },
   {
    "duration": 187,
    "start_time": "2025-08-27T06:27:56.411Z"
   },
   {
    "duration": 0,
    "start_time": "2025-08-27T06:27:56.600Z"
   },
   {
    "duration": 0,
    "start_time": "2025-08-27T06:27:56.601Z"
   },
   {
    "duration": 0,
    "start_time": "2025-08-27T06:27:56.602Z"
   },
   {
    "duration": 0,
    "start_time": "2025-08-27T06:27:56.604Z"
   },
   {
    "duration": 0,
    "start_time": "2025-08-27T06:27:56.605Z"
   },
   {
    "duration": 0,
    "start_time": "2025-08-27T06:27:56.607Z"
   },
   {
    "duration": 0,
    "start_time": "2025-08-27T06:27:56.608Z"
   },
   {
    "duration": 0,
    "start_time": "2025-08-27T06:27:56.610Z"
   },
   {
    "duration": 0,
    "start_time": "2025-08-27T06:27:56.634Z"
   },
   {
    "duration": 0,
    "start_time": "2025-08-27T06:27:56.635Z"
   },
   {
    "duration": 0,
    "start_time": "2025-08-27T06:27:56.637Z"
   },
   {
    "duration": 0,
    "start_time": "2025-08-27T06:27:56.639Z"
   },
   {
    "duration": 0,
    "start_time": "2025-08-27T06:27:56.640Z"
   },
   {
    "duration": 0,
    "start_time": "2025-08-27T06:27:56.641Z"
   },
   {
    "duration": 0,
    "start_time": "2025-08-27T06:27:56.643Z"
   },
   {
    "duration": 184,
    "start_time": "2025-08-27T06:28:53.770Z"
   },
   {
    "duration": 210,
    "start_time": "2025-08-27T06:28:56.341Z"
   },
   {
    "duration": 170,
    "start_time": "2025-08-27T06:28:57.117Z"
   },
   {
    "duration": 179,
    "start_time": "2025-08-27T06:28:57.343Z"
   },
   {
    "duration": 175,
    "start_time": "2025-08-27T06:28:57.532Z"
   },
   {
    "duration": 174,
    "start_time": "2025-08-27T06:28:57.716Z"
   },
   {
    "duration": 193,
    "start_time": "2025-08-27T06:28:57.892Z"
   },
   {
    "duration": 38,
    "start_time": "2025-08-27T06:28:58.367Z"
   },
   {
    "duration": 49,
    "start_time": "2025-08-27T06:28:58.856Z"
   },
   {
    "duration": 198,
    "start_time": "2025-08-27T06:28:59.273Z"
   },
   {
    "duration": 199,
    "start_time": "2025-08-27T06:28:59.641Z"
   },
   {
    "duration": 227,
    "start_time": "2025-08-27T06:29:05.060Z"
   },
   {
    "duration": 49,
    "start_time": "2025-08-27T06:29:05.958Z"
   },
   {
    "duration": 299,
    "start_time": "2025-08-27T06:29:06.897Z"
   },
   {
    "duration": 49,
    "start_time": "2025-08-27T06:29:07.385Z"
   },
   {
    "duration": 300,
    "start_time": "2025-08-27T06:29:08.456Z"
   },
   {
    "duration": 8,
    "start_time": "2025-08-27T06:42:09.755Z"
   },
   {
    "duration": 44,
    "start_time": "2025-08-27T06:42:33.949Z"
   },
   {
    "duration": 42,
    "start_time": "2025-08-27T06:46:13.334Z"
   },
   {
    "duration": 10,
    "start_time": "2025-08-27T06:46:24.716Z"
   },
   {
    "duration": 113,
    "start_time": "2025-08-27T06:46:51.338Z"
   },
   {
    "duration": 44,
    "start_time": "2025-08-27T06:46:59.888Z"
   },
   {
    "duration": 16,
    "start_time": "2025-08-27T06:47:09.126Z"
   },
   {
    "duration": 289,
    "start_time": "2025-08-27T06:47:18.747Z"
   },
   {
    "duration": 88,
    "start_time": "2025-08-27T06:52:43.270Z"
   },
   {
    "duration": 45,
    "start_time": "2025-08-27T06:52:53.706Z"
   },
   {
    "duration": 49,
    "start_time": "2025-08-27T06:53:48.498Z"
   },
   {
    "duration": 16,
    "start_time": "2025-08-27T07:00:08.606Z"
   },
   {
    "duration": 1915,
    "start_time": "2025-08-27T07:00:48.239Z"
   },
   {
    "duration": 17,
    "start_time": "2025-08-27T07:06:01.562Z"
   },
   {
    "duration": 2334,
    "start_time": "2025-08-27T07:06:28.993Z"
   },
   {
    "duration": 15699,
    "start_time": "2025-08-27T07:07:11.495Z"
   },
   {
    "duration": 1796,
    "start_time": "2025-08-27T07:07:55.746Z"
   },
   {
    "duration": 1769,
    "start_time": "2025-08-27T07:08:45.888Z"
   },
   {
    "duration": 269,
    "start_time": "2025-08-27T07:09:00.499Z"
   },
   {
    "duration": 258,
    "start_time": "2025-08-27T07:21:34.393Z"
   },
   {
    "duration": 201,
    "start_time": "2025-08-27T07:22:09.955Z"
   },
   {
    "duration": 221,
    "start_time": "2025-08-27T07:22:26.449Z"
   },
   {
    "duration": 1624,
    "start_time": "2025-08-27T07:23:15.394Z"
   },
   {
    "duration": 14986,
    "start_time": "2025-08-27T07:23:48.856Z"
   },
   {
    "duration": 1427,
    "start_time": "2025-08-27T07:25:43.735Z"
   },
   {
    "duration": 288,
    "start_time": "2025-08-27T07:26:21.804Z"
   },
   {
    "duration": 97,
    "start_time": "2025-08-27T07:26:57.156Z"
   },
   {
    "duration": 14967,
    "start_time": "2025-08-27T07:27:06.101Z"
   },
   {
    "duration": 15088,
    "start_time": "2025-08-27T07:31:46.416Z"
   },
   {
    "duration": 15148,
    "start_time": "2025-08-27T07:32:46.656Z"
   },
   {
    "duration": 348,
    "start_time": "2025-08-27T07:34:47.532Z"
   },
   {
    "duration": 11,
    "start_time": "2025-08-27T07:35:16.514Z"
   },
   {
    "duration": 10,
    "start_time": "2025-08-27T07:35:39.324Z"
   },
   {
    "duration": 439,
    "start_time": "2025-08-27T07:35:57.915Z"
   },
   {
    "duration": 2,
    "start_time": "2025-08-27T07:35:58.356Z"
   },
   {
    "duration": 285,
    "start_time": "2025-08-27T07:35:58.360Z"
   },
   {
    "duration": 2182,
    "start_time": "2025-08-27T07:35:58.646Z"
   },
   {
    "duration": 98,
    "start_time": "2025-08-27T07:36:00.830Z"
   },
   {
    "duration": 27,
    "start_time": "2025-08-27T07:36:00.934Z"
   },
   {
    "duration": 19,
    "start_time": "2025-08-27T07:36:00.963Z"
   },
   {
    "duration": 88,
    "start_time": "2025-08-27T07:36:00.984Z"
   },
   {
    "duration": 7,
    "start_time": "2025-08-27T07:36:01.073Z"
   },
   {
    "duration": 476,
    "start_time": "2025-08-27T07:36:01.082Z"
   },
   {
    "duration": 39,
    "start_time": "2025-08-27T07:36:01.560Z"
   },
   {
    "duration": 170,
    "start_time": "2025-08-27T07:36:01.602Z"
   },
   {
    "duration": 389,
    "start_time": "2025-08-27T07:36:01.774Z"
   },
   {
    "duration": 157,
    "start_time": "2025-08-27T07:36:02.167Z"
   },
   {
    "duration": 316,
    "start_time": "2025-08-27T07:36:02.326Z"
   },
   {
    "duration": 166,
    "start_time": "2025-08-27T07:36:02.644Z"
   },
   {
    "duration": 128,
    "start_time": "2025-08-27T07:36:02.812Z"
   },
   {
    "duration": 343,
    "start_time": "2025-08-27T07:36:02.942Z"
   },
   {
    "duration": 2,
    "start_time": "2025-08-27T07:36:03.287Z"
   },
   {
    "duration": 244,
    "start_time": "2025-08-27T07:36:03.291Z"
   },
   {
    "duration": 5442,
    "start_time": "2025-08-27T07:36:03.537Z"
   },
   {
    "duration": 5,
    "start_time": "2025-08-27T07:36:08.981Z"
   },
   {
    "duration": 65,
    "start_time": "2025-08-27T07:36:08.988Z"
   },
   {
    "duration": 7168,
    "start_time": "2025-08-27T07:36:09.055Z"
   },
   {
    "duration": 198,
    "start_time": "2025-08-27T07:36:16.225Z"
   },
   {
    "duration": 159,
    "start_time": "2025-08-27T07:36:16.425Z"
   },
   {
    "duration": 307,
    "start_time": "2025-08-27T07:36:16.585Z"
   },
   {
    "duration": 219,
    "start_time": "2025-08-27T07:36:16.893Z"
   },
   {
    "duration": 181,
    "start_time": "2025-08-27T07:36:17.114Z"
   },
   {
    "duration": 201,
    "start_time": "2025-08-27T07:36:17.297Z"
   },
   {
    "duration": 194,
    "start_time": "2025-08-27T07:36:17.500Z"
   },
   {
    "duration": 181,
    "start_time": "2025-08-27T07:36:17.696Z"
   },
   {
    "duration": 199,
    "start_time": "2025-08-27T07:36:17.879Z"
   },
   {
    "duration": 39,
    "start_time": "2025-08-27T07:36:18.080Z"
   },
   {
    "duration": 46,
    "start_time": "2025-08-27T07:36:18.134Z"
   },
   {
    "duration": 224,
    "start_time": "2025-08-27T07:36:18.182Z"
   },
   {
    "duration": 218,
    "start_time": "2025-08-27T07:36:18.408Z"
   },
   {
    "duration": 209,
    "start_time": "2025-08-27T07:36:18.627Z"
   },
   {
    "duration": 115,
    "start_time": "2025-08-27T07:36:18.838Z"
   },
   {
    "duration": 0,
    "start_time": "2025-08-27T07:36:18.955Z"
   },
   {
    "duration": 0,
    "start_time": "2025-08-27T07:36:18.956Z"
   },
   {
    "duration": 0,
    "start_time": "2025-08-27T07:36:18.957Z"
   },
   {
    "duration": 0,
    "start_time": "2025-08-27T07:36:18.958Z"
   },
   {
    "duration": 0,
    "start_time": "2025-08-27T07:36:18.960Z"
   },
   {
    "duration": 0,
    "start_time": "2025-08-27T07:36:18.961Z"
   },
   {
    "duration": 0,
    "start_time": "2025-08-27T07:36:18.962Z"
   },
   {
    "duration": 0,
    "start_time": "2025-08-27T07:36:18.963Z"
   },
   {
    "duration": 0,
    "start_time": "2025-08-27T07:36:18.965Z"
   },
   {
    "duration": 0,
    "start_time": "2025-08-27T07:36:18.966Z"
   },
   {
    "duration": 358,
    "start_time": "2025-08-27T07:36:53.376Z"
   },
   {
    "duration": 237,
    "start_time": "2025-08-27T07:36:56.721Z"
   },
   {
    "duration": 14,
    "start_time": "2025-08-27T07:37:08.897Z"
   },
   {
    "duration": 13,
    "start_time": "2025-08-27T07:40:09.219Z"
   },
   {
    "duration": 297,
    "start_time": "2025-08-27T07:40:41.567Z"
   },
   {
    "duration": 14,
    "start_time": "2025-08-27T07:41:12.764Z"
   },
   {
    "duration": 52,
    "start_time": "2025-08-27T07:43:00.429Z"
   },
   {
    "duration": 417,
    "start_time": "2025-08-27T07:43:23.019Z"
   },
   {
    "duration": 283,
    "start_time": "2025-08-27T08:42:21.252Z"
   },
   {
    "duration": 336,
    "start_time": "2025-08-27T08:48:56.229Z"
   },
   {
    "duration": 11,
    "start_time": "2025-08-27T08:49:55.546Z"
   },
   {
    "duration": 369,
    "start_time": "2025-08-27T08:51:25.383Z"
   },
   {
    "duration": 336,
    "start_time": "2025-08-27T08:51:29.330Z"
   },
   {
    "duration": 393,
    "start_time": "2025-08-28T07:09:25.195Z"
   },
   {
    "duration": 2,
    "start_time": "2025-08-28T07:09:25.591Z"
   },
   {
    "duration": 451,
    "start_time": "2025-08-28T07:09:25.595Z"
   },
   {
    "duration": 2150,
    "start_time": "2025-08-28T07:09:26.049Z"
   },
   {
    "duration": 90,
    "start_time": "2025-08-28T07:09:28.201Z"
   },
   {
    "duration": 26,
    "start_time": "2025-08-28T07:09:28.293Z"
   },
   {
    "duration": 33,
    "start_time": "2025-08-28T07:09:28.321Z"
   },
   {
    "duration": 70,
    "start_time": "2025-08-28T07:09:28.356Z"
   },
   {
    "duration": 24,
    "start_time": "2025-08-28T07:09:28.428Z"
   },
   {
    "duration": 474,
    "start_time": "2025-08-28T07:09:28.455Z"
   },
   {
    "duration": 43,
    "start_time": "2025-08-28T07:09:28.930Z"
   },
   {
    "duration": 149,
    "start_time": "2025-08-28T07:09:28.974Z"
   },
   {
    "duration": 355,
    "start_time": "2025-08-28T07:09:29.125Z"
   },
   {
    "duration": 140,
    "start_time": "2025-08-28T07:09:29.481Z"
   },
   {
    "duration": 265,
    "start_time": "2025-08-28T07:09:29.623Z"
   },
   {
    "duration": 156,
    "start_time": "2025-08-28T07:09:29.889Z"
   },
   {
    "duration": 127,
    "start_time": "2025-08-28T07:09:30.049Z"
   },
   {
    "duration": 326,
    "start_time": "2025-08-28T07:09:30.178Z"
   },
   {
    "duration": 3,
    "start_time": "2025-08-28T07:09:30.505Z"
   },
   {
    "duration": 158,
    "start_time": "2025-08-28T07:09:30.509Z"
   },
   {
    "duration": 5443,
    "start_time": "2025-08-28T07:09:30.668Z"
   },
   {
    "duration": 5,
    "start_time": "2025-08-28T07:09:36.112Z"
   },
   {
    "duration": 41,
    "start_time": "2025-08-28T07:09:36.119Z"
   },
   {
    "duration": 6988,
    "start_time": "2025-08-28T07:09:36.161Z"
   },
   {
    "duration": 193,
    "start_time": "2025-08-28T07:09:43.151Z"
   },
   {
    "duration": 159,
    "start_time": "2025-08-28T07:09:43.348Z"
   },
   {
    "duration": 285,
    "start_time": "2025-08-28T07:09:43.508Z"
   },
   {
    "duration": 202,
    "start_time": "2025-08-28T07:09:43.797Z"
   },
   {
    "duration": 177,
    "start_time": "2025-08-28T07:09:44.001Z"
   },
   {
    "duration": 191,
    "start_time": "2025-08-28T07:09:44.180Z"
   },
   {
    "duration": 188,
    "start_time": "2025-08-28T07:09:44.373Z"
   },
   {
    "duration": 179,
    "start_time": "2025-08-28T07:09:44.563Z"
   },
   {
    "duration": 182,
    "start_time": "2025-08-28T07:09:44.744Z"
   },
   {
    "duration": 51,
    "start_time": "2025-08-28T07:09:44.927Z"
   },
   {
    "duration": 46,
    "start_time": "2025-08-28T07:09:44.979Z"
   },
   {
    "duration": 262,
    "start_time": "2025-08-28T07:09:45.027Z"
   },
   {
    "duration": 215,
    "start_time": "2025-08-28T07:09:45.291Z"
   },
   {
    "duration": 344,
    "start_time": "2025-08-28T07:09:45.508Z"
   },
   {
    "duration": 233,
    "start_time": "2025-08-28T07:09:45.853Z"
   },
   {
    "duration": 423,
    "start_time": "2025-08-28T07:09:46.088Z"
   },
   {
    "duration": 353,
    "start_time": "2025-08-28T07:09:46.513Z"
   },
   {
    "duration": 71,
    "start_time": "2025-08-28T07:09:46.868Z"
   },
   {
    "duration": 128,
    "start_time": "2025-08-28T07:13:04.902Z"
   },
   {
    "duration": 94,
    "start_time": "2025-08-28T07:13:19.206Z"
   },
   {
    "duration": 9,
    "start_time": "2025-08-28T07:14:01.477Z"
   },
   {
    "duration": 8,
    "start_time": "2025-08-28T07:14:18.499Z"
   },
   {
    "duration": 9,
    "start_time": "2025-08-28T07:14:29.630Z"
   },
   {
    "duration": 8,
    "start_time": "2025-08-28T07:14:40.259Z"
   },
   {
    "duration": 106,
    "start_time": "2025-08-28T07:14:55.214Z"
   },
   {
    "duration": 108,
    "start_time": "2025-08-28T07:15:17.799Z"
   },
   {
    "duration": 108,
    "start_time": "2025-08-28T07:16:27.157Z"
   },
   {
    "duration": 116,
    "start_time": "2025-08-28T07:18:31.036Z"
   },
   {
    "duration": 91,
    "start_time": "2025-08-28T07:18:46.153Z"
   },
   {
    "duration": 119,
    "start_time": "2025-08-28T07:19:01.981Z"
   },
   {
    "duration": 120,
    "start_time": "2025-08-28T07:19:15.297Z"
   },
   {
    "duration": 111,
    "start_time": "2025-08-28T07:20:00.294Z"
   },
   {
    "duration": 134,
    "start_time": "2025-08-28T07:22:34.335Z"
   },
   {
    "duration": 67,
    "start_time": "2025-08-28T07:23:26.969Z"
   },
   {
    "duration": 61,
    "start_time": "2025-08-28T07:23:44.386Z"
   },
   {
    "duration": 4,
    "start_time": "2025-08-28T07:25:05.739Z"
   },
   {
    "duration": 116,
    "start_time": "2025-08-28T07:25:20.845Z"
   },
   {
    "duration": 106,
    "start_time": "2025-08-28T07:26:40.517Z"
   },
   {
    "duration": 112,
    "start_time": "2025-08-28T07:27:17.790Z"
   },
   {
    "duration": 122,
    "start_time": "2025-08-28T07:27:28.037Z"
   },
   {
    "duration": 119,
    "start_time": "2025-08-28T07:29:14.445Z"
   },
   {
    "duration": 87,
    "start_time": "2025-08-28T07:29:33.811Z"
   },
   {
    "duration": 111,
    "start_time": "2025-08-28T07:29:40.510Z"
   },
   {
    "duration": 113,
    "start_time": "2025-08-28T07:31:53.651Z"
   },
   {
    "duration": 108,
    "start_time": "2025-08-28T07:49:14.909Z"
   },
   {
    "duration": 13,
    "start_time": "2025-08-28T07:49:21.469Z"
   },
   {
    "duration": 108,
    "start_time": "2025-08-28T07:49:50.504Z"
   },
   {
    "duration": 114,
    "start_time": "2025-08-28T07:49:57.519Z"
   },
   {
    "duration": 1556,
    "start_time": "2025-08-28T07:50:08.559Z"
   },
   {
    "duration": 119,
    "start_time": "2025-08-28T07:51:15.157Z"
   },
   {
    "duration": 187,
    "start_time": "2025-08-28T07:57:20.661Z"
   },
   {
    "duration": 105,
    "start_time": "2025-08-28T08:00:54.721Z"
   },
   {
    "duration": 95,
    "start_time": "2025-08-28T08:01:29.761Z"
   },
   {
    "duration": 96,
    "start_time": "2025-08-28T08:02:03.723Z"
   },
   {
    "duration": 121,
    "start_time": "2025-08-28T08:02:16.573Z"
   },
   {
    "duration": 110,
    "start_time": "2025-08-28T08:09:34.684Z"
   },
   {
    "duration": 115,
    "start_time": "2025-08-28T08:11:33.464Z"
   },
   {
    "duration": 209,
    "start_time": "2025-08-28T09:33:36.714Z"
   },
   {
    "duration": 384,
    "start_time": "2025-08-28T09:34:26.182Z"
   },
   {
    "duration": 365,
    "start_time": "2025-08-28T09:34:40.990Z"
   },
   {
    "duration": 325,
    "start_time": "2025-08-28T09:34:53.047Z"
   },
   {
    "duration": 543,
    "start_time": "2025-08-28T10:38:13.359Z"
   },
   {
    "duration": 98,
    "start_time": "2025-08-28T10:38:50.302Z"
   },
   {
    "duration": 94,
    "start_time": "2025-08-28T10:41:59.017Z"
   },
   {
    "duration": 132,
    "start_time": "2025-08-28T11:46:52.742Z"
   },
   {
    "duration": 120,
    "start_time": "2025-08-28T11:47:06.205Z"
   },
   {
    "duration": 268,
    "start_time": "2025-08-28T12:09:31.806Z"
   },
   {
    "duration": 255,
    "start_time": "2025-08-28T12:09:54.528Z"
   },
   {
    "duration": 108,
    "start_time": "2025-08-28T12:10:20.280Z"
   },
   {
    "duration": 391,
    "start_time": "2025-08-28T12:11:10.208Z"
   },
   {
    "duration": 51,
    "start_time": "2025-08-29T11:58:38.042Z"
   },
   {
    "duration": 358,
    "start_time": "2025-08-29T11:58:49.711Z"
   },
   {
    "duration": 2,
    "start_time": "2025-08-29T11:58:50.071Z"
   },
   {
    "duration": 427,
    "start_time": "2025-08-29T11:58:50.075Z"
   },
   {
    "duration": 2072,
    "start_time": "2025-08-29T11:58:50.504Z"
   },
   {
    "duration": 92,
    "start_time": "2025-08-29T11:58:52.578Z"
   },
   {
    "duration": 24,
    "start_time": "2025-08-29T11:58:52.672Z"
   },
   {
    "duration": 30,
    "start_time": "2025-08-29T11:58:52.697Z"
   },
   {
    "duration": 78,
    "start_time": "2025-08-29T11:58:52.728Z"
   },
   {
    "duration": 6,
    "start_time": "2025-08-29T11:58:52.808Z"
   },
   {
    "duration": 421,
    "start_time": "2025-08-29T11:58:52.815Z"
   },
   {
    "duration": 41,
    "start_time": "2025-08-29T11:58:53.237Z"
   },
   {
    "duration": 137,
    "start_time": "2025-08-29T11:58:53.279Z"
   },
   {
    "duration": 354,
    "start_time": "2025-08-29T11:58:53.417Z"
   },
   {
    "duration": 137,
    "start_time": "2025-08-29T11:58:53.774Z"
   },
   {
    "duration": 259,
    "start_time": "2025-08-29T11:58:53.912Z"
   },
   {
    "duration": 147,
    "start_time": "2025-08-29T11:58:54.173Z"
   },
   {
    "duration": 113,
    "start_time": "2025-08-29T11:58:54.321Z"
   },
   {
    "duration": 294,
    "start_time": "2025-08-29T11:58:54.435Z"
   },
   {
    "duration": 134,
    "start_time": "2025-08-29T11:58:54.730Z"
   },
   {
    "duration": 5525,
    "start_time": "2025-08-29T11:58:54.866Z"
   },
   {
    "duration": 4,
    "start_time": "2025-08-29T11:59:00.393Z"
   },
   {
    "duration": 44,
    "start_time": "2025-08-29T11:59:00.399Z"
   },
   {
    "duration": 7172,
    "start_time": "2025-08-29T11:59:00.445Z"
   },
   {
    "duration": 197,
    "start_time": "2025-08-29T11:59:07.618Z"
   },
   {
    "duration": 159,
    "start_time": "2025-08-29T11:59:07.817Z"
   },
   {
    "duration": 267,
    "start_time": "2025-08-29T11:59:07.977Z"
   },
   {
    "duration": 197,
    "start_time": "2025-08-29T11:59:08.249Z"
   },
   {
    "duration": 161,
    "start_time": "2025-08-29T11:59:08.450Z"
   },
   {
    "duration": 189,
    "start_time": "2025-08-29T11:59:08.613Z"
   },
   {
    "duration": 178,
    "start_time": "2025-08-29T11:59:08.804Z"
   },
   {
    "duration": 172,
    "start_time": "2025-08-29T11:59:08.984Z"
   },
   {
    "duration": 37,
    "start_time": "2025-08-29T11:59:09.158Z"
   },
   {
    "duration": 68,
    "start_time": "2025-08-29T11:59:09.196Z"
   },
   {
    "duration": 199,
    "start_time": "2025-08-29T11:59:09.265Z"
   },
   {
    "duration": 205,
    "start_time": "2025-08-29T11:59:09.466Z"
   },
   {
    "duration": 323,
    "start_time": "2025-08-29T11:59:09.672Z"
   },
   {
    "duration": 216,
    "start_time": "2025-08-29T11:59:09.996Z"
   },
   {
    "duration": 394,
    "start_time": "2025-08-29T11:59:10.214Z"
   },
   {
    "duration": 364,
    "start_time": "2025-08-29T11:59:10.609Z"
   },
   {
    "duration": 122,
    "start_time": "2025-08-29T11:59:10.974Z"
   },
   {
    "duration": 81,
    "start_time": "2025-08-29T11:59:11.100Z"
   },
   {
    "duration": 0,
    "start_time": "2025-08-29T11:59:11.183Z"
   },
   {
    "duration": 0,
    "start_time": "2025-08-29T11:59:11.184Z"
   },
   {
    "duration": 199,
    "start_time": "2025-08-29T11:59:40.266Z"
   },
   {
    "duration": 167,
    "start_time": "2025-08-29T12:01:12.535Z"
   },
   {
    "duration": 167,
    "start_time": "2025-08-29T12:01:48.380Z"
   },
   {
    "duration": 177,
    "start_time": "2025-08-29T12:01:49.527Z"
   },
   {
    "duration": 178,
    "start_time": "2025-08-29T12:28:47.952Z"
   },
   {
    "duration": 369,
    "start_time": "2025-08-30T08:09:43.525Z"
   },
   {
    "duration": 3,
    "start_time": "2025-08-30T08:09:43.896Z"
   },
   {
    "duration": 411,
    "start_time": "2025-08-30T08:09:43.900Z"
   },
   {
    "duration": 2076,
    "start_time": "2025-08-30T08:09:44.313Z"
   },
   {
    "duration": 85,
    "start_time": "2025-08-30T08:09:46.391Z"
   },
   {
    "duration": 26,
    "start_time": "2025-08-30T08:09:46.478Z"
   },
   {
    "duration": 15,
    "start_time": "2025-08-30T08:09:46.505Z"
   },
   {
    "duration": 85,
    "start_time": "2025-08-30T08:09:46.521Z"
   },
   {
    "duration": 5,
    "start_time": "2025-08-30T08:09:46.608Z"
   },
   {
    "duration": 414,
    "start_time": "2025-08-30T08:09:46.615Z"
   },
   {
    "duration": 32,
    "start_time": "2025-08-30T08:09:47.030Z"
   },
   {
    "duration": 130,
    "start_time": "2025-08-30T08:09:47.076Z"
   },
   {
    "duration": 327,
    "start_time": "2025-08-30T08:09:47.207Z"
   },
   {
    "duration": 160,
    "start_time": "2025-08-30T08:09:47.536Z"
   },
   {
    "duration": 259,
    "start_time": "2025-08-30T08:09:47.698Z"
   },
   {
    "duration": 147,
    "start_time": "2025-08-30T08:09:47.958Z"
   },
   {
    "duration": 122,
    "start_time": "2025-08-30T08:09:48.106Z"
   },
   {
    "duration": 314,
    "start_time": "2025-08-30T08:09:48.229Z"
   },
   {
    "duration": 132,
    "start_time": "2025-08-30T08:09:48.545Z"
   },
   {
    "duration": 5042,
    "start_time": "2025-08-30T08:09:48.679Z"
   },
   {
    "duration": 5,
    "start_time": "2025-08-30T08:09:53.723Z"
   },
   {
    "duration": 48,
    "start_time": "2025-08-30T08:09:53.729Z"
   },
   {
    "duration": 6561,
    "start_time": "2025-08-30T08:09:53.778Z"
   },
   {
    "duration": 179,
    "start_time": "2025-08-30T08:10:00.341Z"
   },
   {
    "duration": 136,
    "start_time": "2025-08-30T08:10:00.522Z"
   },
   {
    "duration": 272,
    "start_time": "2025-08-30T08:10:00.660Z"
   },
   {
    "duration": 198,
    "start_time": "2025-08-30T08:10:00.934Z"
   },
   {
    "duration": 162,
    "start_time": "2025-08-30T08:10:01.136Z"
   },
   {
    "duration": 179,
    "start_time": "2025-08-30T08:10:01.300Z"
   },
   {
    "duration": 183,
    "start_time": "2025-08-30T08:10:01.481Z"
   },
   {
    "duration": 173,
    "start_time": "2025-08-30T08:10:01.666Z"
   },
   {
    "duration": 41,
    "start_time": "2025-08-30T08:10:01.840Z"
   },
   {
    "duration": 142,
    "start_time": "2025-08-30T08:10:01.882Z"
   },
   {
    "duration": 197,
    "start_time": "2025-08-30T08:10:02.026Z"
   },
   {
    "duration": 192,
    "start_time": "2025-08-30T08:10:02.225Z"
   },
   {
    "duration": 305,
    "start_time": "2025-08-30T08:10:02.419Z"
   },
   {
    "duration": 205,
    "start_time": "2025-08-30T08:10:02.725Z"
   },
   {
    "duration": 390,
    "start_time": "2025-08-30T08:10:02.932Z"
   },
   {
    "duration": 342,
    "start_time": "2025-08-30T08:10:03.324Z"
   },
   {
    "duration": 111,
    "start_time": "2025-08-30T08:10:03.676Z"
   },
   {
    "duration": 69,
    "start_time": "2025-08-30T08:10:03.789Z"
   },
   {
    "duration": 0,
    "start_time": "2025-08-30T08:10:03.860Z"
   },
   {
    "duration": 0,
    "start_time": "2025-08-30T08:10:03.861Z"
   },
   {
    "duration": 9,
    "start_time": "2025-08-30T08:25:43.321Z"
   },
   {
    "duration": 852,
    "start_time": "2025-08-30T08:26:12.235Z"
   },
   {
    "duration": 1415,
    "start_time": "2025-08-30T08:27:27.678Z"
   },
   {
    "duration": 855,
    "start_time": "2025-08-30T08:28:19.921Z"
   },
   {
    "duration": 1841,
    "start_time": "2025-08-30T08:29:13.695Z"
   },
   {
    "duration": 67,
    "start_time": "2025-08-30T08:29:31.764Z"
   },
   {
    "duration": 1111,
    "start_time": "2025-08-30T08:31:05.381Z"
   },
   {
    "duration": 456,
    "start_time": "2025-08-30T08:31:29.008Z"
   },
   {
    "duration": 129,
    "start_time": "2025-08-30T08:32:19.609Z"
   },
   {
    "duration": 89,
    "start_time": "2025-08-30T08:36:09.666Z"
   },
   {
    "duration": 96,
    "start_time": "2025-08-30T08:37:38.956Z"
   },
   {
    "duration": 97,
    "start_time": "2025-08-30T08:38:29.732Z"
   },
   {
    "duration": 103,
    "start_time": "2025-08-30T08:38:50.637Z"
   },
   {
    "duration": 145,
    "start_time": "2025-08-30T08:45:26.181Z"
   },
   {
    "duration": 84,
    "start_time": "2025-08-30T08:53:02.808Z"
   },
   {
    "duration": 87,
    "start_time": "2025-08-30T08:53:27.073Z"
   },
   {
    "duration": 156,
    "start_time": "2025-08-30T08:55:32.163Z"
   },
   {
    "duration": 163,
    "start_time": "2025-08-30T08:55:49.704Z"
   },
   {
    "duration": 163,
    "start_time": "2025-08-30T08:56:04.083Z"
   },
   {
    "duration": 162,
    "start_time": "2025-08-30T08:56:11.266Z"
   },
   {
    "duration": 90,
    "start_time": "2025-08-30T08:57:06.566Z"
   },
   {
    "duration": 89,
    "start_time": "2025-08-30T08:57:21.642Z"
   },
   {
    "duration": 161,
    "start_time": "2025-08-30T08:58:23.450Z"
   },
   {
    "duration": 87,
    "start_time": "2025-08-30T09:03:31.570Z"
   },
   {
    "duration": 84,
    "start_time": "2025-08-30T09:03:37.325Z"
   },
   {
    "duration": 87,
    "start_time": "2025-08-30T09:04:02.142Z"
   },
   {
    "duration": 112,
    "start_time": "2025-08-30T09:11:01.020Z"
   },
   {
    "duration": 127,
    "start_time": "2025-08-30T09:11:17.773Z"
   },
   {
    "duration": 60,
    "start_time": "2025-08-30T09:15:37.205Z"
   },
   {
    "duration": 38,
    "start_time": "2025-08-30T09:17:10.189Z"
   },
   {
    "duration": 41,
    "start_time": "2025-08-30T09:19:44.389Z"
   },
   {
    "duration": 40,
    "start_time": "2025-08-30T09:20:06.622Z"
   },
   {
    "duration": 38,
    "start_time": "2025-08-30T09:20:23.146Z"
   },
   {
    "duration": 39,
    "start_time": "2025-08-30T09:20:47.260Z"
   },
   {
    "duration": 41,
    "start_time": "2025-08-30T09:21:01.589Z"
   },
   {
    "duration": 45,
    "start_time": "2025-08-30T09:21:13.511Z"
   },
   {
    "duration": 1189,
    "start_time": "2025-08-30T09:22:30.391Z"
   },
   {
    "duration": 1421,
    "start_time": "2025-08-30T09:22:42.719Z"
   },
   {
    "duration": 1357,
    "start_time": "2025-08-30T09:23:09.109Z"
   },
   {
    "duration": 35,
    "start_time": "2025-08-30T09:23:28.880Z"
   },
   {
    "duration": 37,
    "start_time": "2025-08-30T09:23:37.263Z"
   },
   {
    "duration": 45,
    "start_time": "2025-08-30T09:24:03.435Z"
   },
   {
    "duration": 6726,
    "start_time": "2025-08-30T09:33:17.167Z"
   },
   {
    "duration": 7027,
    "start_time": "2025-08-30T09:34:21.668Z"
   },
   {
    "duration": 6659,
    "start_time": "2025-08-30T09:34:41.362Z"
   },
   {
    "duration": 80,
    "start_time": "2025-08-30T09:37:00.086Z"
   },
   {
    "duration": 118,
    "start_time": "2025-08-30T09:37:42.254Z"
   },
   {
    "duration": 83,
    "start_time": "2025-08-30T09:37:58.420Z"
   },
   {
    "duration": 92,
    "start_time": "2025-08-30T09:38:40.682Z"
   },
   {
    "duration": 88,
    "start_time": "2025-08-30T09:39:11.019Z"
   },
   {
    "duration": 87,
    "start_time": "2025-08-30T09:39:21.302Z"
   },
   {
    "duration": 56,
    "start_time": "2025-08-30T09:43:20.758Z"
   },
   {
    "duration": 45,
    "start_time": "2025-08-30T09:43:40.173Z"
   },
   {
    "duration": 42,
    "start_time": "2025-08-30T09:46:19.144Z"
   },
   {
    "duration": 59,
    "start_time": "2025-08-30T09:47:49.862Z"
   },
   {
    "duration": 51,
    "start_time": "2025-08-30T09:48:21.595Z"
   },
   {
    "duration": 43,
    "start_time": "2025-08-30T09:48:25.391Z"
   },
   {
    "duration": 51,
    "start_time": "2025-08-30T09:48:32.427Z"
   },
   {
    "duration": 40,
    "start_time": "2025-08-30T09:49:06.011Z"
   },
   {
    "duration": 51,
    "start_time": "2025-08-30T09:49:07.808Z"
   },
   {
    "duration": 58,
    "start_time": "2025-08-30T09:49:27.286Z"
   },
   {
    "duration": 53,
    "start_time": "2025-08-30T09:49:40.435Z"
   },
   {
    "duration": 52,
    "start_time": "2025-08-30T09:50:41.433Z"
   },
   {
    "duration": 40,
    "start_time": "2025-08-30T10:25:51.370Z"
   },
   {
    "duration": 48,
    "start_time": "2025-08-30T10:25:55.558Z"
   },
   {
    "duration": 183,
    "start_time": "2025-08-30T10:26:09.632Z"
   },
   {
    "duration": 181,
    "start_time": "2025-08-30T10:26:16.112Z"
   },
   {
    "duration": 104,
    "start_time": "2025-08-30T10:29:50.341Z"
   },
   {
    "duration": 91,
    "start_time": "2025-08-30T10:30:14.022Z"
   },
   {
    "duration": 107,
    "start_time": "2025-08-30T10:30:29.891Z"
   },
   {
    "duration": 2,
    "start_time": "2025-08-30T10:31:47.290Z"
   },
   {
    "duration": 259,
    "start_time": "2025-08-30T10:35:01.571Z"
   },
   {
    "duration": 328,
    "start_time": "2025-08-30T10:40:59.206Z"
   },
   {
    "duration": 92,
    "start_time": "2025-08-30T10:56:34.639Z"
   },
   {
    "duration": 95,
    "start_time": "2025-08-30T12:41:27.490Z"
   },
   {
    "duration": 395,
    "start_time": "2025-08-30T12:49:15.348Z"
   },
   {
    "duration": 2,
    "start_time": "2025-08-30T12:49:15.745Z"
   },
   {
    "duration": 288,
    "start_time": "2025-08-30T12:49:15.749Z"
   },
   {
    "duration": 2201,
    "start_time": "2025-08-30T12:49:16.039Z"
   },
   {
    "duration": 97,
    "start_time": "2025-08-30T12:49:18.241Z"
   },
   {
    "duration": 24,
    "start_time": "2025-08-30T12:49:18.339Z"
   },
   {
    "duration": 18,
    "start_time": "2025-08-30T12:49:18.384Z"
   },
   {
    "duration": 85,
    "start_time": "2025-08-30T12:49:18.404Z"
   },
   {
    "duration": 7,
    "start_time": "2025-08-30T12:49:18.490Z"
   },
   {
    "duration": 431,
    "start_time": "2025-08-30T12:49:18.500Z"
   },
   {
    "duration": 32,
    "start_time": "2025-08-30T12:49:18.933Z"
   },
   {
    "duration": 149,
    "start_time": "2025-08-30T12:49:18.977Z"
   },
   {
    "duration": 374,
    "start_time": "2025-08-30T12:49:19.127Z"
   },
   {
    "duration": 140,
    "start_time": "2025-08-30T12:49:19.503Z"
   },
   {
    "duration": 296,
    "start_time": "2025-08-30T12:49:19.645Z"
   },
   {
    "duration": 159,
    "start_time": "2025-08-30T12:49:19.942Z"
   },
   {
    "duration": 114,
    "start_time": "2025-08-30T12:49:20.103Z"
   },
   {
    "duration": 315,
    "start_time": "2025-08-30T12:49:20.218Z"
   },
   {
    "duration": 130,
    "start_time": "2025-08-30T12:49:20.535Z"
   },
   {
    "duration": 5316,
    "start_time": "2025-08-30T12:49:20.667Z"
   },
   {
    "duration": 7,
    "start_time": "2025-08-30T12:49:25.985Z"
   },
   {
    "duration": 23,
    "start_time": "2025-08-30T12:49:25.993Z"
   },
   {
    "duration": 7108,
    "start_time": "2025-08-30T12:49:26.017Z"
   },
   {
    "duration": 200,
    "start_time": "2025-08-30T12:49:33.127Z"
   },
   {
    "duration": 143,
    "start_time": "2025-08-30T12:49:33.328Z"
   },
   {
    "duration": 271,
    "start_time": "2025-08-30T12:49:33.476Z"
   },
   {
    "duration": 214,
    "start_time": "2025-08-30T12:49:33.748Z"
   },
   {
    "duration": 174,
    "start_time": "2025-08-30T12:49:33.965Z"
   },
   {
    "duration": 200,
    "start_time": "2025-08-30T12:49:34.140Z"
   },
   {
    "duration": 196,
    "start_time": "2025-08-30T12:49:34.342Z"
   },
   {
    "duration": 172,
    "start_time": "2025-08-30T12:49:34.540Z"
   },
   {
    "duration": 40,
    "start_time": "2025-08-30T12:49:34.714Z"
   },
   {
    "duration": 56,
    "start_time": "2025-08-30T12:49:34.756Z"
   },
   {
    "duration": 51,
    "start_time": "2025-08-30T12:49:34.813Z"
   },
   {
    "duration": 212,
    "start_time": "2025-08-30T12:49:34.876Z"
   },
   {
    "duration": 201,
    "start_time": "2025-08-30T12:49:35.090Z"
   },
   {
    "duration": 334,
    "start_time": "2025-08-30T12:49:35.292Z"
   },
   {
    "duration": 230,
    "start_time": "2025-08-30T12:49:35.627Z"
   },
   {
    "duration": 431,
    "start_time": "2025-08-30T12:49:35.860Z"
   },
   {
    "duration": 342,
    "start_time": "2025-08-30T12:49:36.293Z"
   },
   {
    "duration": 111,
    "start_time": "2025-08-30T12:49:36.636Z"
   },
   {
    "duration": 128,
    "start_time": "2025-08-30T12:49:36.748Z"
   },
   {
    "duration": 123,
    "start_time": "2025-08-30T12:49:36.884Z"
   },
   {
    "duration": 562,
    "start_time": "2025-08-30T12:49:37.008Z"
   },
   {
    "duration": 112,
    "start_time": "2025-08-30T12:49:37.576Z"
   },
   {
    "duration": 14,
    "start_time": "2025-08-30T12:51:00.750Z"
   },
   {
    "duration": 96,
    "start_time": "2025-08-30T12:53:32.645Z"
   },
   {
    "duration": 235,
    "start_time": "2025-08-30T12:53:56.949Z"
   },
   {
    "duration": 104,
    "start_time": "2025-08-30T12:54:00.490Z"
   },
   {
    "duration": 4819,
    "start_time": "2025-08-30T12:54:01.207Z"
   },
   {
    "duration": 390,
    "start_time": "2025-08-30T12:54:10.535Z"
   },
   {
    "duration": 3,
    "start_time": "2025-08-30T12:54:10.927Z"
   },
   {
    "duration": 303,
    "start_time": "2025-08-30T12:54:10.931Z"
   },
   {
    "duration": 1915,
    "start_time": "2025-08-30T12:54:11.236Z"
   },
   {
    "duration": 87,
    "start_time": "2025-08-30T12:54:13.153Z"
   },
   {
    "duration": 25,
    "start_time": "2025-08-30T12:54:13.241Z"
   },
   {
    "duration": 17,
    "start_time": "2025-08-30T12:54:13.276Z"
   },
   {
    "duration": 156,
    "start_time": "2025-08-30T12:54:13.294Z"
   },
   {
    "duration": 6,
    "start_time": "2025-08-30T12:54:13.452Z"
   },
   {
    "duration": 14,
    "start_time": "2025-08-30T12:54:13.460Z"
   },
   {
    "duration": 391,
    "start_time": "2025-08-30T12:54:13.476Z"
   },
   {
    "duration": 35,
    "start_time": "2025-08-30T12:54:13.869Z"
   },
   {
    "duration": 162,
    "start_time": "2025-08-30T12:54:13.906Z"
   },
   {
    "duration": 359,
    "start_time": "2025-08-30T12:54:14.070Z"
   },
   {
    "duration": 129,
    "start_time": "2025-08-30T12:54:14.431Z"
   },
   {
    "duration": 262,
    "start_time": "2025-08-30T12:54:14.562Z"
   },
   {
    "duration": 151,
    "start_time": "2025-08-30T12:54:14.826Z"
   },
   {
    "duration": 116,
    "start_time": "2025-08-30T12:54:14.978Z"
   },
   {
    "duration": 304,
    "start_time": "2025-08-30T12:54:15.096Z"
   },
   {
    "duration": 124,
    "start_time": "2025-08-30T12:54:15.401Z"
   },
   {
    "duration": 4737,
    "start_time": "2025-08-30T12:54:15.526Z"
   },
   {
    "duration": 11,
    "start_time": "2025-08-30T12:54:20.265Z"
   },
   {
    "duration": 23,
    "start_time": "2025-08-30T12:54:20.278Z"
   },
   {
    "duration": 6665,
    "start_time": "2025-08-30T12:54:20.303Z"
   },
   {
    "duration": 177,
    "start_time": "2025-08-30T12:54:26.970Z"
   },
   {
    "duration": 141,
    "start_time": "2025-08-30T12:54:27.149Z"
   },
   {
    "duration": 281,
    "start_time": "2025-08-30T12:54:27.292Z"
   },
   {
    "duration": 208,
    "start_time": "2025-08-30T12:54:27.577Z"
   },
   {
    "duration": 163,
    "start_time": "2025-08-30T12:54:27.786Z"
   },
   {
    "duration": 202,
    "start_time": "2025-08-30T12:54:27.951Z"
   },
   {
    "duration": 183,
    "start_time": "2025-08-30T12:54:28.155Z"
   },
   {
    "duration": 194,
    "start_time": "2025-08-30T12:54:28.339Z"
   },
   {
    "duration": 45,
    "start_time": "2025-08-30T12:54:28.534Z"
   },
   {
    "duration": 45,
    "start_time": "2025-08-30T12:54:28.580Z"
   },
   {
    "duration": 61,
    "start_time": "2025-08-30T12:54:28.626Z"
   },
   {
    "duration": 201,
    "start_time": "2025-08-30T12:54:28.688Z"
   },
   {
    "duration": 187,
    "start_time": "2025-08-30T12:54:28.891Z"
   },
   {
    "duration": 333,
    "start_time": "2025-08-30T12:54:29.080Z"
   },
   {
    "duration": 217,
    "start_time": "2025-08-30T12:54:29.415Z"
   },
   {
    "duration": 367,
    "start_time": "2025-08-30T12:54:29.634Z"
   },
   {
    "duration": 377,
    "start_time": "2025-08-30T12:54:30.003Z"
   },
   {
    "duration": 115,
    "start_time": "2025-08-30T12:54:30.382Z"
   },
   {
    "duration": 139,
    "start_time": "2025-08-30T12:54:30.499Z"
   },
   {
    "duration": 130,
    "start_time": "2025-08-30T12:54:30.640Z"
   },
   {
    "duration": 539,
    "start_time": "2025-08-30T12:54:30.775Z"
   },
   {
    "duration": 103,
    "start_time": "2025-08-30T12:54:31.317Z"
   },
   {
    "duration": 185,
    "start_time": "2025-08-30T12:59:59.032Z"
   },
   {
    "duration": 199,
    "start_time": "2025-08-30T13:01:06.514Z"
   },
   {
    "duration": 202,
    "start_time": "2025-08-30T13:01:15.126Z"
   },
   {
    "duration": 412,
    "start_time": "2025-08-30T13:01:24.674Z"
   },
   {
    "duration": 356,
    "start_time": "2025-08-30T13:01:30.625Z"
   },
   {
    "duration": 425,
    "start_time": "2025-08-30T13:01:58.959Z"
   },
   {
    "duration": 3,
    "start_time": "2025-08-30T13:01:59.386Z"
   },
   {
    "duration": 347,
    "start_time": "2025-08-30T13:01:59.390Z"
   },
   {
    "duration": 1825,
    "start_time": "2025-08-30T13:01:59.739Z"
   },
   {
    "duration": 88,
    "start_time": "2025-08-30T13:02:01.566Z"
   },
   {
    "duration": 41,
    "start_time": "2025-08-30T13:02:01.657Z"
   },
   {
    "duration": 23,
    "start_time": "2025-08-30T13:02:01.700Z"
   },
   {
    "duration": 103,
    "start_time": "2025-08-30T13:02:01.725Z"
   },
   {
    "duration": 6,
    "start_time": "2025-08-30T13:02:01.829Z"
   },
   {
    "duration": 44,
    "start_time": "2025-08-30T13:02:01.838Z"
   },
   {
    "duration": 577,
    "start_time": "2025-08-30T13:02:01.883Z"
   },
   {
    "duration": 45,
    "start_time": "2025-08-30T13:02:02.462Z"
   },
   {
    "duration": 147,
    "start_time": "2025-08-30T13:02:02.508Z"
   },
   {
    "duration": 369,
    "start_time": "2025-08-30T13:02:02.656Z"
   },
   {
    "duration": 151,
    "start_time": "2025-08-30T13:02:03.027Z"
   },
   {
    "duration": 278,
    "start_time": "2025-08-30T13:02:03.179Z"
   },
   {
    "duration": 171,
    "start_time": "2025-08-30T13:02:03.459Z"
   },
   {
    "duration": 127,
    "start_time": "2025-08-30T13:02:03.632Z"
   },
   {
    "duration": 297,
    "start_time": "2025-08-30T13:02:03.761Z"
   },
   {
    "duration": 122,
    "start_time": "2025-08-30T13:02:04.060Z"
   },
   {
    "duration": 4834,
    "start_time": "2025-08-30T13:02:04.184Z"
   },
   {
    "duration": 5,
    "start_time": "2025-08-30T13:02:09.020Z"
   },
   {
    "duration": 27,
    "start_time": "2025-08-30T13:02:09.026Z"
   },
   {
    "duration": 6755,
    "start_time": "2025-08-30T13:02:09.054Z"
   },
   {
    "duration": 209,
    "start_time": "2025-08-30T13:02:15.811Z"
   },
   {
    "duration": 143,
    "start_time": "2025-08-30T13:02:16.021Z"
   },
   {
    "duration": 267,
    "start_time": "2025-08-30T13:02:16.166Z"
   },
   {
    "duration": 210,
    "start_time": "2025-08-30T13:02:16.436Z"
   },
   {
    "duration": 166,
    "start_time": "2025-08-30T13:02:16.647Z"
   },
   {
    "duration": 176,
    "start_time": "2025-08-30T13:02:16.815Z"
   },
   {
    "duration": 184,
    "start_time": "2025-08-30T13:02:16.992Z"
   },
   {
    "duration": 188,
    "start_time": "2025-08-30T13:02:17.178Z"
   },
   {
    "duration": 43,
    "start_time": "2025-08-30T13:02:17.367Z"
   },
   {
    "duration": 86,
    "start_time": "2025-08-30T13:02:17.411Z"
   },
   {
    "duration": 54,
    "start_time": "2025-08-30T13:02:17.499Z"
   },
   {
    "duration": 213,
    "start_time": "2025-08-30T13:02:17.555Z"
   },
   {
    "duration": 201,
    "start_time": "2025-08-30T13:02:17.769Z"
   },
   {
    "duration": 348,
    "start_time": "2025-08-30T13:02:17.976Z"
   },
   {
    "duration": 226,
    "start_time": "2025-08-30T13:02:18.325Z"
   },
   {
    "duration": 361,
    "start_time": "2025-08-30T13:02:18.553Z"
   },
   {
    "duration": 352,
    "start_time": "2025-08-30T13:02:18.916Z"
   },
   {
    "duration": 114,
    "start_time": "2025-08-30T13:02:19.270Z"
   },
   {
    "duration": 126,
    "start_time": "2025-08-30T13:02:19.386Z"
   },
   {
    "duration": 134,
    "start_time": "2025-08-30T13:02:19.514Z"
   },
   {
    "duration": 535,
    "start_time": "2025-08-30T13:02:19.649Z"
   },
   {
    "duration": 94,
    "start_time": "2025-08-30T13:02:20.186Z"
   },
   {
    "duration": 149,
    "start_time": "2025-08-30T13:02:47.794Z"
   },
   {
    "duration": 189,
    "start_time": "2025-08-30T13:02:55.268Z"
   },
   {
    "duration": 206,
    "start_time": "2025-08-30T13:03:00.758Z"
   },
   {
    "duration": 163,
    "start_time": "2025-08-30T13:03:05.560Z"
   },
   {
    "duration": 198,
    "start_time": "2025-08-30T13:03:15.832Z"
   },
   {
    "duration": 179,
    "start_time": "2025-08-30T13:03:20.091Z"
   },
   {
    "duration": 194,
    "start_time": "2025-08-30T13:03:24.192Z"
   },
   {
    "duration": 824,
    "start_time": "2025-08-31T06:42:53.253Z"
   },
   {
    "duration": 1837,
    "start_time": "2025-08-31T06:42:54.079Z"
   },
   {
    "duration": 93,
    "start_time": "2025-08-31T06:42:55.918Z"
   },
   {
    "duration": 38,
    "start_time": "2025-08-31T06:42:56.013Z"
   },
   {
    "duration": 16,
    "start_time": "2025-08-31T06:42:56.053Z"
   },
   {
    "duration": 87,
    "start_time": "2025-08-31T06:42:56.071Z"
   },
   {
    "duration": 7,
    "start_time": "2025-08-31T06:42:56.160Z"
   },
   {
    "duration": 27,
    "start_time": "2025-08-31T06:42:56.168Z"
   },
   {
    "duration": 430,
    "start_time": "2025-08-31T06:42:56.197Z"
   },
   {
    "duration": 33,
    "start_time": "2025-08-31T06:42:56.629Z"
   },
   {
    "duration": 148,
    "start_time": "2025-08-31T06:42:56.663Z"
   },
   {
    "duration": 365,
    "start_time": "2025-08-31T06:42:56.812Z"
   },
   {
    "duration": 142,
    "start_time": "2025-08-31T06:42:57.179Z"
   },
   {
    "duration": 268,
    "start_time": "2025-08-31T06:42:57.324Z"
   },
   {
    "duration": 212,
    "start_time": "2025-08-31T06:42:57.594Z"
   },
   {
    "duration": 65,
    "start_time": "2025-08-31T06:42:57.807Z"
   },
   {
    "duration": 292,
    "start_time": "2025-08-31T06:42:57.874Z"
   },
   {
    "duration": 112,
    "start_time": "2025-08-31T06:42:58.167Z"
   },
   {
    "duration": 4880,
    "start_time": "2025-08-31T06:42:58.281Z"
   },
   {
    "duration": 5,
    "start_time": "2025-08-31T06:43:03.163Z"
   },
   {
    "duration": 25,
    "start_time": "2025-08-31T06:43:03.169Z"
   },
   {
    "duration": 6892,
    "start_time": "2025-08-31T06:43:03.195Z"
   },
   {
    "duration": 181,
    "start_time": "2025-08-31T06:43:10.089Z"
   },
   {
    "duration": 157,
    "start_time": "2025-08-31T06:43:10.273Z"
   },
   {
    "duration": 273,
    "start_time": "2025-08-31T06:43:10.431Z"
   },
   {
    "duration": 220,
    "start_time": "2025-08-31T06:43:10.707Z"
   },
   {
    "duration": 190,
    "start_time": "2025-08-31T06:43:10.929Z"
   },
   {
    "duration": 184,
    "start_time": "2025-08-31T06:43:11.121Z"
   },
   {
    "duration": 192,
    "start_time": "2025-08-31T06:43:11.307Z"
   },
   {
    "duration": 203,
    "start_time": "2025-08-31T06:43:11.501Z"
   },
   {
    "duration": 49,
    "start_time": "2025-08-31T06:43:11.705Z"
   },
   {
    "duration": 45,
    "start_time": "2025-08-31T06:43:11.755Z"
   },
   {
    "duration": 66,
    "start_time": "2025-08-31T06:43:11.802Z"
   },
   {
    "duration": 203,
    "start_time": "2025-08-31T06:43:11.870Z"
   },
   {
    "duration": 213,
    "start_time": "2025-08-31T06:43:12.074Z"
   },
   {
    "duration": 351,
    "start_time": "2025-08-31T06:43:12.288Z"
   },
   {
    "duration": 226,
    "start_time": "2025-08-31T06:43:12.640Z"
   },
   {
    "duration": 427,
    "start_time": "2025-08-31T06:43:12.867Z"
   },
   {
    "duration": 349,
    "start_time": "2025-08-31T06:43:13.295Z"
   },
   {
    "duration": 112,
    "start_time": "2025-08-31T06:43:13.646Z"
   },
   {
    "duration": 126,
    "start_time": "2025-08-31T06:43:13.761Z"
   },
   {
    "duration": 135,
    "start_time": "2025-08-31T06:43:13.889Z"
   },
   {
    "duration": 536,
    "start_time": "2025-08-31T06:43:14.026Z"
   },
   {
    "duration": 97,
    "start_time": "2025-08-31T06:43:14.563Z"
   },
   {
    "duration": 231,
    "start_time": "2025-08-31T06:57:56.457Z"
   },
   {
    "duration": 18,
    "start_time": "2025-08-31T06:59:19.411Z"
   },
   {
    "duration": 8,
    "start_time": "2025-08-31T06:59:58.597Z"
   },
   {
    "duration": 30,
    "start_time": "2025-08-31T07:00:28.528Z"
   },
   {
    "duration": 142,
    "start_time": "2025-08-31T07:00:55.030Z"
   },
   {
    "duration": 34,
    "start_time": "2025-08-31T07:01:06.557Z"
   },
   {
    "duration": 32,
    "start_time": "2025-08-31T07:01:13.647Z"
   },
   {
    "duration": 51,
    "start_time": "2025-08-31T07:10:50.320Z"
   },
   {
    "duration": 96,
    "start_time": "2025-08-31T08:19:09.587Z"
   },
   {
    "duration": 9296,
    "start_time": "2025-08-31T08:19:42.580Z"
   },
   {
    "duration": 173,
    "start_time": "2025-08-31T08:20:10.859Z"
   },
   {
    "duration": 90,
    "start_time": "2025-08-31T08:23:48.604Z"
   },
   {
    "duration": 127,
    "start_time": "2025-08-31T08:29:53.922Z"
   },
   {
    "duration": 94,
    "start_time": "2025-08-31T08:30:22.783Z"
   },
   {
    "duration": 185,
    "start_time": "2025-08-31T08:31:28.239Z"
   },
   {
    "duration": 183,
    "start_time": "2025-08-31T08:31:35.431Z"
   },
   {
    "duration": 94,
    "start_time": "2025-08-31T08:31:46.822Z"
   },
   {
    "duration": 29,
    "start_time": "2025-08-31T08:37:43.144Z"
   },
   {
    "duration": 98,
    "start_time": "2025-08-31T08:37:51.922Z"
   },
   {
    "duration": 231,
    "start_time": "2025-08-31T11:22:18.646Z"
   },
   {
    "duration": 227,
    "start_time": "2025-08-31T11:23:46.118Z"
   },
   {
    "duration": 154,
    "start_time": "2025-08-31T11:24:24.458Z"
   },
   {
    "duration": 144,
    "start_time": "2025-08-31T11:24:48.903Z"
   },
   {
    "duration": 38,
    "start_time": "2025-08-31T11:29:54.481Z"
   },
   {
    "duration": 265,
    "start_time": "2025-08-31T11:30:11.456Z"
   },
   {
    "duration": 210,
    "start_time": "2025-08-31T11:34:32.468Z"
   },
   {
    "duration": 192,
    "start_time": "2025-08-31T11:34:53.215Z"
   },
   {
    "duration": 257,
    "start_time": "2025-08-31T11:35:21.761Z"
   },
   {
    "duration": 86,
    "start_time": "2025-08-31T11:38:07.810Z"
   },
   {
    "duration": 175,
    "start_time": "2025-08-31T11:38:18.855Z"
   },
   {
    "duration": 11,
    "start_time": "2025-08-31T11:42:29.045Z"
   },
   {
    "duration": 1414,
    "start_time": "2025-08-31T11:42:49.645Z"
   },
   {
    "duration": 364,
    "start_time": "2025-08-31T11:43:06.226Z"
   },
   {
    "duration": 363,
    "start_time": "2025-08-31T11:48:27.216Z"
   },
   {
    "duration": 40,
    "start_time": "2025-08-31T11:48:34.514Z"
   },
   {
    "duration": 218,
    "start_time": "2025-08-31T11:48:58.144Z"
   },
   {
    "duration": 76,
    "start_time": "2025-08-31T11:55:56.855Z"
   },
   {
    "duration": 2522,
    "start_time": "2025-08-31T11:56:20.409Z"
   },
   {
    "duration": 100,
    "start_time": "2025-08-31T11:56:50.966Z"
   },
   {
    "duration": 61,
    "start_time": "2025-08-31T11:57:15.283Z"
   },
   {
    "duration": 190,
    "start_time": "2025-08-31T11:58:36.635Z"
   },
   {
    "duration": 193,
    "start_time": "2025-08-31T11:59:06.695Z"
   },
   {
    "duration": 196,
    "start_time": "2025-08-31T11:59:28.180Z"
   },
   {
    "duration": 198,
    "start_time": "2025-08-31T12:00:23.753Z"
   },
   {
    "duration": 50,
    "start_time": "2025-08-31T12:03:56.030Z"
   },
   {
    "duration": 3614,
    "start_time": "2025-08-31T12:05:19.016Z"
   },
   {
    "duration": 2629,
    "start_time": "2025-08-31T12:05:22.632Z"
   },
   {
    "duration": 93,
    "start_time": "2025-08-31T12:05:25.263Z"
   },
   {
    "duration": 26,
    "start_time": "2025-08-31T12:05:25.358Z"
   },
   {
    "duration": 14,
    "start_time": "2025-08-31T12:05:25.386Z"
   },
   {
    "duration": 86,
    "start_time": "2025-08-31T12:05:25.402Z"
   },
   {
    "duration": 6,
    "start_time": "2025-08-31T12:05:25.489Z"
   },
   {
    "duration": 27,
    "start_time": "2025-08-31T12:05:25.496Z"
   },
   {
    "duration": 444,
    "start_time": "2025-08-31T12:05:25.524Z"
   },
   {
    "duration": 34,
    "start_time": "2025-08-31T12:05:25.970Z"
   },
   {
    "duration": 148,
    "start_time": "2025-08-31T12:05:26.005Z"
   },
   {
    "duration": 359,
    "start_time": "2025-08-31T12:05:26.154Z"
   },
   {
    "duration": 155,
    "start_time": "2025-08-31T12:05:26.515Z"
   },
   {
    "duration": 253,
    "start_time": "2025-08-31T12:05:26.672Z"
   },
   {
    "duration": 216,
    "start_time": "2025-08-31T12:05:26.927Z"
   },
   {
    "duration": 52,
    "start_time": "2025-08-31T12:05:27.145Z"
   },
   {
    "duration": 40,
    "start_time": "2025-08-31T12:05:27.199Z"
   },
   {
    "duration": 5,
    "start_time": "2025-08-31T12:05:27.241Z"
   },
   {
    "duration": 49,
    "start_time": "2025-08-31T12:05:27.247Z"
   },
   {
    "duration": 313,
    "start_time": "2025-08-31T12:05:27.298Z"
   },
   {
    "duration": 117,
    "start_time": "2025-08-31T12:05:27.613Z"
   },
   {
    "duration": 4996,
    "start_time": "2025-08-31T12:05:27.732Z"
   },
   {
    "duration": 11,
    "start_time": "2025-08-31T12:05:32.730Z"
   },
   {
    "duration": 48,
    "start_time": "2025-08-31T12:05:32.743Z"
   },
   {
    "duration": 6424,
    "start_time": "2025-08-31T12:05:32.793Z"
   },
   {
    "duration": 175,
    "start_time": "2025-08-31T12:05:39.219Z"
   },
   {
    "duration": 147,
    "start_time": "2025-08-31T12:05:39.396Z"
   },
   {
    "duration": 293,
    "start_time": "2025-08-31T12:05:39.548Z"
   },
   {
    "duration": 224,
    "start_time": "2025-08-31T12:05:39.843Z"
   },
   {
    "duration": 181,
    "start_time": "2025-08-31T12:05:40.069Z"
   },
   {
    "duration": 201,
    "start_time": "2025-08-31T12:05:40.252Z"
   },
   {
    "duration": 196,
    "start_time": "2025-08-31T12:05:40.455Z"
   },
   {
    "duration": 207,
    "start_time": "2025-08-31T12:05:40.653Z"
   },
   {
    "duration": 45,
    "start_time": "2025-08-31T12:05:40.862Z"
   },
   {
    "duration": 76,
    "start_time": "2025-08-31T12:05:40.910Z"
   },
   {
    "duration": 57,
    "start_time": "2025-08-31T12:05:40.988Z"
   },
   {
    "duration": 213,
    "start_time": "2025-08-31T12:05:41.047Z"
   },
   {
    "duration": 215,
    "start_time": "2025-08-31T12:05:41.262Z"
   },
   {
    "duration": 353,
    "start_time": "2025-08-31T12:05:41.479Z"
   },
   {
    "duration": 224,
    "start_time": "2025-08-31T12:05:41.834Z"
   },
   {
    "duration": 434,
    "start_time": "2025-08-31T12:05:42.060Z"
   },
   {
    "duration": 335,
    "start_time": "2025-08-31T12:05:42.496Z"
   },
   {
    "duration": 115,
    "start_time": "2025-08-31T12:05:42.832Z"
   },
   {
    "duration": 121,
    "start_time": "2025-08-31T12:05:42.949Z"
   },
   {
    "duration": 128,
    "start_time": "2025-08-31T12:05:43.071Z"
   },
   {
    "duration": 174,
    "start_time": "2025-08-31T12:05:43.200Z"
   },
   {
    "duration": 102,
    "start_time": "2025-08-31T12:05:43.375Z"
   },
   {
    "duration": 211,
    "start_time": "2025-08-31T12:05:43.478Z"
   },
   {
    "duration": 21,
    "start_time": "2025-08-31T12:05:43.690Z"
   },
   {
    "duration": 39,
    "start_time": "2025-08-31T12:05:43.713Z"
   },
   {
    "duration": 107,
    "start_time": "2025-08-31T12:05:43.753Z"
   },
   {
    "duration": 238,
    "start_time": "2025-08-31T12:07:53.180Z"
   },
   {
    "duration": 299,
    "start_time": "2025-08-31T12:08:20.718Z"
   },
   {
    "duration": 239,
    "start_time": "2025-08-31T12:08:42.103Z"
   },
   {
    "duration": 223,
    "start_time": "2025-08-31T12:09:52.505Z"
   },
   {
    "duration": 0,
    "start_time": "2025-08-31T12:12:12.316Z"
   },
   {
    "duration": 0,
    "start_time": "2025-08-31T12:12:12.317Z"
   },
   {
    "duration": 0,
    "start_time": "2025-08-31T12:12:12.319Z"
   },
   {
    "duration": 34,
    "start_time": "2025-08-31T12:12:18.367Z"
   },
   {
    "duration": 29,
    "start_time": "2025-08-31T12:12:52.783Z"
   },
   {
    "duration": 29,
    "start_time": "2025-08-31T12:13:31.350Z"
   },
   {
    "duration": 3681,
    "start_time": "2025-08-31T12:14:16.948Z"
   },
   {
    "duration": 2169,
    "start_time": "2025-08-31T12:14:20.631Z"
   },
   {
    "duration": 96,
    "start_time": "2025-08-31T12:14:22.801Z"
   },
   {
    "duration": 41,
    "start_time": "2025-08-31T12:14:22.899Z"
   },
   {
    "duration": 17,
    "start_time": "2025-08-31T12:14:22.943Z"
   },
   {
    "duration": 87,
    "start_time": "2025-08-31T12:14:22.962Z"
   },
   {
    "duration": 7,
    "start_time": "2025-08-31T12:14:23.051Z"
   },
   {
    "duration": 22,
    "start_time": "2025-08-31T12:14:23.060Z"
   },
   {
    "duration": 477,
    "start_time": "2025-08-31T12:14:23.084Z"
   },
   {
    "duration": 34,
    "start_time": "2025-08-31T12:14:23.565Z"
   },
   {
    "duration": 169,
    "start_time": "2025-08-31T12:14:23.601Z"
   },
   {
    "duration": 354,
    "start_time": "2025-08-31T12:14:23.772Z"
   },
   {
    "duration": 158,
    "start_time": "2025-08-31T12:14:24.127Z"
   },
   {
    "duration": 271,
    "start_time": "2025-08-31T12:14:24.286Z"
   },
   {
    "duration": 226,
    "start_time": "2025-08-31T12:14:24.559Z"
   },
   {
    "duration": 59,
    "start_time": "2025-08-31T12:14:24.787Z"
   },
   {
    "duration": 17,
    "start_time": "2025-08-31T12:14:24.848Z"
   },
   {
    "duration": 10,
    "start_time": "2025-08-31T12:14:24.867Z"
   },
   {
    "duration": 32,
    "start_time": "2025-08-31T12:14:24.879Z"
   },
   {
    "duration": 317,
    "start_time": "2025-08-31T12:14:24.912Z"
   },
   {
    "duration": 113,
    "start_time": "2025-08-31T12:14:25.231Z"
   },
   {
    "duration": 5133,
    "start_time": "2025-08-31T12:14:25.346Z"
   },
   {
    "duration": 6,
    "start_time": "2025-08-31T12:14:30.481Z"
   },
   {
    "duration": 41,
    "start_time": "2025-08-31T12:14:30.488Z"
   },
   {
    "duration": 6968,
    "start_time": "2025-08-31T12:14:30.530Z"
   },
   {
    "duration": 221,
    "start_time": "2025-08-31T12:14:37.500Z"
   },
   {
    "duration": 181,
    "start_time": "2025-08-31T12:14:37.722Z"
   },
   {
    "duration": 300,
    "start_time": "2025-08-31T12:14:37.908Z"
   },
   {
    "duration": 238,
    "start_time": "2025-08-31T12:14:38.210Z"
   },
   {
    "duration": 204,
    "start_time": "2025-08-31T12:14:38.450Z"
   },
   {
    "duration": 210,
    "start_time": "2025-08-31T12:14:38.656Z"
   },
   {
    "duration": 203,
    "start_time": "2025-08-31T12:14:38.867Z"
   },
   {
    "duration": 229,
    "start_time": "2025-08-31T12:14:39.071Z"
   },
   {
    "duration": 48,
    "start_time": "2025-08-31T12:14:39.302Z"
   },
   {
    "duration": 50,
    "start_time": "2025-08-31T12:14:39.352Z"
   },
   {
    "duration": 91,
    "start_time": "2025-08-31T12:14:39.404Z"
   },
   {
    "duration": 222,
    "start_time": "2025-08-31T12:14:39.496Z"
   },
   {
    "duration": 221,
    "start_time": "2025-08-31T12:14:39.720Z"
   },
   {
    "duration": 371,
    "start_time": "2025-08-31T12:14:39.943Z"
   },
   {
    "duration": 244,
    "start_time": "2025-08-31T12:14:40.316Z"
   },
   {
    "duration": 474,
    "start_time": "2025-08-31T12:14:40.562Z"
   },
   {
    "duration": 363,
    "start_time": "2025-08-31T12:14:41.037Z"
   },
   {
    "duration": 112,
    "start_time": "2025-08-31T12:14:41.402Z"
   },
   {
    "duration": 141,
    "start_time": "2025-08-31T12:14:41.516Z"
   },
   {
    "duration": 147,
    "start_time": "2025-08-31T12:14:41.659Z"
   },
   {
    "duration": 195,
    "start_time": "2025-08-31T12:14:41.807Z"
   },
   {
    "duration": 102,
    "start_time": "2025-08-31T12:14:42.004Z"
   },
   {
    "duration": 227,
    "start_time": "2025-08-31T12:14:42.108Z"
   },
   {
    "duration": 13,
    "start_time": "2025-08-31T12:14:42.339Z"
   },
   {
    "duration": 117,
    "start_time": "2025-08-31T12:14:42.354Z"
   },
   {
    "duration": 0,
    "start_time": "2025-08-31T12:14:42.473Z"
   },
   {
    "duration": 0,
    "start_time": "2025-08-31T12:14:42.474Z"
   },
   {
    "duration": 206,
    "start_time": "2025-08-31T12:14:51.027Z"
   },
   {
    "duration": 19,
    "start_time": "2025-08-31T12:15:19.208Z"
   },
   {
    "duration": 206,
    "start_time": "2025-08-31T12:16:21.017Z"
   },
   {
    "duration": 218,
    "start_time": "2025-08-31T12:16:39.921Z"
   },
   {
    "duration": 27862,
    "start_time": "2025-08-31T12:17:18.243Z"
   },
   {
    "duration": 3448,
    "start_time": "2025-08-31T12:17:48.197Z"
   },
   {
    "duration": 2252,
    "start_time": "2025-08-31T12:17:51.646Z"
   },
   {
    "duration": 95,
    "start_time": "2025-08-31T12:17:53.900Z"
   },
   {
    "duration": 26,
    "start_time": "2025-08-31T12:17:53.997Z"
   },
   {
    "duration": 28,
    "start_time": "2025-08-31T12:17:54.024Z"
   },
   {
    "duration": 69,
    "start_time": "2025-08-31T12:17:54.054Z"
   },
   {
    "duration": 20,
    "start_time": "2025-08-31T12:17:54.125Z"
   },
   {
    "duration": 14,
    "start_time": "2025-08-31T12:17:54.147Z"
   },
   {
    "duration": 438,
    "start_time": "2025-08-31T12:17:54.163Z"
   },
   {
    "duration": 47,
    "start_time": "2025-08-31T12:17:54.604Z"
   },
   {
    "duration": 144,
    "start_time": "2025-08-31T12:17:54.653Z"
   },
   {
    "duration": 359,
    "start_time": "2025-08-31T12:17:54.798Z"
   },
   {
    "duration": 149,
    "start_time": "2025-08-31T12:17:55.158Z"
   },
   {
    "duration": 260,
    "start_time": "2025-08-31T12:17:55.309Z"
   },
   {
    "duration": 226,
    "start_time": "2025-08-31T12:17:55.571Z"
   },
   {
    "duration": 58,
    "start_time": "2025-08-31T12:17:55.799Z"
   },
   {
    "duration": 19,
    "start_time": "2025-08-31T12:17:55.859Z"
   },
   {
    "duration": 5,
    "start_time": "2025-08-31T12:17:55.879Z"
   },
   {
    "duration": 23,
    "start_time": "2025-08-31T12:17:55.886Z"
   },
   {
    "duration": 337,
    "start_time": "2025-08-31T12:17:55.911Z"
   },
   {
    "duration": 112,
    "start_time": "2025-08-31T12:17:56.250Z"
   },
   {
    "duration": 5042,
    "start_time": "2025-08-31T12:17:56.364Z"
   },
   {
    "duration": 6,
    "start_time": "2025-08-31T12:18:01.407Z"
   },
   {
    "duration": 45,
    "start_time": "2025-08-31T12:18:01.414Z"
   },
   {
    "duration": 6805,
    "start_time": "2025-08-31T12:18:01.461Z"
   },
   {
    "duration": 188,
    "start_time": "2025-08-31T12:18:08.268Z"
   },
   {
    "duration": 150,
    "start_time": "2025-08-31T12:18:08.457Z"
   },
   {
    "duration": 288,
    "start_time": "2025-08-31T12:18:08.610Z"
   },
   {
    "duration": 225,
    "start_time": "2025-08-31T12:18:08.900Z"
   },
   {
    "duration": 216,
    "start_time": "2025-08-31T12:18:09.126Z"
   },
   {
    "duration": 198,
    "start_time": "2025-08-31T12:18:09.344Z"
   },
   {
    "duration": 195,
    "start_time": "2025-08-31T12:18:09.543Z"
   },
   {
    "duration": 224,
    "start_time": "2025-08-31T12:18:09.740Z"
   },
   {
    "duration": 42,
    "start_time": "2025-08-31T12:18:09.966Z"
   },
   {
    "duration": 65,
    "start_time": "2025-08-31T12:18:10.009Z"
   },
   {
    "duration": 53,
    "start_time": "2025-08-31T12:18:10.075Z"
   },
   {
    "duration": 219,
    "start_time": "2025-08-31T12:18:10.138Z"
   },
   {
    "duration": 211,
    "start_time": "2025-08-31T12:18:10.358Z"
   },
   {
    "duration": 370,
    "start_time": "2025-08-31T12:18:10.571Z"
   },
   {
    "duration": 255,
    "start_time": "2025-08-31T12:18:10.944Z"
   },
   {
    "duration": 470,
    "start_time": "2025-08-31T12:18:11.201Z"
   },
   {
    "duration": 374,
    "start_time": "2025-08-31T12:18:11.672Z"
   },
   {
    "duration": 115,
    "start_time": "2025-08-31T12:18:12.047Z"
   },
   {
    "duration": 143,
    "start_time": "2025-08-31T12:18:12.163Z"
   },
   {
    "duration": 127,
    "start_time": "2025-08-31T12:18:12.308Z"
   },
   {
    "duration": 189,
    "start_time": "2025-08-31T12:18:12.439Z"
   },
   {
    "duration": 95,
    "start_time": "2025-08-31T12:18:12.630Z"
   },
   {
    "duration": 229,
    "start_time": "2025-08-31T12:18:12.726Z"
   },
   {
    "duration": 28020,
    "start_time": "2025-08-31T12:18:12.957Z"
   },
   {
    "duration": 27,
    "start_time": "2025-08-31T12:18:40.979Z"
   },
   {
    "duration": 118,
    "start_time": "2025-08-31T12:18:41.008Z"
   },
   {
    "duration": 211,
    "start_time": "2025-08-31T12:18:57.472Z"
   },
   {
    "duration": 205,
    "start_time": "2025-08-31T12:19:29.333Z"
   },
   {
    "duration": 205,
    "start_time": "2025-08-31T12:19:43.806Z"
   },
   {
    "duration": 210,
    "start_time": "2025-08-31T12:19:53.935Z"
   },
   {
    "duration": 89,
    "start_time": "2025-08-31T12:20:15.159Z"
   },
   {
    "duration": 242,
    "start_time": "2025-08-31T12:20:48.437Z"
   },
   {
    "duration": 119,
    "start_time": "2025-08-31T12:21:01.677Z"
   },
   {
    "duration": 242,
    "start_time": "2025-08-31T12:21:14.943Z"
   },
   {
    "duration": 243,
    "start_time": "2025-08-31T12:23:44.967Z"
   },
   {
    "duration": 249,
    "start_time": "2025-08-31T12:24:57.830Z"
   },
   {
    "duration": 197,
    "start_time": "2025-08-31T12:25:46.211Z"
   },
   {
    "duration": 197,
    "start_time": "2025-08-31T12:26:00.698Z"
   },
   {
    "duration": 234,
    "start_time": "2025-08-31T12:26:33.622Z"
   },
   {
    "duration": 222,
    "start_time": "2025-08-31T12:41:28.241Z"
   },
   {
    "duration": 207,
    "start_time": "2025-08-31T12:41:38.568Z"
   },
   {
    "duration": 213,
    "start_time": "2025-08-31T12:41:51.745Z"
   },
   {
    "duration": 197,
    "start_time": "2025-08-31T12:41:59.064Z"
   },
   {
    "duration": 125,
    "start_time": "2025-08-31T12:43:40.170Z"
   },
   {
    "duration": 42,
    "start_time": "2025-08-31T12:43:56.927Z"
   },
   {
    "duration": 39,
    "start_time": "2025-08-31T12:44:04.550Z"
   },
   {
    "duration": 39,
    "start_time": "2025-08-31T12:44:19.092Z"
   },
   {
    "duration": 201,
    "start_time": "2025-08-31T12:44:44.168Z"
   },
   {
    "duration": 205,
    "start_time": "2025-08-31T12:45:26.066Z"
   },
   {
    "duration": 254,
    "start_time": "2025-08-31T12:46:15.587Z"
   },
   {
    "duration": 250,
    "start_time": "2025-08-31T12:55:02.425Z"
   },
   {
    "duration": 254,
    "start_time": "2025-08-31T12:58:50.197Z"
   },
   {
    "duration": 6,
    "start_time": "2025-08-31T13:00:02.160Z"
   },
   {
    "duration": 261,
    "start_time": "2025-08-31T13:04:13.178Z"
   },
   {
    "duration": 30,
    "start_time": "2025-08-31T13:05:22.551Z"
   },
   {
    "duration": 171,
    "start_time": "2025-08-31T13:05:30.173Z"
   },
   {
    "duration": 100,
    "start_time": "2025-08-31T13:10:35.752Z"
   },
   {
    "duration": 3804,
    "start_time": "2025-08-31T13:13:51.847Z"
   },
   {
    "duration": 2066,
    "start_time": "2025-08-31T13:13:55.654Z"
   },
   {
    "duration": 100,
    "start_time": "2025-08-31T13:13:57.721Z"
   },
   {
    "duration": 43,
    "start_time": "2025-08-31T13:13:57.823Z"
   },
   {
    "duration": 16,
    "start_time": "2025-08-31T13:13:57.869Z"
   },
   {
    "duration": 89,
    "start_time": "2025-08-31T13:13:57.887Z"
   },
   {
    "duration": 6,
    "start_time": "2025-08-31T13:13:57.978Z"
   },
   {
    "duration": 18,
    "start_time": "2025-08-31T13:13:57.985Z"
   },
   {
    "duration": 499,
    "start_time": "2025-08-31T13:13:58.004Z"
   },
   {
    "duration": 49,
    "start_time": "2025-08-31T13:13:58.505Z"
   },
   {
    "duration": 149,
    "start_time": "2025-08-31T13:13:58.556Z"
   },
   {
    "duration": 380,
    "start_time": "2025-08-31T13:13:58.707Z"
   },
   {
    "duration": 160,
    "start_time": "2025-08-31T13:13:59.089Z"
   },
   {
    "duration": 280,
    "start_time": "2025-08-31T13:13:59.253Z"
   },
   {
    "duration": 249,
    "start_time": "2025-08-31T13:13:59.534Z"
   },
   {
    "duration": 65,
    "start_time": "2025-08-31T13:13:59.785Z"
   },
   {
    "duration": 21,
    "start_time": "2025-08-31T13:13:59.852Z"
   },
   {
    "duration": 6,
    "start_time": "2025-08-31T13:13:59.875Z"
   },
   {
    "duration": 23,
    "start_time": "2025-08-31T13:13:59.882Z"
   },
   {
    "duration": 352,
    "start_time": "2025-08-31T13:13:59.907Z"
   },
   {
    "duration": 128,
    "start_time": "2025-08-31T13:14:00.261Z"
   },
   {
    "duration": 5503,
    "start_time": "2025-08-31T13:14:00.391Z"
   },
   {
    "duration": 5,
    "start_time": "2025-08-31T13:14:05.896Z"
   },
   {
    "duration": 125,
    "start_time": "2025-08-31T13:14:05.903Z"
   },
   {
    "duration": 6795,
    "start_time": "2025-08-31T13:14:06.030Z"
   },
   {
    "duration": 182,
    "start_time": "2025-08-31T13:14:12.827Z"
   },
   {
    "duration": 154,
    "start_time": "2025-08-31T13:14:13.011Z"
   },
   {
    "duration": 282,
    "start_time": "2025-08-31T13:14:13.167Z"
   },
   {
    "duration": 238,
    "start_time": "2025-08-31T13:14:13.451Z"
   },
   {
    "duration": 172,
    "start_time": "2025-08-31T13:14:13.690Z"
   },
   {
    "duration": 200,
    "start_time": "2025-08-31T13:14:13.864Z"
   },
   {
    "duration": 202,
    "start_time": "2025-08-31T13:14:14.066Z"
   },
   {
    "duration": 206,
    "start_time": "2025-08-31T13:14:14.270Z"
   },
   {
    "duration": 40,
    "start_time": "2025-08-31T13:14:14.478Z"
   },
   {
    "duration": 60,
    "start_time": "2025-08-31T13:14:14.519Z"
   },
   {
    "duration": 66,
    "start_time": "2025-08-31T13:14:14.581Z"
   },
   {
    "duration": 208,
    "start_time": "2025-08-31T13:14:14.649Z"
   },
   {
    "duration": 203,
    "start_time": "2025-08-31T13:14:14.859Z"
   },
   {
    "duration": 343,
    "start_time": "2025-08-31T13:14:15.064Z"
   },
   {
    "duration": 232,
    "start_time": "2025-08-31T13:14:15.409Z"
   },
   {
    "duration": 448,
    "start_time": "2025-08-31T13:14:15.646Z"
   },
   {
    "duration": 353,
    "start_time": "2025-08-31T13:14:16.096Z"
   },
   {
    "duration": 123,
    "start_time": "2025-08-31T13:14:16.451Z"
   },
   {
    "duration": 134,
    "start_time": "2025-08-31T13:14:16.576Z"
   },
   {
    "duration": 132,
    "start_time": "2025-08-31T13:14:16.712Z"
   },
   {
    "duration": 194,
    "start_time": "2025-08-31T13:14:16.846Z"
   },
   {
    "duration": 100,
    "start_time": "2025-08-31T13:14:17.042Z"
   },
   {
    "duration": 246,
    "start_time": "2025-08-31T13:14:17.144Z"
   },
   {
    "duration": 235,
    "start_time": "2025-08-31T13:14:17.391Z"
   },
   {
    "duration": 35,
    "start_time": "2025-08-31T13:14:17.628Z"
   },
   {
    "duration": 168,
    "start_time": "2025-08-31T13:14:17.665Z"
   },
   {
    "duration": 135,
    "start_time": "2025-08-31T13:14:17.838Z"
   },
   {
    "duration": 120,
    "start_time": "2025-08-31T13:14:17.975Z"
   },
   {
    "duration": 123,
    "start_time": "2025-08-31T13:16:22.504Z"
   },
   {
    "duration": 160,
    "start_time": "2025-08-31T13:16:59.486Z"
   },
   {
    "duration": 9010,
    "start_time": "2025-08-31T16:08:18.610Z"
   },
   {
    "duration": 1866,
    "start_time": "2025-08-31T16:08:27.622Z"
   },
   {
    "duration": 87,
    "start_time": "2025-08-31T16:08:29.489Z"
   },
   {
    "duration": 24,
    "start_time": "2025-08-31T16:08:29.578Z"
   },
   {
    "duration": 14,
    "start_time": "2025-08-31T16:08:29.603Z"
   },
   {
    "duration": 80,
    "start_time": "2025-08-31T16:08:29.618Z"
   },
   {
    "duration": 5,
    "start_time": "2025-08-31T16:08:29.700Z"
   },
   {
    "duration": 12,
    "start_time": "2025-08-31T16:08:29.707Z"
   },
   {
    "duration": 418,
    "start_time": "2025-08-31T16:08:29.720Z"
   },
   {
    "duration": 36,
    "start_time": "2025-08-31T16:08:30.141Z"
   },
   {
    "duration": 188,
    "start_time": "2025-08-31T16:08:30.179Z"
   },
   {
    "duration": 338,
    "start_time": "2025-08-31T16:08:30.368Z"
   },
   {
    "duration": 147,
    "start_time": "2025-08-31T16:08:30.707Z"
   },
   {
    "duration": 244,
    "start_time": "2025-08-31T16:08:30.855Z"
   },
   {
    "duration": 210,
    "start_time": "2025-08-31T16:08:31.101Z"
   },
   {
    "duration": 51,
    "start_time": "2025-08-31T16:08:31.312Z"
   },
   {
    "duration": 22,
    "start_time": "2025-08-31T16:08:31.364Z"
   },
   {
    "duration": 10,
    "start_time": "2025-08-31T16:08:31.388Z"
   },
   {
    "duration": 22,
    "start_time": "2025-08-31T16:08:31.399Z"
   },
   {
    "duration": 307,
    "start_time": "2025-08-31T16:08:31.423Z"
   },
   {
    "duration": 113,
    "start_time": "2025-08-31T16:08:31.732Z"
   },
   {
    "duration": 4820,
    "start_time": "2025-08-31T16:08:31.846Z"
   },
   {
    "duration": 5,
    "start_time": "2025-08-31T16:08:36.667Z"
   },
   {
    "duration": 104,
    "start_time": "2025-08-31T16:08:36.674Z"
   },
   {
    "duration": 6142,
    "start_time": "2025-08-31T16:08:36.779Z"
   },
   {
    "duration": 173,
    "start_time": "2025-08-31T16:08:42.922Z"
   },
   {
    "duration": 140,
    "start_time": "2025-08-31T16:08:43.097Z"
   },
   {
    "duration": 275,
    "start_time": "2025-08-31T16:08:43.240Z"
   },
   {
    "duration": 215,
    "start_time": "2025-08-31T16:08:43.516Z"
   },
   {
    "duration": 173,
    "start_time": "2025-08-31T16:08:43.733Z"
   },
   {
    "duration": 184,
    "start_time": "2025-08-31T16:08:43.907Z"
   },
   {
    "duration": 178,
    "start_time": "2025-08-31T16:08:44.093Z"
   },
   {
    "duration": 201,
    "start_time": "2025-08-31T16:08:44.273Z"
   },
   {
    "duration": 38,
    "start_time": "2025-08-31T16:08:44.475Z"
   },
   {
    "duration": 60,
    "start_time": "2025-08-31T16:08:44.514Z"
   },
   {
    "duration": 50,
    "start_time": "2025-08-31T16:08:44.576Z"
   },
   {
    "duration": 202,
    "start_time": "2025-08-31T16:08:44.628Z"
   },
   {
    "duration": 198,
    "start_time": "2025-08-31T16:08:44.831Z"
   },
   {
    "duration": 349,
    "start_time": "2025-08-31T16:08:45.030Z"
   },
   {
    "duration": 211,
    "start_time": "2025-08-31T16:08:45.380Z"
   },
   {
    "duration": 402,
    "start_time": "2025-08-31T16:08:45.593Z"
   },
   {
    "duration": 335,
    "start_time": "2025-08-31T16:08:45.997Z"
   },
   {
    "duration": 106,
    "start_time": "2025-08-31T16:08:46.333Z"
   },
   {
    "duration": 137,
    "start_time": "2025-08-31T16:08:46.440Z"
   },
   {
    "duration": 147,
    "start_time": "2025-08-31T16:08:46.579Z"
   },
   {
    "duration": 174,
    "start_time": "2025-08-31T16:08:46.728Z"
   },
   {
    "duration": 97,
    "start_time": "2025-08-31T16:08:46.904Z"
   },
   {
    "duration": 218,
    "start_time": "2025-08-31T16:08:47.002Z"
   },
   {
    "duration": 193,
    "start_time": "2025-08-31T16:08:47.222Z"
   },
   {
    "duration": 37,
    "start_time": "2025-08-31T16:08:47.416Z"
   },
   {
    "duration": 158,
    "start_time": "2025-08-31T16:08:47.455Z"
   },
   {
    "duration": 140,
    "start_time": "2025-08-31T16:08:47.615Z"
   },
   {
    "duration": 117,
    "start_time": "2025-08-31T16:08:47.757Z"
   },
   {
    "duration": 169,
    "start_time": "2025-08-31T16:10:59.611Z"
   },
   {
    "duration": 10838,
    "start_time": "2025-09-01T07:19:55.960Z"
   },
   {
    "duration": 1922,
    "start_time": "2025-09-01T07:20:06.800Z"
   },
   {
    "duration": 100,
    "start_time": "2025-09-01T07:20:08.724Z"
   },
   {
    "duration": 37,
    "start_time": "2025-09-01T07:20:08.826Z"
   },
   {
    "duration": 18,
    "start_time": "2025-09-01T07:20:08.864Z"
   },
   {
    "duration": 99,
    "start_time": "2025-09-01T07:20:08.884Z"
   },
   {
    "duration": 8,
    "start_time": "2025-09-01T07:20:08.985Z"
   },
   {
    "duration": 18,
    "start_time": "2025-09-01T07:20:08.995Z"
   },
   {
    "duration": 492,
    "start_time": "2025-09-01T07:20:09.015Z"
   },
   {
    "duration": 43,
    "start_time": "2025-09-01T07:20:09.510Z"
   },
   {
    "duration": 166,
    "start_time": "2025-09-01T07:20:09.555Z"
   },
   {
    "duration": 401,
    "start_time": "2025-09-01T07:20:09.723Z"
   },
   {
    "duration": 170,
    "start_time": "2025-09-01T07:20:10.126Z"
   },
   {
    "duration": 277,
    "start_time": "2025-09-01T07:20:10.298Z"
   },
   {
    "duration": 282,
    "start_time": "2025-09-01T07:20:10.577Z"
   },
   {
    "duration": 54,
    "start_time": "2025-09-01T07:20:10.861Z"
   },
   {
    "duration": 41,
    "start_time": "2025-09-01T07:20:10.917Z"
   },
   {
    "duration": 6,
    "start_time": "2025-09-01T07:20:10.960Z"
   },
   {
    "duration": 26,
    "start_time": "2025-09-01T07:20:10.967Z"
   },
   {
    "duration": 346,
    "start_time": "2025-09-01T07:20:10.994Z"
   },
   {
    "duration": 140,
    "start_time": "2025-09-01T07:20:11.342Z"
   },
   {
    "duration": 5707,
    "start_time": "2025-09-01T07:20:11.484Z"
   },
   {
    "duration": 7,
    "start_time": "2025-09-01T07:20:17.193Z"
   },
   {
    "duration": 149,
    "start_time": "2025-09-01T07:20:17.202Z"
   },
   {
    "duration": 7308,
    "start_time": "2025-09-01T07:20:17.353Z"
   },
   {
    "duration": 199,
    "start_time": "2025-09-01T07:20:24.663Z"
   },
   {
    "duration": 163,
    "start_time": "2025-09-01T07:20:24.864Z"
   },
   {
    "duration": 332,
    "start_time": "2025-09-01T07:20:25.031Z"
   },
   {
    "duration": 248,
    "start_time": "2025-09-01T07:20:25.364Z"
   },
   {
    "duration": 191,
    "start_time": "2025-09-01T07:20:25.614Z"
   },
   {
    "duration": 215,
    "start_time": "2025-09-01T07:20:25.807Z"
   },
   {
    "duration": 206,
    "start_time": "2025-09-01T07:20:26.023Z"
   },
   {
    "duration": 227,
    "start_time": "2025-09-01T07:20:26.231Z"
   },
   {
    "duration": 51,
    "start_time": "2025-09-01T07:20:26.460Z"
   },
   {
    "duration": 79,
    "start_time": "2025-09-01T07:20:26.514Z"
   },
   {
    "duration": 73,
    "start_time": "2025-09-01T07:20:26.596Z"
   },
   {
    "duration": 228,
    "start_time": "2025-09-01T07:20:26.671Z"
   },
   {
    "duration": 230,
    "start_time": "2025-09-01T07:20:26.901Z"
   },
   {
    "duration": 380,
    "start_time": "2025-09-01T07:20:27.132Z"
   },
   {
    "duration": 257,
    "start_time": "2025-09-01T07:20:27.513Z"
   },
   {
    "duration": 439,
    "start_time": "2025-09-01T07:20:27.772Z"
   },
   {
    "duration": 365,
    "start_time": "2025-09-01T07:20:28.213Z"
   },
   {
    "duration": 121,
    "start_time": "2025-09-01T07:20:28.581Z"
   },
   {
    "duration": 146,
    "start_time": "2025-09-01T07:20:28.703Z"
   },
   {
    "duration": 139,
    "start_time": "2025-09-01T07:20:28.851Z"
   },
   {
    "duration": 205,
    "start_time": "2025-09-01T07:20:28.991Z"
   },
   {
    "duration": 117,
    "start_time": "2025-09-01T07:20:29.198Z"
   },
   {
    "duration": 257,
    "start_time": "2025-09-01T07:20:29.317Z"
   },
   {
    "duration": 230,
    "start_time": "2025-09-01T07:20:29.576Z"
   },
   {
    "duration": 28,
    "start_time": "2025-09-01T07:20:29.808Z"
   },
   {
    "duration": 116,
    "start_time": "2025-09-01T07:20:29.849Z"
   },
   {
    "duration": 0,
    "start_time": "2025-09-01T07:20:29.967Z"
   },
   {
    "duration": 0,
    "start_time": "2025-09-01T07:20:29.969Z"
   },
   {
    "duration": 180,
    "start_time": "2025-09-01T07:23:52.884Z"
   },
   {
    "duration": 132,
    "start_time": "2025-09-01T07:26:31.780Z"
   },
   {
    "duration": 142,
    "start_time": "2025-09-01T07:26:55.935Z"
   },
   {
    "duration": 238,
    "start_time": "2025-09-01T07:27:08.190Z"
   },
   {
    "duration": 125,
    "start_time": "2025-09-01T07:27:14.910Z"
   },
   {
    "duration": 146,
    "start_time": "2025-09-01T07:27:32.816Z"
   },
   {
    "duration": 139,
    "start_time": "2025-09-01T07:28:30.044Z"
   },
   {
    "duration": 133,
    "start_time": "2025-09-01T07:29:52.509Z"
   },
   {
    "duration": 131,
    "start_time": "2025-09-01T07:30:02.460Z"
   },
   {
    "duration": 121,
    "start_time": "2025-09-01T07:30:34.143Z"
   },
   {
    "duration": 117,
    "start_time": "2025-09-01T07:30:49.458Z"
   },
   {
    "duration": 124,
    "start_time": "2025-09-01T07:31:55.405Z"
   },
   {
    "duration": 127,
    "start_time": "2025-09-01T07:32:11.656Z"
   },
   {
    "duration": 88,
    "start_time": "2025-09-01T07:34:30.834Z"
   },
   {
    "duration": 134,
    "start_time": "2025-09-01T07:34:41.149Z"
   },
   {
    "duration": 129,
    "start_time": "2025-09-01T07:35:43.940Z"
   },
   {
    "duration": 108,
    "start_time": "2025-09-01T07:35:57.424Z"
   },
   {
    "duration": 84,
    "start_time": "2025-09-01T07:36:06.520Z"
   },
   {
    "duration": 132,
    "start_time": "2025-09-01T07:36:13.555Z"
   },
   {
    "duration": 126,
    "start_time": "2025-09-01T07:36:21.703Z"
   },
   {
    "duration": 122,
    "start_time": "2025-09-01T07:36:38.420Z"
   },
   {
    "duration": 9857,
    "start_time": "2025-09-02T13:46:24.247Z"
   },
   {
    "duration": 2083,
    "start_time": "2025-09-02T13:46:34.106Z"
   },
   {
    "duration": 103,
    "start_time": "2025-09-02T13:46:36.190Z"
   },
   {
    "duration": 27,
    "start_time": "2025-09-02T13:46:36.295Z"
   },
   {
    "duration": 16,
    "start_time": "2025-09-02T13:46:36.324Z"
   },
   {
    "duration": 94,
    "start_time": "2025-09-02T13:46:36.341Z"
   },
   {
    "duration": 7,
    "start_time": "2025-09-02T13:46:36.436Z"
   },
   {
    "duration": 26,
    "start_time": "2025-09-02T13:46:36.445Z"
   },
   {
    "duration": 472,
    "start_time": "2025-09-02T13:46:36.473Z"
   },
   {
    "duration": 42,
    "start_time": "2025-09-02T13:46:36.948Z"
   },
   {
    "duration": 151,
    "start_time": "2025-09-02T13:46:36.992Z"
   },
   {
    "duration": 377,
    "start_time": "2025-09-02T13:46:37.145Z"
   },
   {
    "duration": 159,
    "start_time": "2025-09-02T13:46:37.524Z"
   },
   {
    "duration": 265,
    "start_time": "2025-09-02T13:46:37.689Z"
   },
   {
    "duration": 230,
    "start_time": "2025-09-02T13:46:37.956Z"
   },
   {
    "duration": 59,
    "start_time": "2025-09-02T13:46:38.190Z"
   },
   {
    "duration": 46,
    "start_time": "2025-09-02T13:46:38.251Z"
   },
   {
    "duration": 5,
    "start_time": "2025-09-02T13:46:38.299Z"
   },
   {
    "duration": 28,
    "start_time": "2025-09-02T13:46:38.306Z"
   },
   {
    "duration": 308,
    "start_time": "2025-09-02T13:46:38.336Z"
   },
   {
    "duration": 112,
    "start_time": "2025-09-02T13:46:38.646Z"
   },
   {
    "duration": 5144,
    "start_time": "2025-09-02T13:46:38.759Z"
   },
   {
    "duration": 5,
    "start_time": "2025-09-02T13:46:43.905Z"
   },
   {
    "duration": 188,
    "start_time": "2025-09-02T13:46:43.911Z"
   },
   {
    "duration": 6814,
    "start_time": "2025-09-02T13:46:44.101Z"
   },
   {
    "duration": 193,
    "start_time": "2025-09-02T13:46:50.917Z"
   },
   {
    "duration": 158,
    "start_time": "2025-09-02T13:46:51.112Z"
   },
   {
    "duration": 292,
    "start_time": "2025-09-02T13:46:51.274Z"
   },
   {
    "duration": 239,
    "start_time": "2025-09-02T13:46:51.568Z"
   },
   {
    "duration": 183,
    "start_time": "2025-09-02T13:46:51.809Z"
   },
   {
    "duration": 199,
    "start_time": "2025-09-02T13:46:51.993Z"
   },
   {
    "duration": 200,
    "start_time": "2025-09-02T13:46:52.194Z"
   },
   {
    "duration": 220,
    "start_time": "2025-09-02T13:46:52.395Z"
   },
   {
    "duration": 42,
    "start_time": "2025-09-02T13:46:52.617Z"
   },
   {
    "duration": 62,
    "start_time": "2025-09-02T13:46:52.661Z"
   },
   {
    "duration": 64,
    "start_time": "2025-09-02T13:46:52.725Z"
   },
   {
    "duration": 208,
    "start_time": "2025-09-02T13:46:52.791Z"
   },
   {
    "duration": 208,
    "start_time": "2025-09-02T13:46:53.001Z"
   },
   {
    "duration": 355,
    "start_time": "2025-09-02T13:46:53.211Z"
   },
   {
    "duration": 229,
    "start_time": "2025-09-02T13:46:53.568Z"
   },
   {
    "duration": 444,
    "start_time": "2025-09-02T13:46:53.799Z"
   },
   {
    "duration": 355,
    "start_time": "2025-09-02T13:46:54.245Z"
   },
   {
    "duration": 131,
    "start_time": "2025-09-02T13:46:54.602Z"
   },
   {
    "duration": 154,
    "start_time": "2025-09-02T13:46:54.736Z"
   },
   {
    "duration": 133,
    "start_time": "2025-09-02T13:46:54.892Z"
   },
   {
    "duration": 205,
    "start_time": "2025-09-02T13:46:55.027Z"
   },
   {
    "duration": 102,
    "start_time": "2025-09-02T13:46:55.234Z"
   },
   {
    "duration": 249,
    "start_time": "2025-09-02T13:46:55.338Z"
   },
   {
    "duration": 223,
    "start_time": "2025-09-02T13:46:55.590Z"
   },
   {
    "duration": 29,
    "start_time": "2025-09-02T13:46:55.815Z"
   },
   {
    "duration": 204,
    "start_time": "2025-09-02T13:46:55.847Z"
   },
   {
    "duration": 175,
    "start_time": "2025-09-02T13:46:56.053Z"
   },
   {
    "duration": 122,
    "start_time": "2025-09-02T13:46:56.230Z"
   },
   {
    "duration": 130,
    "start_time": "2025-09-02T14:01:44.745Z"
   },
   {
    "duration": 118,
    "start_time": "2025-09-02T14:02:21.009Z"
   },
   {
    "duration": 3656,
    "start_time": "2025-09-02T14:52:22.340Z"
   },
   {
    "duration": 2233,
    "start_time": "2025-09-02T14:52:25.998Z"
   },
   {
    "duration": 100,
    "start_time": "2025-09-02T14:52:28.233Z"
   },
   {
    "duration": 61,
    "start_time": "2025-09-02T14:52:28.335Z"
   },
   {
    "duration": 16,
    "start_time": "2025-09-02T14:52:28.398Z"
   },
   {
    "duration": 86,
    "start_time": "2025-09-02T14:52:28.416Z"
   },
   {
    "duration": 6,
    "start_time": "2025-09-02T14:52:28.504Z"
   },
   {
    "duration": 35,
    "start_time": "2025-09-02T14:52:28.512Z"
   },
   {
    "duration": 463,
    "start_time": "2025-09-02T14:52:28.549Z"
   },
   {
    "duration": 33,
    "start_time": "2025-09-02T14:52:29.015Z"
   },
   {
    "duration": 163,
    "start_time": "2025-09-02T14:52:29.049Z"
   },
   {
    "duration": 380,
    "start_time": "2025-09-02T14:52:29.213Z"
   },
   {
    "duration": 160,
    "start_time": "2025-09-02T14:52:29.595Z"
   },
   {
    "duration": 272,
    "start_time": "2025-09-02T14:52:29.756Z"
   },
   {
    "duration": 233,
    "start_time": "2025-09-02T14:52:30.030Z"
   },
   {
    "duration": 62,
    "start_time": "2025-09-02T14:52:30.266Z"
   },
   {
    "duration": 84,
    "start_time": "2025-09-02T14:52:30.329Z"
   },
   {
    "duration": 25,
    "start_time": "2025-09-02T14:52:30.414Z"
   },
   {
    "duration": 46,
    "start_time": "2025-09-02T14:52:30.441Z"
   },
   {
    "duration": 311,
    "start_time": "2025-09-02T14:52:30.489Z"
   },
   {
    "duration": 119,
    "start_time": "2025-09-02T14:52:30.802Z"
   },
   {
    "duration": 5315,
    "start_time": "2025-09-02T14:52:30.923Z"
   },
   {
    "duration": 5,
    "start_time": "2025-09-02T14:52:36.240Z"
   },
   {
    "duration": 146,
    "start_time": "2025-09-02T14:52:36.246Z"
   },
   {
    "duration": 7058,
    "start_time": "2025-09-02T14:52:36.394Z"
   },
   {
    "duration": 193,
    "start_time": "2025-09-02T14:52:43.454Z"
   },
   {
    "duration": 159,
    "start_time": "2025-09-02T14:52:43.649Z"
   },
   {
    "duration": 292,
    "start_time": "2025-09-02T14:52:43.812Z"
   },
   {
    "duration": 236,
    "start_time": "2025-09-02T14:52:44.105Z"
   },
   {
    "duration": 188,
    "start_time": "2025-09-02T14:52:44.343Z"
   },
   {
    "duration": 247,
    "start_time": "2025-09-02T14:52:44.532Z"
   },
   {
    "duration": 196,
    "start_time": "2025-09-02T14:52:44.780Z"
   },
   {
    "duration": 250,
    "start_time": "2025-09-02T14:52:44.977Z"
   },
   {
    "duration": 42,
    "start_time": "2025-09-02T14:52:45.228Z"
   },
   {
    "duration": 94,
    "start_time": "2025-09-02T14:52:45.271Z"
   },
   {
    "duration": 96,
    "start_time": "2025-09-02T14:52:45.366Z"
   },
   {
    "duration": 213,
    "start_time": "2025-09-02T14:52:45.464Z"
   },
   {
    "duration": 219,
    "start_time": "2025-09-02T14:52:45.678Z"
   },
   {
    "duration": 362,
    "start_time": "2025-09-02T14:52:45.899Z"
   },
   {
    "duration": 244,
    "start_time": "2025-09-02T14:52:46.264Z"
   },
   {
    "duration": 444,
    "start_time": "2025-09-02T14:52:46.510Z"
   },
   {
    "duration": 348,
    "start_time": "2025-09-02T14:52:46.957Z"
   },
   {
    "duration": 122,
    "start_time": "2025-09-02T14:52:47.307Z"
   },
   {
    "duration": 144,
    "start_time": "2025-09-02T14:52:47.431Z"
   },
   {
    "duration": 144,
    "start_time": "2025-09-02T14:52:47.577Z"
   },
   {
    "duration": 192,
    "start_time": "2025-09-02T14:52:47.723Z"
   },
   {
    "duration": 101,
    "start_time": "2025-09-02T14:52:47.917Z"
   },
   {
    "duration": 246,
    "start_time": "2025-09-02T14:52:48.020Z"
   },
   {
    "duration": 234,
    "start_time": "2025-09-02T14:52:48.267Z"
   },
   {
    "duration": 36,
    "start_time": "2025-09-02T14:52:48.503Z"
   },
   {
    "duration": 181,
    "start_time": "2025-09-02T14:52:48.540Z"
   },
   {
    "duration": 158,
    "start_time": "2025-09-02T14:52:48.722Z"
   },
   {
    "duration": 115,
    "start_time": "2025-09-02T14:52:48.889Z"
   },
   {
    "duration": 3679,
    "start_time": "2025-09-02T14:55:29.606Z"
   },
   {
    "duration": 2312,
    "start_time": "2025-09-02T14:55:33.287Z"
   },
   {
    "duration": 95,
    "start_time": "2025-09-02T14:55:35.600Z"
   },
   {
    "duration": 26,
    "start_time": "2025-09-02T14:55:35.697Z"
   },
   {
    "duration": 51,
    "start_time": "2025-09-02T14:55:35.725Z"
   },
   {
    "duration": 92,
    "start_time": "2025-09-02T14:55:35.778Z"
   },
   {
    "duration": 6,
    "start_time": "2025-09-02T14:55:35.872Z"
   },
   {
    "duration": 43,
    "start_time": "2025-09-02T14:55:35.879Z"
   },
   {
    "duration": 480,
    "start_time": "2025-09-02T14:55:35.923Z"
   },
   {
    "duration": 35,
    "start_time": "2025-09-02T14:55:36.405Z"
   },
   {
    "duration": 177,
    "start_time": "2025-09-02T14:55:36.442Z"
   },
   {
    "duration": 374,
    "start_time": "2025-09-02T14:55:36.620Z"
   },
   {
    "duration": 151,
    "start_time": "2025-09-02T14:55:36.996Z"
   },
   {
    "duration": 261,
    "start_time": "2025-09-02T14:55:37.149Z"
   },
   {
    "duration": 229,
    "start_time": "2025-09-02T14:55:37.412Z"
   },
   {
    "duration": 59,
    "start_time": "2025-09-02T14:55:37.643Z"
   },
   {
    "duration": 18,
    "start_time": "2025-09-02T14:55:37.703Z"
   },
   {
    "duration": 65,
    "start_time": "2025-09-02T14:55:37.723Z"
   },
   {
    "duration": 41,
    "start_time": "2025-09-02T14:55:37.790Z"
   },
   {
    "duration": 303,
    "start_time": "2025-09-02T14:55:37.832Z"
   },
   {
    "duration": 116,
    "start_time": "2025-09-02T14:55:38.137Z"
   },
   {
    "duration": 5169,
    "start_time": "2025-09-02T14:55:38.255Z"
   },
   {
    "duration": 5,
    "start_time": "2025-09-02T14:55:43.426Z"
   },
   {
    "duration": 26,
    "start_time": "2025-09-02T14:55:43.433Z"
   },
   {
    "duration": 6971,
    "start_time": "2025-09-02T14:55:43.461Z"
   },
   {
    "duration": 193,
    "start_time": "2025-09-02T14:55:50.433Z"
   },
   {
    "duration": 155,
    "start_time": "2025-09-02T14:55:50.628Z"
   },
   {
    "duration": 286,
    "start_time": "2025-09-02T14:55:50.787Z"
   },
   {
    "duration": 221,
    "start_time": "2025-09-02T14:55:51.074Z"
   },
   {
    "duration": 182,
    "start_time": "2025-09-02T14:55:51.297Z"
   },
   {
    "duration": 195,
    "start_time": "2025-09-02T14:55:51.480Z"
   },
   {
    "duration": 200,
    "start_time": "2025-09-02T14:55:51.676Z"
   },
   {
    "duration": 204,
    "start_time": "2025-09-02T14:55:51.878Z"
   },
   {
    "duration": 46,
    "start_time": "2025-09-02T14:55:52.083Z"
   },
   {
    "duration": 73,
    "start_time": "2025-09-02T14:55:52.130Z"
   },
   {
    "duration": 55,
    "start_time": "2025-09-02T14:55:52.204Z"
   },
   {
    "duration": 219,
    "start_time": "2025-09-02T14:55:52.260Z"
   },
   {
    "duration": 225,
    "start_time": "2025-09-02T14:55:52.489Z"
   },
   {
    "duration": 343,
    "start_time": "2025-09-02T14:55:52.716Z"
   },
   {
    "duration": 231,
    "start_time": "2025-09-02T14:55:53.061Z"
   },
   {
    "duration": 454,
    "start_time": "2025-09-02T14:55:53.294Z"
   },
   {
    "duration": 354,
    "start_time": "2025-09-02T14:55:53.750Z"
   },
   {
    "duration": 121,
    "start_time": "2025-09-02T14:55:54.106Z"
   },
   {
    "duration": 146,
    "start_time": "2025-09-02T14:55:54.228Z"
   },
   {
    "duration": 131,
    "start_time": "2025-09-02T14:55:54.376Z"
   },
   {
    "duration": 207,
    "start_time": "2025-09-02T14:55:54.508Z"
   },
   {
    "duration": 113,
    "start_time": "2025-09-02T14:55:54.717Z"
   },
   {
    "duration": 246,
    "start_time": "2025-09-02T14:55:54.832Z"
   },
   {
    "duration": 237,
    "start_time": "2025-09-02T14:55:55.079Z"
   },
   {
    "duration": 27,
    "start_time": "2025-09-02T14:55:55.318Z"
   },
   {
    "duration": 185,
    "start_time": "2025-09-02T14:55:55.347Z"
   },
   {
    "duration": 157,
    "start_time": "2025-09-02T14:55:55.534Z"
   },
   {
    "duration": 123,
    "start_time": "2025-09-02T14:55:55.693Z"
   },
   {
    "duration": 8442,
    "start_time": "2025-09-03T09:33:05.687Z"
   },
   {
    "duration": 1752,
    "start_time": "2025-09-03T09:33:14.131Z"
   },
   {
    "duration": 85,
    "start_time": "2025-09-03T09:33:15.884Z"
   },
   {
    "duration": 24,
    "start_time": "2025-09-03T09:33:15.972Z"
   },
   {
    "duration": 39,
    "start_time": "2025-09-03T09:33:15.998Z"
   },
   {
    "duration": 85,
    "start_time": "2025-09-03T09:33:16.039Z"
   },
   {
    "duration": 21,
    "start_time": "2025-09-03T09:33:16.126Z"
   },
   {
    "duration": 14,
    "start_time": "2025-09-03T09:33:16.149Z"
   },
   {
    "duration": 396,
    "start_time": "2025-09-03T09:33:16.164Z"
   },
   {
    "duration": 34,
    "start_time": "2025-09-03T09:33:16.562Z"
   },
   {
    "duration": 138,
    "start_time": "2025-09-03T09:33:16.598Z"
   },
   {
    "duration": 334,
    "start_time": "2025-09-03T09:33:16.738Z"
   },
   {
    "duration": 137,
    "start_time": "2025-09-03T09:33:17.073Z"
   },
   {
    "duration": 241,
    "start_time": "2025-09-03T09:33:17.212Z"
   },
   {
    "duration": 204,
    "start_time": "2025-09-03T09:33:17.454Z"
   },
   {
    "duration": 50,
    "start_time": "2025-09-03T09:33:17.660Z"
   },
   {
    "duration": 16,
    "start_time": "2025-09-03T09:33:17.712Z"
   },
   {
    "duration": 7,
    "start_time": "2025-09-03T09:33:17.729Z"
   },
   {
    "duration": 42,
    "start_time": "2025-09-03T09:33:17.737Z"
   },
   {
    "duration": 302,
    "start_time": "2025-09-03T09:33:17.780Z"
   },
   {
    "duration": 107,
    "start_time": "2025-09-03T09:33:18.083Z"
   },
   {
    "duration": 4666,
    "start_time": "2025-09-03T09:33:18.191Z"
   },
   {
    "duration": 11,
    "start_time": "2025-09-03T09:33:22.859Z"
   },
   {
    "duration": 25,
    "start_time": "2025-09-03T09:33:22.871Z"
   },
   {
    "duration": 6108,
    "start_time": "2025-09-03T09:33:22.898Z"
   },
   {
    "duration": 169,
    "start_time": "2025-09-03T09:33:29.007Z"
   },
   {
    "duration": 142,
    "start_time": "2025-09-03T09:33:29.178Z"
   },
   {
    "duration": 251,
    "start_time": "2025-09-03T09:33:29.325Z"
   },
   {
    "duration": 200,
    "start_time": "2025-09-03T09:33:29.578Z"
   },
   {
    "duration": 157,
    "start_time": "2025-09-03T09:33:29.779Z"
   },
   {
    "duration": 172,
    "start_time": "2025-09-03T09:33:29.937Z"
   },
   {
    "duration": 173,
    "start_time": "2025-09-03T09:33:30.111Z"
   },
   {
    "duration": 187,
    "start_time": "2025-09-03T09:33:30.286Z"
   },
   {
    "duration": 37,
    "start_time": "2025-09-03T09:33:30.474Z"
   },
   {
    "duration": 42,
    "start_time": "2025-09-03T09:33:30.512Z"
   },
   {
    "duration": 48,
    "start_time": "2025-09-03T09:33:30.571Z"
   },
   {
    "duration": 198,
    "start_time": "2025-09-03T09:33:30.621Z"
   },
   {
    "duration": 188,
    "start_time": "2025-09-03T09:33:30.821Z"
   },
   {
    "duration": 310,
    "start_time": "2025-09-03T09:33:31.011Z"
   },
   {
    "duration": 203,
    "start_time": "2025-09-03T09:33:31.323Z"
   },
   {
    "duration": 460,
    "start_time": "2025-09-03T09:33:31.528Z"
   },
   {
    "duration": 398,
    "start_time": "2025-09-03T09:33:31.990Z"
   },
   {
    "duration": 129,
    "start_time": "2025-09-03T09:33:32.390Z"
   },
   {
    "duration": 130,
    "start_time": "2025-09-03T09:33:32.521Z"
   },
   {
    "duration": 121,
    "start_time": "2025-09-03T09:33:32.653Z"
   },
   {
    "duration": 170,
    "start_time": "2025-09-03T09:33:32.775Z"
   },
   {
    "duration": 93,
    "start_time": "2025-09-03T09:33:32.946Z"
   },
   {
    "duration": 213,
    "start_time": "2025-09-03T09:33:33.040Z"
   },
   {
    "duration": 189,
    "start_time": "2025-09-03T09:33:33.255Z"
   },
   {
    "duration": 32,
    "start_time": "2025-09-03T09:33:33.447Z"
   },
   {
    "duration": 152,
    "start_time": "2025-09-03T09:33:33.481Z"
   },
   {
    "duration": 144,
    "start_time": "2025-09-03T09:33:33.635Z"
   },
   {
    "duration": 108,
    "start_time": "2025-09-03T09:33:33.781Z"
   },
   {
    "duration": 68,
    "start_time": "2025-09-03T09:33:53.423Z"
   },
   {
    "duration": 180,
    "start_time": "2025-09-03T09:39:55.308Z"
   },
   {
    "duration": 1059,
    "start_time": "2025-09-03T09:41:02.683Z"
   },
   {
    "duration": 159,
    "start_time": "2025-09-03T09:41:20.209Z"
   },
   {
    "duration": 9,
    "start_time": "2025-09-03T09:44:08.417Z"
   },
   {
    "duration": 140,
    "start_time": "2025-09-03T09:44:11.674Z"
   },
   {
    "duration": 3,
    "start_time": "2025-09-03T09:44:12.779Z"
   },
   {
    "duration": 3,
    "start_time": "2025-09-03T09:44:15.824Z"
   },
   {
    "duration": 5,
    "start_time": "2025-09-03T09:44:32.572Z"
   },
   {
    "duration": 4,
    "start_time": "2025-09-03T09:45:05.764Z"
   },
   {
    "duration": 7,
    "start_time": "2025-09-03T09:48:26.892Z"
   },
   {
    "duration": 180,
    "start_time": "2025-09-03T09:49:51.730Z"
   },
   {
    "duration": 3,
    "start_time": "2025-09-03T09:51:17.687Z"
   },
   {
    "duration": 22,
    "start_time": "2025-09-03T09:51:30.902Z"
   },
   {
    "duration": 219,
    "start_time": "2025-09-03T09:53:11.289Z"
   },
   {
    "duration": 207,
    "start_time": "2025-09-03T09:53:33.712Z"
   },
   {
    "duration": 3215,
    "start_time": "2025-09-03T12:28:23.244Z"
   },
   {
    "duration": 2146,
    "start_time": "2025-09-03T12:28:26.461Z"
   },
   {
    "duration": 84,
    "start_time": "2025-09-03T12:28:28.608Z"
   },
   {
    "duration": 23,
    "start_time": "2025-09-03T12:28:28.694Z"
   },
   {
    "duration": 33,
    "start_time": "2025-09-03T12:28:28.719Z"
   },
   {
    "duration": 77,
    "start_time": "2025-09-03T12:28:28.754Z"
   },
   {
    "duration": 7,
    "start_time": "2025-09-03T12:28:28.833Z"
   },
   {
    "duration": 30,
    "start_time": "2025-09-03T12:28:28.841Z"
   },
   {
    "duration": 398,
    "start_time": "2025-09-03T12:28:28.874Z"
   },
   {
    "duration": 35,
    "start_time": "2025-09-03T12:28:29.274Z"
   },
   {
    "duration": 131,
    "start_time": "2025-09-03T12:28:29.310Z"
   },
   {
    "duration": 321,
    "start_time": "2025-09-03T12:28:29.443Z"
   },
   {
    "duration": 128,
    "start_time": "2025-09-03T12:28:29.769Z"
   },
   {
    "duration": 232,
    "start_time": "2025-09-03T12:28:29.898Z"
   },
   {
    "duration": 177,
    "start_time": "2025-09-03T12:28:30.131Z"
   },
   {
    "duration": 3,
    "start_time": "2025-09-03T12:28:30.310Z"
   },
   {
    "duration": 309,
    "start_time": "2025-09-03T12:28:30.315Z"
   },
   {
    "duration": 15,
    "start_time": "2025-09-03T12:28:30.626Z"
   },
   {
    "duration": 48,
    "start_time": "2025-09-03T12:28:30.642Z"
   },
   {
    "duration": 22,
    "start_time": "2025-09-03T12:28:30.692Z"
   },
   {
    "duration": 91,
    "start_time": "2025-09-03T12:28:30.715Z"
   },
   {
    "duration": 0,
    "start_time": "2025-09-03T12:28:30.808Z"
   },
   {
    "duration": 0,
    "start_time": "2025-09-03T12:28:30.809Z"
   },
   {
    "duration": 0,
    "start_time": "2025-09-03T12:28:30.810Z"
   },
   {
    "duration": 0,
    "start_time": "2025-09-03T12:28:30.812Z"
   },
   {
    "duration": 0,
    "start_time": "2025-09-03T12:28:30.813Z"
   },
   {
    "duration": 0,
    "start_time": "2025-09-03T12:28:30.814Z"
   },
   {
    "duration": 0,
    "start_time": "2025-09-03T12:28:30.816Z"
   },
   {
    "duration": 0,
    "start_time": "2025-09-03T12:28:30.816Z"
   },
   {
    "duration": 0,
    "start_time": "2025-09-03T12:28:30.818Z"
   },
   {
    "duration": 0,
    "start_time": "2025-09-03T12:28:30.819Z"
   },
   {
    "duration": 0,
    "start_time": "2025-09-03T12:28:30.820Z"
   },
   {
    "duration": 0,
    "start_time": "2025-09-03T12:28:30.821Z"
   },
   {
    "duration": 0,
    "start_time": "2025-09-03T12:28:30.823Z"
   },
   {
    "duration": 0,
    "start_time": "2025-09-03T12:28:30.824Z"
   },
   {
    "duration": 0,
    "start_time": "2025-09-03T12:28:30.825Z"
   },
   {
    "duration": 0,
    "start_time": "2025-09-03T12:28:30.826Z"
   },
   {
    "duration": 0,
    "start_time": "2025-09-03T12:28:30.827Z"
   },
   {
    "duration": 0,
    "start_time": "2025-09-03T12:28:30.828Z"
   },
   {
    "duration": 0,
    "start_time": "2025-09-03T12:28:30.829Z"
   },
   {
    "duration": 0,
    "start_time": "2025-09-03T12:28:30.871Z"
   },
   {
    "duration": 0,
    "start_time": "2025-09-03T12:28:30.872Z"
   },
   {
    "duration": 0,
    "start_time": "2025-09-03T12:28:30.873Z"
   },
   {
    "duration": 0,
    "start_time": "2025-09-03T12:28:30.874Z"
   },
   {
    "duration": 0,
    "start_time": "2025-09-03T12:28:30.875Z"
   },
   {
    "duration": 0,
    "start_time": "2025-09-03T12:28:30.876Z"
   },
   {
    "duration": 0,
    "start_time": "2025-09-03T12:28:30.877Z"
   },
   {
    "duration": 0,
    "start_time": "2025-09-03T12:28:30.878Z"
   },
   {
    "duration": 0,
    "start_time": "2025-09-03T12:28:30.879Z"
   },
   {
    "duration": 0,
    "start_time": "2025-09-03T12:28:30.880Z"
   },
   {
    "duration": 0,
    "start_time": "2025-09-03T12:28:30.881Z"
   },
   {
    "duration": 0,
    "start_time": "2025-09-03T12:28:30.882Z"
   },
   {
    "duration": 0,
    "start_time": "2025-09-03T12:28:30.883Z"
   },
   {
    "duration": 0,
    "start_time": "2025-09-03T12:28:30.884Z"
   },
   {
    "duration": 64,
    "start_time": "2025-09-03T12:29:24.895Z"
   },
   {
    "duration": 63,
    "start_time": "2025-09-03T12:29:31.165Z"
   },
   {
    "duration": 24,
    "start_time": "2025-09-03T12:34:55.575Z"
   },
   {
    "duration": 320,
    "start_time": "2025-09-03T12:35:28.524Z"
   },
   {
    "duration": 113,
    "start_time": "2025-09-03T12:35:30.820Z"
   },
   {
    "duration": 5181,
    "start_time": "2025-09-03T12:35:31.747Z"
   },
   {
    "duration": 6,
    "start_time": "2025-09-03T12:35:36.930Z"
   },
   {
    "duration": 35,
    "start_time": "2025-09-03T12:35:36.938Z"
   },
   {
    "duration": 6439,
    "start_time": "2025-09-03T12:35:37.954Z"
   },
   {
    "duration": 171,
    "start_time": "2025-09-03T12:35:47.523Z"
   },
   {
    "duration": 73,
    "start_time": "2025-09-03T12:40:51.198Z"
   },
   {
    "duration": 44,
    "start_time": "2025-09-03T12:41:01.723Z"
   },
   {
    "duration": 10,
    "start_time": "2025-09-03T12:43:15.426Z"
   },
   {
    "duration": 6,
    "start_time": "2025-09-03T12:43:37.317Z"
   },
   {
    "duration": 3247,
    "start_time": "2025-09-03T12:43:43.228Z"
   },
   {
    "duration": 2545,
    "start_time": "2025-09-03T12:43:46.476Z"
   },
   {
    "duration": 85,
    "start_time": "2025-09-03T12:43:49.023Z"
   },
   {
    "duration": 23,
    "start_time": "2025-09-03T12:43:49.110Z"
   },
   {
    "duration": 14,
    "start_time": "2025-09-03T12:43:49.134Z"
   },
   {
    "duration": 77,
    "start_time": "2025-09-03T12:43:49.150Z"
   },
   {
    "duration": 6,
    "start_time": "2025-09-03T12:43:49.228Z"
   },
   {
    "duration": 14,
    "start_time": "2025-09-03T12:43:49.236Z"
   },
   {
    "duration": 408,
    "start_time": "2025-09-03T12:43:49.251Z"
   },
   {
    "duration": 42,
    "start_time": "2025-09-03T12:43:49.661Z"
   },
   {
    "duration": 131,
    "start_time": "2025-09-03T12:43:49.705Z"
   },
   {
    "duration": 321,
    "start_time": "2025-09-03T12:43:49.837Z"
   },
   {
    "duration": 141,
    "start_time": "2025-09-03T12:43:50.160Z"
   },
   {
    "duration": 230,
    "start_time": "2025-09-03T12:43:50.302Z"
   },
   {
    "duration": 164,
    "start_time": "2025-09-03T12:43:50.533Z"
   },
   {
    "duration": 3,
    "start_time": "2025-09-03T12:43:50.699Z"
   },
   {
    "duration": 226,
    "start_time": "2025-09-03T12:43:50.703Z"
   },
   {
    "duration": 15,
    "start_time": "2025-09-03T12:43:50.930Z"
   },
   {
    "duration": 35,
    "start_time": "2025-09-03T12:43:50.946Z"
   },
   {
    "duration": 4,
    "start_time": "2025-09-03T12:43:50.983Z"
   },
   {
    "duration": 7,
    "start_time": "2025-09-03T12:43:50.988Z"
   },
   {
    "duration": 20,
    "start_time": "2025-09-03T12:43:50.996Z"
   },
   {
    "duration": 8,
    "start_time": "2025-09-03T12:43:51.017Z"
   },
   {
    "duration": 44,
    "start_time": "2025-09-03T12:43:51.026Z"
   },
   {
    "duration": 3,
    "start_time": "2025-09-03T12:43:51.072Z"
   },
   {
    "duration": 5,
    "start_time": "2025-09-03T12:43:51.076Z"
   },
   {
    "duration": 42,
    "start_time": "2025-09-03T12:43:51.083Z"
   },
   {
    "duration": 11,
    "start_time": "2025-09-03T12:43:51.128Z"
   },
   {
    "duration": 137,
    "start_time": "2025-09-03T12:43:51.140Z"
   },
   {
    "duration": 167,
    "start_time": "2025-09-03T12:43:51.279Z"
   },
   {
    "duration": 164,
    "start_time": "2025-09-03T12:43:51.448Z"
   },
   {
    "duration": 148,
    "start_time": "2025-09-03T12:43:51.614Z"
   },
   {
    "duration": 198,
    "start_time": "2025-09-03T12:43:51.764Z"
   },
   {
    "duration": 141,
    "start_time": "2025-09-03T12:43:51.963Z"
   },
   {
    "duration": 149,
    "start_time": "2025-09-03T12:43:52.106Z"
   },
   {
    "duration": 16,
    "start_time": "2025-09-03T12:43:52.256Z"
   },
   {
    "duration": 10,
    "start_time": "2025-09-03T12:43:52.273Z"
   },
   {
    "duration": 7,
    "start_time": "2025-09-03T12:43:52.284Z"
   },
   {
    "duration": 163,
    "start_time": "2025-09-03T12:43:52.292Z"
   },
   {
    "duration": 150,
    "start_time": "2025-09-03T12:43:52.457Z"
   },
   {
    "duration": 267,
    "start_time": "2025-09-03T12:43:52.609Z"
   },
   {
    "duration": 230,
    "start_time": "2025-09-03T12:43:52.877Z"
   },
   {
    "duration": 395,
    "start_time": "2025-09-03T12:43:53.108Z"
   },
   {
    "duration": 343,
    "start_time": "2025-09-03T12:43:53.504Z"
   },
   {
    "duration": 29,
    "start_time": "2025-09-03T12:43:53.849Z"
   },
   {
    "duration": 21,
    "start_time": "2025-09-03T12:43:53.880Z"
   },
   {
    "duration": 22,
    "start_time": "2025-09-03T12:43:53.902Z"
   },
   {
    "duration": 85,
    "start_time": "2025-09-03T12:43:53.926Z"
   },
   {
    "duration": 8,
    "start_time": "2025-09-03T12:43:54.012Z"
   },
   {
    "duration": 261,
    "start_time": "2025-09-03T12:43:54.021Z"
   },
   {
    "duration": 168,
    "start_time": "2025-09-03T12:43:54.283Z"
   },
   {
    "duration": 17,
    "start_time": "2025-09-03T12:43:54.453Z"
   },
   {
    "duration": 201,
    "start_time": "2025-09-03T12:43:54.471Z"
   },
   {
    "duration": 123,
    "start_time": "2025-09-03T12:43:54.673Z"
   },
   {
    "duration": 11,
    "start_time": "2025-09-03T12:43:54.798Z"
   },
   {
    "duration": 3304,
    "start_time": "2025-09-03T13:42:19.243Z"
   },
   {
    "duration": 2291,
    "start_time": "2025-09-03T13:42:22.548Z"
   },
   {
    "duration": 85,
    "start_time": "2025-09-03T13:42:24.840Z"
   },
   {
    "duration": 25,
    "start_time": "2025-09-03T13:42:24.927Z"
   },
   {
    "duration": 49,
    "start_time": "2025-09-03T13:42:24.954Z"
   },
   {
    "duration": 64,
    "start_time": "2025-09-03T13:42:25.004Z"
   },
   {
    "duration": 6,
    "start_time": "2025-09-03T13:42:25.070Z"
   },
   {
    "duration": 17,
    "start_time": "2025-09-03T13:42:25.078Z"
   },
   {
    "duration": 415,
    "start_time": "2025-09-03T13:42:25.097Z"
   },
   {
    "duration": 37,
    "start_time": "2025-09-03T13:42:25.515Z"
   },
   {
    "duration": 138,
    "start_time": "2025-09-03T13:42:25.554Z"
   },
   {
    "duration": 333,
    "start_time": "2025-09-03T13:42:25.694Z"
   },
   {
    "duration": 139,
    "start_time": "2025-09-03T13:42:26.028Z"
   },
   {
    "duration": 250,
    "start_time": "2025-09-03T13:42:26.171Z"
   },
   {
    "duration": 170,
    "start_time": "2025-09-03T13:42:26.423Z"
   },
   {
    "duration": 4,
    "start_time": "2025-09-03T13:42:26.595Z"
   },
   {
    "duration": 228,
    "start_time": "2025-09-03T13:42:26.600Z"
   },
   {
    "duration": 15,
    "start_time": "2025-09-03T13:42:26.830Z"
   },
   {
    "duration": 35,
    "start_time": "2025-09-03T13:42:26.846Z"
   },
   {
    "duration": 5,
    "start_time": "2025-09-03T13:42:26.882Z"
   },
   {
    "duration": 37,
    "start_time": "2025-09-03T13:42:26.888Z"
   },
   {
    "duration": 95,
    "start_time": "2025-09-03T13:42:26.926Z"
   },
   {
    "duration": 8,
    "start_time": "2025-09-03T13:42:27.022Z"
   },
   {
    "duration": 26,
    "start_time": "2025-09-03T13:42:27.031Z"
   },
   {
    "duration": 3,
    "start_time": "2025-09-03T13:42:27.058Z"
   },
   {
    "duration": 7,
    "start_time": "2025-09-03T13:42:27.063Z"
   },
   {
    "duration": 34,
    "start_time": "2025-09-03T13:42:27.072Z"
   },
   {
    "duration": 12,
    "start_time": "2025-09-03T13:42:27.109Z"
   },
   {
    "duration": 141,
    "start_time": "2025-09-03T13:42:27.123Z"
   },
   {
    "duration": 162,
    "start_time": "2025-09-03T13:42:27.266Z"
   },
   {
    "duration": 173,
    "start_time": "2025-09-03T13:42:27.430Z"
   },
   {
    "duration": 149,
    "start_time": "2025-09-03T13:42:27.605Z"
   },
   {
    "duration": 202,
    "start_time": "2025-09-03T13:42:27.756Z"
   },
   {
    "duration": 144,
    "start_time": "2025-09-03T13:42:27.960Z"
   },
   {
    "duration": 150,
    "start_time": "2025-09-03T13:42:28.106Z"
   },
   {
    "duration": 18,
    "start_time": "2025-09-03T13:42:28.258Z"
   },
   {
    "duration": 13,
    "start_time": "2025-09-03T13:42:28.278Z"
   },
   {
    "duration": 8,
    "start_time": "2025-09-03T13:42:28.292Z"
   },
   {
    "duration": 165,
    "start_time": "2025-09-03T13:42:28.301Z"
   },
   {
    "duration": 156,
    "start_time": "2025-09-03T13:42:28.467Z"
   },
   {
    "duration": 290,
    "start_time": "2025-09-03T13:42:28.624Z"
   },
   {
    "duration": 216,
    "start_time": "2025-09-03T13:42:28.915Z"
   },
   {
    "duration": 380,
    "start_time": "2025-09-03T13:42:29.132Z"
   },
   {
    "duration": 336,
    "start_time": "2025-09-03T13:42:29.515Z"
   },
   {
    "duration": 27,
    "start_time": "2025-09-03T13:42:29.853Z"
   },
   {
    "duration": 19,
    "start_time": "2025-09-03T13:42:29.881Z"
   },
   {
    "duration": 21,
    "start_time": "2025-09-03T13:42:29.902Z"
   },
   {
    "duration": 86,
    "start_time": "2025-09-03T13:42:29.924Z"
   },
   {
    "duration": 8,
    "start_time": "2025-09-03T13:42:30.011Z"
   },
   {
    "duration": 297,
    "start_time": "2025-09-03T13:42:30.020Z"
   },
   {
    "duration": 179,
    "start_time": "2025-09-03T13:42:30.318Z"
   },
   {
    "duration": 9,
    "start_time": "2025-09-03T13:42:30.499Z"
   },
   {
    "duration": 161,
    "start_time": "2025-09-03T13:42:30.510Z"
   },
   {
    "duration": 136,
    "start_time": "2025-09-03T13:42:30.672Z"
   },
   {
    "duration": 10,
    "start_time": "2025-09-03T13:42:30.810Z"
   },
   {
    "duration": 3219,
    "start_time": "2025-09-03T13:44:41.517Z"
   },
   {
    "duration": 1625,
    "start_time": "2025-09-03T13:44:44.739Z"
   },
   {
    "duration": 85,
    "start_time": "2025-09-03T13:44:46.365Z"
   },
   {
    "duration": 28,
    "start_time": "2025-09-03T13:44:46.452Z"
   },
   {
    "duration": 18,
    "start_time": "2025-09-03T13:44:46.481Z"
   },
   {
    "duration": 77,
    "start_time": "2025-09-03T13:44:46.501Z"
   },
   {
    "duration": 6,
    "start_time": "2025-09-03T13:44:46.579Z"
   },
   {
    "duration": 24,
    "start_time": "2025-09-03T13:44:46.587Z"
   },
   {
    "duration": 435,
    "start_time": "2025-09-03T13:44:46.613Z"
   },
   {
    "duration": 41,
    "start_time": "2025-09-03T13:44:47.050Z"
   },
   {
    "duration": 134,
    "start_time": "2025-09-03T13:44:47.092Z"
   },
   {
    "duration": 331,
    "start_time": "2025-09-03T13:44:47.228Z"
   },
   {
    "duration": 152,
    "start_time": "2025-09-03T13:44:47.560Z"
   },
   {
    "duration": 243,
    "start_time": "2025-09-03T13:44:47.714Z"
   },
   {
    "duration": 173,
    "start_time": "2025-09-03T13:44:47.959Z"
   },
   {
    "duration": 4,
    "start_time": "2025-09-03T13:44:48.134Z"
   },
   {
    "duration": 233,
    "start_time": "2025-09-03T13:44:48.139Z"
   },
   {
    "duration": 15,
    "start_time": "2025-09-03T13:44:48.374Z"
   },
   {
    "duration": 5,
    "start_time": "2025-09-03T13:44:48.390Z"
   },
   {
    "duration": 32,
    "start_time": "2025-09-03T13:44:48.396Z"
   },
   {
    "duration": 289,
    "start_time": "2025-09-03T13:44:48.429Z"
   },
   {
    "duration": 134,
    "start_time": "2025-09-03T13:44:48.720Z"
   },
   {
    "duration": 4990,
    "start_time": "2025-09-03T13:44:48.856Z"
   },
   {
    "duration": 5,
    "start_time": "2025-09-03T13:44:53.847Z"
   },
   {
    "duration": 33,
    "start_time": "2025-09-03T13:44:53.853Z"
   },
   {
    "duration": 6419,
    "start_time": "2025-09-03T13:44:53.887Z"
   },
   {
    "duration": 177,
    "start_time": "2025-09-03T13:45:00.307Z"
   },
   {
    "duration": 145,
    "start_time": "2025-09-03T13:45:00.487Z"
   },
   {
    "duration": 262,
    "start_time": "2025-09-03T13:45:00.633Z"
   },
   {
    "duration": 202,
    "start_time": "2025-09-03T13:45:00.897Z"
   },
   {
    "duration": 162,
    "start_time": "2025-09-03T13:45:01.101Z"
   },
   {
    "duration": 179,
    "start_time": "2025-09-03T13:45:01.264Z"
   },
   {
    "duration": 171,
    "start_time": "2025-09-03T13:45:01.445Z"
   },
   {
    "duration": 181,
    "start_time": "2025-09-03T13:45:01.617Z"
   },
   {
    "duration": 39,
    "start_time": "2025-09-03T13:45:01.800Z"
   },
   {
    "duration": 61,
    "start_time": "2025-09-03T13:45:01.841Z"
   },
   {
    "duration": 50,
    "start_time": "2025-09-03T13:45:01.903Z"
   },
   {
    "duration": 199,
    "start_time": "2025-09-03T13:45:01.954Z"
   },
   {
    "duration": 209,
    "start_time": "2025-09-03T13:45:02.155Z"
   },
   {
    "duration": 309,
    "start_time": "2025-09-03T13:45:02.365Z"
   },
   {
    "duration": 198,
    "start_time": "2025-09-03T13:45:02.676Z"
   },
   {
    "duration": 428,
    "start_time": "2025-09-03T13:45:02.876Z"
   },
   {
    "duration": 341,
    "start_time": "2025-09-03T13:45:03.306Z"
   },
   {
    "duration": 106,
    "start_time": "2025-09-03T13:45:03.650Z"
   },
   {
    "duration": 134,
    "start_time": "2025-09-03T13:45:03.757Z"
   },
   {
    "duration": 123,
    "start_time": "2025-09-03T13:45:03.893Z"
   },
   {
    "duration": 173,
    "start_time": "2025-09-03T13:45:04.017Z"
   },
   {
    "duration": 92,
    "start_time": "2025-09-03T13:45:04.191Z"
   },
   {
    "duration": 205,
    "start_time": "2025-09-03T13:45:04.285Z"
   },
   {
    "duration": 194,
    "start_time": "2025-09-03T13:45:04.491Z"
   },
   {
    "duration": 24,
    "start_time": "2025-09-03T13:45:04.687Z"
   },
   {
    "duration": 262,
    "start_time": "2025-09-03T13:45:04.713Z"
   },
   {
    "duration": 139,
    "start_time": "2025-09-03T13:45:04.977Z"
   },
   {
    "duration": 113,
    "start_time": "2025-09-03T13:45:05.118Z"
   },
   {
    "duration": 981,
    "start_time": "2025-09-03T13:51:31.807Z"
   },
   {
    "duration": 885,
    "start_time": "2025-09-03T13:51:41.444Z"
   },
   {
    "duration": 61,
    "start_time": "2025-09-03T13:52:03.133Z"
   },
   {
    "duration": 113,
    "start_time": "2025-09-03T13:52:10.595Z"
   },
   {
    "duration": 95,
    "start_time": "2025-09-03T13:52:21.923Z"
   },
   {
    "duration": 46,
    "start_time": "2025-09-03T13:52:33.451Z"
   },
   {
    "duration": 60,
    "start_time": "2025-09-03T13:52:57.159Z"
   },
   {
    "duration": 132,
    "start_time": "2025-09-03T13:55:00.646Z"
   },
   {
    "duration": 49,
    "start_time": "2025-09-03T13:55:11.213Z"
   },
   {
    "duration": 37,
    "start_time": "2025-09-03T13:55:24.800Z"
   },
   {
    "duration": 44,
    "start_time": "2025-09-03T13:55:44.747Z"
   },
   {
    "duration": 56,
    "start_time": "2025-09-03T13:55:55.738Z"
   },
   {
    "duration": 9955,
    "start_time": "2025-09-05T09:12:08.621Z"
   },
   {
    "duration": 1968,
    "start_time": "2025-09-05T09:12:18.578Z"
   },
   {
    "duration": 93,
    "start_time": "2025-09-05T09:12:20.548Z"
   },
   {
    "duration": 24,
    "start_time": "2025-09-05T09:12:20.643Z"
   },
   {
    "duration": 28,
    "start_time": "2025-09-05T09:12:20.669Z"
   },
   {
    "duration": 68,
    "start_time": "2025-09-05T09:12:20.698Z"
   },
   {
    "duration": 21,
    "start_time": "2025-09-05T09:12:20.768Z"
   },
   {
    "duration": 33,
    "start_time": "2025-09-05T09:12:20.790Z"
   },
   {
    "duration": 434,
    "start_time": "2025-09-05T09:12:20.825Z"
   },
   {
    "duration": 40,
    "start_time": "2025-09-05T09:12:21.261Z"
   },
   {
    "duration": 141,
    "start_time": "2025-09-05T09:12:21.303Z"
   },
   {
    "duration": 359,
    "start_time": "2025-09-05T09:12:21.446Z"
   },
   {
    "duration": 165,
    "start_time": "2025-09-05T09:12:21.807Z"
   },
   {
    "duration": 251,
    "start_time": "2025-09-05T09:12:21.973Z"
   },
   {
    "duration": 183,
    "start_time": "2025-09-05T09:12:22.225Z"
   },
   {
    "duration": 4,
    "start_time": "2025-09-05T09:12:22.410Z"
   },
   {
    "duration": 245,
    "start_time": "2025-09-05T09:12:22.416Z"
   },
   {
    "duration": 25,
    "start_time": "2025-09-05T09:12:22.663Z"
   },
   {
    "duration": 4,
    "start_time": "2025-09-05T09:12:22.690Z"
   },
   {
    "duration": 41,
    "start_time": "2025-09-05T09:12:22.696Z"
   },
   {
    "duration": 272,
    "start_time": "2025-09-05T09:12:22.738Z"
   },
   {
    "duration": 122,
    "start_time": "2025-09-05T09:12:23.012Z"
   },
   {
    "duration": 5537,
    "start_time": "2025-09-05T09:12:23.136Z"
   },
   {
    "duration": 13,
    "start_time": "2025-09-05T09:12:28.674Z"
   },
   {
    "duration": 26,
    "start_time": "2025-09-05T09:12:28.689Z"
   },
   {
    "duration": 7471,
    "start_time": "2025-09-05T09:12:28.717Z"
   },
   {
    "duration": 198,
    "start_time": "2025-09-05T09:12:36.190Z"
   },
   {
    "duration": 157,
    "start_time": "2025-09-05T09:12:36.392Z"
   },
   {
    "duration": 297,
    "start_time": "2025-09-05T09:12:36.551Z"
   },
   {
    "duration": 217,
    "start_time": "2025-09-05T09:12:36.849Z"
   },
   {
    "duration": 174,
    "start_time": "2025-09-05T09:12:37.067Z"
   },
   {
    "duration": 191,
    "start_time": "2025-09-05T09:12:37.243Z"
   },
   {
    "duration": 196,
    "start_time": "2025-09-05T09:12:37.435Z"
   },
   {
    "duration": 193,
    "start_time": "2025-09-05T09:12:37.633Z"
   },
   {
    "duration": 42,
    "start_time": "2025-09-05T09:12:37.828Z"
   },
   {
    "duration": 62,
    "start_time": "2025-09-05T09:12:37.871Z"
   },
   {
    "duration": 66,
    "start_time": "2025-09-05T09:12:37.934Z"
   },
   {
    "duration": 212,
    "start_time": "2025-09-05T09:12:38.002Z"
   },
   {
    "duration": 230,
    "start_time": "2025-09-05T09:12:38.216Z"
   },
   {
    "duration": 341,
    "start_time": "2025-09-05T09:12:38.448Z"
   },
   {
    "duration": 226,
    "start_time": "2025-09-05T09:12:38.792Z"
   },
   {
    "duration": 428,
    "start_time": "2025-09-05T09:12:39.020Z"
   },
   {
    "duration": 343,
    "start_time": "2025-09-05T09:12:39.450Z"
   },
   {
    "duration": 123,
    "start_time": "2025-09-05T09:12:39.795Z"
   },
   {
    "duration": 151,
    "start_time": "2025-09-05T09:12:39.920Z"
   },
   {
    "duration": 142,
    "start_time": "2025-09-05T09:12:40.072Z"
   },
   {
    "duration": 198,
    "start_time": "2025-09-05T09:12:40.217Z"
   },
   {
    "duration": 105,
    "start_time": "2025-09-05T09:12:40.416Z"
   },
   {
    "duration": 244,
    "start_time": "2025-09-05T09:12:40.522Z"
   },
   {
    "duration": 219,
    "start_time": "2025-09-05T09:12:40.768Z"
   },
   {
    "duration": 29,
    "start_time": "2025-09-05T09:12:40.989Z"
   },
   {
    "duration": 192,
    "start_time": "2025-09-05T09:12:41.020Z"
   },
   {
    "duration": 160,
    "start_time": "2025-09-05T09:12:41.214Z"
   },
   {
    "duration": 115,
    "start_time": "2025-09-05T09:12:41.387Z"
   },
   {
    "duration": 8994,
    "start_time": "2025-09-05T12:07:20.699Z"
   },
   {
    "duration": 2047,
    "start_time": "2025-09-05T12:07:29.696Z"
   },
   {
    "duration": 103,
    "start_time": "2025-09-05T12:07:31.744Z"
   },
   {
    "duration": 41,
    "start_time": "2025-09-05T12:07:31.849Z"
   },
   {
    "duration": 20,
    "start_time": "2025-09-05T12:07:31.892Z"
   },
   {
    "duration": 76,
    "start_time": "2025-09-05T12:07:31.914Z"
   },
   {
    "duration": 8,
    "start_time": "2025-09-05T12:07:31.992Z"
   },
   {
    "duration": 23,
    "start_time": "2025-09-05T12:07:32.001Z"
   },
   {
    "duration": 440,
    "start_time": "2025-09-05T12:07:32.025Z"
   },
   {
    "duration": 37,
    "start_time": "2025-09-05T12:07:32.467Z"
   },
   {
    "duration": 145,
    "start_time": "2025-09-05T12:07:32.506Z"
   },
   {
    "duration": 367,
    "start_time": "2025-09-05T12:07:32.653Z"
   },
   {
    "duration": 145,
    "start_time": "2025-09-05T12:07:33.021Z"
   },
   {
    "duration": 255,
    "start_time": "2025-09-05T12:07:33.174Z"
   },
   {
    "duration": 166,
    "start_time": "2025-09-05T12:07:33.431Z"
   },
   {
    "duration": 5,
    "start_time": "2025-09-05T12:07:33.598Z"
   },
   {
    "duration": 229,
    "start_time": "2025-09-05T12:07:33.604Z"
   },
   {
    "duration": 15,
    "start_time": "2025-09-05T12:07:33.835Z"
   },
   {
    "duration": 59,
    "start_time": "2025-09-05T12:07:33.851Z"
   },
   {
    "duration": 20,
    "start_time": "2025-09-05T12:07:33.912Z"
   },
   {
    "duration": 282,
    "start_time": "2025-09-05T12:07:33.934Z"
   },
   {
    "duration": 110,
    "start_time": "2025-09-05T12:07:34.218Z"
   },
   {
    "duration": 4905,
    "start_time": "2025-09-05T12:07:34.330Z"
   },
   {
    "duration": 4,
    "start_time": "2025-09-05T12:07:39.237Z"
   },
   {
    "duration": 38,
    "start_time": "2025-09-05T12:07:39.242Z"
   },
   {
    "duration": 6425,
    "start_time": "2025-09-05T12:07:39.283Z"
   },
   {
    "duration": 198,
    "start_time": "2025-09-05T12:07:45.709Z"
   },
   {
    "duration": 155,
    "start_time": "2025-09-05T12:07:45.908Z"
   },
   {
    "duration": 301,
    "start_time": "2025-09-05T12:07:46.065Z"
   },
   {
    "duration": 226,
    "start_time": "2025-09-05T12:07:46.372Z"
   },
   {
    "duration": 169,
    "start_time": "2025-09-05T12:07:46.599Z"
   },
   {
    "duration": 191,
    "start_time": "2025-09-05T12:07:46.770Z"
   },
   {
    "duration": 195,
    "start_time": "2025-09-05T12:07:46.962Z"
   },
   {
    "duration": 169,
    "start_time": "2025-09-05T12:07:47.159Z"
   },
   {
    "duration": 52,
    "start_time": "2025-09-05T12:07:47.331Z"
   },
   {
    "duration": 45,
    "start_time": "2025-09-05T12:07:47.385Z"
   },
   {
    "duration": 75,
    "start_time": "2025-09-05T12:07:47.431Z"
   },
   {
    "duration": 215,
    "start_time": "2025-09-05T12:07:47.507Z"
   },
   {
    "duration": 229,
    "start_time": "2025-09-05T12:07:47.723Z"
   },
   {
    "duration": 319,
    "start_time": "2025-09-05T12:07:47.953Z"
   },
   {
    "duration": 208,
    "start_time": "2025-09-05T12:07:48.276Z"
   },
   {
    "duration": 445,
    "start_time": "2025-09-05T12:07:48.485Z"
   },
   {
    "duration": 326,
    "start_time": "2025-09-05T12:07:48.932Z"
   },
   {
    "duration": 112,
    "start_time": "2025-09-05T12:07:49.260Z"
   },
   {
    "duration": 138,
    "start_time": "2025-09-05T12:07:49.374Z"
   },
   {
    "duration": 134,
    "start_time": "2025-09-05T12:07:49.513Z"
   },
   {
    "duration": 164,
    "start_time": "2025-09-05T12:07:49.650Z"
   },
   {
    "duration": 93,
    "start_time": "2025-09-05T12:07:49.815Z"
   },
   {
    "duration": 220,
    "start_time": "2025-09-05T12:07:49.910Z"
   },
   {
    "duration": 186,
    "start_time": "2025-09-05T12:07:50.131Z"
   },
   {
    "duration": 24,
    "start_time": "2025-09-05T12:07:50.318Z"
   },
   {
    "duration": 208,
    "start_time": "2025-09-05T12:07:50.343Z"
   },
   {
    "duration": 171,
    "start_time": "2025-09-05T12:07:50.552Z"
   },
   {
    "duration": 119,
    "start_time": "2025-09-05T12:07:50.725Z"
   },
   {
    "duration": 9362,
    "start_time": "2025-09-06T08:12:25.667Z"
   },
   {
    "duration": 2173,
    "start_time": "2025-09-06T08:12:35.031Z"
   },
   {
    "duration": 92,
    "start_time": "2025-09-06T08:12:37.205Z"
   },
   {
    "duration": 37,
    "start_time": "2025-09-06T08:12:37.298Z"
   },
   {
    "duration": 30,
    "start_time": "2025-09-06T08:12:37.338Z"
   },
   {
    "duration": 70,
    "start_time": "2025-09-06T08:12:37.370Z"
   },
   {
    "duration": 6,
    "start_time": "2025-09-06T08:12:37.441Z"
   },
   {
    "duration": 13,
    "start_time": "2025-09-06T08:12:37.448Z"
   },
   {
    "duration": 445,
    "start_time": "2025-09-06T08:12:37.463Z"
   },
   {
    "duration": 41,
    "start_time": "2025-09-06T08:12:37.909Z"
   },
   {
    "duration": 143,
    "start_time": "2025-09-06T08:12:37.952Z"
   },
   {
    "duration": 352,
    "start_time": "2025-09-06T08:12:38.097Z"
   },
   {
    "duration": 143,
    "start_time": "2025-09-06T08:12:38.451Z"
   },
   {
    "duration": 260,
    "start_time": "2025-09-06T08:12:38.598Z"
   },
   {
    "duration": 187,
    "start_time": "2025-09-06T08:12:38.860Z"
   },
   {
    "duration": 4,
    "start_time": "2025-09-06T08:12:39.049Z"
   },
   {
    "duration": 248,
    "start_time": "2025-09-06T08:12:39.055Z"
   },
   {
    "duration": 16,
    "start_time": "2025-09-06T08:12:39.305Z"
   },
   {
    "duration": 18,
    "start_time": "2025-09-06T08:12:39.322Z"
   },
   {
    "duration": 21,
    "start_time": "2025-09-06T08:12:39.342Z"
   },
   {
    "duration": 275,
    "start_time": "2025-09-06T08:12:39.365Z"
   },
   {
    "duration": 118,
    "start_time": "2025-09-06T08:12:39.641Z"
   },
   {
    "duration": 5174,
    "start_time": "2025-09-06T08:12:39.760Z"
   },
   {
    "duration": 5,
    "start_time": "2025-09-06T08:12:44.936Z"
   },
   {
    "duration": 34,
    "start_time": "2025-09-06T08:12:44.943Z"
   },
   {
    "duration": 6759,
    "start_time": "2025-09-06T08:12:44.978Z"
   },
   {
    "duration": 181,
    "start_time": "2025-09-06T08:12:51.739Z"
   },
   {
    "duration": 161,
    "start_time": "2025-09-06T08:12:51.922Z"
   },
   {
    "duration": 290,
    "start_time": "2025-09-06T08:12:52.085Z"
   },
   {
    "duration": 243,
    "start_time": "2025-09-06T08:12:52.376Z"
   },
   {
    "duration": 176,
    "start_time": "2025-09-06T08:12:52.621Z"
   },
   {
    "duration": 190,
    "start_time": "2025-09-06T08:12:52.799Z"
   },
   {
    "duration": 198,
    "start_time": "2025-09-06T08:12:52.991Z"
   },
   {
    "duration": 189,
    "start_time": "2025-09-06T08:12:53.192Z"
   },
   {
    "duration": 40,
    "start_time": "2025-09-06T08:12:53.383Z"
   },
   {
    "duration": 46,
    "start_time": "2025-09-06T08:12:53.434Z"
   },
   {
    "duration": 70,
    "start_time": "2025-09-06T08:12:53.482Z"
   },
   {
    "duration": 211,
    "start_time": "2025-09-06T08:12:53.554Z"
   },
   {
    "duration": 226,
    "start_time": "2025-09-06T08:12:53.767Z"
   },
   {
    "duration": 330,
    "start_time": "2025-09-06T08:12:53.995Z"
   },
   {
    "duration": 224,
    "start_time": "2025-09-06T08:12:54.333Z"
   },
   {
    "duration": 432,
    "start_time": "2025-09-06T08:12:54.558Z"
   },
   {
    "duration": 363,
    "start_time": "2025-09-06T08:12:54.992Z"
   },
   {
    "duration": 116,
    "start_time": "2025-09-06T08:12:55.356Z"
   },
   {
    "duration": 136,
    "start_time": "2025-09-06T08:12:55.474Z"
   },
   {
    "duration": 129,
    "start_time": "2025-09-06T08:12:55.612Z"
   },
   {
    "duration": 185,
    "start_time": "2025-09-06T08:12:55.743Z"
   },
   {
    "duration": 101,
    "start_time": "2025-09-06T08:12:55.933Z"
   },
   {
    "duration": 242,
    "start_time": "2025-09-06T08:12:56.036Z"
   },
   {
    "duration": 208,
    "start_time": "2025-09-06T08:12:56.279Z"
   },
   {
    "duration": 26,
    "start_time": "2025-09-06T08:12:56.489Z"
   },
   {
    "duration": 184,
    "start_time": "2025-09-06T08:12:56.517Z"
   },
   {
    "duration": 157,
    "start_time": "2025-09-06T08:12:56.703Z"
   },
   {
    "duration": 116,
    "start_time": "2025-09-06T08:12:56.862Z"
   },
   {
    "duration": 6,
    "start_time": "2025-09-06T08:16:23.435Z"
   },
   {
    "duration": 131,
    "start_time": "2025-09-06T08:22:53.793Z"
   },
   {
    "duration": 230,
    "start_time": "2025-09-06T08:23:10.838Z"
   },
   {
    "duration": 241,
    "start_time": "2025-09-06T08:23:44.062Z"
   },
   {
    "duration": 258,
    "start_time": "2025-09-06T08:24:01.922Z"
   },
   {
    "duration": 6,
    "start_time": "2025-09-06T08:24:22.585Z"
   },
   {
    "duration": 343,
    "start_time": "2025-09-06T08:27:35.667Z"
   },
   {
    "duration": 1827,
    "start_time": "2025-09-06T08:27:49.443Z"
   },
   {
    "duration": 2535,
    "start_time": "2025-09-06T08:31:02.905Z"
   },
   {
    "duration": 80,
    "start_time": "2025-09-06T08:33:15.447Z"
   },
   {
    "duration": 33,
    "start_time": "2025-09-06T08:34:55.007Z"
   },
   {
    "duration": 284,
    "start_time": "2025-09-06T08:36:53.930Z"
   },
   {
    "duration": 814,
    "start_time": "2025-09-06T08:37:05.692Z"
   },
   {
    "duration": 5,
    "start_time": "2025-09-06T08:37:42.331Z"
   },
   {
    "duration": 70,
    "start_time": "2025-09-06T08:39:15.664Z"
   },
   {
    "duration": 101,
    "start_time": "2025-09-06T08:43:49.569Z"
   },
   {
    "duration": 125,
    "start_time": "2025-09-06T08:44:22.530Z"
   },
   {
    "duration": 163,
    "start_time": "2025-09-06T08:45:55.517Z"
   },
   {
    "duration": 176,
    "start_time": "2025-09-06T08:47:04.165Z"
   },
   {
    "duration": 214,
    "start_time": "2025-09-06T08:47:59.811Z"
   },
   {
    "duration": 259,
    "start_time": "2025-09-06T08:48:42.711Z"
   },
   {
    "duration": 9435,
    "start_time": "2025-09-07T14:47:55.070Z"
   },
   {
    "duration": 1973,
    "start_time": "2025-09-07T14:48:04.507Z"
   },
   {
    "duration": 89,
    "start_time": "2025-09-07T14:48:06.481Z"
   },
   {
    "duration": 25,
    "start_time": "2025-09-07T14:48:06.572Z"
   },
   {
    "duration": 24,
    "start_time": "2025-09-07T14:48:06.598Z"
   },
   {
    "duration": 68,
    "start_time": "2025-09-07T14:48:06.623Z"
   },
   {
    "duration": 6,
    "start_time": "2025-09-07T14:48:06.692Z"
   },
   {
    "duration": 15,
    "start_time": "2025-09-07T14:48:06.720Z"
   },
   {
    "duration": 434,
    "start_time": "2025-09-07T14:48:06.736Z"
   },
   {
    "duration": 32,
    "start_time": "2025-09-07T14:48:07.174Z"
   },
   {
    "duration": 139,
    "start_time": "2025-09-07T14:48:07.219Z"
   },
   {
    "duration": 361,
    "start_time": "2025-09-07T14:48:07.359Z"
   },
   {
    "duration": 140,
    "start_time": "2025-09-07T14:48:07.722Z"
   },
   {
    "duration": 249,
    "start_time": "2025-09-07T14:48:07.864Z"
   },
   {
    "duration": 194,
    "start_time": "2025-09-07T14:48:08.115Z"
   },
   {
    "duration": 9,
    "start_time": "2025-09-07T14:48:08.310Z"
   },
   {
    "duration": 244,
    "start_time": "2025-09-07T14:48:08.321Z"
   },
   {
    "duration": 19,
    "start_time": "2025-09-07T14:48:08.567Z"
   },
   {
    "duration": 5,
    "start_time": "2025-09-07T14:48:08.587Z"
   },
   {
    "duration": 39,
    "start_time": "2025-09-07T14:48:08.594Z"
   },
   {
    "duration": 276,
    "start_time": "2025-09-07T14:48:08.635Z"
   },
   {
    "duration": 116,
    "start_time": "2025-09-07T14:48:08.913Z"
   },
   {
    "duration": 5144,
    "start_time": "2025-09-07T14:48:09.031Z"
   },
   {
    "duration": 5,
    "start_time": "2025-09-07T14:48:14.177Z"
   },
   {
    "duration": 26,
    "start_time": "2025-09-07T14:48:14.183Z"
   },
   {
    "duration": 6777,
    "start_time": "2025-09-07T14:48:14.220Z"
   },
   {
    "duration": 180,
    "start_time": "2025-09-07T14:48:20.999Z"
   },
   {
    "duration": 151,
    "start_time": "2025-09-07T14:48:21.183Z"
   },
   {
    "duration": 286,
    "start_time": "2025-09-07T14:48:21.336Z"
   },
   {
    "duration": 216,
    "start_time": "2025-09-07T14:48:21.624Z"
   },
   {
    "duration": 168,
    "start_time": "2025-09-07T14:48:21.841Z"
   },
   {
    "duration": 189,
    "start_time": "2025-09-07T14:48:22.011Z"
   },
   {
    "duration": 194,
    "start_time": "2025-09-07T14:48:22.201Z"
   },
   {
    "duration": 198,
    "start_time": "2025-09-07T14:48:22.396Z"
   },
   {
    "duration": 47,
    "start_time": "2025-09-07T14:48:22.596Z"
   },
   {
    "duration": 47,
    "start_time": "2025-09-07T14:48:22.645Z"
   },
   {
    "duration": 71,
    "start_time": "2025-09-07T14:48:22.693Z"
   },
   {
    "duration": 210,
    "start_time": "2025-09-07T14:48:22.766Z"
   },
   {
    "duration": 217,
    "start_time": "2025-09-07T14:48:22.978Z"
   },
   {
    "duration": 343,
    "start_time": "2025-09-07T14:48:23.197Z"
   },
   {
    "duration": 230,
    "start_time": "2025-09-07T14:48:23.542Z"
   },
   {
    "duration": 457,
    "start_time": "2025-09-07T14:48:23.774Z"
   },
   {
    "duration": 371,
    "start_time": "2025-09-07T14:48:24.232Z"
   },
   {
    "duration": 120,
    "start_time": "2025-09-07T14:48:24.605Z"
   },
   {
    "duration": 137,
    "start_time": "2025-09-07T14:48:24.726Z"
   },
   {
    "duration": 128,
    "start_time": "2025-09-07T14:48:24.864Z"
   },
   {
    "duration": 172,
    "start_time": "2025-09-07T14:48:24.993Z"
   },
   {
    "duration": 100,
    "start_time": "2025-09-07T14:48:25.167Z"
   },
   {
    "duration": 143,
    "start_time": "2025-09-07T14:48:25.268Z"
   },
   {
    "duration": 0,
    "start_time": "2025-09-07T14:48:25.413Z"
   },
   {
    "duration": 0,
    "start_time": "2025-09-07T14:48:25.414Z"
   },
   {
    "duration": 0,
    "start_time": "2025-09-07T14:48:25.419Z"
   },
   {
    "duration": 0,
    "start_time": "2025-09-07T14:48:25.420Z"
   },
   {
    "duration": 320,
    "start_time": "2025-09-07T14:51:27.019Z"
   },
   {
    "duration": 3,
    "start_time": "2025-09-07T14:51:46.698Z"
   },
   {
    "duration": 5,
    "start_time": "2025-09-07T14:52:08.504Z"
   },
   {
    "duration": 4,
    "start_time": "2025-09-07T14:53:25.365Z"
   },
   {
    "duration": 4,
    "start_time": "2025-09-07T14:53:34.988Z"
   },
   {
    "duration": 4,
    "start_time": "2025-09-07T14:55:27.393Z"
   },
   {
    "duration": 4,
    "start_time": "2025-09-07T14:55:33.987Z"
   },
   {
    "duration": 3574,
    "start_time": "2025-09-07T15:00:16.812Z"
   },
   {
    "duration": 2024,
    "start_time": "2025-09-07T15:00:20.388Z"
   },
   {
    "duration": 94,
    "start_time": "2025-09-07T15:00:22.413Z"
   },
   {
    "duration": 32,
    "start_time": "2025-09-07T15:00:22.509Z"
   },
   {
    "duration": 16,
    "start_time": "2025-09-07T15:00:22.542Z"
   },
   {
    "duration": 91,
    "start_time": "2025-09-07T15:00:22.560Z"
   },
   {
    "duration": 6,
    "start_time": "2025-09-07T15:00:22.652Z"
   },
   {
    "duration": 13,
    "start_time": "2025-09-07T15:00:22.660Z"
   },
   {
    "duration": 433,
    "start_time": "2025-09-07T15:00:22.674Z"
   },
   {
    "duration": 37,
    "start_time": "2025-09-07T15:00:23.109Z"
   },
   {
    "duration": 145,
    "start_time": "2025-09-07T15:00:23.148Z"
   },
   {
    "duration": 394,
    "start_time": "2025-09-07T15:00:23.294Z"
   },
   {
    "duration": 145,
    "start_time": "2025-09-07T15:00:23.689Z"
   },
   {
    "duration": 267,
    "start_time": "2025-09-07T15:00:23.835Z"
   },
   {
    "duration": 195,
    "start_time": "2025-09-07T15:00:24.103Z"
   },
   {
    "duration": 5,
    "start_time": "2025-09-07T15:00:24.299Z"
   },
   {
    "duration": 242,
    "start_time": "2025-09-07T15:00:24.305Z"
   },
   {
    "duration": 16,
    "start_time": "2025-09-07T15:00:24.548Z"
   },
   {
    "duration": 6,
    "start_time": "2025-09-07T15:00:24.566Z"
   },
   {
    "duration": 26,
    "start_time": "2025-09-07T15:00:24.573Z"
   },
   {
    "duration": 264,
    "start_time": "2025-09-07T15:00:24.620Z"
   },
   {
    "duration": 119,
    "start_time": "2025-09-07T15:00:24.886Z"
   },
   {
    "duration": 5152,
    "start_time": "2025-09-07T15:00:25.007Z"
   },
   {
    "duration": 5,
    "start_time": "2025-09-07T15:00:30.161Z"
   },
   {
    "duration": 41,
    "start_time": "2025-09-07T15:00:30.167Z"
   },
   {
    "duration": 6850,
    "start_time": "2025-09-07T15:00:30.209Z"
   },
   {
    "duration": 202,
    "start_time": "2025-09-07T15:00:37.061Z"
   },
   {
    "duration": 3,
    "start_time": "2025-09-07T15:00:37.267Z"
   },
   {
    "duration": 174,
    "start_time": "2025-09-07T15:00:37.272Z"
   },
   {
    "duration": 300,
    "start_time": "2025-09-07T15:00:37.448Z"
   },
   {
    "duration": 233,
    "start_time": "2025-09-07T15:00:37.750Z"
   },
   {
    "duration": 188,
    "start_time": "2025-09-07T15:00:37.985Z"
   },
   {
    "duration": 208,
    "start_time": "2025-09-07T15:00:38.175Z"
   },
   {
    "duration": 202,
    "start_time": "2025-09-07T15:00:38.385Z"
   },
   {
    "duration": 199,
    "start_time": "2025-09-07T15:00:38.589Z"
   },
   {
    "duration": 50,
    "start_time": "2025-09-07T15:00:38.789Z"
   },
   {
    "duration": 48,
    "start_time": "2025-09-07T15:00:38.841Z"
   },
   {
    "duration": 69,
    "start_time": "2025-09-07T15:00:38.891Z"
   },
   {
    "duration": 231,
    "start_time": "2025-09-07T15:00:38.962Z"
   },
   {
    "duration": 243,
    "start_time": "2025-09-07T15:00:39.195Z"
   },
   {
    "duration": 371,
    "start_time": "2025-09-07T15:00:39.440Z"
   },
   {
    "duration": 252,
    "start_time": "2025-09-07T15:00:39.812Z"
   },
   {
    "duration": 474,
    "start_time": "2025-09-07T15:00:40.065Z"
   },
   {
    "duration": 381,
    "start_time": "2025-09-07T15:00:40.541Z"
   },
   {
    "duration": 118,
    "start_time": "2025-09-07T15:00:40.924Z"
   },
   {
    "duration": 142,
    "start_time": "2025-09-07T15:00:41.044Z"
   },
   {
    "duration": 126,
    "start_time": "2025-09-07T15:00:41.188Z"
   },
   {
    "duration": 179,
    "start_time": "2025-09-07T15:00:41.315Z"
   },
   {
    "duration": 103,
    "start_time": "2025-09-07T15:00:41.496Z"
   },
   {
    "duration": 162,
    "start_time": "2025-09-07T15:00:41.601Z"
   },
   {
    "duration": 0,
    "start_time": "2025-09-07T15:00:41.765Z"
   },
   {
    "duration": 0,
    "start_time": "2025-09-07T15:00:41.766Z"
   },
   {
    "duration": 0,
    "start_time": "2025-09-07T15:00:41.767Z"
   },
   {
    "duration": 0,
    "start_time": "2025-09-07T15:00:41.768Z"
   },
   {
    "duration": 10368,
    "start_time": "2025-09-08T08:11:32.027Z"
   },
   {
    "duration": 2207,
    "start_time": "2025-09-08T08:11:42.397Z"
   },
   {
    "duration": 99,
    "start_time": "2025-09-08T08:11:44.605Z"
   },
   {
    "duration": 29,
    "start_time": "2025-09-08T08:11:44.706Z"
   },
   {
    "duration": 16,
    "start_time": "2025-09-08T08:11:44.737Z"
   },
   {
    "duration": 70,
    "start_time": "2025-09-08T08:11:44.777Z"
   },
   {
    "duration": 27,
    "start_time": "2025-09-08T08:11:44.849Z"
   },
   {
    "duration": 18,
    "start_time": "2025-09-08T08:11:44.878Z"
   },
   {
    "duration": 510,
    "start_time": "2025-09-08T08:11:44.898Z"
   },
   {
    "duration": 38,
    "start_time": "2025-09-08T08:11:45.412Z"
   },
   {
    "duration": 183,
    "start_time": "2025-09-08T08:11:45.452Z"
   },
   {
    "duration": 456,
    "start_time": "2025-09-08T08:11:45.637Z"
   },
   {
    "duration": 153,
    "start_time": "2025-09-08T08:11:46.095Z"
   },
   {
    "duration": 284,
    "start_time": "2025-09-08T08:11:46.249Z"
   },
   {
    "duration": 195,
    "start_time": "2025-09-08T08:11:46.535Z"
   },
   {
    "duration": 4,
    "start_time": "2025-09-08T08:11:46.732Z"
   },
   {
    "duration": 269,
    "start_time": "2025-09-08T08:11:46.738Z"
   },
   {
    "duration": 18,
    "start_time": "2025-09-08T08:11:47.008Z"
   },
   {
    "duration": 15,
    "start_time": "2025-09-08T08:11:47.028Z"
   },
   {
    "duration": 40,
    "start_time": "2025-09-08T08:11:47.045Z"
   },
   {
    "duration": 335,
    "start_time": "2025-09-08T08:11:47.087Z"
   },
   {
    "duration": 143,
    "start_time": "2025-09-08T08:11:47.424Z"
   },
   {
    "duration": 5794,
    "start_time": "2025-09-08T08:11:47.571Z"
   },
   {
    "duration": 12,
    "start_time": "2025-09-08T08:11:53.367Z"
   },
   {
    "duration": 65,
    "start_time": "2025-09-08T08:11:53.381Z"
   },
   {
    "duration": 7168,
    "start_time": "2025-09-08T08:11:53.448Z"
   },
   {
    "duration": 199,
    "start_time": "2025-09-08T08:12:00.618Z"
   },
   {
    "duration": 5,
    "start_time": "2025-09-08T08:12:00.821Z"
   },
   {
    "duration": 195,
    "start_time": "2025-09-08T08:12:00.828Z"
   },
   {
    "duration": 298,
    "start_time": "2025-09-08T08:12:01.025Z"
   },
   {
    "duration": 257,
    "start_time": "2025-09-08T08:12:01.325Z"
   },
   {
    "duration": 200,
    "start_time": "2025-09-08T08:12:01.583Z"
   },
   {
    "duration": 206,
    "start_time": "2025-09-08T08:12:01.785Z"
   },
   {
    "duration": 230,
    "start_time": "2025-09-08T08:12:01.994Z"
   },
   {
    "duration": 212,
    "start_time": "2025-09-08T08:12:02.226Z"
   },
   {
    "duration": 48,
    "start_time": "2025-09-08T08:12:02.440Z"
   },
   {
    "duration": 71,
    "start_time": "2025-09-08T08:12:02.489Z"
   },
   {
    "duration": 59,
    "start_time": "2025-09-08T08:12:02.563Z"
   },
   {
    "duration": 282,
    "start_time": "2025-09-08T08:12:02.624Z"
   },
   {
    "duration": 245,
    "start_time": "2025-09-08T08:12:02.908Z"
   },
   {
    "duration": 367,
    "start_time": "2025-09-08T08:12:03.155Z"
   },
   {
    "duration": 239,
    "start_time": "2025-09-08T08:12:03.523Z"
   },
   {
    "duration": 486,
    "start_time": "2025-09-08T08:12:03.764Z"
   },
   {
    "duration": 352,
    "start_time": "2025-09-08T08:12:04.252Z"
   },
   {
    "duration": 128,
    "start_time": "2025-09-08T08:12:04.605Z"
   },
   {
    "duration": 242,
    "start_time": "2025-09-08T08:12:04.734Z"
   },
   {
    "duration": 140,
    "start_time": "2025-09-08T08:12:04.977Z"
   },
   {
    "duration": 198,
    "start_time": "2025-09-08T08:12:05.119Z"
   },
   {
    "duration": 108,
    "start_time": "2025-09-08T08:12:05.319Z"
   },
   {
    "duration": 157,
    "start_time": "2025-09-08T08:12:05.429Z"
   },
   {
    "duration": 0,
    "start_time": "2025-09-08T08:12:05.587Z"
   },
   {
    "duration": 0,
    "start_time": "2025-09-08T08:12:05.588Z"
   },
   {
    "duration": 0,
    "start_time": "2025-09-08T08:12:05.589Z"
   },
   {
    "duration": 0,
    "start_time": "2025-09-08T08:12:05.590Z"
   },
   {
    "duration": 152,
    "start_time": "2025-09-08T08:21:11.903Z"
   },
   {
    "duration": 119,
    "start_time": "2025-09-08T08:28:48.364Z"
   },
   {
    "duration": 10,
    "start_time": "2025-09-08T08:29:07.513Z"
   },
   {
    "duration": 132,
    "start_time": "2025-09-08T08:29:23.581Z"
   },
   {
    "duration": 11,
    "start_time": "2025-09-08T08:36:06.823Z"
   },
   {
    "duration": 235,
    "start_time": "2025-09-08T08:36:15.824Z"
   },
   {
    "duration": 263,
    "start_time": "2025-09-08T08:36:43.907Z"
   },
   {
    "duration": 269,
    "start_time": "2025-09-08T08:39:57.845Z"
   },
   {
    "duration": 95,
    "start_time": "2025-09-08T08:40:36.152Z"
   },
   {
    "duration": 265,
    "start_time": "2025-09-08T08:40:43.694Z"
   },
   {
    "duration": 284,
    "start_time": "2025-09-08T08:40:53.846Z"
   },
   {
    "duration": 269,
    "start_time": "2025-09-08T08:40:59.844Z"
   },
   {
    "duration": 288,
    "start_time": "2025-09-08T08:41:19.841Z"
   },
   {
    "duration": 422,
    "start_time": "2025-09-08T08:41:25.040Z"
   },
   {
    "duration": 207,
    "start_time": "2025-09-08T08:42:24.342Z"
   },
   {
    "duration": 239,
    "start_time": "2025-09-08T08:45:58.017Z"
   },
   {
    "duration": 189,
    "start_time": "2025-09-08T08:46:03.661Z"
   },
   {
    "duration": 293,
    "start_time": "2025-09-08T08:50:44.062Z"
   },
   {
    "duration": 207,
    "start_time": "2025-09-08T08:51:20.682Z"
   },
   {
    "duration": 238,
    "start_time": "2025-09-08T08:51:56.770Z"
   },
   {
    "duration": 252,
    "start_time": "2025-09-08T08:55:09.966Z"
   },
   {
    "duration": 175,
    "start_time": "2025-09-08T08:57:10.280Z"
   },
   {
    "duration": 291,
    "start_time": "2025-09-08T08:57:26.521Z"
   },
   {
    "duration": 246,
    "start_time": "2025-09-08T08:57:39.166Z"
   },
   {
    "duration": 319,
    "start_time": "2025-09-08T08:57:43.623Z"
   },
   {
    "duration": 196,
    "start_time": "2025-09-08T09:00:11.871Z"
   },
   {
    "duration": 157,
    "start_time": "2025-09-08T09:00:19.045Z"
   },
   {
    "duration": 281,
    "start_time": "2025-09-08T09:00:34.921Z"
   },
   {
    "duration": 197,
    "start_time": "2025-09-08T09:00:42.752Z"
   },
   {
    "duration": 257,
    "start_time": "2025-09-08T09:00:48.577Z"
   },
   {
    "duration": 213,
    "start_time": "2025-09-08T09:01:03.759Z"
   },
   {
    "duration": 219,
    "start_time": "2025-09-08T09:01:19.883Z"
   },
   {
    "duration": 158,
    "start_time": "2025-09-08T09:01:50.403Z"
   },
   {
    "duration": 199,
    "start_time": "2025-09-08T09:02:09.443Z"
   },
   {
    "duration": 216,
    "start_time": "2025-09-08T09:02:17.178Z"
   },
   {
    "duration": 3660,
    "start_time": "2025-09-08T09:21:20.935Z"
   },
   {
    "duration": 2446,
    "start_time": "2025-09-08T09:21:24.598Z"
   },
   {
    "duration": 97,
    "start_time": "2025-09-08T09:21:27.046Z"
   },
   {
    "duration": 32,
    "start_time": "2025-09-08T09:21:27.145Z"
   },
   {
    "duration": 42,
    "start_time": "2025-09-08T09:21:27.179Z"
   },
   {
    "duration": 86,
    "start_time": "2025-09-08T09:21:27.223Z"
   },
   {
    "duration": 6,
    "start_time": "2025-09-08T09:21:27.311Z"
   },
   {
    "duration": 34,
    "start_time": "2025-09-08T09:21:27.319Z"
   },
   {
    "duration": 479,
    "start_time": "2025-09-08T09:21:27.355Z"
   },
   {
    "duration": 42,
    "start_time": "2025-09-08T09:21:27.837Z"
   },
   {
    "duration": 152,
    "start_time": "2025-09-08T09:21:27.881Z"
   },
   {
    "duration": 367,
    "start_time": "2025-09-08T09:21:28.034Z"
   },
   {
    "duration": 150,
    "start_time": "2025-09-08T09:21:28.403Z"
   },
   {
    "duration": 270,
    "start_time": "2025-09-08T09:21:28.556Z"
   },
   {
    "duration": 199,
    "start_time": "2025-09-08T09:21:28.829Z"
   },
   {
    "duration": 6,
    "start_time": "2025-09-08T09:21:29.029Z"
   },
   {
    "duration": 266,
    "start_time": "2025-09-08T09:21:29.037Z"
   },
   {
    "duration": 19,
    "start_time": "2025-09-08T09:21:29.305Z"
   },
   {
    "duration": 12,
    "start_time": "2025-09-08T09:21:29.326Z"
   },
   {
    "duration": 45,
    "start_time": "2025-09-08T09:21:29.340Z"
   },
   {
    "duration": 293,
    "start_time": "2025-09-08T09:21:29.388Z"
   },
   {
    "duration": 132,
    "start_time": "2025-09-08T09:21:29.683Z"
   },
   {
    "duration": 5550,
    "start_time": "2025-09-08T09:21:29.817Z"
   },
   {
    "duration": 11,
    "start_time": "2025-09-08T09:21:35.368Z"
   },
   {
    "duration": 48,
    "start_time": "2025-09-08T09:21:35.381Z"
   },
   {
    "duration": 7117,
    "start_time": "2025-09-08T09:21:35.431Z"
   },
   {
    "duration": 203,
    "start_time": "2025-09-08T09:21:42.550Z"
   },
   {
    "duration": 4,
    "start_time": "2025-09-08T09:21:42.758Z"
   },
   {
    "duration": 181,
    "start_time": "2025-09-08T09:21:42.776Z"
   },
   {
    "duration": 303,
    "start_time": "2025-09-08T09:21:42.959Z"
   },
   {
    "duration": 211,
    "start_time": "2025-09-08T09:21:43.276Z"
   },
   {
    "duration": 251,
    "start_time": "2025-09-08T09:21:43.489Z"
   },
   {
    "duration": 129,
    "start_time": "2025-09-08T09:21:43.743Z"
   },
   {
    "duration": 52,
    "start_time": "2025-09-08T09:21:43.877Z"
   },
   {
    "duration": 79,
    "start_time": "2025-09-08T09:21:43.931Z"
   },
   {
    "duration": 221,
    "start_time": "2025-09-08T09:21:44.012Z"
   },
   {
    "duration": 232,
    "start_time": "2025-09-08T09:21:44.235Z"
   },
   {
    "duration": 333,
    "start_time": "2025-09-08T09:21:44.469Z"
   },
   {
    "duration": 232,
    "start_time": "2025-09-08T09:21:44.804Z"
   },
   {
    "duration": 497,
    "start_time": "2025-09-08T09:21:45.037Z"
   },
   {
    "duration": 388,
    "start_time": "2025-09-08T09:21:45.536Z"
   },
   {
    "duration": 121,
    "start_time": "2025-09-08T09:21:45.927Z"
   },
   {
    "duration": 151,
    "start_time": "2025-09-08T09:21:46.050Z"
   },
   {
    "duration": 148,
    "start_time": "2025-09-08T09:21:46.202Z"
   },
   {
    "duration": 193,
    "start_time": "2025-09-08T09:21:46.352Z"
   },
   {
    "duration": 104,
    "start_time": "2025-09-08T09:21:46.546Z"
   },
   {
    "duration": 152,
    "start_time": "2025-09-08T09:21:46.652Z"
   },
   {
    "duration": 0,
    "start_time": "2025-09-08T09:21:46.805Z"
   },
   {
    "duration": 0,
    "start_time": "2025-09-08T09:21:46.807Z"
   },
   {
    "duration": 0,
    "start_time": "2025-09-08T09:21:46.808Z"
   },
   {
    "duration": 0,
    "start_time": "2025-09-08T09:21:46.809Z"
   },
   {
    "duration": 2620,
    "start_time": "2025-09-08T09:23:07.470Z"
   },
   {
    "duration": 59,
    "start_time": "2025-09-08T09:23:19.272Z"
   },
   {
    "duration": 62,
    "start_time": "2025-09-08T09:26:25.870Z"
   },
   {
    "duration": 40,
    "start_time": "2025-09-08T09:27:10.181Z"
   },
   {
    "duration": 23,
    "start_time": "2025-09-08T09:27:45.051Z"
   },
   {
    "duration": 40,
    "start_time": "2025-09-08T09:29:21.448Z"
   },
   {
    "duration": 42,
    "start_time": "2025-09-08T09:31:31.748Z"
   },
   {
    "duration": 33,
    "start_time": "2025-09-08T09:35:20.825Z"
   },
   {
    "duration": 39,
    "start_time": "2025-09-08T09:35:54.828Z"
   },
   {
    "duration": 183,
    "start_time": "2025-09-08T09:42:38.747Z"
   },
   {
    "duration": 173,
    "start_time": "2025-09-08T09:42:55.768Z"
   },
   {
    "duration": 143,
    "start_time": "2025-09-08T09:52:51.144Z"
   },
   {
    "duration": 142,
    "start_time": "2025-09-08T09:53:45.163Z"
   },
   {
    "duration": 168,
    "start_time": "2025-09-08T09:54:17.999Z"
   },
   {
    "duration": 139,
    "start_time": "2025-09-08T09:55:08.115Z"
   },
   {
    "duration": 139,
    "start_time": "2025-09-08T09:56:11.146Z"
   },
   {
    "duration": 142,
    "start_time": "2025-09-08T09:57:14.714Z"
   },
   {
    "duration": 133,
    "start_time": "2025-09-08T09:57:49.634Z"
   },
   {
    "duration": 143,
    "start_time": "2025-09-08T09:58:08.327Z"
   },
   {
    "duration": 103,
    "start_time": "2025-09-08T09:59:12.420Z"
   },
   {
    "duration": 10162,
    "start_time": "2025-09-10T08:00:59.326Z"
   },
   {
    "duration": 2173,
    "start_time": "2025-09-10T08:01:09.490Z"
   },
   {
    "duration": 100,
    "start_time": "2025-09-10T08:01:11.665Z"
   },
   {
    "duration": 32,
    "start_time": "2025-09-10T08:01:11.770Z"
   },
   {
    "duration": 20,
    "start_time": "2025-09-10T08:01:11.804Z"
   },
   {
    "duration": 103,
    "start_time": "2025-09-10T08:01:11.826Z"
   },
   {
    "duration": 7,
    "start_time": "2025-09-10T08:01:11.932Z"
   },
   {
    "duration": 33,
    "start_time": "2025-09-10T08:01:11.941Z"
   },
   {
    "duration": 511,
    "start_time": "2025-09-10T08:01:11.976Z"
   },
   {
    "duration": 35,
    "start_time": "2025-09-10T08:01:12.491Z"
   },
   {
    "duration": 168,
    "start_time": "2025-09-10T08:01:12.528Z"
   },
   {
    "duration": 375,
    "start_time": "2025-09-10T08:01:12.698Z"
   },
   {
    "duration": 157,
    "start_time": "2025-09-10T08:01:13.075Z"
   },
   {
    "duration": 286,
    "start_time": "2025-09-10T08:01:13.234Z"
   },
   {
    "duration": 204,
    "start_time": "2025-09-10T08:01:13.523Z"
   },
   {
    "duration": 6,
    "start_time": "2025-09-10T08:01:13.729Z"
   },
   {
    "duration": 310,
    "start_time": "2025-09-10T08:01:13.737Z"
   },
   {
    "duration": 26,
    "start_time": "2025-09-10T08:01:14.049Z"
   },
   {
    "duration": 5,
    "start_time": "2025-09-10T08:01:14.077Z"
   },
   {
    "duration": 30,
    "start_time": "2025-09-10T08:01:14.084Z"
   },
   {
    "duration": 315,
    "start_time": "2025-09-10T08:01:14.116Z"
   },
   {
    "duration": 135,
    "start_time": "2025-09-10T08:01:14.432Z"
   },
   {
    "duration": 5486,
    "start_time": "2025-09-10T08:01:14.569Z"
   },
   {
    "duration": 15,
    "start_time": "2025-09-10T08:01:20.057Z"
   },
   {
    "duration": 41,
    "start_time": "2025-09-10T08:01:20.074Z"
   },
   {
    "duration": 7141,
    "start_time": "2025-09-10T08:01:20.117Z"
   },
   {
    "duration": 195,
    "start_time": "2025-09-10T08:01:27.260Z"
   },
   {
    "duration": 5,
    "start_time": "2025-09-10T08:01:27.458Z"
   },
   {
    "duration": 177,
    "start_time": "2025-09-10T08:01:27.470Z"
   },
   {
    "duration": 298,
    "start_time": "2025-09-10T08:01:27.649Z"
   },
   {
    "duration": 223,
    "start_time": "2025-09-10T08:01:27.949Z"
   },
   {
    "duration": 262,
    "start_time": "2025-09-10T08:01:28.174Z"
   },
   {
    "duration": 142,
    "start_time": "2025-09-10T08:01:28.437Z"
   },
   {
    "duration": 51,
    "start_time": "2025-09-10T08:01:28.581Z"
   },
   {
    "duration": 69,
    "start_time": "2025-09-10T08:01:28.634Z"
   },
   {
    "duration": 229,
    "start_time": "2025-09-10T08:01:28.705Z"
   },
   {
    "duration": 237,
    "start_time": "2025-09-10T08:01:28.936Z"
   },
   {
    "duration": 350,
    "start_time": "2025-09-10T08:01:29.175Z"
   },
   {
    "duration": 234,
    "start_time": "2025-09-10T08:01:29.527Z"
   },
   {
    "duration": 477,
    "start_time": "2025-09-10T08:01:29.762Z"
   },
   {
    "duration": 348,
    "start_time": "2025-09-10T08:01:30.241Z"
   },
   {
    "duration": 125,
    "start_time": "2025-09-10T08:01:30.591Z"
   },
   {
    "duration": 162,
    "start_time": "2025-09-10T08:01:30.718Z"
   },
   {
    "duration": 155,
    "start_time": "2025-09-10T08:01:30.882Z"
   },
   {
    "duration": 196,
    "start_time": "2025-09-10T08:01:31.038Z"
   },
   {
    "duration": 114,
    "start_time": "2025-09-10T08:01:31.235Z"
   },
   {
    "duration": 189,
    "start_time": "2025-09-10T08:01:31.351Z"
   },
   {
    "duration": 259,
    "start_time": "2025-09-10T08:01:31.541Z"
   },
   {
    "duration": 0,
    "start_time": "2025-09-10T08:01:31.802Z"
   },
   {
    "duration": 0,
    "start_time": "2025-09-10T08:01:31.803Z"
   },
   {
    "duration": 0,
    "start_time": "2025-09-10T08:01:31.804Z"
   },
   {
    "duration": 3825,
    "start_time": "2025-09-10T08:02:13.954Z"
   },
   {
    "duration": 2356,
    "start_time": "2025-09-10T08:02:17.781Z"
   },
   {
    "duration": 97,
    "start_time": "2025-09-10T08:02:20.139Z"
   },
   {
    "duration": 42,
    "start_time": "2025-09-10T08:02:20.238Z"
   },
   {
    "duration": 18,
    "start_time": "2025-09-10T08:02:20.282Z"
   },
   {
    "duration": 91,
    "start_time": "2025-09-10T08:02:20.302Z"
   },
   {
    "duration": 8,
    "start_time": "2025-09-10T08:02:20.395Z"
   },
   {
    "duration": 36,
    "start_time": "2025-09-10T08:02:20.404Z"
   },
   {
    "duration": 489,
    "start_time": "2025-09-10T08:02:20.442Z"
   },
   {
    "duration": 48,
    "start_time": "2025-09-10T08:02:20.934Z"
   },
   {
    "duration": 161,
    "start_time": "2025-09-10T08:02:20.984Z"
   },
   {
    "duration": 386,
    "start_time": "2025-09-10T08:02:21.148Z"
   },
   {
    "duration": 164,
    "start_time": "2025-09-10T08:02:21.536Z"
   },
   {
    "duration": 288,
    "start_time": "2025-09-10T08:02:21.702Z"
   },
   {
    "duration": 218,
    "start_time": "2025-09-10T08:02:21.992Z"
   },
   {
    "duration": 6,
    "start_time": "2025-09-10T08:02:22.213Z"
   },
   {
    "duration": 289,
    "start_time": "2025-09-10T08:02:22.222Z"
   },
   {
    "duration": 18,
    "start_time": "2025-09-10T08:02:22.513Z"
   },
   {
    "duration": 17,
    "start_time": "2025-09-10T08:02:22.533Z"
   },
   {
    "duration": 33,
    "start_time": "2025-09-10T08:02:22.552Z"
   },
   {
    "duration": 319,
    "start_time": "2025-09-10T08:02:22.587Z"
   },
   {
    "duration": 139,
    "start_time": "2025-09-10T08:02:22.908Z"
   },
   {
    "duration": 5453,
    "start_time": "2025-09-10T08:02:23.049Z"
   },
   {
    "duration": 6,
    "start_time": "2025-09-10T08:02:28.503Z"
   },
   {
    "duration": 27,
    "start_time": "2025-09-10T08:02:28.511Z"
   },
   {
    "duration": 7035,
    "start_time": "2025-09-10T08:02:28.540Z"
   },
   {
    "duration": 195,
    "start_time": "2025-09-10T08:02:35.577Z"
   },
   {
    "duration": 4,
    "start_time": "2025-09-10T08:02:35.775Z"
   },
   {
    "duration": 242,
    "start_time": "2025-09-10T08:02:35.781Z"
   },
   {
    "duration": 314,
    "start_time": "2025-09-10T08:02:36.025Z"
   },
   {
    "duration": 223,
    "start_time": "2025-09-10T08:02:36.341Z"
   },
   {
    "duration": 267,
    "start_time": "2025-09-10T08:02:36.570Z"
   },
   {
    "duration": 143,
    "start_time": "2025-09-10T08:02:36.838Z"
   },
   {
    "duration": 51,
    "start_time": "2025-09-10T08:02:36.983Z"
   },
   {
    "duration": 75,
    "start_time": "2025-09-10T08:02:37.036Z"
   },
   {
    "duration": 232,
    "start_time": "2025-09-10T08:02:37.113Z"
   },
   {
    "duration": 248,
    "start_time": "2025-09-10T08:02:37.347Z"
   },
   {
    "duration": 364,
    "start_time": "2025-09-10T08:02:37.597Z"
   },
   {
    "duration": 251,
    "start_time": "2025-09-10T08:02:37.963Z"
   },
   {
    "duration": 445,
    "start_time": "2025-09-10T08:02:38.215Z"
   },
   {
    "duration": 338,
    "start_time": "2025-09-10T08:02:38.662Z"
   },
   {
    "duration": 130,
    "start_time": "2025-09-10T08:02:39.002Z"
   },
   {
    "duration": 165,
    "start_time": "2025-09-10T08:02:39.134Z"
   },
   {
    "duration": 157,
    "start_time": "2025-09-10T08:02:39.301Z"
   },
   {
    "duration": 202,
    "start_time": "2025-09-10T08:02:39.460Z"
   },
   {
    "duration": 108,
    "start_time": "2025-09-10T08:02:39.664Z"
   },
   {
    "duration": 184,
    "start_time": "2025-09-10T08:02:39.774Z"
   },
   {
    "duration": 260,
    "start_time": "2025-09-10T08:02:39.960Z"
   },
   {
    "duration": 1,
    "start_time": "2025-09-10T08:02:40.221Z"
   },
   {
    "duration": 0,
    "start_time": "2025-09-10T08:02:40.223Z"
   },
   {
    "duration": 0,
    "start_time": "2025-09-10T08:02:40.224Z"
   },
   {
    "duration": 146,
    "start_time": "2025-09-10T08:09:21.606Z"
   },
   {
    "duration": 112,
    "start_time": "2025-09-10T08:10:00.452Z"
   },
   {
    "duration": 148,
    "start_time": "2025-09-10T08:11:33.451Z"
   },
   {
    "duration": 153,
    "start_time": "2025-09-10T08:15:37.133Z"
   },
   {
    "duration": 95,
    "start_time": "2025-09-10T08:17:00.767Z"
   },
   {
    "duration": 217,
    "start_time": "2025-09-10T08:23:59.493Z"
   },
   {
    "duration": 46,
    "start_time": "2025-09-10T08:24:16.400Z"
   },
   {
    "duration": 110,
    "start_time": "2025-09-10T08:26:28.413Z"
   },
   {
    "duration": 303,
    "start_time": "2025-09-10T08:26:34.321Z"
   },
   {
    "duration": 432,
    "start_time": "2025-09-10T08:26:53.708Z"
   },
   {
    "duration": 315,
    "start_time": "2025-09-10T08:27:08.546Z"
   },
   {
    "duration": 293,
    "start_time": "2025-09-10T08:27:52.262Z"
   },
   {
    "duration": 285,
    "start_time": "2025-09-10T08:29:01.631Z"
   },
   {
    "duration": 6,
    "start_time": "2025-09-10T08:31:20.478Z"
   },
   {
    "duration": 10,
    "start_time": "2025-09-10T08:32:11.537Z"
   },
   {
    "duration": 6,
    "start_time": "2025-09-10T08:38:34.124Z"
   },
   {
    "duration": 38,
    "start_time": "2025-09-10T08:40:28.185Z"
   },
   {
    "duration": 6,
    "start_time": "2025-09-10T08:40:55.053Z"
   },
   {
    "duration": 26,
    "start_time": "2025-09-10T08:40:55.313Z"
   },
   {
    "duration": 271,
    "start_time": "2025-09-10T08:41:47.867Z"
   },
   {
    "duration": 307,
    "start_time": "2025-09-10T08:41:55.489Z"
   },
   {
    "duration": 323,
    "start_time": "2025-09-10T08:44:59.660Z"
   },
   {
    "duration": 6,
    "start_time": "2025-09-10T08:46:40.295Z"
   },
   {
    "duration": 493,
    "start_time": "2025-09-10T08:46:53.108Z"
   },
   {
    "duration": 338,
    "start_time": "2025-09-10T08:47:40.151Z"
   },
   {
    "duration": 331,
    "start_time": "2025-09-10T08:47:51.768Z"
   },
   {
    "duration": 321,
    "start_time": "2025-09-10T08:48:17.326Z"
   },
   {
    "duration": 326,
    "start_time": "2025-09-10T08:55:30.587Z"
   },
   {
    "duration": 334,
    "start_time": "2025-09-10T08:56:03.604Z"
   },
   {
    "duration": 337,
    "start_time": "2025-09-10T08:57:13.113Z"
   },
   {
    "duration": 332,
    "start_time": "2025-09-10T08:57:31.669Z"
   },
   {
    "duration": 333,
    "start_time": "2025-09-10T08:58:40.571Z"
   },
   {
    "duration": 329,
    "start_time": "2025-09-10T08:58:50.832Z"
   },
   {
    "duration": 2542,
    "start_time": "2025-09-10T08:59:10.467Z"
   },
   {
    "duration": 101,
    "start_time": "2025-09-10T09:01:29.137Z"
   },
   {
    "duration": 61,
    "start_time": "2025-09-10T09:02:26.991Z"
   },
   {
    "duration": 59,
    "start_time": "2025-09-10T09:02:52.144Z"
   },
   {
    "duration": 123,
    "start_time": "2025-09-10T09:03:07.032Z"
   },
   {
    "duration": 56,
    "start_time": "2025-09-10T09:03:19.735Z"
   },
   {
    "duration": 63,
    "start_time": "2025-09-10T09:03:46.489Z"
   },
   {
    "duration": 55,
    "start_time": "2025-09-10T09:03:57.657Z"
   },
   {
    "duration": 80,
    "start_time": "2025-09-10T09:06:42.845Z"
   },
   {
    "duration": 59,
    "start_time": "2025-09-10T09:07:31.459Z"
   },
   {
    "duration": 53,
    "start_time": "2025-09-10T09:07:46.939Z"
   },
   {
    "duration": 52,
    "start_time": "2025-09-10T09:20:36.415Z"
   },
   {
    "duration": 57,
    "start_time": "2025-09-10T09:22:00.567Z"
   },
   {
    "duration": 163,
    "start_time": "2025-09-10T09:23:45.858Z"
   },
   {
    "duration": 185,
    "start_time": "2025-09-10T09:23:55.238Z"
   },
   {
    "duration": 19,
    "start_time": "2025-09-10T09:33:19.198Z"
   },
   {
    "duration": 44,
    "start_time": "2025-09-10T09:33:47.701Z"
   },
   {
    "duration": 44,
    "start_time": "2025-09-10T09:34:07.117Z"
   },
   {
    "duration": 42,
    "start_time": "2025-09-10T09:34:23.844Z"
   },
   {
    "duration": 48,
    "start_time": "2025-09-10T09:34:40.466Z"
   },
   {
    "duration": 44,
    "start_time": "2025-09-10T09:34:54.718Z"
   },
   {
    "duration": 44,
    "start_time": "2025-09-10T09:35:07.195Z"
   },
   {
    "duration": 44,
    "start_time": "2025-09-10T09:35:51.045Z"
   },
   {
    "duration": 56,
    "start_time": "2025-09-10T09:36:37.905Z"
   },
   {
    "duration": 78,
    "start_time": "2025-09-10T09:38:18.390Z"
   },
   {
    "duration": 62,
    "start_time": "2025-09-10T09:38:23.892Z"
   },
   {
    "duration": 59,
    "start_time": "2025-09-10T09:38:59.324Z"
   },
   {
    "duration": 46,
    "start_time": "2025-09-10T09:40:01.503Z"
   },
   {
    "duration": 131,
    "start_time": "2025-09-10T09:42:02.659Z"
   },
   {
    "duration": 103,
    "start_time": "2025-09-10T09:42:15.975Z"
   },
   {
    "duration": 8,
    "start_time": "2025-09-10T09:44:19.107Z"
   },
   {
    "duration": 54,
    "start_time": "2025-09-10T09:44:25.306Z"
   },
   {
    "duration": 44,
    "start_time": "2025-09-10T09:44:28.146Z"
   },
   {
    "duration": 20,
    "start_time": "2025-09-10T09:44:31.005Z"
   },
   {
    "duration": 121,
    "start_time": "2025-09-10T09:45:33.390Z"
   },
   {
    "duration": 56,
    "start_time": "2025-09-10T09:45:53.286Z"
   },
   {
    "duration": 20,
    "start_time": "2025-09-10T09:46:17.317Z"
   },
   {
    "duration": 101,
    "start_time": "2025-09-10T09:47:44.813Z"
   },
   {
    "duration": 88,
    "start_time": "2025-09-10T09:50:23.071Z"
   },
   {
    "duration": 100,
    "start_time": "2025-09-10T09:50:34.335Z"
   },
   {
    "duration": 105,
    "start_time": "2025-09-10T09:52:20.204Z"
   },
   {
    "duration": 115,
    "start_time": "2025-09-10T09:52:57.723Z"
   },
   {
    "duration": 100,
    "start_time": "2025-09-10T09:53:05.959Z"
   },
   {
    "duration": 46,
    "start_time": "2025-09-10T09:53:29.919Z"
   },
   {
    "duration": 58,
    "start_time": "2025-09-10T09:53:33.250Z"
   },
   {
    "duration": 48,
    "start_time": "2025-09-10T09:53:59.276Z"
   },
   {
    "duration": 58,
    "start_time": "2025-09-10T09:54:02.427Z"
   },
   {
    "duration": 98,
    "start_time": "2025-09-10T09:54:59.103Z"
   },
   {
    "duration": 2848,
    "start_time": "2025-09-10T09:57:07.186Z"
   },
   {
    "duration": 100,
    "start_time": "2025-09-10T09:57:30.089Z"
   },
   {
    "duration": 98,
    "start_time": "2025-09-10T09:57:56.186Z"
   },
   {
    "duration": 91,
    "start_time": "2025-09-10T09:58:25.649Z"
   },
   {
    "duration": 91,
    "start_time": "2025-09-10T09:59:21.363Z"
   },
   {
    "duration": 10011,
    "start_time": "2025-09-11T08:27:44.207Z"
   },
   {
    "duration": 2178,
    "start_time": "2025-09-11T08:27:54.221Z"
   },
   {
    "duration": 101,
    "start_time": "2025-09-11T08:27:56.401Z"
   },
   {
    "duration": 27,
    "start_time": "2025-09-11T08:27:56.504Z"
   },
   {
    "duration": 17,
    "start_time": "2025-09-11T08:27:56.533Z"
   },
   {
    "duration": 70,
    "start_time": "2025-09-11T08:27:56.572Z"
   },
   {
    "duration": 6,
    "start_time": "2025-09-11T08:27:56.644Z"
   },
   {
    "duration": 15,
    "start_time": "2025-09-11T08:27:56.672Z"
   },
   {
    "duration": 492,
    "start_time": "2025-09-11T08:27:56.688Z"
   },
   {
    "duration": 35,
    "start_time": "2025-09-11T08:27:57.183Z"
   },
   {
    "duration": 160,
    "start_time": "2025-09-11T08:27:57.220Z"
   },
   {
    "duration": 369,
    "start_time": "2025-09-11T08:27:57.381Z"
   },
   {
    "duration": 163,
    "start_time": "2025-09-11T08:27:57.752Z"
   },
   {
    "duration": 284,
    "start_time": "2025-09-11T08:27:57.916Z"
   },
   {
    "duration": 204,
    "start_time": "2025-09-11T08:27:58.202Z"
   },
   {
    "duration": 4,
    "start_time": "2025-09-11T08:27:58.408Z"
   },
   {
    "duration": 303,
    "start_time": "2025-09-11T08:27:58.414Z"
   },
   {
    "duration": 18,
    "start_time": "2025-09-11T08:27:58.718Z"
   },
   {
    "duration": 16,
    "start_time": "2025-09-11T08:27:58.738Z"
   },
   {
    "duration": 34,
    "start_time": "2025-09-11T08:27:58.755Z"
   },
   {
    "duration": 306,
    "start_time": "2025-09-11T08:27:58.790Z"
   },
   {
    "duration": 137,
    "start_time": "2025-09-11T08:27:59.098Z"
   },
   {
    "duration": 5479,
    "start_time": "2025-09-11T08:27:59.237Z"
   },
   {
    "duration": 5,
    "start_time": "2025-09-11T08:28:04.718Z"
   },
   {
    "duration": 53,
    "start_time": "2025-09-11T08:28:04.725Z"
   },
   {
    "duration": 7421,
    "start_time": "2025-09-11T08:28:04.780Z"
   },
   {
    "duration": 215,
    "start_time": "2025-09-11T08:28:12.209Z"
   },
   {
    "duration": 5,
    "start_time": "2025-09-11T08:28:12.429Z"
   },
   {
    "duration": 14,
    "start_time": "2025-09-11T08:28:12.435Z"
   },
   {
    "duration": 201,
    "start_time": "2025-09-11T08:28:12.451Z"
   },
   {
    "duration": 322,
    "start_time": "2025-09-11T08:28:12.654Z"
   },
   {
    "duration": 246,
    "start_time": "2025-09-11T08:28:12.978Z"
   },
   {
    "duration": 282,
    "start_time": "2025-09-11T08:28:13.226Z"
   },
   {
    "duration": 149,
    "start_time": "2025-09-11T08:28:13.510Z"
   },
   {
    "duration": 65,
    "start_time": "2025-09-11T08:28:13.660Z"
   },
   {
    "duration": 116,
    "start_time": "2025-09-11T08:28:13.727Z"
   },
   {
    "duration": 345,
    "start_time": "2025-09-11T08:28:13.844Z"
   },
   {
    "duration": 363,
    "start_time": "2025-09-11T08:28:14.191Z"
   },
   {
    "duration": 242,
    "start_time": "2025-09-11T08:28:14.555Z"
   },
   {
    "duration": 485,
    "start_time": "2025-09-11T08:28:14.799Z"
   },
   {
    "duration": 396,
    "start_time": "2025-09-11T08:28:15.286Z"
   },
   {
    "duration": 140,
    "start_time": "2025-09-11T08:28:15.684Z"
   },
   {
    "duration": 180,
    "start_time": "2025-09-11T08:28:15.827Z"
   },
   {
    "duration": 163,
    "start_time": "2025-09-11T08:28:16.009Z"
   },
   {
    "duration": 210,
    "start_time": "2025-09-11T08:28:16.175Z"
   },
   {
    "duration": 107,
    "start_time": "2025-09-11T08:28:16.386Z"
   },
   {
    "duration": 255,
    "start_time": "2025-09-11T08:28:16.495Z"
   },
   {
    "duration": 0,
    "start_time": "2025-09-11T08:28:16.752Z"
   },
   {
    "duration": 0,
    "start_time": "2025-09-11T08:28:16.754Z"
   },
   {
    "duration": 0,
    "start_time": "2025-09-11T08:28:16.755Z"
   },
   {
    "duration": 146,
    "start_time": "2025-09-11T08:31:20.240Z"
   },
   {
    "duration": 111,
    "start_time": "2025-09-11T08:31:37.647Z"
   },
   {
    "duration": 118,
    "start_time": "2025-09-11T08:38:37.528Z"
   },
   {
    "duration": 95,
    "start_time": "2025-09-11T08:39:47.245Z"
   },
   {
    "duration": 103,
    "start_time": "2025-09-11T08:39:56.976Z"
   },
   {
    "duration": 43,
    "start_time": "2025-09-11T08:46:59.431Z"
   },
   {
    "duration": 64,
    "start_time": "2025-09-11T08:47:09.634Z"
   },
   {
    "duration": 38,
    "start_time": "2025-09-11T08:48:18.772Z"
   },
   {
    "duration": 44,
    "start_time": "2025-09-11T08:52:29.205Z"
   },
   {
    "duration": 42,
    "start_time": "2025-09-11T08:52:38.158Z"
   },
   {
    "duration": 42,
    "start_time": "2025-09-11T08:52:49.426Z"
   },
   {
    "duration": 45,
    "start_time": "2025-09-11T08:52:54.821Z"
   },
   {
    "duration": 42,
    "start_time": "2025-09-11T08:53:10.394Z"
   },
   {
    "duration": 44,
    "start_time": "2025-09-11T08:53:51.560Z"
   },
   {
    "duration": 53,
    "start_time": "2025-09-11T08:54:09.549Z"
   },
   {
    "duration": 46,
    "start_time": "2025-09-11T08:54:26.717Z"
   },
   {
    "duration": 53,
    "start_time": "2025-09-11T08:54:31.218Z"
   },
   {
    "duration": 96,
    "start_time": "2025-09-11T08:54:42.033Z"
   },
   {
    "duration": 100,
    "start_time": "2025-09-11T08:56:47.084Z"
   },
   {
    "duration": 94,
    "start_time": "2025-09-11T08:57:04.403Z"
   },
   {
    "duration": 91,
    "start_time": "2025-09-11T08:57:20.245Z"
   },
   {
    "duration": 56,
    "start_time": "2025-09-11T09:02:06.345Z"
   },
   {
    "duration": 6,
    "start_time": "2025-09-11T09:03:41.881Z"
   },
   {
    "duration": 39,
    "start_time": "2025-09-11T09:03:47.776Z"
   },
   {
    "duration": 58,
    "start_time": "2025-09-11T09:04:11.644Z"
   },
   {
    "duration": 55,
    "start_time": "2025-09-11T09:04:24.770Z"
   },
   {
    "duration": 40,
    "start_time": "2025-09-11T09:04:47.462Z"
   },
   {
    "duration": 40,
    "start_time": "2025-09-11T09:04:59.136Z"
   },
   {
    "duration": 62,
    "start_time": "2025-09-11T09:05:47.157Z"
   },
   {
    "duration": 54,
    "start_time": "2025-09-11T09:05:56.283Z"
   },
   {
    "duration": 3975,
    "start_time": "2025-09-11T10:38:13.432Z"
   },
   {
    "duration": 2199,
    "start_time": "2025-09-11T10:38:17.410Z"
   },
   {
    "duration": 96,
    "start_time": "2025-09-11T10:38:19.610Z"
   },
   {
    "duration": 29,
    "start_time": "2025-09-11T10:38:19.708Z"
   },
   {
    "duration": 41,
    "start_time": "2025-09-11T10:38:19.738Z"
   },
   {
    "duration": 72,
    "start_time": "2025-09-11T10:38:19.781Z"
   },
   {
    "duration": 8,
    "start_time": "2025-09-11T10:38:19.872Z"
   },
   {
    "duration": 24,
    "start_time": "2025-09-11T10:38:19.882Z"
   },
   {
    "duration": 521,
    "start_time": "2025-09-11T10:38:19.909Z"
   },
   {
    "duration": 40,
    "start_time": "2025-09-11T10:38:20.433Z"
   },
   {
    "duration": 159,
    "start_time": "2025-09-11T10:38:20.475Z"
   },
   {
    "duration": 399,
    "start_time": "2025-09-11T10:38:20.636Z"
   },
   {
    "duration": 169,
    "start_time": "2025-09-11T10:38:21.037Z"
   },
   {
    "duration": 286,
    "start_time": "2025-09-11T10:38:21.208Z"
   },
   {
    "duration": 215,
    "start_time": "2025-09-11T10:38:21.496Z"
   },
   {
    "duration": 4,
    "start_time": "2025-09-11T10:38:21.713Z"
   },
   {
    "duration": 275,
    "start_time": "2025-09-11T10:38:21.718Z"
   },
   {
    "duration": 17,
    "start_time": "2025-09-11T10:38:21.994Z"
   },
   {
    "duration": 47,
    "start_time": "2025-09-11T10:38:22.012Z"
   },
   {
    "duration": 26,
    "start_time": "2025-09-11T10:38:22.061Z"
   },
   {
    "duration": 324,
    "start_time": "2025-09-11T10:38:22.088Z"
   },
   {
    "duration": 135,
    "start_time": "2025-09-11T10:38:22.414Z"
   },
   {
    "duration": 5461,
    "start_time": "2025-09-11T10:38:22.551Z"
   },
   {
    "duration": 5,
    "start_time": "2025-09-11T10:38:28.014Z"
   },
   {
    "duration": 61,
    "start_time": "2025-09-11T10:38:28.021Z"
   },
   {
    "duration": 7222,
    "start_time": "2025-09-11T10:38:28.084Z"
   },
   {
    "duration": 200,
    "start_time": "2025-09-11T10:38:35.308Z"
   },
   {
    "duration": 4,
    "start_time": "2025-09-11T10:38:35.513Z"
   },
   {
    "duration": 34,
    "start_time": "2025-09-11T10:38:35.519Z"
   },
   {
    "duration": 205,
    "start_time": "2025-09-11T10:38:35.555Z"
   },
   {
    "duration": 317,
    "start_time": "2025-09-11T10:38:35.762Z"
   },
   {
    "duration": 260,
    "start_time": "2025-09-11T10:38:36.080Z"
   },
   {
    "duration": 269,
    "start_time": "2025-09-11T10:38:36.342Z"
   },
   {
    "duration": 135,
    "start_time": "2025-09-11T10:38:36.612Z"
   },
   {
    "duration": 54,
    "start_time": "2025-09-11T10:38:36.749Z"
   },
   {
    "duration": 71,
    "start_time": "2025-09-11T10:38:36.804Z"
   },
   {
    "duration": 114,
    "start_time": "2025-09-11T10:38:36.876Z"
   },
   {
    "duration": 339,
    "start_time": "2025-09-11T10:38:36.992Z"
   },
   {
    "duration": 366,
    "start_time": "2025-09-11T10:38:37.333Z"
   },
   {
    "duration": 253,
    "start_time": "2025-09-11T10:38:37.700Z"
   },
   {
    "duration": 535,
    "start_time": "2025-09-11T10:38:37.954Z"
   },
   {
    "duration": 402,
    "start_time": "2025-09-11T10:38:38.491Z"
   },
   {
    "duration": 128,
    "start_time": "2025-09-11T10:38:38.894Z"
   },
   {
    "duration": 170,
    "start_time": "2025-09-11T10:38:39.024Z"
   },
   {
    "duration": 156,
    "start_time": "2025-09-11T10:38:39.196Z"
   },
   {
    "duration": 206,
    "start_time": "2025-09-11T10:38:39.353Z"
   },
   {
    "duration": 113,
    "start_time": "2025-09-11T10:38:39.561Z"
   },
   {
    "duration": 153,
    "start_time": "2025-09-11T10:38:39.676Z"
   },
   {
    "duration": 83,
    "start_time": "2025-09-11T10:38:39.831Z"
   },
   {
    "duration": 133,
    "start_time": "2025-09-11T10:38:39.916Z"
   },
   {
    "duration": 104,
    "start_time": "2025-09-11T10:38:40.051Z"
   },
   {
    "duration": 310,
    "start_time": "2025-09-11T10:42:13.519Z"
   },
   {
    "duration": 3781,
    "start_time": "2025-09-11T10:46:11.697Z"
   },
   {
    "duration": 2130,
    "start_time": "2025-09-11T10:46:15.480Z"
   },
   {
    "duration": 96,
    "start_time": "2025-09-11T10:46:17.612Z"
   },
   {
    "duration": 27,
    "start_time": "2025-09-11T10:46:17.711Z"
   },
   {
    "duration": 32,
    "start_time": "2025-09-11T10:46:17.740Z"
   },
   {
    "duration": 71,
    "start_time": "2025-09-11T10:46:17.773Z"
   },
   {
    "duration": 6,
    "start_time": "2025-09-11T10:46:17.846Z"
   },
   {
    "duration": 17,
    "start_time": "2025-09-11T10:46:17.871Z"
   },
   {
    "duration": 480,
    "start_time": "2025-09-11T10:46:17.889Z"
   },
   {
    "duration": 37,
    "start_time": "2025-09-11T10:46:18.372Z"
   },
   {
    "duration": 168,
    "start_time": "2025-09-11T10:46:18.410Z"
   },
   {
    "duration": 368,
    "start_time": "2025-09-11T10:46:18.580Z"
   },
   {
    "duration": 161,
    "start_time": "2025-09-11T10:46:18.949Z"
   },
   {
    "duration": 280,
    "start_time": "2025-09-11T10:46:19.112Z"
   },
   {
    "duration": 208,
    "start_time": "2025-09-11T10:46:19.394Z"
   },
   {
    "duration": 4,
    "start_time": "2025-09-11T10:46:19.604Z"
   },
   {
    "duration": 275,
    "start_time": "2025-09-11T10:46:19.610Z"
   },
   {
    "duration": 17,
    "start_time": "2025-09-11T10:46:19.887Z"
   },
   {
    "duration": 10,
    "start_time": "2025-09-11T10:46:19.906Z"
   },
   {
    "duration": 35,
    "start_time": "2025-09-11T10:46:19.918Z"
   },
   {
    "duration": 307,
    "start_time": "2025-09-11T10:46:19.955Z"
   },
   {
    "duration": 141,
    "start_time": "2025-09-11T10:46:20.264Z"
   },
   {
    "duration": 5460,
    "start_time": "2025-09-11T10:46:20.407Z"
   },
   {
    "duration": 5,
    "start_time": "2025-09-11T10:46:25.870Z"
   },
   {
    "duration": 48,
    "start_time": "2025-09-11T10:46:25.877Z"
   },
   {
    "duration": 7126,
    "start_time": "2025-09-11T10:46:25.927Z"
   },
   {
    "duration": 198,
    "start_time": "2025-09-11T10:46:33.055Z"
   },
   {
    "duration": 4,
    "start_time": "2025-09-11T10:46:33.257Z"
   },
   {
    "duration": 191,
    "start_time": "2025-09-11T10:46:33.262Z"
   },
   {
    "duration": 309,
    "start_time": "2025-09-11T10:46:33.454Z"
   },
   {
    "duration": 232,
    "start_time": "2025-09-11T10:46:33.766Z"
   },
   {
    "duration": 272,
    "start_time": "2025-09-11T10:46:34.000Z"
   },
   {
    "duration": 143,
    "start_time": "2025-09-11T10:46:34.274Z"
   },
   {
    "duration": 68,
    "start_time": "2025-09-11T10:46:34.420Z"
   },
   {
    "duration": 115,
    "start_time": "2025-09-11T10:46:34.490Z"
   },
   {
    "duration": 337,
    "start_time": "2025-09-11T10:46:34.607Z"
   },
   {
    "duration": 366,
    "start_time": "2025-09-11T10:46:34.947Z"
   },
   {
    "duration": 251,
    "start_time": "2025-09-11T10:46:35.315Z"
   },
   {
    "duration": 481,
    "start_time": "2025-09-11T10:46:35.568Z"
   },
   {
    "duration": 376,
    "start_time": "2025-09-11T10:46:36.051Z"
   },
   {
    "duration": 129,
    "start_time": "2025-09-11T10:46:36.429Z"
   },
   {
    "duration": 176,
    "start_time": "2025-09-11T10:46:36.560Z"
   },
   {
    "duration": 159,
    "start_time": "2025-09-11T10:46:36.738Z"
   },
   {
    "duration": 199,
    "start_time": "2025-09-11T10:46:36.900Z"
   },
   {
    "duration": 108,
    "start_time": "2025-09-11T10:46:37.102Z"
   },
   {
    "duration": 165,
    "start_time": "2025-09-11T10:46:37.212Z"
   },
   {
    "duration": 75,
    "start_time": "2025-09-11T10:46:37.379Z"
   },
   {
    "duration": 126,
    "start_time": "2025-09-11T10:46:37.473Z"
   },
   {
    "duration": 111,
    "start_time": "2025-09-11T10:46:37.601Z"
   },
   {
    "duration": 9761,
    "start_time": "2025-09-12T09:01:12.220Z"
   },
   {
    "duration": 2308,
    "start_time": "2025-09-12T09:01:21.983Z"
   },
   {
    "duration": 89,
    "start_time": "2025-09-12T09:01:24.292Z"
   },
   {
    "duration": 26,
    "start_time": "2025-09-12T09:01:24.383Z"
   },
   {
    "duration": 16,
    "start_time": "2025-09-12T09:01:24.411Z"
   },
   {
    "duration": 85,
    "start_time": "2025-09-12T09:01:24.429Z"
   },
   {
    "duration": 6,
    "start_time": "2025-09-12T09:01:24.516Z"
   },
   {
    "duration": 49,
    "start_time": "2025-09-12T09:01:24.524Z"
   },
   {
    "duration": 489,
    "start_time": "2025-09-12T09:01:24.574Z"
   },
   {
    "duration": 43,
    "start_time": "2025-09-12T09:01:25.065Z"
   },
   {
    "duration": 193,
    "start_time": "2025-09-12T09:01:25.109Z"
   },
   {
    "duration": 362,
    "start_time": "2025-09-12T09:01:25.304Z"
   },
   {
    "duration": 151,
    "start_time": "2025-09-12T09:01:25.676Z"
   },
   {
    "duration": 283,
    "start_time": "2025-09-12T09:01:25.832Z"
   },
   {
    "duration": 200,
    "start_time": "2025-09-12T09:01:26.117Z"
   },
   {
    "duration": 5,
    "start_time": "2025-09-12T09:01:26.319Z"
   },
   {
    "duration": 352,
    "start_time": "2025-09-12T09:01:26.326Z"
   },
   {
    "duration": 17,
    "start_time": "2025-09-12T09:01:26.680Z"
   },
   {
    "duration": 7,
    "start_time": "2025-09-12T09:01:26.699Z"
   },
   {
    "duration": 42,
    "start_time": "2025-09-12T09:01:26.708Z"
   },
   {
    "duration": 311,
    "start_time": "2025-09-12T09:01:26.752Z"
   },
   {
    "duration": 124,
    "start_time": "2025-09-12T09:01:27.065Z"
   },
   {
    "duration": 5368,
    "start_time": "2025-09-12T09:01:27.191Z"
   },
   {
    "duration": 6,
    "start_time": "2025-09-12T09:01:32.560Z"
   },
   {
    "duration": 176,
    "start_time": "2025-09-12T09:01:32.567Z"
   },
   {
    "duration": 6736,
    "start_time": "2025-09-12T09:01:32.745Z"
   },
   {
    "duration": 182,
    "start_time": "2025-09-12T09:01:39.483Z"
   },
   {
    "duration": 10,
    "start_time": "2025-09-12T09:01:39.666Z"
   },
   {
    "duration": 159,
    "start_time": "2025-09-12T09:01:39.678Z"
   },
   {
    "duration": 266,
    "start_time": "2025-09-12T09:01:39.838Z"
   },
   {
    "duration": 212,
    "start_time": "2025-09-12T09:01:40.106Z"
   },
   {
    "duration": 230,
    "start_time": "2025-09-12T09:01:40.319Z"
   },
   {
    "duration": 135,
    "start_time": "2025-09-12T09:01:40.551Z"
   },
   {
    "duration": 54,
    "start_time": "2025-09-12T09:01:40.688Z"
   },
   {
    "duration": 116,
    "start_time": "2025-09-12T09:01:40.744Z"
   },
   {
    "duration": 299,
    "start_time": "2025-09-12T09:01:40.862Z"
   },
   {
    "duration": 323,
    "start_time": "2025-09-12T09:01:41.163Z"
   },
   {
    "duration": 239,
    "start_time": "2025-09-12T09:01:41.487Z"
   },
   {
    "duration": 439,
    "start_time": "2025-09-12T09:01:41.728Z"
   },
   {
    "duration": 311,
    "start_time": "2025-09-12T09:01:42.169Z"
   },
   {
    "duration": 118,
    "start_time": "2025-09-12T09:01:42.485Z"
   },
   {
    "duration": 146,
    "start_time": "2025-09-12T09:01:42.605Z"
   },
   {
    "duration": 125,
    "start_time": "2025-09-12T09:01:42.753Z"
   },
   {
    "duration": 190,
    "start_time": "2025-09-12T09:01:42.879Z"
   },
   {
    "duration": 94,
    "start_time": "2025-09-12T09:01:43.071Z"
   },
   {
    "duration": 148,
    "start_time": "2025-09-12T09:01:43.177Z"
   },
   {
    "duration": 81,
    "start_time": "2025-09-12T09:01:43.327Z"
   },
   {
    "duration": 216,
    "start_time": "2025-09-12T09:01:43.410Z"
   },
   {
    "duration": 151,
    "start_time": "2025-09-12T09:01:43.627Z"
   }
  ],
  "colab": {
   "provenance": []
  },
  "kernelspec": {
   "display_name": "Python 3 (ipykernel)",
   "language": "python",
   "name": "python3"
  },
  "language_info": {
   "codemirror_mode": {
    "name": "ipython",
    "version": 3
   },
   "file_extension": ".py",
   "mimetype": "text/x-python",
   "name": "python",
   "nbconvert_exporter": "python",
   "pygments_lexer": "ipython3",
   "version": "3.9.5"
  },
  "toc": {
   "base_numbering": 1,
   "nav_menu": {},
   "number_sections": true,
   "sideBar": true,
   "skip_h1_title": true,
   "title_cell": "Table of Contents",
   "title_sidebar": "Contents",
   "toc_cell": false,
   "toc_position": {},
   "toc_section_display": true,
   "toc_window_display": false
  }
 },
 "nbformat": 4,
 "nbformat_minor": 1
}
