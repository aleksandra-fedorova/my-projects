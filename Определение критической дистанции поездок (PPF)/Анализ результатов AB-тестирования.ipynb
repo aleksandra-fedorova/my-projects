{
 "cells": [
  {
   "cell_type": "markdown",
   "id": "NqOUIYhbrIfC",
   "metadata": {
    "id": "NqOUIYhbrIfC"
   },
   "source": [
    "# Анализ результатов A/B-тестирования"
   ]
  },
  {
   "cell_type": "markdown",
   "id": "tDwMKFNGsClr",
   "metadata": {
    "id": "tDwMKFNGsClr"
   },
   "source": [
    "- Автор: Фёдорова Александра"
   ]
  },
  {
   "cell_type": "markdown",
   "id": "_CZryx2OsH-s",
   "metadata": {
    "id": "_CZryx2OsH-s"
   },
   "source": [
    "## Загрузка данных"
   ]
  },
  {
   "cell_type": "code",
   "execution_count": 1,
   "id": "dd276538",
   "metadata": {},
   "outputs": [],
   "source": [
    "import pandas as pd\n",
    "from matplotlib_venn import venn2\n",
    "import matplotlib.pyplot as plt\n",
    "from statsmodels.stats.proportion import proportion_effectsize\n",
    "from statsmodels.stats.power import NormalIndPower"
   ]
  },
  {
   "cell_type": "code",
   "execution_count": 2,
   "id": "DjFcJbeGsTIg",
   "metadata": {
    "id": "DjFcJbeGsTIg"
   },
   "outputs": [],
   "source": [
    "participants = pd.read_csv('https://code.s3.yandex.net/datasets/ab_test_participants.csv')\n",
    "events = pd.read_csv('https://code.s3.yandex.net/datasets/ab_test_events.zip',\n",
    "                     parse_dates=['event_dt'], low_memory=False)"
   ]
  },
  {
   "cell_type": "markdown",
   "id": "CnzA-efasUrk",
   "metadata": {
    "id": "CnzA-efasUrk"
   },
   "source": [
    "## По таблице `ab_test_participants` оценим корректность проведения теста:\n",
    "\n",
    "    Выделим пользователей, участвующих в тесте, и проверим:\n",
    "\n",
    "   - соответствие требованиям технического задания,\n",
    "\n",
    "   - равномерность распределения пользователей по группам теста,\n",
    "\n",
    "   - отсутствие пересечений с конкурирующим тестом (нет пользователей, участвующих одновременно в двух тестовых группах)."
   ]
  },
  {
   "cell_type": "code",
   "execution_count": 3,
   "id": "9296bfac",
   "metadata": {},
   "outputs": [
    {
     "data": {
      "image/png": "[encoded data removed]",
      "text/plain": [
       "<Figure size 432x288 with 1 Axes>"
      ]
     },
     "metadata": {},
     "output_type": "display_data"
    }
   ],
   "source": [
    "#проверим на пересечения пользователей в группе 'B' в двух тестах\n",
    "test1_group_b = set(participants[(participants['group'] == 'B') & (participants['ab_test'] == 'interface_eu_test')]['user_id'])\n",
    "test2_group_b = set(participants[(participants['group'] == 'B') & (participants['ab_test'] == 'recommender_system_test')]['user_id'])\n",
    "\n",
    "#строим диаграмму Венна\n",
    "venn2([test1_group_b, test2_group_b], set_labels=('user_id', 'user_id'))\n",
    "plt.title('Пересечение')\n",
    "plt.show() "
   ]
  },
  {
   "cell_type": "code",
   "execution_count": 4,
   "id": "be4a841f",
   "metadata": {},
   "outputs": [
    {
     "data": {
      "text/plain": [
       "'Общих: 116'"
      ]
     },
     "metadata": {},
     "output_type": "display_data"
    },
    {
     "data": {
      "text/html": [
       "<div>\n",
       "<style scoped>\n",
       "    .dataframe tbody tr th:only-of-type {\n",
       "        vertical-align: middle;\n",
       "    }\n",
       "\n",
       "    .dataframe tbody tr th {\n",
       "        vertical-align: top;\n",
       "    }\n",
       "\n",
       "    .dataframe thead th {\n",
       "        text-align: right;\n",
       "    }\n",
       "</style>\n",
       "<table border=\"1\" class=\"dataframe\">\n",
       "  <thead>\n",
       "    <tr style=\"text-align: right;\">\n",
       "      <th></th>\n",
       "      <th>user_id</th>\n",
       "      <th>group</th>\n",
       "      <th>ab_test</th>\n",
       "      <th>device</th>\n",
       "    </tr>\n",
       "  </thead>\n",
       "  <tbody>\n",
       "    <tr>\n",
       "      <th>0</th>\n",
       "      <td>0002CE61FF2C4011</td>\n",
       "      <td>B</td>\n",
       "      <td>interface_eu_test</td>\n",
       "      <td>Mac</td>\n",
       "    </tr>\n",
       "    <tr>\n",
       "      <th>1</th>\n",
       "      <td>001064FEAAB631A1</td>\n",
       "      <td>B</td>\n",
       "      <td>recommender_system_test</td>\n",
       "      <td>Android</td>\n",
       "    </tr>\n",
       "    <tr>\n",
       "      <th>2</th>\n",
       "      <td>001064FEAAB631A1</td>\n",
       "      <td>A</td>\n",
       "      <td>interface_eu_test</td>\n",
       "      <td>Android</td>\n",
       "    </tr>\n",
       "    <tr>\n",
       "      <th>3</th>\n",
       "      <td>0010A1C096941592</td>\n",
       "      <td>A</td>\n",
       "      <td>recommender_system_test</td>\n",
       "      <td>Android</td>\n",
       "    </tr>\n",
       "    <tr>\n",
       "      <th>4</th>\n",
       "      <td>001E72F50D1C48FA</td>\n",
       "      <td>A</td>\n",
       "      <td>interface_eu_test</td>\n",
       "      <td>Mac</td>\n",
       "    </tr>\n",
       "    <tr>\n",
       "      <th>...</th>\n",
       "      <td>...</td>\n",
       "      <td>...</td>\n",
       "      <td>...</td>\n",
       "      <td>...</td>\n",
       "    </tr>\n",
       "    <tr>\n",
       "      <th>14518</th>\n",
       "      <td>FFE5B14BD55C1C5C</td>\n",
       "      <td>A</td>\n",
       "      <td>interface_eu_test</td>\n",
       "      <td>PC</td>\n",
       "    </tr>\n",
       "    <tr>\n",
       "      <th>14519</th>\n",
       "      <td>FFE600EEC4BA7685</td>\n",
       "      <td>B</td>\n",
       "      <td>interface_eu_test</td>\n",
       "      <td>Android</td>\n",
       "    </tr>\n",
       "    <tr>\n",
       "      <th>14520</th>\n",
       "      <td>FFE7FC140521F5F6</td>\n",
       "      <td>A</td>\n",
       "      <td>interface_eu_test</td>\n",
       "      <td>PC</td>\n",
       "    </tr>\n",
       "    <tr>\n",
       "      <th>14521</th>\n",
       "      <td>FFEFC0E55C1CCD4F</td>\n",
       "      <td>A</td>\n",
       "      <td>interface_eu_test</td>\n",
       "      <td>PC</td>\n",
       "    </tr>\n",
       "    <tr>\n",
       "      <th>14524</th>\n",
       "      <td>FFF58BC33966EB51</td>\n",
       "      <td>A</td>\n",
       "      <td>interface_eu_test</td>\n",
       "      <td>Android</td>\n",
       "    </tr>\n",
       "  </tbody>\n",
       "</table>\n",
       "<p>14293 rows × 4 columns</p>\n",
       "</div>"
      ],
      "text/plain": [
       "                user_id group                  ab_test   device\n",
       "0      0002CE61FF2C4011     B        interface_eu_test      Mac\n",
       "1      001064FEAAB631A1     B  recommender_system_test  Android\n",
       "2      001064FEAAB631A1     A        interface_eu_test  Android\n",
       "3      0010A1C096941592     A  recommender_system_test  Android\n",
       "4      001E72F50D1C48FA     A        interface_eu_test      Mac\n",
       "...                 ...   ...                      ...      ...\n",
       "14518  FFE5B14BD55C1C5C     A        interface_eu_test       PC\n",
       "14519  FFE600EEC4BA7685     B        interface_eu_test  Android\n",
       "14520  FFE7FC140521F5F6     A        interface_eu_test       PC\n",
       "14521  FFEFC0E55C1CCD4F     A        interface_eu_test       PC\n",
       "14524  FFF58BC33966EB51     A        interface_eu_test  Android\n",
       "\n",
       "[14293 rows x 4 columns]"
      ]
     },
     "metadata": {},
     "output_type": "display_data"
    }
   ],
   "source": [
    "#найдем пересечения\n",
    "intersection_users = set(participants[(participants['group'] == 'B') & (participants['ab_test'] == 'interface_eu_test')]['user_id']).intersection(participants[(participants['group'] == 'B') & (participants['ab_test'] == 'recommender_system_test')]['user_id'])\n",
    "display(f\"Общих: {len(intersection_users)}\")\n",
    "\n",
    "#удалим пересечения из датафрейма\n",
    "participants = participants[~participants['user_id'].isin(intersection_users)]\n",
    "\n",
    "#проверим результат\n",
    "display(participants)"
   ]
  },
  {
   "cell_type": "markdown",
   "id": "4a504a2f",
   "metadata": {},
   "source": [
    "- Удален 231 дубликат"
   ]
  },
  {
   "cell_type": "code",
   "execution_count": 5,
   "id": "aNa3zHrKslEN",
   "metadata": {
    "id": "aNa3zHrKslEN"
   },
   "outputs": [
    {
     "data": {
      "text/html": [
       "<div>\n",
       "<style scoped>\n",
       "    .dataframe tbody tr th:only-of-type {\n",
       "        vertical-align: middle;\n",
       "    }\n",
       "\n",
       "    .dataframe tbody tr th {\n",
       "        vertical-align: top;\n",
       "    }\n",
       "\n",
       "    .dataframe thead th {\n",
       "        text-align: right;\n",
       "    }\n",
       "</style>\n",
       "<table border=\"1\" class=\"dataframe\">\n",
       "  <thead>\n",
       "    <tr style=\"text-align: right;\">\n",
       "      <th></th>\n",
       "      <th>group</th>\n",
       "      <th>user_id</th>\n",
       "    </tr>\n",
       "  </thead>\n",
       "  <tbody>\n",
       "    <tr>\n",
       "      <th>0</th>\n",
       "      <td>A</td>\n",
       "      <td>5383</td>\n",
       "    </tr>\n",
       "    <tr>\n",
       "      <th>1</th>\n",
       "      <td>B</td>\n",
       "      <td>5351</td>\n",
       "    </tr>\n",
       "  </tbody>\n",
       "</table>\n",
       "</div>"
      ],
      "text/plain": [
       "  group  user_id\n",
       "0     A     5383\n",
       "1     B     5351"
      ]
     },
     "metadata": {},
     "output_type": "display_data"
    }
   ],
   "source": [
    "#выделим нужный тест\n",
    "interface_eu_test_df = participants[participants['ab_test'] == 'interface_eu_test']\n",
    "#проверим равномерность респределения пользователей по группам теста\n",
    "test_groups = (interface_eu_test_df.groupby('group')\n",
    "               .agg({'user_id': 'nunique'})\n",
    "               .reset_index())\n",
    "display(test_groups)"
   ]
  },
  {
   "cell_type": "markdown",
   "id": "438a76ef",
   "metadata": {},
   "source": [
    "- Пользователи распределены равномерно"
   ]
  },
  {
   "cell_type": "code",
   "execution_count": 6,
   "id": "02c5be8e",
   "metadata": {},
   "outputs": [
    {
     "data": {
      "image/png": "[encoded data removed]",
      "text/plain": [
       "<Figure size 432x288 with 1 Axes>"
      ]
     },
     "metadata": {},
     "output_type": "display_data"
    }
   ],
   "source": [
    "#проверим на пересечения пользователей в двух группах\n",
    "test_group_a = set(interface_eu_test_df[interface_eu_test_df['group'] == 'A']['user_id'])\n",
    "test_group_b = set(interface_eu_test_df[interface_eu_test_df['group'] == 'B']['user_id'])\n",
    "\n",
    "#строим диаграмму Венна\n",
    "venn2([test_group_a, test_group_b], set_labels=('user_id', 'user_id'))\n",
    "plt.title('Пересечение')\n",
    "plt.show() "
   ]
  },
  {
   "cell_type": "markdown",
   "id": "d81f014d",
   "metadata": {},
   "source": [
    "- Одинаковых пользователей в двух группах не найдено"
   ]
  },
  {
   "cell_type": "markdown",
   "id": "GjulgSrlsqUU",
   "metadata": {
    "id": "GjulgSrlsqUU"
   },
   "source": [
    "##  Проанализируем данные о пользовательской активности по таблице `ab_test_events`:\n",
    "\n",
    "- оставим только события, связанные с участвующими в изучаемом тесте пользователями;"
   ]
  },
  {
   "cell_type": "code",
   "execution_count": 7,
   "id": "QMt0Ybo_swDK",
   "metadata": {
    "id": "QMt0Ybo_swDK"
   },
   "outputs": [
    {
     "data": {
      "text/html": [
       "<div>\n",
       "<style scoped>\n",
       "    .dataframe tbody tr th:only-of-type {\n",
       "        vertical-align: middle;\n",
       "    }\n",
       "\n",
       "    .dataframe tbody tr th {\n",
       "        vertical-align: top;\n",
       "    }\n",
       "\n",
       "    .dataframe thead th {\n",
       "        text-align: right;\n",
       "    }\n",
       "</style>\n",
       "<table border=\"1\" class=\"dataframe\">\n",
       "  <thead>\n",
       "    <tr style=\"text-align: right;\">\n",
       "      <th></th>\n",
       "      <th>user_id</th>\n",
       "      <th>event_dt</th>\n",
       "      <th>event_name</th>\n",
       "      <th>details</th>\n",
       "      <th>group</th>\n",
       "      <th>ab_test</th>\n",
       "      <th>device</th>\n",
       "    </tr>\n",
       "  </thead>\n",
       "  <tbody>\n",
       "    <tr>\n",
       "      <th>0</th>\n",
       "      <td>5F506CEBEDC05D30</td>\n",
       "      <td>2020-12-06 14:10:01</td>\n",
       "      <td>registration</td>\n",
       "      <td>0.0</td>\n",
       "      <td>A</td>\n",
       "      <td>interface_eu_test</td>\n",
       "      <td>iPhone</td>\n",
       "    </tr>\n",
       "    <tr>\n",
       "      <th>1</th>\n",
       "      <td>5F506CEBEDC05D30</td>\n",
       "      <td>2020-12-07 01:25:14</td>\n",
       "      <td>login</td>\n",
       "      <td>NaN</td>\n",
       "      <td>A</td>\n",
       "      <td>interface_eu_test</td>\n",
       "      <td>iPhone</td>\n",
       "    </tr>\n",
       "    <tr>\n",
       "      <th>2</th>\n",
       "      <td>5F506CEBEDC05D30</td>\n",
       "      <td>2020-12-07 01:25:47</td>\n",
       "      <td>login</td>\n",
       "      <td>NaN</td>\n",
       "      <td>A</td>\n",
       "      <td>interface_eu_test</td>\n",
       "      <td>iPhone</td>\n",
       "    </tr>\n",
       "    <tr>\n",
       "      <th>3</th>\n",
       "      <td>5F506CEBEDC05D30</td>\n",
       "      <td>2020-12-09 12:40:49</td>\n",
       "      <td>login</td>\n",
       "      <td>NaN</td>\n",
       "      <td>A</td>\n",
       "      <td>interface_eu_test</td>\n",
       "      <td>iPhone</td>\n",
       "    </tr>\n",
       "    <tr>\n",
       "      <th>4</th>\n",
       "      <td>5F506CEBEDC05D30</td>\n",
       "      <td>2020-12-09 12:40:49</td>\n",
       "      <td>product_page</td>\n",
       "      <td>NaN</td>\n",
       "      <td>A</td>\n",
       "      <td>interface_eu_test</td>\n",
       "      <td>iPhone</td>\n",
       "    </tr>\n",
       "    <tr>\n",
       "      <th>...</th>\n",
       "      <td>...</td>\n",
       "      <td>...</td>\n",
       "      <td>...</td>\n",
       "      <td>...</td>\n",
       "      <td>...</td>\n",
       "      <td>...</td>\n",
       "      <td>...</td>\n",
       "    </tr>\n",
       "    <tr>\n",
       "      <th>79061</th>\n",
       "      <td>16CCB1C8C4DCF1AF</td>\n",
       "      <td>2020-12-23 23:50:29</td>\n",
       "      <td>registration</td>\n",
       "      <td>0.0</td>\n",
       "      <td>A</td>\n",
       "      <td>interface_eu_test</td>\n",
       "      <td>Mac</td>\n",
       "    </tr>\n",
       "    <tr>\n",
       "      <th>79062</th>\n",
       "      <td>16CCB1C8C4DCF1AF</td>\n",
       "      <td>2020-12-23 23:55:52</td>\n",
       "      <td>login</td>\n",
       "      <td>NaN</td>\n",
       "      <td>A</td>\n",
       "      <td>interface_eu_test</td>\n",
       "      <td>Mac</td>\n",
       "    </tr>\n",
       "    <tr>\n",
       "      <th>79063</th>\n",
       "      <td>2DDC948BD76ABC57</td>\n",
       "      <td>2020-12-24 21:57:10</td>\n",
       "      <td>registration</td>\n",
       "      <td>-4.29</td>\n",
       "      <td>B</td>\n",
       "      <td>interface_eu_test</td>\n",
       "      <td>iPhone</td>\n",
       "    </tr>\n",
       "    <tr>\n",
       "      <th>79064</th>\n",
       "      <td>2DDC948BD76ABC57</td>\n",
       "      <td>2020-12-24 21:58:49</td>\n",
       "      <td>login</td>\n",
       "      <td>NaN</td>\n",
       "      <td>B</td>\n",
       "      <td>interface_eu_test</td>\n",
       "      <td>iPhone</td>\n",
       "    </tr>\n",
       "    <tr>\n",
       "      <th>79065</th>\n",
       "      <td>2DDC948BD76ABC57</td>\n",
       "      <td>2020-12-24 22:00:40</td>\n",
       "      <td>product_page</td>\n",
       "      <td>NaN</td>\n",
       "      <td>B</td>\n",
       "      <td>interface_eu_test</td>\n",
       "      <td>iPhone</td>\n",
       "    </tr>\n",
       "  </tbody>\n",
       "</table>\n",
       "<p>79066 rows × 7 columns</p>\n",
       "</div>"
      ],
      "text/plain": [
       "                user_id            event_dt    event_name details group  \\\n",
       "0      5F506CEBEDC05D30 2020-12-06 14:10:01  registration     0.0     A   \n",
       "1      5F506CEBEDC05D30 2020-12-07 01:25:14         login     NaN     A   \n",
       "2      5F506CEBEDC05D30 2020-12-07 01:25:47         login     NaN     A   \n",
       "3      5F506CEBEDC05D30 2020-12-09 12:40:49         login     NaN     A   \n",
       "4      5F506CEBEDC05D30 2020-12-09 12:40:49  product_page     NaN     A   \n",
       "...                 ...                 ...           ...     ...   ...   \n",
       "79061  16CCB1C8C4DCF1AF 2020-12-23 23:50:29  registration     0.0     A   \n",
       "79062  16CCB1C8C4DCF1AF 2020-12-23 23:55:52         login     NaN     A   \n",
       "79063  2DDC948BD76ABC57 2020-12-24 21:57:10  registration   -4.29     B   \n",
       "79064  2DDC948BD76ABC57 2020-12-24 21:58:49         login     NaN     B   \n",
       "79065  2DDC948BD76ABC57 2020-12-24 22:00:40  product_page     NaN     B   \n",
       "\n",
       "                 ab_test  device  \n",
       "0      interface_eu_test  iPhone  \n",
       "1      interface_eu_test  iPhone  \n",
       "2      interface_eu_test  iPhone  \n",
       "3      interface_eu_test  iPhone  \n",
       "4      interface_eu_test  iPhone  \n",
       "...                  ...     ...  \n",
       "79061  interface_eu_test     Mac  \n",
       "79062  interface_eu_test     Mac  \n",
       "79063  interface_eu_test  iPhone  \n",
       "79064  interface_eu_test  iPhone  \n",
       "79065  interface_eu_test  iPhone  \n",
       "\n",
       "[79066 rows x 7 columns]"
      ]
     },
     "metadata": {},
     "output_type": "display_data"
    }
   ],
   "source": [
    "#присоединим таблицу\n",
    "merged_df = events.merge(interface_eu_test_df, on='user_id', how='inner')\n",
    "display(merged_df)"
   ]
  },
  {
   "cell_type": "code",
   "execution_count": 8,
   "id": "ffe67a04",
   "metadata": {},
   "outputs": [],
   "source": [
    "#удалим дубликаты по событиям\n",
    "merged_df = merged_df.drop_duplicates(subset=['user_id', 'event_name'])"
   ]
  },
  {
   "cell_type": "markdown",
   "id": "fBZ4DC2xswZJ",
   "metadata": {
    "id": "fBZ4DC2xswZJ"
   },
   "source": [
    "## Определим горизонт анализа: \n",
    "- рассчитаем время (лайфтайм) совершения события пользователем после регистрации и оставим только те события, которые были выполнены в течение первых семи дней с момента регистрации;"
   ]
  },
  {
   "cell_type": "code",
   "execution_count": 9,
   "id": "sES4-dKts0Yb",
   "metadata": {
    "id": "sES4-dKts0Yb"
   },
   "outputs": [
    {
     "data": {
      "text/html": [
       "<div>\n",
       "<style scoped>\n",
       "    .dataframe tbody tr th:only-of-type {\n",
       "        vertical-align: middle;\n",
       "    }\n",
       "\n",
       "    .dataframe tbody tr th {\n",
       "        vertical-align: top;\n",
       "    }\n",
       "\n",
       "    .dataframe thead th {\n",
       "        text-align: right;\n",
       "    }\n",
       "</style>\n",
       "<table border=\"1\" class=\"dataframe\">\n",
       "  <thead>\n",
       "    <tr style=\"text-align: right;\">\n",
       "      <th></th>\n",
       "      <th>user_id</th>\n",
       "      <th>event_dt</th>\n",
       "      <th>event_name</th>\n",
       "      <th>details</th>\n",
       "      <th>group</th>\n",
       "      <th>ab_test</th>\n",
       "      <th>device</th>\n",
       "      <th>regist_date</th>\n",
       "    </tr>\n",
       "  </thead>\n",
       "  <tbody>\n",
       "    <tr>\n",
       "      <th>0</th>\n",
       "      <td>5F506CEBEDC05D30</td>\n",
       "      <td>2020-12-06 14:10:01</td>\n",
       "      <td>registration</td>\n",
       "      <td>0.0</td>\n",
       "      <td>A</td>\n",
       "      <td>interface_eu_test</td>\n",
       "      <td>iPhone</td>\n",
       "      <td>2020-12-06 14:10:01</td>\n",
       "    </tr>\n",
       "    <tr>\n",
       "      <th>1</th>\n",
       "      <td>5F506CEBEDC05D30</td>\n",
       "      <td>2020-12-07 01:25:14</td>\n",
       "      <td>login</td>\n",
       "      <td>NaN</td>\n",
       "      <td>A</td>\n",
       "      <td>interface_eu_test</td>\n",
       "      <td>iPhone</td>\n",
       "      <td>2020-12-06 14:10:01</td>\n",
       "    </tr>\n",
       "    <tr>\n",
       "      <th>2</th>\n",
       "      <td>5F506CEBEDC05D30</td>\n",
       "      <td>2020-12-09 12:40:49</td>\n",
       "      <td>product_page</td>\n",
       "      <td>NaN</td>\n",
       "      <td>A</td>\n",
       "      <td>interface_eu_test</td>\n",
       "      <td>iPhone</td>\n",
       "      <td>2020-12-06 14:10:01</td>\n",
       "    </tr>\n",
       "    <tr>\n",
       "      <th>3</th>\n",
       "      <td>51278A006E918D97</td>\n",
       "      <td>2020-12-06 14:37:25</td>\n",
       "      <td>registration</td>\n",
       "      <td>-3.8</td>\n",
       "      <td>A</td>\n",
       "      <td>interface_eu_test</td>\n",
       "      <td>Android</td>\n",
       "      <td>2020-12-06 14:37:25</td>\n",
       "    </tr>\n",
       "    <tr>\n",
       "      <th>4</th>\n",
       "      <td>51278A006E918D97</td>\n",
       "      <td>2020-12-07 01:49:18</td>\n",
       "      <td>login</td>\n",
       "      <td>NaN</td>\n",
       "      <td>A</td>\n",
       "      <td>interface_eu_test</td>\n",
       "      <td>Android</td>\n",
       "      <td>2020-12-06 14:37:25</td>\n",
       "    </tr>\n",
       "    <tr>\n",
       "      <th>...</th>\n",
       "      <td>...</td>\n",
       "      <td>...</td>\n",
       "      <td>...</td>\n",
       "      <td>...</td>\n",
       "      <td>...</td>\n",
       "      <td>...</td>\n",
       "      <td>...</td>\n",
       "      <td>...</td>\n",
       "    </tr>\n",
       "    <tr>\n",
       "      <th>35773</th>\n",
       "      <td>16CCB1C8C4DCF1AF</td>\n",
       "      <td>2020-12-23 23:50:29</td>\n",
       "      <td>registration</td>\n",
       "      <td>0.0</td>\n",
       "      <td>A</td>\n",
       "      <td>interface_eu_test</td>\n",
       "      <td>Mac</td>\n",
       "      <td>2020-12-23 23:50:29</td>\n",
       "    </tr>\n",
       "    <tr>\n",
       "      <th>35774</th>\n",
       "      <td>16CCB1C8C4DCF1AF</td>\n",
       "      <td>2020-12-23 23:55:52</td>\n",
       "      <td>login</td>\n",
       "      <td>NaN</td>\n",
       "      <td>A</td>\n",
       "      <td>interface_eu_test</td>\n",
       "      <td>Mac</td>\n",
       "      <td>2020-12-23 23:50:29</td>\n",
       "    </tr>\n",
       "    <tr>\n",
       "      <th>35775</th>\n",
       "      <td>2DDC948BD76ABC57</td>\n",
       "      <td>2020-12-24 21:57:10</td>\n",
       "      <td>registration</td>\n",
       "      <td>-4.29</td>\n",
       "      <td>B</td>\n",
       "      <td>interface_eu_test</td>\n",
       "      <td>iPhone</td>\n",
       "      <td>2020-12-24 21:57:10</td>\n",
       "    </tr>\n",
       "    <tr>\n",
       "      <th>35776</th>\n",
       "      <td>2DDC948BD76ABC57</td>\n",
       "      <td>2020-12-24 21:58:49</td>\n",
       "      <td>login</td>\n",
       "      <td>NaN</td>\n",
       "      <td>B</td>\n",
       "      <td>interface_eu_test</td>\n",
       "      <td>iPhone</td>\n",
       "      <td>2020-12-24 21:57:10</td>\n",
       "    </tr>\n",
       "    <tr>\n",
       "      <th>35777</th>\n",
       "      <td>2DDC948BD76ABC57</td>\n",
       "      <td>2020-12-24 22:00:40</td>\n",
       "      <td>product_page</td>\n",
       "      <td>NaN</td>\n",
       "      <td>B</td>\n",
       "      <td>interface_eu_test</td>\n",
       "      <td>iPhone</td>\n",
       "      <td>2020-12-24 21:57:10</td>\n",
       "    </tr>\n",
       "  </tbody>\n",
       "</table>\n",
       "<p>34185 rows × 8 columns</p>\n",
       "</div>"
      ],
      "text/plain": [
       "                user_id            event_dt    event_name details group  \\\n",
       "0      5F506CEBEDC05D30 2020-12-06 14:10:01  registration     0.0     A   \n",
       "1      5F506CEBEDC05D30 2020-12-07 01:25:14         login     NaN     A   \n",
       "2      5F506CEBEDC05D30 2020-12-09 12:40:49  product_page     NaN     A   \n",
       "3      51278A006E918D97 2020-12-06 14:37:25  registration    -3.8     A   \n",
       "4      51278A006E918D97 2020-12-07 01:49:18         login     NaN     A   \n",
       "...                 ...                 ...           ...     ...   ...   \n",
       "35773  16CCB1C8C4DCF1AF 2020-12-23 23:50:29  registration     0.0     A   \n",
       "35774  16CCB1C8C4DCF1AF 2020-12-23 23:55:52         login     NaN     A   \n",
       "35775  2DDC948BD76ABC57 2020-12-24 21:57:10  registration   -4.29     B   \n",
       "35776  2DDC948BD76ABC57 2020-12-24 21:58:49         login     NaN     B   \n",
       "35777  2DDC948BD76ABC57 2020-12-24 22:00:40  product_page     NaN     B   \n",
       "\n",
       "                 ab_test   device         regist_date  \n",
       "0      interface_eu_test   iPhone 2020-12-06 14:10:01  \n",
       "1      interface_eu_test   iPhone 2020-12-06 14:10:01  \n",
       "2      interface_eu_test   iPhone 2020-12-06 14:10:01  \n",
       "3      interface_eu_test  Android 2020-12-06 14:37:25  \n",
       "4      interface_eu_test  Android 2020-12-06 14:37:25  \n",
       "...                  ...      ...                 ...  \n",
       "35773  interface_eu_test      Mac 2020-12-23 23:50:29  \n",
       "35774  interface_eu_test      Mac 2020-12-23 23:50:29  \n",
       "35775  interface_eu_test   iPhone 2020-12-24 21:57:10  \n",
       "35776  interface_eu_test   iPhone 2020-12-24 21:57:10  \n",
       "35777  interface_eu_test   iPhone 2020-12-24 21:57:10  \n",
       "\n",
       "[34185 rows x 8 columns]"
      ]
     },
     "metadata": {},
     "output_type": "display_data"
    }
   ],
   "source": [
    "#найдем дату регистрации для каждого пользователя\n",
    "regist_date = merged_df.groupby('user_id')['event_dt'].min().reset_index()\n",
    "regist_date.columns = ['user_id','regist_date']\n",
    "\n",
    "#присоединим таблицу\n",
    "final_df = merged_df.merge(regist_date, on ='user_id')\n",
    "\n",
    "#настроим фильтр\n",
    "final_df = final_df[final_df['event_dt'] - final_df['regist_date'] <= pd.Timedelta (days = 7)]\n",
    "\n",
    "#выведем итоговую таблицу\n",
    "display(final_df)"
   ]
  },
  {
   "cell_type": "markdown",
   "id": "7cf1df48",
   "metadata": {},
   "source": [
    "Оценим достаточность выборки для получения статистически значимых результатов A/B-теста."
   ]
  },
  {
   "cell_type": "code",
   "execution_count": 10,
   "id": "7d97b466",
   "metadata": {},
   "outputs": [
    {
     "name": "stdout",
     "output_type": "stream",
     "text": [
      "Необходимый размер выборки для каждой группы: 3761\n"
     ]
    }
   ],
   "source": [
    "#задаём параметры\n",
    "alpha = 0.05 \n",
    "beta = 0.2\n",
    "power = 0.8 \n",
    "p = 0.30 \n",
    "mde = 0.03  \n",
    "effect_size = proportion_effectsize(p, p + mde)\n",
    "\n",
    "#инициализируем класс NormalIndPower\n",
    "power_analysis = NormalIndPower()\n",
    "\n",
    "#рассчитываем размер выборки\n",
    "sample_size = power_analysis.solve_power(\n",
    "    effect_size = effect_size,\n",
    "    power = power,\n",
    "    alpha = alpha,\n",
    "    ratio = 1 \n",
    ")\n",
    "\n",
    "print(f\"Необходимый размер выборки для каждой группы: {int(sample_size)}\")"
   ]
  },
  {
   "cell_type": "markdown",
   "id": "SadyUDgZs0t3",
   "metadata": {
    "id": "SadyUDgZs0t3"
   },
   "source": [
    "- рассчитаем для каждой группы количество посетителей, сделавших покупку, и общее количество посетителей."
   ]
  },
  {
   "cell_type": "code",
   "execution_count": 11,
   "id": "7ph853Xks4sy",
   "metadata": {
    "id": "7ph853Xks4sy"
   },
   "outputs": [
    {
     "data": {
      "text/plain": [
       "'Кол-во посетителей сделавших покупку в группе А: 1480'"
      ]
     },
     "metadata": {},
     "output_type": "display_data"
    },
    {
     "data": {
      "text/plain": [
       "'Кол-во посетителей сделавших покупку в группе B: 1579'"
      ]
     },
     "metadata": {},
     "output_type": "display_data"
    }
   ],
   "source": [
    "purchase_users_group_a = final_df[(final_df['event_name'] == 'purchase') & (final_df['group'] == 'A')]['user_id'].nunique()\n",
    "display(f'Кол-во посетителей сделавших покупку в группе А: {purchase_users_group_a}')\n",
    "\n",
    "purchase_users_group_b = final_df[(final_df['event_name'] == 'purchase') & (final_df['group'] == 'B')]['user_id'].nunique()\n",
    "display(f'Кол-во посетителей сделавших покупку в группе B: {purchase_users_group_b}')\n"
   ]
  },
  {
   "cell_type": "code",
   "execution_count": 12,
   "id": "a86d8545",
   "metadata": {},
   "outputs": [
    {
     "data": {
      "text/plain": [
       "'Общее кол-во посетителей в группе А: 5383'"
      ]
     },
     "metadata": {},
     "output_type": "display_data"
    },
    {
     "data": {
      "text/plain": [
       "'Общее кол-во посетителей в группе B: 5351'"
      ]
     },
     "metadata": {},
     "output_type": "display_data"
    }
   ],
   "source": [
    "users_count_group_a = final_df[final_df['group'] == 'A']['user_id'].nunique()\n",
    "display(f'Общее кол-во посетителей в группе А: {users_count_group_a}')\n",
    "\n",
    "users_count_group_b = final_df[final_df['group'] == 'B']['user_id'].nunique()\n",
    "display(f'Общее кол-во посетителей в группе B: {users_count_group_b}')"
   ]
  },
  {
   "cell_type": "code",
   "execution_count": 13,
   "id": "aba97fff",
   "metadata": {},
   "outputs": [
    {
     "data": {
      "text/plain": [
       "'Конверсия в группе А составляет: 27.5%'"
      ]
     },
     "metadata": {},
     "output_type": "display_data"
    },
    {
     "data": {
      "text/plain": [
       "'Конверсия в группе В составляет: 29.5%'"
      ]
     },
     "metadata": {},
     "output_type": "display_data"
    },
    {
     "data": {
      "text/plain": [
       "'Прирост составил: 2.0%'"
      ]
     },
     "metadata": {},
     "output_type": "display_data"
    }
   ],
   "source": [
    "group_a = round(1480 / 5383 * 100,1)\n",
    "group_b = round(1579 / 5351 * 100,1)\n",
    "display(f'Конверсия в группе А составляет: {group_a}%')\n",
    "display(f'Конверсия в группе В составляет: {group_b}%')\n",
    "display(f'Прирост составил: {group_b - group_a}%')"
   ]
  },
  {
   "cell_type": "markdown",
   "id": "7dfb9a7d",
   "metadata": {},
   "source": [
    "- Плановый прирост составляет 3%, поэтому предварительно плановый прирост в тестовой группе оказался меньше"
   ]
  },
  {
   "cell_type": "markdown",
   "id": "IKZ1Oo3Ws919",
   "metadata": {
    "id": "IKZ1Oo3Ws919"
   },
   "source": [
    "## Проведем оценку результатов A/B-тестирования:"
   ]
  },
  {
   "cell_type": "markdown",
   "id": "0b959e1f",
   "metadata": {},
   "source": [
    "Сформулируем гипотезу\n",
    "- H₀: новая версия сайта не повлияет на конверсию пользователей (pA=pB)\n",
    "- H₁: новая версия сайта увеличит конверсию пользователей на 3% (pA<pB)\n"
   ]
  },
  {
   "cell_type": "code",
   "execution_count": 14,
   "id": "l_KOziBQtL3t",
   "metadata": {
    "id": "l_KOziBQtL3t"
   },
   "outputs": [
    {
     "name": "stdout",
     "output_type": "stream",
     "text": [
      "pvalue=0.020306993983065475 < 0.05\n",
      "Нулевая гипотеза не находит подтверждения!\n"
     ]
    }
   ],
   "source": [
    "#проведем z-test пропорций\n",
    "from statsmodels.stats.proportion import proportions_ztest\n",
    "\n",
    "n_a, n_b = 5383, 5467 #размер выборок A и B                    \n",
    "m_a, m_b = 1480, 1600  #конверсия\n",
    "\n",
    "alpha = 0.05\n",
    "\n",
    "stat_ztest, p_value_ztest = proportions_ztest(\n",
    "    [m_a, m_b],\n",
    "    [n_a, n_b],\n",
    "    alternative='smaller' #так как H_1: p_a < p_в\n",
    ")\n",
    "\n",
    "if p_value_ztest > alpha:\n",
    "    print(f'pvalue={p_value_ztest} > {alpha}')\n",
    "    print('Нулевая гипотеза находит подтверждение!')\n",
    "else:\n",
    "    print(f'pvalue={p_value_ztest} < {alpha}')\n",
    "    print('Нулевая гипотеза не находит подтверждения!')"
   ]
  },
  {
   "cell_type": "markdown",
   "id": "33c6fe0a",
   "metadata": {},
   "source": [
    "## Вывод "
   ]
  },
  {
   "cell_type": "markdown",
   "id": "00aab9fd",
   "metadata": {},
   "source": [
    " Плановый прирост составляет 3%, но фактически получилось 2%. Прирост есть, но не был достигнут ожидаемый эффект."
   ]
  }
 ],
 "metadata": {
  "ExecuteTimeLog": [
   {
    "duration": 107,
    "start_time": "2025-08-05T09:28:49.921Z"
   },
   {
    "duration": 431,
    "start_time": "2025-08-05T09:28:55.588Z"
   },
   {
    "duration": 40,
    "start_time": "2025-08-05T09:30:33.588Z"
   },
   {
    "duration": 52,
    "start_time": "2025-08-05T09:30:54.060Z"
   },
   {
    "duration": 56,
    "start_time": "2025-08-05T09:31:48.951Z"
   },
   {
    "duration": 64,
    "start_time": "2025-08-05T09:32:11.719Z"
   },
   {
    "duration": 48,
    "start_time": "2025-08-05T09:32:28.220Z"
   },
   {
    "duration": 3,
    "start_time": "2025-08-05T09:32:47.687Z"
   },
   {
    "duration": 143,
    "start_time": "2025-08-05T09:32:49.520Z"
   },
   {
    "duration": 40,
    "start_time": "2025-08-05T09:32:54.108Z"
   },
   {
    "duration": 8,
    "start_time": "2025-08-05T09:37:59.910Z"
   },
   {
    "duration": 5,
    "start_time": "2025-08-05T09:38:30.565Z"
   },
   {
    "duration": 6,
    "start_time": "2025-08-05T09:38:40.561Z"
   },
   {
    "duration": 16,
    "start_time": "2025-08-05T09:40:38.620Z"
   },
   {
    "duration": 17,
    "start_time": "2025-08-05T09:41:06.498Z"
   },
   {
    "duration": 14,
    "start_time": "2025-08-05T09:41:31.801Z"
   },
   {
    "duration": 84,
    "start_time": "2025-08-05T09:43:17.933Z"
   },
   {
    "duration": 4,
    "start_time": "2025-08-05T09:43:23.645Z"
   },
   {
    "duration": 7,
    "start_time": "2025-08-05T09:44:07.325Z"
   },
   {
    "duration": 70,
    "start_time": "2025-08-05T09:50:33.797Z"
   },
   {
    "duration": 1430,
    "start_time": "2025-08-05T09:50:52.030Z"
   },
   {
    "duration": 6,
    "start_time": "2025-08-05T09:52:01.359Z"
   },
   {
    "duration": 11,
    "start_time": "2025-08-05T09:52:03.391Z"
   },
   {
    "duration": 6,
    "start_time": "2025-08-05T09:53:47.519Z"
   },
   {
    "duration": 8,
    "start_time": "2025-08-05T09:54:10.168Z"
   },
   {
    "duration": 9,
    "start_time": "2025-08-05T09:54:49.431Z"
   },
   {
    "duration": 10,
    "start_time": "2025-08-05T10:12:27.418Z"
   },
   {
    "duration": 9,
    "start_time": "2025-08-05T10:12:41.671Z"
   },
   {
    "duration": 1599,
    "start_time": "2025-08-05T10:16:49.449Z"
   },
   {
    "duration": 1454,
    "start_time": "2025-08-05T10:17:44.652Z"
   },
   {
    "duration": 417,
    "start_time": "2025-08-05T10:20:55.699Z"
   },
   {
    "duration": 10,
    "start_time": "2025-08-05T10:21:04.899Z"
   },
   {
    "duration": 12,
    "start_time": "2025-08-05T10:21:30.266Z"
   },
   {
    "duration": 18,
    "start_time": "2025-08-05T10:21:40.259Z"
   },
   {
    "duration": 375,
    "start_time": "2025-08-06T11:25:55.694Z"
   },
   {
    "duration": 108,
    "start_time": "2025-08-06T11:25:56.071Z"
   },
   {
    "duration": 15,
    "start_time": "2025-08-06T11:25:56.181Z"
   },
   {
    "duration": 9,
    "start_time": "2025-08-06T11:25:56.198Z"
   },
   {
    "duration": 33,
    "start_time": "2025-08-06T11:25:56.208Z"
   },
   {
    "duration": 1665,
    "start_time": "2025-08-06T11:25:56.243Z"
   },
   {
    "duration": 491,
    "start_time": "2025-08-06T11:39:34.692Z"
   },
   {
    "duration": 10,
    "start_time": "2025-08-06T11:46:52.171Z"
   },
   {
    "duration": 10,
    "start_time": "2025-08-06T11:47:05.251Z"
   },
   {
    "duration": 10,
    "start_time": "2025-08-06T11:49:21.903Z"
   },
   {
    "duration": 10,
    "start_time": "2025-08-06T11:49:54.965Z"
   },
   {
    "duration": 387,
    "start_time": "2025-08-07T09:30:29.203Z"
   },
   {
    "duration": 70,
    "start_time": "2025-08-07T09:30:29.592Z"
   },
   {
    "duration": 14,
    "start_time": "2025-08-07T09:30:29.664Z"
   },
   {
    "duration": 10,
    "start_time": "2025-08-07T09:30:29.680Z"
   },
   {
    "duration": 480,
    "start_time": "2025-08-07T09:30:29.692Z"
   },
   {
    "duration": 1622,
    "start_time": "2025-08-07T09:30:30.174Z"
   },
   {
    "duration": 8,
    "start_time": "2025-08-07T09:30:56.591Z"
   },
   {
    "duration": 8,
    "start_time": "2025-08-07T09:31:21.836Z"
   },
   {
    "duration": 10,
    "start_time": "2025-08-07T09:46:30.481Z"
   },
   {
    "duration": 13,
    "start_time": "2025-08-07T09:46:49.121Z"
   },
   {
    "duration": 446,
    "start_time": "2025-08-07T11:47:08.349Z"
   },
   {
    "duration": 57,
    "start_time": "2025-08-07T11:47:08.796Z"
   },
   {
    "duration": 22,
    "start_time": "2025-08-07T11:47:08.855Z"
   },
   {
    "duration": 9,
    "start_time": "2025-08-07T11:47:08.879Z"
   },
   {
    "duration": 91,
    "start_time": "2025-08-07T11:47:08.890Z"
   },
   {
    "duration": 0,
    "start_time": "2025-08-07T11:47:08.983Z"
   },
   {
    "duration": 0,
    "start_time": "2025-08-07T11:47:08.985Z"
   },
   {
    "duration": 0,
    "start_time": "2025-08-07T11:47:08.987Z"
   },
   {
    "duration": 0,
    "start_time": "2025-08-07T11:47:08.989Z"
   },
   {
    "duration": 0,
    "start_time": "2025-08-07T11:47:08.991Z"
   },
   {
    "duration": 7,
    "start_time": "2025-08-07T11:48:04.197Z"
   },
   {
    "duration": 7,
    "start_time": "2025-08-07T11:48:19.489Z"
   },
   {
    "duration": 425,
    "start_time": "2025-08-07T11:48:27.865Z"
   },
   {
    "duration": 80,
    "start_time": "2025-08-07T11:48:28.292Z"
   },
   {
    "duration": 16,
    "start_time": "2025-08-07T11:48:28.375Z"
   },
   {
    "duration": 46,
    "start_time": "2025-08-07T11:48:28.393Z"
   },
   {
    "duration": 70,
    "start_time": "2025-08-07T11:48:28.441Z"
   },
   {
    "duration": 0,
    "start_time": "2025-08-07T11:48:28.512Z"
   },
   {
    "duration": 0,
    "start_time": "2025-08-07T11:48:28.513Z"
   },
   {
    "duration": 0,
    "start_time": "2025-08-07T11:48:28.514Z"
   },
   {
    "duration": 0,
    "start_time": "2025-08-07T11:48:28.515Z"
   },
   {
    "duration": 0,
    "start_time": "2025-08-07T11:48:28.516Z"
   },
   {
    "duration": 8,
    "start_time": "2025-08-07T11:48:49.198Z"
   },
   {
    "duration": 479,
    "start_time": "2025-08-07T11:48:59.002Z"
   },
   {
    "duration": 1553,
    "start_time": "2025-08-07T11:49:03.906Z"
   },
   {
    "duration": 14,
    "start_time": "2025-08-07T11:49:08.918Z"
   },
   {
    "duration": 1334,
    "start_time": "2025-08-07T11:49:47.871Z"
   },
   {
    "duration": 24,
    "start_time": "2025-08-07T11:50:00.761Z"
   },
   {
    "duration": 10171,
    "start_time": "2025-08-07T11:50:31.891Z"
   },
   {
    "duration": 109,
    "start_time": "2025-08-07T11:50:43.392Z"
   },
   {
    "duration": 26,
    "start_time": "2025-08-07T11:54:29.152Z"
   },
   {
    "duration": 87,
    "start_time": "2025-08-07T11:54:53.760Z"
   },
   {
    "duration": 26,
    "start_time": "2025-08-07T11:55:19.551Z"
   },
   {
    "duration": 21,
    "start_time": "2025-08-07T11:55:30.799Z"
   },
   {
    "duration": 419,
    "start_time": "2025-08-10T07:58:54.726Z"
   },
   {
    "duration": 222,
    "start_time": "2025-08-10T07:58:55.147Z"
   },
   {
    "duration": 20,
    "start_time": "2025-08-10T07:58:55.371Z"
   },
   {
    "duration": 11,
    "start_time": "2025-08-10T07:58:55.394Z"
   },
   {
    "duration": 82,
    "start_time": "2025-08-10T07:58:55.406Z"
   },
   {
    "duration": 0,
    "start_time": "2025-08-10T07:58:55.490Z"
   },
   {
    "duration": 0,
    "start_time": "2025-08-10T07:58:55.491Z"
   },
   {
    "duration": 0,
    "start_time": "2025-08-10T07:58:55.492Z"
   },
   {
    "duration": 0,
    "start_time": "2025-08-10T07:58:55.493Z"
   },
   {
    "duration": 0,
    "start_time": "2025-08-10T07:58:55.494Z"
   },
   {
    "duration": 0,
    "start_time": "2025-08-10T07:58:55.496Z"
   },
   {
    "duration": 0,
    "start_time": "2025-08-10T07:58:55.497Z"
   },
   {
    "duration": 1424,
    "start_time": "2025-08-10T07:59:46.730Z"
   },
   {
    "duration": 13,
    "start_time": "2025-08-10T08:00:38.105Z"
   },
   {
    "duration": 9932,
    "start_time": "2025-08-10T08:01:08.710Z"
   },
   {
    "duration": 133,
    "start_time": "2025-08-10T08:01:18.644Z"
   },
   {
    "duration": 86,
    "start_time": "2025-08-10T08:11:21.829Z"
   },
   {
    "duration": 25,
    "start_time": "2025-08-10T08:18:37.700Z"
   },
   {
    "duration": 121,
    "start_time": "2025-08-10T08:19:14.080Z"
   },
   {
    "duration": 13,
    "start_time": "2025-08-10T08:27:33.681Z"
   },
   {
    "duration": 14,
    "start_time": "2025-08-10T08:33:40.516Z"
   },
   {
    "duration": 14,
    "start_time": "2025-08-10T08:35:34.415Z"
   },
   {
    "duration": 13,
    "start_time": "2025-08-10T08:35:37.224Z"
   },
   {
    "duration": 226,
    "start_time": "2025-08-10T08:43:01.252Z"
   },
   {
    "duration": 183,
    "start_time": "2025-08-10T08:43:17.972Z"
   },
   {
    "duration": 281,
    "start_time": "2025-08-10T08:44:04.409Z"
   },
   {
    "duration": 210,
    "start_time": "2025-08-10T08:44:30.600Z"
   },
   {
    "duration": 32,
    "start_time": "2025-08-10T08:47:18.013Z"
   },
   {
    "duration": 163,
    "start_time": "2025-08-10T08:49:23.350Z"
   },
   {
    "duration": 33,
    "start_time": "2025-08-10T08:49:31.423Z"
   },
   {
    "duration": 226,
    "start_time": "2025-08-10T08:54:48.794Z"
   },
   {
    "duration": 171,
    "start_time": "2025-08-10T08:57:01.194Z"
   },
   {
    "duration": 247,
    "start_time": "2025-08-10T08:57:44.640Z"
   },
   {
    "duration": 13,
    "start_time": "2025-08-10T08:58:11.662Z"
   },
   {
    "duration": 9,
    "start_time": "2025-08-10T09:04:57.050Z"
   },
   {
    "duration": 301,
    "start_time": "2025-08-10T09:05:08.008Z"
   },
   {
    "duration": 173,
    "start_time": "2025-08-10T09:05:28.048Z"
   },
   {
    "duration": 31,
    "start_time": "2025-08-10T09:05:46.529Z"
   },
   {
    "duration": 25,
    "start_time": "2025-08-10T09:06:12.368Z"
   },
   {
    "duration": 20,
    "start_time": "2025-08-10T09:28:45.306Z"
   },
   {
    "duration": 2519,
    "start_time": "2025-08-10T09:31:26.726Z"
   },
   {
    "duration": 11,
    "start_time": "2025-08-10T09:31:58.141Z"
   },
   {
    "duration": 20,
    "start_time": "2025-08-10T09:32:15.486Z"
   },
   {
    "duration": 85,
    "start_time": "2025-08-10T09:33:18.658Z"
   },
   {
    "duration": 1434,
    "start_time": "2025-08-10T09:34:07.844Z"
   },
   {
    "duration": 26,
    "start_time": "2025-08-10T09:34:28.824Z"
   },
   {
    "duration": 32,
    "start_time": "2025-08-10T09:34:52.963Z"
   },
   {
    "duration": 34,
    "start_time": "2025-08-10T09:35:05.464Z"
   },
   {
    "duration": 32,
    "start_time": "2025-08-10T09:36:06.378Z"
   },
   {
    "duration": 33,
    "start_time": "2025-08-10T09:36:37.168Z"
   },
   {
    "duration": 1267,
    "start_time": "2025-08-10T09:37:06.723Z"
   },
   {
    "duration": 159,
    "start_time": "2025-08-10T09:37:52.622Z"
   },
   {
    "duration": 1425,
    "start_time": "2025-08-10T09:38:10.591Z"
   },
   {
    "duration": 32,
    "start_time": "2025-08-10T09:38:48.381Z"
   },
   {
    "duration": 39,
    "start_time": "2025-08-10T09:39:11.396Z"
   },
   {
    "duration": 41,
    "start_time": "2025-08-10T09:41:16.387Z"
   },
   {
    "duration": 42,
    "start_time": "2025-08-10T09:43:23.547Z"
   },
   {
    "duration": 33,
    "start_time": "2025-08-10T09:43:44.722Z"
   },
   {
    "duration": 23,
    "start_time": "2025-08-10T09:45:36.611Z"
   },
   {
    "duration": 43,
    "start_time": "2025-08-10T09:45:43.301Z"
   },
   {
    "duration": 49,
    "start_time": "2025-08-10T09:45:59.542Z"
   },
   {
    "duration": 375,
    "start_time": "2025-08-10T09:46:23.171Z"
   },
   {
    "duration": 52,
    "start_time": "2025-08-10T09:48:04.851Z"
   },
   {
    "duration": 58,
    "start_time": "2025-08-10T09:50:14.950Z"
   },
   {
    "duration": 36,
    "start_time": "2025-08-10T09:57:20.071Z"
   },
   {
    "duration": 39,
    "start_time": "2025-08-10T09:57:59.251Z"
   },
   {
    "duration": 97,
    "start_time": "2025-08-10T09:58:59.392Z"
   },
   {
    "duration": 83,
    "start_time": "2025-08-10T09:59:22.151Z"
   },
   {
    "duration": 106,
    "start_time": "2025-08-10T09:59:43.593Z"
   },
   {
    "duration": 87,
    "start_time": "2025-08-10T10:00:00.626Z"
   },
   {
    "duration": 52,
    "start_time": "2025-08-10T10:00:25.848Z"
   },
   {
    "duration": 42,
    "start_time": "2025-08-10T10:00:40.507Z"
   },
   {
    "duration": 75,
    "start_time": "2025-08-10T10:03:33.815Z"
   },
   {
    "duration": 71,
    "start_time": "2025-08-10T10:04:28.189Z"
   },
   {
    "duration": 71,
    "start_time": "2025-08-10T10:06:31.926Z"
   },
   {
    "duration": 47,
    "start_time": "2025-08-11T07:54:10.569Z"
   },
   {
    "duration": 396,
    "start_time": "2025-08-11T07:54:19.887Z"
   },
   {
    "duration": 77,
    "start_time": "2025-08-11T07:54:20.285Z"
   },
   {
    "duration": 14,
    "start_time": "2025-08-11T07:54:20.364Z"
   },
   {
    "duration": 8,
    "start_time": "2025-08-11T07:54:20.379Z"
   },
   {
    "duration": 78,
    "start_time": "2025-08-11T07:54:20.389Z"
   },
   {
    "duration": 0,
    "start_time": "2025-08-11T07:54:20.469Z"
   },
   {
    "duration": 0,
    "start_time": "2025-08-11T07:54:20.470Z"
   },
   {
    "duration": 0,
    "start_time": "2025-08-11T07:54:20.471Z"
   },
   {
    "duration": 0,
    "start_time": "2025-08-11T07:54:20.472Z"
   },
   {
    "duration": 0,
    "start_time": "2025-08-11T07:54:20.473Z"
   },
   {
    "duration": 0,
    "start_time": "2025-08-11T07:54:20.474Z"
   },
   {
    "duration": 0,
    "start_time": "2025-08-11T07:54:20.475Z"
   },
   {
    "duration": 0,
    "start_time": "2025-08-11T07:54:20.476Z"
   },
   {
    "duration": 0,
    "start_time": "2025-08-11T07:54:20.478Z"
   },
   {
    "duration": 0,
    "start_time": "2025-08-11T07:54:20.479Z"
   },
   {
    "duration": 0,
    "start_time": "2025-08-11T07:54:20.480Z"
   },
   {
    "duration": 0,
    "start_time": "2025-08-11T07:54:20.481Z"
   },
   {
    "duration": 1423,
    "start_time": "2025-08-11T07:54:46.113Z"
   },
   {
    "duration": 15,
    "start_time": "2025-08-11T07:54:53.142Z"
   },
   {
    "duration": 16,
    "start_time": "2025-08-11T07:54:54.347Z"
   },
   {
    "duration": 9424,
    "start_time": "2025-08-11T07:54:56.501Z"
   },
   {
    "duration": 17,
    "start_time": "2025-08-11T07:55:05.928Z"
   },
   {
    "duration": 125,
    "start_time": "2025-08-11T07:55:05.947Z"
   },
   {
    "duration": 219,
    "start_time": "2025-08-11T07:55:16.863Z"
   },
   {
    "duration": 4,
    "start_time": "2025-08-11T07:55:39.055Z"
   },
   {
    "duration": 90,
    "start_time": "2025-08-11T07:56:16.507Z"
   },
   {
    "duration": 79,
    "start_time": "2025-08-11T07:56:23.122Z"
   },
   {
    "duration": 83,
    "start_time": "2025-08-11T07:56:28.267Z"
   },
   {
    "duration": 87,
    "start_time": "2025-08-11T07:56:38.177Z"
   },
   {
    "duration": 29,
    "start_time": "2025-08-11T07:56:50.535Z"
   },
   {
    "duration": 1466,
    "start_time": "2025-08-11T08:12:13.117Z"
   },
   {
    "duration": 40,
    "start_time": "2025-08-11T08:12:35.496Z"
   },
   {
    "duration": 10,
    "start_time": "2025-08-11T08:32:55.618Z"
   },
   {
    "duration": 17,
    "start_time": "2025-08-11T08:33:05.942Z"
   },
   {
    "duration": 22,
    "start_time": "2025-08-11T08:33:11.599Z"
   },
   {
    "duration": 36,
    "start_time": "2025-08-11T08:39:53.872Z"
   },
   {
    "duration": 84,
    "start_time": "2025-08-11T08:48:31.558Z"
   },
   {
    "duration": 6,
    "start_time": "2025-08-11T08:48:39.672Z"
   },
   {
    "duration": 5,
    "start_time": "2025-08-11T08:54:55.019Z"
   },
   {
    "duration": 198,
    "start_time": "2025-08-11T08:55:04.362Z"
   },
   {
    "duration": 56,
    "start_time": "2025-08-11T08:55:35.719Z"
   },
   {
    "duration": 56,
    "start_time": "2025-08-11T08:56:32.399Z"
   },
   {
    "duration": 52,
    "start_time": "2025-08-11T08:57:13.002Z"
   },
   {
    "duration": 63,
    "start_time": "2025-08-11T08:58:31.539Z"
   },
   {
    "duration": 71,
    "start_time": "2025-08-11T08:59:42.272Z"
   },
   {
    "duration": 84,
    "start_time": "2025-08-11T09:00:08.471Z"
   },
   {
    "duration": 75,
    "start_time": "2025-08-11T09:00:31.593Z"
   },
   {
    "duration": 88,
    "start_time": "2025-08-11T09:02:55.249Z"
   },
   {
    "duration": 429,
    "start_time": "2025-08-11T09:03:05.547Z"
   },
   {
    "duration": 81,
    "start_time": "2025-08-11T09:03:05.978Z"
   },
   {
    "duration": 14,
    "start_time": "2025-08-11T09:03:06.061Z"
   },
   {
    "duration": 34,
    "start_time": "2025-08-11T09:03:06.077Z"
   },
   {
    "duration": 73,
    "start_time": "2025-08-11T09:03:06.113Z"
   },
   {
    "duration": 0,
    "start_time": "2025-08-11T09:03:06.188Z"
   },
   {
    "duration": 0,
    "start_time": "2025-08-11T09:03:06.188Z"
   },
   {
    "duration": 0,
    "start_time": "2025-08-11T09:03:06.190Z"
   },
   {
    "duration": 0,
    "start_time": "2025-08-11T09:03:06.190Z"
   },
   {
    "duration": 0,
    "start_time": "2025-08-11T09:03:06.191Z"
   },
   {
    "duration": 0,
    "start_time": "2025-08-11T09:03:06.193Z"
   },
   {
    "duration": 0,
    "start_time": "2025-08-11T09:03:06.193Z"
   },
   {
    "duration": 0,
    "start_time": "2025-08-11T09:03:06.195Z"
   },
   {
    "duration": 0,
    "start_time": "2025-08-11T09:03:06.196Z"
   },
   {
    "duration": 0,
    "start_time": "2025-08-11T09:03:06.197Z"
   },
   {
    "duration": 0,
    "start_time": "2025-08-11T09:03:06.198Z"
   },
   {
    "duration": 0,
    "start_time": "2025-08-11T09:03:06.199Z"
   },
   {
    "duration": 1473,
    "start_time": "2025-08-11T09:03:19.164Z"
   },
   {
    "duration": 14,
    "start_time": "2025-08-11T09:03:20.802Z"
   },
   {
    "duration": 17,
    "start_time": "2025-08-11T09:03:24.482Z"
   },
   {
    "duration": 2961,
    "start_time": "2025-08-11T09:03:25.264Z"
   },
   {
    "duration": 17,
    "start_time": "2025-08-11T09:03:28.876Z"
   },
   {
    "duration": 109,
    "start_time": "2025-08-11T09:03:29.941Z"
   },
   {
    "duration": 9,
    "start_time": "2025-08-11T09:03:36.924Z"
   },
   {
    "duration": 209,
    "start_time": "2025-08-11T09:03:45.003Z"
   },
   {
    "duration": 73,
    "start_time": "2025-08-11T09:03:51.284Z"
   },
   {
    "duration": 78,
    "start_time": "2025-08-11T09:04:15.584Z"
   },
   {
    "duration": 79,
    "start_time": "2025-08-11T09:07:47.285Z"
   },
   {
    "duration": 69,
    "start_time": "2025-08-11T09:07:59.582Z"
   },
   {
    "duration": 2230,
    "start_time": "2025-08-11T09:09:13.741Z"
   },
   {
    "duration": 76,
    "start_time": "2025-08-11T09:09:37.488Z"
   },
   {
    "duration": 89,
    "start_time": "2025-08-11T09:09:54.686Z"
   },
   {
    "duration": 80,
    "start_time": "2025-08-11T09:10:52.183Z"
   },
   {
    "duration": 90,
    "start_time": "2025-08-11T11:43:45.596Z"
   },
   {
    "duration": 14,
    "start_time": "2025-08-11T11:43:52.932Z"
   },
   {
    "duration": 62,
    "start_time": "2025-08-11T11:43:54.086Z"
   },
   {
    "duration": 463,
    "start_time": "2025-08-11T11:44:01.830Z"
   },
   {
    "duration": 67,
    "start_time": "2025-08-11T11:44:02.296Z"
   },
   {
    "duration": 67,
    "start_time": "2025-08-11T11:44:02.365Z"
   },
   {
    "duration": 71,
    "start_time": "2025-08-11T11:44:02.435Z"
   },
   {
    "duration": 124,
    "start_time": "2025-08-11T11:44:02.508Z"
   },
   {
    "duration": 0,
    "start_time": "2025-08-11T11:44:02.646Z"
   },
   {
    "duration": 0,
    "start_time": "2025-08-11T11:44:02.648Z"
   },
   {
    "duration": 0,
    "start_time": "2025-08-11T11:44:02.649Z"
   },
   {
    "duration": 0,
    "start_time": "2025-08-11T11:44:02.650Z"
   },
   {
    "duration": 0,
    "start_time": "2025-08-11T11:44:02.651Z"
   },
   {
    "duration": 0,
    "start_time": "2025-08-11T11:44:02.652Z"
   },
   {
    "duration": 0,
    "start_time": "2025-08-11T11:44:02.653Z"
   },
   {
    "duration": 0,
    "start_time": "2025-08-11T11:44:02.654Z"
   },
   {
    "duration": 0,
    "start_time": "2025-08-11T11:44:02.655Z"
   },
   {
    "duration": 0,
    "start_time": "2025-08-11T11:44:02.657Z"
   },
   {
    "duration": 0,
    "start_time": "2025-08-11T11:44:02.658Z"
   },
   {
    "duration": 0,
    "start_time": "2025-08-11T11:44:02.659Z"
   },
   {
    "duration": 0,
    "start_time": "2025-08-11T11:44:02.660Z"
   },
   {
    "duration": 9,
    "start_time": "2025-08-11T11:44:29.351Z"
   },
   {
    "duration": 10,
    "start_time": "2025-08-11T11:44:31.609Z"
   },
   {
    "duration": 12,
    "start_time": "2025-08-11T11:44:32.125Z"
   },
   {
    "duration": 1713,
    "start_time": "2025-08-11T11:44:38.164Z"
   },
   {
    "duration": 15,
    "start_time": "2025-08-11T11:44:45.684Z"
   },
   {
    "duration": 17,
    "start_time": "2025-08-11T11:44:46.947Z"
   },
   {
    "duration": 10275,
    "start_time": "2025-08-11T11:44:49.034Z"
   },
   {
    "duration": 17,
    "start_time": "2025-08-11T11:44:59.312Z"
   },
   {
    "duration": 138,
    "start_time": "2025-08-11T11:44:59.331Z"
   },
   {
    "duration": 13,
    "start_time": "2025-08-11T11:45:08.472Z"
   },
   {
    "duration": 203,
    "start_time": "2025-08-11T11:45:09.273Z"
   },
   {
    "duration": 185,
    "start_time": "2025-08-11T11:45:17.289Z"
   },
   {
    "duration": 183,
    "start_time": "2025-08-11T11:45:25.986Z"
   },
   {
    "duration": 16,
    "start_time": "2025-08-11T11:45:56.346Z"
   },
   {
    "duration": 16,
    "start_time": "2025-08-11T11:50:47.931Z"
   },
   {
    "duration": 11,
    "start_time": "2025-08-11T11:52:08.171Z"
   },
   {
    "duration": 12,
    "start_time": "2025-08-11T11:52:12.146Z"
   },
   {
    "duration": 30,
    "start_time": "2025-08-11T11:52:52.537Z"
   },
   {
    "duration": 11,
    "start_time": "2025-08-11T11:54:28.891Z"
   },
   {
    "duration": 18,
    "start_time": "2025-08-11T11:55:31.752Z"
   },
   {
    "duration": 11,
    "start_time": "2025-08-11T11:56:13.301Z"
   },
   {
    "duration": 13,
    "start_time": "2025-08-11T11:56:44.696Z"
   },
   {
    "duration": 22,
    "start_time": "2025-08-11T11:56:58.093Z"
   },
   {
    "duration": 2583,
    "start_time": "2025-08-11T11:59:35.417Z"
   },
   {
    "duration": 77,
    "start_time": "2025-08-11T11:59:42.272Z"
   },
   {
    "duration": 31,
    "start_time": "2025-08-11T12:05:01.966Z"
   },
   {
    "duration": 11,
    "start_time": "2025-08-11T12:05:09.181Z"
   },
   {
    "duration": 10,
    "start_time": "2025-08-11T12:05:37.975Z"
   },
   {
    "duration": 16,
    "start_time": "2025-08-11T12:05:59.456Z"
   },
   {
    "duration": 12,
    "start_time": "2025-08-11T12:06:17.854Z"
   },
   {
    "duration": 10,
    "start_time": "2025-08-11T12:09:27.971Z"
   },
   {
    "duration": 382,
    "start_time": "2025-08-12T10:02:29.007Z"
   },
   {
    "duration": 108,
    "start_time": "2025-08-12T10:02:29.391Z"
   },
   {
    "duration": 22,
    "start_time": "2025-08-12T10:02:29.501Z"
   },
   {
    "duration": 13,
    "start_time": "2025-08-12T10:02:29.525Z"
   },
   {
    "duration": 9,
    "start_time": "2025-08-12T10:02:29.540Z"
   },
   {
    "duration": 9,
    "start_time": "2025-08-12T10:02:29.562Z"
   },
   {
    "duration": 495,
    "start_time": "2025-08-12T10:02:29.573Z"
   },
   {
    "duration": 1680,
    "start_time": "2025-08-12T10:02:30.070Z"
   },
   {
    "duration": 21,
    "start_time": "2025-08-12T10:02:31.752Z"
   },
   {
    "duration": 44,
    "start_time": "2025-08-12T10:02:31.775Z"
   },
   {
    "duration": 8957,
    "start_time": "2025-08-12T10:02:31.821Z"
   },
   {
    "duration": 73,
    "start_time": "2025-08-12T10:02:40.780Z"
   },
   {
    "duration": 211,
    "start_time": "2025-08-12T10:02:40.862Z"
   },
   {
    "duration": 111,
    "start_time": "2025-08-12T10:02:41.076Z"
   },
   {
    "duration": 21,
    "start_time": "2025-08-12T10:02:41.189Z"
   },
   {
    "duration": 12,
    "start_time": "2025-08-12T10:02:41.212Z"
   },
   {
    "duration": 37,
    "start_time": "2025-08-12T10:02:41.226Z"
   },
   {
    "duration": 101,
    "start_time": "2025-08-12T10:08:36.174Z"
   },
   {
    "duration": 13,
    "start_time": "2025-08-12T10:08:47.577Z"
   },
   {
    "duration": 25,
    "start_time": "2025-08-12T10:10:13.829Z"
   },
   {
    "duration": 15,
    "start_time": "2025-08-12T10:11:33.054Z"
   },
   {
    "duration": 27,
    "start_time": "2025-08-12T10:12:28.873Z"
   },
   {
    "duration": 5,
    "start_time": "2025-08-12T10:35:23.766Z"
   },
   {
    "duration": 1584,
    "start_time": "2025-08-12T10:48:48.528Z"
   },
   {
    "duration": 1397,
    "start_time": "2025-08-12T10:49:21.412Z"
   },
   {
    "duration": 1521,
    "start_time": "2025-08-12T10:53:09.916Z"
   },
   {
    "duration": 61,
    "start_time": "2025-08-12T10:53:30.175Z"
   },
   {
    "duration": 57,
    "start_time": "2025-08-12T10:54:49.398Z"
   },
   {
    "duration": 58,
    "start_time": "2025-08-12T10:56:07.286Z"
   },
   {
    "duration": 58,
    "start_time": "2025-08-12T10:56:24.089Z"
   },
   {
    "duration": 54,
    "start_time": "2025-08-12T10:57:22.861Z"
   },
   {
    "duration": 370,
    "start_time": "2025-08-12T11:00:09.996Z"
   },
   {
    "duration": 74,
    "start_time": "2025-08-12T11:00:10.368Z"
   },
   {
    "duration": 15,
    "start_time": "2025-08-12T11:00:10.444Z"
   },
   {
    "duration": 8,
    "start_time": "2025-08-12T11:00:10.461Z"
   },
   {
    "duration": 10,
    "start_time": "2025-08-12T11:00:10.472Z"
   },
   {
    "duration": 10,
    "start_time": "2025-08-12T11:00:10.484Z"
   },
   {
    "duration": 472,
    "start_time": "2025-08-12T11:00:10.495Z"
   },
   {
    "duration": 7286,
    "start_time": "2025-08-12T11:00:10.969Z"
   },
   {
    "duration": 14,
    "start_time": "2025-08-12T11:00:18.262Z"
   },
   {
    "duration": 14,
    "start_time": "2025-08-12T11:00:18.277Z"
   },
   {
    "duration": 2670,
    "start_time": "2025-08-12T11:00:18.292Z"
   },
   {
    "duration": 68,
    "start_time": "2025-08-12T11:00:20.964Z"
   },
   {
    "duration": 223,
    "start_time": "2025-08-12T11:00:21.034Z"
   },
   {
    "duration": 135,
    "start_time": "2025-08-12T11:00:21.259Z"
   },
   {
    "duration": 1,
    "start_time": "2025-08-12T11:00:21.395Z"
   },
   {
    "duration": 0,
    "start_time": "2025-08-12T11:00:21.396Z"
   },
   {
    "duration": 0,
    "start_time": "2025-08-12T11:00:21.397Z"
   },
   {
    "duration": 0,
    "start_time": "2025-08-12T11:00:21.398Z"
   },
   {
    "duration": 71,
    "start_time": "2025-08-12T11:01:52.033Z"
   },
   {
    "duration": 403,
    "start_time": "2025-08-12T11:02:04.337Z"
   },
   {
    "duration": 97,
    "start_time": "2025-08-12T11:02:04.743Z"
   },
   {
    "duration": 13,
    "start_time": "2025-08-12T11:02:04.842Z"
   },
   {
    "duration": 18,
    "start_time": "2025-08-12T11:02:04.856Z"
   },
   {
    "duration": 38,
    "start_time": "2025-08-12T11:02:04.876Z"
   },
   {
    "duration": 13,
    "start_time": "2025-08-12T11:02:04.916Z"
   },
   {
    "duration": 466,
    "start_time": "2025-08-12T11:02:04.931Z"
   },
   {
    "duration": 1369,
    "start_time": "2025-08-12T11:02:05.399Z"
   },
   {
    "duration": 13,
    "start_time": "2025-08-12T11:02:06.770Z"
   },
   {
    "duration": 41,
    "start_time": "2025-08-12T11:02:06.785Z"
   },
   {
    "duration": 2599,
    "start_time": "2025-08-12T11:02:06.828Z"
   },
   {
    "duration": 76,
    "start_time": "2025-08-12T11:02:09.429Z"
   },
   {
    "duration": 190,
    "start_time": "2025-08-12T11:02:09.507Z"
   },
   {
    "duration": 78,
    "start_time": "2025-08-12T11:02:09.699Z"
   },
   {
    "duration": 18,
    "start_time": "2025-08-12T11:02:09.778Z"
   },
   {
    "duration": 24,
    "start_time": "2025-08-12T11:02:09.798Z"
   },
   {
    "duration": 48,
    "start_time": "2025-08-12T11:02:09.823Z"
   },
   {
    "duration": 5,
    "start_time": "2025-08-12T11:02:09.873Z"
   },
   {
    "duration": 46,
    "start_time": "2025-08-13T09:06:26.394Z"
   },
   {
    "duration": 380,
    "start_time": "2025-08-13T09:06:32.873Z"
   },
   {
    "duration": 59,
    "start_time": "2025-08-13T09:06:33.256Z"
   },
   {
    "duration": 15,
    "start_time": "2025-08-13T09:06:33.316Z"
   },
   {
    "duration": 11,
    "start_time": "2025-08-13T09:06:33.332Z"
   },
   {
    "duration": 9,
    "start_time": "2025-08-13T09:06:33.346Z"
   },
   {
    "duration": 8,
    "start_time": "2025-08-13T09:06:33.356Z"
   },
   {
    "duration": 494,
    "start_time": "2025-08-13T09:06:33.366Z"
   },
   {
    "duration": 1568,
    "start_time": "2025-08-13T09:06:33.861Z"
   },
   {
    "duration": 19,
    "start_time": "2025-08-13T09:06:35.430Z"
   },
   {
    "duration": 15,
    "start_time": "2025-08-13T09:06:35.451Z"
   },
   {
    "duration": 8905,
    "start_time": "2025-08-13T09:06:35.467Z"
   },
   {
    "duration": 78,
    "start_time": "2025-08-13T09:06:44.374Z"
   },
   {
    "duration": 194,
    "start_time": "2025-08-13T09:06:44.454Z"
   },
   {
    "duration": 42,
    "start_time": "2025-08-13T09:06:44.650Z"
   },
   {
    "duration": 91,
    "start_time": "2025-08-13T09:06:44.693Z"
   },
   {
    "duration": 20,
    "start_time": "2025-08-13T09:06:44.786Z"
   },
   {
    "duration": 39,
    "start_time": "2025-08-13T09:06:44.807Z"
   },
   {
    "duration": 29,
    "start_time": "2025-08-13T09:06:44.847Z"
   },
   {
    "duration": 5,
    "start_time": "2025-08-13T09:06:44.877Z"
   },
   {
    "duration": 82,
    "start_time": "2025-08-13T09:08:27.575Z"
   },
   {
    "duration": 14,
    "start_time": "2025-08-13T09:10:07.484Z"
   },
   {
    "duration": 62,
    "start_time": "2025-08-13T09:10:15.403Z"
   },
   {
    "duration": 22,
    "start_time": "2025-08-13T09:12:18.695Z"
   },
   {
    "duration": 56,
    "start_time": "2025-08-13T09:12:23.535Z"
   },
   {
    "duration": 13,
    "start_time": "2025-08-13T09:12:39.963Z"
   },
   {
    "duration": 18,
    "start_time": "2025-08-13T09:12:44.175Z"
   },
   {
    "duration": 5,
    "start_time": "2025-08-13T09:12:52.777Z"
   },
   {
    "duration": 365,
    "start_time": "2025-08-14T08:28:22.840Z"
   },
   {
    "duration": 93,
    "start_time": "2025-08-14T08:28:23.207Z"
   },
   {
    "duration": 14,
    "start_time": "2025-08-14T08:28:23.301Z"
   },
   {
    "duration": 8,
    "start_time": "2025-08-14T08:28:23.317Z"
   },
   {
    "duration": 24,
    "start_time": "2025-08-14T08:28:23.327Z"
   },
   {
    "duration": 35,
    "start_time": "2025-08-14T08:28:23.353Z"
   },
   {
    "duration": 438,
    "start_time": "2025-08-14T08:28:23.390Z"
   },
   {
    "duration": 1605,
    "start_time": "2025-08-14T08:28:23.831Z"
   },
   {
    "duration": 14,
    "start_time": "2025-08-14T08:28:25.437Z"
   },
   {
    "duration": 9393,
    "start_time": "2025-08-14T08:28:25.453Z"
   },
   {
    "duration": 88,
    "start_time": "2025-08-14T08:28:34.847Z"
   },
   {
    "duration": 221,
    "start_time": "2025-08-14T08:28:34.938Z"
   },
   {
    "duration": 55,
    "start_time": "2025-08-14T08:28:35.161Z"
   },
   {
    "duration": 53,
    "start_time": "2025-08-14T08:28:35.218Z"
   },
   {
    "duration": 35,
    "start_time": "2025-08-14T08:28:35.272Z"
   },
   {
    "duration": 20,
    "start_time": "2025-08-14T08:28:35.308Z"
   },
   {
    "duration": 21,
    "start_time": "2025-08-14T08:28:35.329Z"
   },
   {
    "duration": 35,
    "start_time": "2025-08-14T08:28:35.352Z"
   },
   {
    "duration": 4,
    "start_time": "2025-08-14T08:35:50.322Z"
   },
   {
    "duration": 5,
    "start_time": "2025-08-14T08:36:36.541Z"
   },
   {
    "duration": 64,
    "start_time": "2025-08-14T08:37:20.109Z"
   },
   {
    "duration": 79,
    "start_time": "2025-08-14T08:38:06.229Z"
   },
   {
    "duration": 89,
    "start_time": "2025-08-14T08:39:44.704Z"
   },
   {
    "duration": 117,
    "start_time": "2025-08-14T08:43:20.037Z"
   },
   {
    "duration": 90,
    "start_time": "2025-08-14T08:43:27.502Z"
   },
   {
    "duration": 5,
    "start_time": "2025-08-14T08:47:40.861Z"
   },
   {
    "duration": 28,
    "start_time": "2025-08-14T08:47:44.485Z"
   },
   {
    "duration": 83,
    "start_time": "2025-08-14T08:48:32.042Z"
   },
   {
    "duration": 97,
    "start_time": "2025-08-14T08:48:56.509Z"
   },
   {
    "duration": 22,
    "start_time": "2025-08-14T08:49:20.882Z"
   },
   {
    "duration": 20,
    "start_time": "2025-08-14T08:49:31.041Z"
   },
   {
    "duration": 31,
    "start_time": "2025-08-14T08:51:17.385Z"
   },
   {
    "duration": 28,
    "start_time": "2025-08-14T08:51:30.503Z"
   },
   {
    "duration": 19,
    "start_time": "2025-08-14T08:51:37.401Z"
   },
   {
    "duration": 21,
    "start_time": "2025-08-14T08:52:03.748Z"
   },
   {
    "duration": 15,
    "start_time": "2025-08-14T08:52:09.160Z"
   },
   {
    "duration": 30,
    "start_time": "2025-08-14T08:52:25.484Z"
   },
   {
    "duration": 14,
    "start_time": "2025-08-14T08:53:17.941Z"
   },
   {
    "duration": 90,
    "start_time": "2025-08-14T08:53:36.969Z"
   },
   {
    "duration": 13,
    "start_time": "2025-08-14T08:53:44.021Z"
   },
   {
    "duration": 60,
    "start_time": "2025-08-14T08:53:54.139Z"
   },
   {
    "duration": 396,
    "start_time": "2025-08-14T08:54:02.322Z"
   },
   {
    "duration": 1834,
    "start_time": "2025-08-14T08:54:10.302Z"
   },
   {
    "duration": 12,
    "start_time": "2025-08-14T08:54:23.561Z"
   },
   {
    "duration": 50,
    "start_time": "2025-08-14T08:54:26.783Z"
   },
   {
    "duration": 3146,
    "start_time": "2025-08-14T08:54:36.889Z"
   },
   {
    "duration": 100,
    "start_time": "2025-08-14T08:54:49.041Z"
   },
   {
    "duration": 15,
    "start_time": "2025-08-14T08:54:54.441Z"
   },
   {
    "duration": 98,
    "start_time": "2025-08-14T08:54:57.402Z"
   },
   {
    "duration": 1664,
    "start_time": "2025-08-14T08:57:55.141Z"
   },
   {
    "duration": 1479,
    "start_time": "2025-08-14T08:58:16.641Z"
   },
   {
    "duration": 15,
    "start_time": "2025-08-14T08:58:27.738Z"
   },
   {
    "duration": 1540,
    "start_time": "2025-08-14T08:59:41.541Z"
   },
   {
    "duration": 13,
    "start_time": "2025-08-14T09:01:28.003Z"
   },
   {
    "duration": 10,
    "start_time": "2025-08-14T09:01:35.114Z"
   },
   {
    "duration": 12,
    "start_time": "2025-08-14T09:01:56.141Z"
   },
   {
    "duration": 27,
    "start_time": "2025-08-14T09:10:42.967Z"
   },
   {
    "duration": 17,
    "start_time": "2025-08-14T09:11:09.080Z"
   },
   {
    "duration": 10,
    "start_time": "2025-08-14T09:11:43.303Z"
   },
   {
    "duration": 10,
    "start_time": "2025-08-14T09:12:46.448Z"
   },
   {
    "duration": 12,
    "start_time": "2025-08-14T09:13:10.704Z"
   },
   {
    "duration": 10,
    "start_time": "2025-08-14T09:15:24.963Z"
   },
   {
    "duration": 482,
    "start_time": "2025-08-14T09:16:03.072Z"
   },
   {
    "duration": 115,
    "start_time": "2025-08-14T09:16:03.556Z"
   },
   {
    "duration": 21,
    "start_time": "2025-08-14T09:16:03.672Z"
   },
   {
    "duration": 66,
    "start_time": "2025-08-14T09:16:03.695Z"
   },
   {
    "duration": 12,
    "start_time": "2025-08-14T09:16:03.762Z"
   },
   {
    "duration": 25,
    "start_time": "2025-08-14T09:16:03.775Z"
   },
   {
    "duration": 534,
    "start_time": "2025-08-14T09:16:03.803Z"
   },
   {
    "duration": 1930,
    "start_time": "2025-08-14T09:16:04.339Z"
   },
   {
    "duration": 149,
    "start_time": "2025-08-14T09:16:06.281Z"
   },
   {
    "duration": 1,
    "start_time": "2025-08-14T09:16:06.432Z"
   },
   {
    "duration": 0,
    "start_time": "2025-08-14T09:16:06.434Z"
   },
   {
    "duration": 0,
    "start_time": "2025-08-14T09:16:06.436Z"
   },
   {
    "duration": 0,
    "start_time": "2025-08-14T09:16:06.437Z"
   },
   {
    "duration": 0,
    "start_time": "2025-08-14T09:16:06.438Z"
   },
   {
    "duration": 0,
    "start_time": "2025-08-14T09:16:06.439Z"
   },
   {
    "duration": 0,
    "start_time": "2025-08-14T09:16:06.440Z"
   },
   {
    "duration": 0,
    "start_time": "2025-08-14T09:16:06.441Z"
   },
   {
    "duration": 0,
    "start_time": "2025-08-14T09:16:06.442Z"
   },
   {
    "duration": 0,
    "start_time": "2025-08-14T09:16:06.444Z"
   },
   {
    "duration": 0,
    "start_time": "2025-08-14T09:16:06.444Z"
   },
   {
    "duration": 0,
    "start_time": "2025-08-14T09:16:06.445Z"
   },
   {
    "duration": 0,
    "start_time": "2025-08-14T09:16:06.446Z"
   },
   {
    "duration": 16,
    "start_time": "2025-08-14T09:17:55.557Z"
   },
   {
    "duration": 13,
    "start_time": "2025-08-14T09:18:13.198Z"
   },
   {
    "duration": 11,
    "start_time": "2025-08-14T09:24:34.237Z"
   },
   {
    "duration": 435,
    "start_time": "2025-08-14T09:24:42.705Z"
   },
   {
    "duration": 74,
    "start_time": "2025-08-14T09:24:43.142Z"
   },
   {
    "duration": 15,
    "start_time": "2025-08-14T09:24:43.218Z"
   },
   {
    "duration": 10,
    "start_time": "2025-08-14T09:24:43.235Z"
   },
   {
    "duration": 12,
    "start_time": "2025-08-14T09:24:43.247Z"
   },
   {
    "duration": 48,
    "start_time": "2025-08-14T09:24:43.260Z"
   },
   {
    "duration": 471,
    "start_time": "2025-08-14T09:24:43.310Z"
   },
   {
    "duration": 1677,
    "start_time": "2025-08-14T09:24:43.790Z"
   },
   {
    "duration": 122,
    "start_time": "2025-08-14T09:24:45.476Z"
   },
   {
    "duration": 0,
    "start_time": "2025-08-14T09:24:45.602Z"
   },
   {
    "duration": 0,
    "start_time": "2025-08-14T09:24:45.604Z"
   },
   {
    "duration": 0,
    "start_time": "2025-08-14T09:24:45.606Z"
   },
   {
    "duration": 0,
    "start_time": "2025-08-14T09:24:45.608Z"
   },
   {
    "duration": 0,
    "start_time": "2025-08-14T09:24:45.609Z"
   },
   {
    "duration": 1,
    "start_time": "2025-08-14T09:24:45.610Z"
   },
   {
    "duration": 0,
    "start_time": "2025-08-14T09:24:45.612Z"
   },
   {
    "duration": 0,
    "start_time": "2025-08-14T09:24:45.614Z"
   },
   {
    "duration": 0,
    "start_time": "2025-08-14T09:24:45.615Z"
   },
   {
    "duration": 0,
    "start_time": "2025-08-14T09:24:45.617Z"
   },
   {
    "duration": 0,
    "start_time": "2025-08-14T09:24:45.618Z"
   },
   {
    "duration": 0,
    "start_time": "2025-08-14T09:24:45.620Z"
   },
   {
    "duration": 0,
    "start_time": "2025-08-14T09:24:45.621Z"
   },
   {
    "duration": 9,
    "start_time": "2025-08-14T09:28:53.327Z"
   },
   {
    "duration": 16,
    "start_time": "2025-08-14T09:29:21.493Z"
   },
   {
    "duration": 26,
    "start_time": "2025-08-14T09:29:50.068Z"
   },
   {
    "duration": 19,
    "start_time": "2025-08-14T09:30:01.048Z"
   },
   {
    "duration": 3184,
    "start_time": "2025-08-14T09:30:42.371Z"
   },
   {
    "duration": 128,
    "start_time": "2025-08-14T09:31:10.433Z"
   },
   {
    "duration": 456,
    "start_time": "2025-08-14T09:31:50.054Z"
   },
   {
    "duration": 3442,
    "start_time": "2025-08-14T09:31:50.514Z"
   },
   {
    "duration": 77,
    "start_time": "2025-08-14T09:31:53.958Z"
   },
   {
    "duration": 15,
    "start_time": "2025-08-14T09:31:54.037Z"
   },
   {
    "duration": 9,
    "start_time": "2025-08-14T09:31:54.053Z"
   },
   {
    "duration": 25,
    "start_time": "2025-08-14T09:31:54.063Z"
   },
   {
    "duration": 15,
    "start_time": "2025-08-14T09:31:54.090Z"
   },
   {
    "duration": 251,
    "start_time": "2025-08-14T09:31:54.108Z"
   },
   {
    "duration": 2175,
    "start_time": "2025-08-14T09:31:54.361Z"
   },
   {
    "duration": 132,
    "start_time": "2025-08-14T09:31:56.539Z"
   },
   {
    "duration": 37,
    "start_time": "2025-08-14T09:31:56.673Z"
   },
   {
    "duration": 837,
    "start_time": "2025-08-14T09:31:56.712Z"
   },
   {
    "duration": 0,
    "start_time": "2025-08-14T09:31:57.552Z"
   },
   {
    "duration": 0,
    "start_time": "2025-08-14T09:31:57.553Z"
   },
   {
    "duration": 0,
    "start_time": "2025-08-14T09:31:57.554Z"
   },
   {
    "duration": 0,
    "start_time": "2025-08-14T09:31:57.555Z"
   },
   {
    "duration": 0,
    "start_time": "2025-08-14T09:31:57.556Z"
   },
   {
    "duration": 0,
    "start_time": "2025-08-14T09:31:57.557Z"
   },
   {
    "duration": 0,
    "start_time": "2025-08-14T09:31:57.558Z"
   },
   {
    "duration": 0,
    "start_time": "2025-08-14T09:31:57.558Z"
   },
   {
    "duration": 0,
    "start_time": "2025-08-14T09:31:57.559Z"
   },
   {
    "duration": 0,
    "start_time": "2025-08-14T09:31:57.560Z"
   },
   {
    "duration": 0,
    "start_time": "2025-08-14T09:31:57.561Z"
   },
   {
    "duration": 0,
    "start_time": "2025-08-14T09:31:57.562Z"
   },
   {
    "duration": 0,
    "start_time": "2025-08-14T09:31:57.563Z"
   },
   {
    "duration": 822,
    "start_time": "2025-08-14T09:33:02.432Z"
   },
   {
    "duration": 22,
    "start_time": "2025-08-14T09:38:00.249Z"
   },
   {
    "duration": 431,
    "start_time": "2025-08-14T09:38:23.509Z"
   },
   {
    "duration": 3407,
    "start_time": "2025-08-14T09:38:23.941Z"
   },
   {
    "duration": 92,
    "start_time": "2025-08-14T09:38:27.350Z"
   },
   {
    "duration": 14,
    "start_time": "2025-08-14T09:38:27.444Z"
   },
   {
    "duration": 9,
    "start_time": "2025-08-14T09:38:27.460Z"
   },
   {
    "duration": 25,
    "start_time": "2025-08-14T09:38:27.471Z"
   },
   {
    "duration": 13,
    "start_time": "2025-08-14T09:38:27.500Z"
   },
   {
    "duration": 240,
    "start_time": "2025-08-14T09:38:27.515Z"
   },
   {
    "duration": 1682,
    "start_time": "2025-08-14T09:38:27.757Z"
   },
   {
    "duration": 106,
    "start_time": "2025-08-14T09:38:29.441Z"
   },
   {
    "duration": 137,
    "start_time": "2025-08-14T09:38:29.549Z"
   },
   {
    "duration": 0,
    "start_time": "2025-08-14T09:38:29.689Z"
   },
   {
    "duration": 0,
    "start_time": "2025-08-14T09:38:29.690Z"
   },
   {
    "duration": 0,
    "start_time": "2025-08-14T09:38:29.691Z"
   },
   {
    "duration": 0,
    "start_time": "2025-08-14T09:38:29.692Z"
   },
   {
    "duration": 0,
    "start_time": "2025-08-14T09:38:29.693Z"
   },
   {
    "duration": 0,
    "start_time": "2025-08-14T09:38:29.694Z"
   },
   {
    "duration": 0,
    "start_time": "2025-08-14T09:38:29.695Z"
   },
   {
    "duration": 0,
    "start_time": "2025-08-14T09:38:29.696Z"
   },
   {
    "duration": 0,
    "start_time": "2025-08-14T09:38:29.701Z"
   },
   {
    "duration": 0,
    "start_time": "2025-08-14T09:38:29.702Z"
   },
   {
    "duration": 0,
    "start_time": "2025-08-14T09:38:29.703Z"
   },
   {
    "duration": 0,
    "start_time": "2025-08-14T09:38:29.704Z"
   },
   {
    "duration": 0,
    "start_time": "2025-08-14T09:38:29.705Z"
   },
   {
    "duration": 24,
    "start_time": "2025-08-14T09:41:04.709Z"
   },
   {
    "duration": 16,
    "start_time": "2025-08-14T09:42:32.833Z"
   },
   {
    "duration": 74,
    "start_time": "2025-08-14T09:42:42.566Z"
   },
   {
    "duration": 226,
    "start_time": "2025-08-14T09:43:35.976Z"
   },
   {
    "duration": 23,
    "start_time": "2025-08-14T09:44:33.873Z"
   },
   {
    "duration": 70,
    "start_time": "2025-08-14T09:44:54.593Z"
   },
   {
    "duration": 197,
    "start_time": "2025-08-14T09:45:03.558Z"
   },
   {
    "duration": 37,
    "start_time": "2025-08-14T09:45:09.894Z"
   },
   {
    "duration": 29,
    "start_time": "2025-08-14T09:46:13.781Z"
   },
   {
    "duration": 29,
    "start_time": "2025-08-14T09:46:22.103Z"
   },
   {
    "duration": 41,
    "start_time": "2025-08-14T09:46:36.160Z"
   },
   {
    "duration": 28,
    "start_time": "2025-08-14T09:47:06.640Z"
   },
   {
    "duration": 65,
    "start_time": "2025-08-14T09:48:18.569Z"
   },
   {
    "duration": 15,
    "start_time": "2025-08-14T09:50:30.294Z"
   },
   {
    "duration": 14,
    "start_time": "2025-08-14T10:04:16.850Z"
   },
   {
    "duration": 396,
    "start_time": "2025-08-14T10:50:40.242Z"
   },
   {
    "duration": 3395,
    "start_time": "2025-08-14T10:50:40.639Z"
   },
   {
    "duration": 261,
    "start_time": "2025-08-14T10:50:44.036Z"
   },
   {
    "duration": 64,
    "start_time": "2025-08-14T10:50:44.299Z"
   },
   {
    "duration": 12,
    "start_time": "2025-08-14T10:50:44.364Z"
   },
   {
    "duration": 59,
    "start_time": "2025-08-14T10:50:44.377Z"
   },
   {
    "duration": 65,
    "start_time": "2025-08-14T10:50:44.437Z"
   },
   {
    "duration": 11,
    "start_time": "2025-08-14T10:50:44.505Z"
   },
   {
    "duration": 32,
    "start_time": "2025-08-14T10:50:44.518Z"
   },
   {
    "duration": 13,
    "start_time": "2025-08-14T10:50:44.553Z"
   },
   {
    "duration": 1844,
    "start_time": "2025-08-14T10:50:44.568Z"
   },
   {
    "duration": 113,
    "start_time": "2025-08-14T10:50:46.414Z"
   },
   {
    "duration": 55,
    "start_time": "2025-08-14T10:50:46.529Z"
   },
   {
    "duration": 25,
    "start_time": "2025-08-14T10:50:46.590Z"
   },
   {
    "duration": 66,
    "start_time": "2025-08-14T10:50:46.619Z"
   },
   {
    "duration": 261,
    "start_time": "2025-08-14T10:50:46.687Z"
   },
   {
    "duration": 67,
    "start_time": "2025-08-14T10:50:46.950Z"
   },
   {
    "duration": 89,
    "start_time": "2025-08-14T10:50:47.019Z"
   },
   {
    "duration": 14,
    "start_time": "2025-08-14T10:50:47.110Z"
   },
   {
    "duration": 44,
    "start_time": "2025-08-14T10:50:47.126Z"
   },
   {
    "duration": 40,
    "start_time": "2025-08-14T10:50:47.172Z"
   },
   {
    "duration": 6,
    "start_time": "2025-08-14T10:50:47.214Z"
   },
   {
    "duration": 115,
    "start_time": "2025-08-14T11:08:22.382Z"
   },
   {
    "duration": 130,
    "start_time": "2025-08-14T11:08:52.391Z"
   },
   {
    "duration": 6,
    "start_time": "2025-08-14T11:09:10.433Z"
   },
   {
    "duration": 5,
    "start_time": "2025-08-14T11:09:37.714Z"
   },
   {
    "duration": 4,
    "start_time": "2025-08-14T11:10:05.101Z"
   },
   {
    "duration": 89,
    "start_time": "2025-08-14T11:10:21.313Z"
   },
   {
    "duration": 7,
    "start_time": "2025-08-14T11:10:36.899Z"
   },
   {
    "duration": 7,
    "start_time": "2025-08-14T11:10:55.800Z"
   },
   {
    "duration": 6,
    "start_time": "2025-08-14T11:11:04.795Z"
   },
   {
    "duration": 6,
    "start_time": "2025-08-14T11:11:14.018Z"
   },
   {
    "duration": 3,
    "start_time": "2025-08-14T11:21:37.641Z"
   },
   {
    "duration": 7,
    "start_time": "2025-08-14T11:21:49.891Z"
   },
   {
    "duration": 90,
    "start_time": "2025-08-14T11:23:56.330Z"
   },
   {
    "duration": 92,
    "start_time": "2025-08-14T11:24:05.792Z"
   },
   {
    "duration": 7,
    "start_time": "2025-08-14T11:24:47.730Z"
   },
   {
    "duration": 436,
    "start_time": "2025-08-14T11:26:32.469Z"
   },
   {
    "duration": 3304,
    "start_time": "2025-08-14T11:26:32.908Z"
   },
   {
    "duration": 245,
    "start_time": "2025-08-14T11:26:36.213Z"
   },
   {
    "duration": 73,
    "start_time": "2025-08-14T11:26:36.460Z"
   },
   {
    "duration": 12,
    "start_time": "2025-08-14T11:26:36.536Z"
   },
   {
    "duration": 121,
    "start_time": "2025-08-14T11:26:36.550Z"
   },
   {
    "duration": 38,
    "start_time": "2025-08-14T11:26:36.673Z"
   },
   {
    "duration": 9,
    "start_time": "2025-08-14T11:26:36.713Z"
   },
   {
    "duration": 17,
    "start_time": "2025-08-14T11:26:36.724Z"
   },
   {
    "duration": 10,
    "start_time": "2025-08-14T11:26:36.743Z"
   },
   {
    "duration": 1606,
    "start_time": "2025-08-14T11:26:36.755Z"
   },
   {
    "duration": 99,
    "start_time": "2025-08-14T11:26:38.363Z"
   },
   {
    "duration": 33,
    "start_time": "2025-08-14T11:26:38.464Z"
   },
   {
    "duration": 13,
    "start_time": "2025-08-14T11:26:38.501Z"
   },
   {
    "duration": 158,
    "start_time": "2025-08-14T11:26:38.515Z"
   },
   {
    "duration": 213,
    "start_time": "2025-08-14T11:26:38.675Z"
   },
   {
    "duration": 47,
    "start_time": "2025-08-14T11:26:38.891Z"
   },
   {
    "duration": 67,
    "start_time": "2025-08-14T11:26:38.940Z"
   },
   {
    "duration": 12,
    "start_time": "2025-08-14T11:26:39.009Z"
   },
   {
    "duration": 23,
    "start_time": "2025-08-14T11:26:39.022Z"
   },
   {
    "duration": 53,
    "start_time": "2025-08-14T11:26:39.046Z"
   },
   {
    "duration": 7,
    "start_time": "2025-08-14T11:26:39.103Z"
   },
   {
    "duration": 12,
    "start_time": "2025-08-14T11:26:39.111Z"
   }
  ],
  "colab": {
   "provenance": [],
   "toc_visible": true
  },
  "kernelspec": {
   "display_name": "Python 3 (ipykernel)",
   "language": "python",
   "name": "python3"
  },
  "language_info": {
   "codemirror_mode": {
    "name": "ipython",
    "version": 3
   },
   "file_extension": ".py",
   "mimetype": "text/x-python",
   "name": "python",
   "nbconvert_exporter": "python",
   "pygments_lexer": "ipython3",
   "version": "3.9.7"
  },
  "toc": {
   "base_numbering": 1,
   "nav_menu": {},
   "number_sections": true,
   "sideBar": true,
   "skip_h1_title": true,
   "title_cell": "Table of Contents",
   "title_sidebar": "Contents",
   "toc_cell": false,
   "toc_position": {},
   "toc_section_display": true,
   "toc_window_display": false
  }
 },
 "nbformat": 4,
 "nbformat_minor": 5
}
